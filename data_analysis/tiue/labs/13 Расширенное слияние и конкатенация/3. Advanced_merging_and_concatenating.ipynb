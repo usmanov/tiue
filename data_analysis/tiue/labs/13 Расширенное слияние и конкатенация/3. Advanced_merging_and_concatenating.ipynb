{
 "cells": [
  {
   "cell_type": "markdown",
   "source": [
    "### 3. Advanced_merging_and_concatenating"
   ],
   "metadata": {
    "collapsed": false
   },
   "id": "77dc46e6dc285253"
  },
  {
   "cell_type": "markdown",
   "source": [
    "#### Performing an anti join\n",
    "In our music streaming company dataset, each customer is assigned an employee representative to assist them. In this exercise, filter the employee table by a table of top customers, returning only those employees who are not assigned to a customer. The results should resemble the results of an anti join. The company's leadership will assign these employees additional training so that they can work with high valued customers.\n",
    "\n",
    "The top_cust and employees tables have been provided for you."
   ],
   "metadata": {
    "collapsed": false
   },
   "id": "90d89e86ea44b427"
  },
  {
   "cell_type": "code",
   "outputs": [
    {
     "name": "stdout",
     "output_type": "stream",
     "text": [
      "   srid    lname     fname                title   hire_date  \\\n",
      "0     1    Adams    Andrew      General Manager  2002-08-14   \n",
      "1     2  Edwards     Nancy        Sales Manager  2002-05-01   \n",
      "2     3  Peacock      Jane  Sales Support Agent  2002-04-01   \n",
      "3     4     Park  Margaret  Sales Support Agent  2003-05-03   \n",
      "4     5  Johnson     Steve  Sales Support Agent  2003-10-17   \n",
      "\n",
      "                      email  \n",
      "0    andrew@chinookcorp.com  \n",
      "1     nancy@chinookcorp.com  \n",
      "2      jane@chinookcorp.com  \n",
      "3  margaret@chinookcorp.com  \n",
      "4     steve@chinookcorp.com  \n",
      "   cid  srid      fname        lname               phone                 fax  \\\n",
      "0    1     3       Luís    Gonçalves  +55 (12) 3923-5555  +55 (12) 3923-5566   \n",
      "1    2     5     Leonie       Köhler    +49 0711 2842222                 NaN   \n",
      "2    3     3   François     Tremblay   +1 (514) 721-4711                 NaN   \n",
      "3    4     4      Bjørn       Hansen     +47 22 44 22 22                 NaN   \n",
      "4    5     4  František  Wichterlová    +420 2 4172 5555    +420 2 4172 5555   \n",
      "\n",
      "                      email  \n",
      "0      luisg@embraer.com.br  \n",
      "1     leonekohler@surfeu.de  \n",
      "2       ftremblay@gmail.com  \n",
      "3     bjorn.hansen@yahoo.no  \n",
      "4  frantisekw@jetbrains.com  \n"
     ]
    }
   ],
   "source": [
    "import pandas as pd\n",
    "employees = pd.read_csv('datasets/employees.csv')\n",
    "top_cust = pd.read_csv('datasets/top_cust.csv')\n",
    "\n",
    "print(employees.head())\n",
    "print(top_cust.head())"
   ],
   "metadata": {
    "collapsed": false,
    "ExecuteTime": {
     "end_time": "2024-04-19T12:17:47.072552Z",
     "start_time": "2024-04-19T12:17:46.958202Z"
    }
   },
   "id": "fefff8afdd346969",
   "execution_count": 10
  },
  {
   "cell_type": "markdown",
   "source": [
    "#### Instructions 1/3\n",
    "\n",
    "Merge employees and top_cust with a left join, setting indicator argument to True. Save the result to empl_cust."
   ],
   "metadata": {
    "collapsed": false
   },
   "id": "3a4f17c4f656951b"
  },
  {
   "cell_type": "code",
   "outputs": [
    {
     "data": {
      "text/plain": "    srid   lname_x  fname_x                title   hire_date  \\\n0      1     Adams   Andrew      General Manager  2002-08-14   \n1      2   Edwards    Nancy        Sales Manager  2002-05-01   \n2      3   Peacock     Jane  Sales Support Agent  2002-04-01   \n3      3   Peacock     Jane  Sales Support Agent  2002-04-01   \n4      3   Peacock     Jane  Sales Support Agent  2002-04-01   \n..   ...       ...      ...                  ...         ...   \n59     5   Johnson    Steve  Sales Support Agent  2003-10-17   \n60     5   Johnson    Steve  Sales Support Agent  2003-10-17   \n61     6  Mitchell  Michael           IT Manager  2003-10-17   \n62     7      King   Robert             IT Staff  2004-01-02   \n63     8  Callahan    Laura             IT Staff  2004-03-04   \n\n                    email_x   cid   fname_y    lname_y               phone  \\\n0    andrew@chinookcorp.com   NaN       NaN        NaN                 NaN   \n1     nancy@chinookcorp.com   NaN       NaN        NaN                 NaN   \n2      jane@chinookcorp.com   1.0      Luís  Gonçalves  +55 (12) 3923-5555   \n3      jane@chinookcorp.com   3.0  François   Tremblay   +1 (514) 721-4711   \n4      jane@chinookcorp.com  12.0   Roberto    Almeida  +55 (21) 2271-7000   \n..                      ...   ...       ...        ...                 ...   \n59    steve@chinookcorp.com  54.0     Steve     Murray   +44 0131 315 3300   \n60    steve@chinookcorp.com  57.0      Luis      Rojas   +56 (0)2 635 4444   \n61  michael@chinookcorp.com   NaN       NaN        NaN                 NaN   \n62   robert@chinookcorp.com   NaN       NaN        NaN                 NaN   \n63    laura@chinookcorp.com   NaN       NaN        NaN                 NaN   \n\n                   fax                        email_y     _merge  \n0                  NaN                            NaN  left_only  \n1                  NaN                            NaN  left_only  \n2   +55 (12) 3923-5566           luisg@embraer.com.br       both  \n3                  NaN            ftremblay@gmail.com       both  \n4   +55 (21) 2271-7070  roberto.almeida@riotur.gov.br       both  \n..                 ...                            ...        ...  \n59                 NaN          steve.murray@yahoo.uk       both  \n60                 NaN             luisrojas@yahoo.cl       both  \n61                 NaN                            NaN  left_only  \n62                 NaN                            NaN  left_only  \n63                 NaN                            NaN  left_only  \n\n[64 rows x 13 columns]",
      "text/html": "<div>\n<style scoped>\n    .dataframe tbody tr th:only-of-type {\n        vertical-align: middle;\n    }\n\n    .dataframe tbody tr th {\n        vertical-align: top;\n    }\n\n    .dataframe thead th {\n        text-align: right;\n    }\n</style>\n<table border=\"1\" class=\"dataframe\">\n  <thead>\n    <tr style=\"text-align: right;\">\n      <th></th>\n      <th>srid</th>\n      <th>lname_x</th>\n      <th>fname_x</th>\n      <th>title</th>\n      <th>hire_date</th>\n      <th>email_x</th>\n      <th>cid</th>\n      <th>fname_y</th>\n      <th>lname_y</th>\n      <th>phone</th>\n      <th>fax</th>\n      <th>email_y</th>\n      <th>_merge</th>\n    </tr>\n  </thead>\n  <tbody>\n    <tr>\n      <th>0</th>\n      <td>1</td>\n      <td>Adams</td>\n      <td>Andrew</td>\n      <td>General Manager</td>\n      <td>2002-08-14</td>\n      <td>andrew@chinookcorp.com</td>\n      <td>NaN</td>\n      <td>NaN</td>\n      <td>NaN</td>\n      <td>NaN</td>\n      <td>NaN</td>\n      <td>NaN</td>\n      <td>left_only</td>\n    </tr>\n    <tr>\n      <th>1</th>\n      <td>2</td>\n      <td>Edwards</td>\n      <td>Nancy</td>\n      <td>Sales Manager</td>\n      <td>2002-05-01</td>\n      <td>nancy@chinookcorp.com</td>\n      <td>NaN</td>\n      <td>NaN</td>\n      <td>NaN</td>\n      <td>NaN</td>\n      <td>NaN</td>\n      <td>NaN</td>\n      <td>left_only</td>\n    </tr>\n    <tr>\n      <th>2</th>\n      <td>3</td>\n      <td>Peacock</td>\n      <td>Jane</td>\n      <td>Sales Support Agent</td>\n      <td>2002-04-01</td>\n      <td>jane@chinookcorp.com</td>\n      <td>1.0</td>\n      <td>Luís</td>\n      <td>Gonçalves</td>\n      <td>+55 (12) 3923-5555</td>\n      <td>+55 (12) 3923-5566</td>\n      <td>luisg@embraer.com.br</td>\n      <td>both</td>\n    </tr>\n    <tr>\n      <th>3</th>\n      <td>3</td>\n      <td>Peacock</td>\n      <td>Jane</td>\n      <td>Sales Support Agent</td>\n      <td>2002-04-01</td>\n      <td>jane@chinookcorp.com</td>\n      <td>3.0</td>\n      <td>François</td>\n      <td>Tremblay</td>\n      <td>+1 (514) 721-4711</td>\n      <td>NaN</td>\n      <td>ftremblay@gmail.com</td>\n      <td>both</td>\n    </tr>\n    <tr>\n      <th>4</th>\n      <td>3</td>\n      <td>Peacock</td>\n      <td>Jane</td>\n      <td>Sales Support Agent</td>\n      <td>2002-04-01</td>\n      <td>jane@chinookcorp.com</td>\n      <td>12.0</td>\n      <td>Roberto</td>\n      <td>Almeida</td>\n      <td>+55 (21) 2271-7000</td>\n      <td>+55 (21) 2271-7070</td>\n      <td>roberto.almeida@riotur.gov.br</td>\n      <td>both</td>\n    </tr>\n    <tr>\n      <th>...</th>\n      <td>...</td>\n      <td>...</td>\n      <td>...</td>\n      <td>...</td>\n      <td>...</td>\n      <td>...</td>\n      <td>...</td>\n      <td>...</td>\n      <td>...</td>\n      <td>...</td>\n      <td>...</td>\n      <td>...</td>\n      <td>...</td>\n    </tr>\n    <tr>\n      <th>59</th>\n      <td>5</td>\n      <td>Johnson</td>\n      <td>Steve</td>\n      <td>Sales Support Agent</td>\n      <td>2003-10-17</td>\n      <td>steve@chinookcorp.com</td>\n      <td>54.0</td>\n      <td>Steve</td>\n      <td>Murray</td>\n      <td>+44 0131 315 3300</td>\n      <td>NaN</td>\n      <td>steve.murray@yahoo.uk</td>\n      <td>both</td>\n    </tr>\n    <tr>\n      <th>60</th>\n      <td>5</td>\n      <td>Johnson</td>\n      <td>Steve</td>\n      <td>Sales Support Agent</td>\n      <td>2003-10-17</td>\n      <td>steve@chinookcorp.com</td>\n      <td>57.0</td>\n      <td>Luis</td>\n      <td>Rojas</td>\n      <td>+56 (0)2 635 4444</td>\n      <td>NaN</td>\n      <td>luisrojas@yahoo.cl</td>\n      <td>both</td>\n    </tr>\n    <tr>\n      <th>61</th>\n      <td>6</td>\n      <td>Mitchell</td>\n      <td>Michael</td>\n      <td>IT Manager</td>\n      <td>2003-10-17</td>\n      <td>michael@chinookcorp.com</td>\n      <td>NaN</td>\n      <td>NaN</td>\n      <td>NaN</td>\n      <td>NaN</td>\n      <td>NaN</td>\n      <td>NaN</td>\n      <td>left_only</td>\n    </tr>\n    <tr>\n      <th>62</th>\n      <td>7</td>\n      <td>King</td>\n      <td>Robert</td>\n      <td>IT Staff</td>\n      <td>2004-01-02</td>\n      <td>robert@chinookcorp.com</td>\n      <td>NaN</td>\n      <td>NaN</td>\n      <td>NaN</td>\n      <td>NaN</td>\n      <td>NaN</td>\n      <td>NaN</td>\n      <td>left_only</td>\n    </tr>\n    <tr>\n      <th>63</th>\n      <td>8</td>\n      <td>Callahan</td>\n      <td>Laura</td>\n      <td>IT Staff</td>\n      <td>2004-03-04</td>\n      <td>laura@chinookcorp.com</td>\n      <td>NaN</td>\n      <td>NaN</td>\n      <td>NaN</td>\n      <td>NaN</td>\n      <td>NaN</td>\n      <td>NaN</td>\n      <td>left_only</td>\n    </tr>\n  </tbody>\n</table>\n<p>64 rows × 13 columns</p>\n</div>"
     },
     "metadata": {},
     "output_type": "display_data"
    }
   ],
   "source": [
    "# Merge employees and top_cust\n",
    "empl_cust = employees.merge(top_cust, on='srid',\n",
    "                       how='left', indicator=True)\n",
    "\n",
    "display(empl_cust)"
   ],
   "metadata": {
    "collapsed": false,
    "ExecuteTime": {
     "end_time": "2024-04-19T06:21:38.185529Z",
     "start_time": "2024-04-19T06:21:38.149403Z"
    }
   },
   "id": "8a8121f8fad4a1b",
   "execution_count": 4
  },
  {
   "cell_type": "code",
   "outputs": [],
   "source": [
    "# Merge employees and top_cust\n",
    "empl_cust = ____.merge(____, on=____,\n",
    "                       how=____, indicator=____)"
   ],
   "metadata": {
    "collapsed": false
   },
   "id": "a87ed4454e62ad76",
   "execution_count": null
  },
  {
   "cell_type": "markdown",
   "source": [
    "#### Instructions 2/3\n",
    "\n",
    "Select the srid column of empl_cust and the rows where _merge is 'left_only'. Save the result to srid_list."
   ],
   "metadata": {
    "collapsed": false
   },
   "id": "80e14997cd8069e7"
  },
  {
   "cell_type": "code",
   "outputs": [
    {
     "data": {
      "text/plain": "0     1\n1     2\n61    6\n62    7\n63    8\nName: srid, dtype: int64"
     },
     "metadata": {},
     "output_type": "display_data"
    }
   ],
   "source": [
    "# Select the srid column where _merge is left_only\n",
    "srid_list = empl_cust.loc[empl_cust['_merge'] == 'left_only', 'srid']\n",
    "display(srid_list)"
   ],
   "metadata": {
    "collapsed": false,
    "ExecuteTime": {
     "end_time": "2024-04-19T06:27:42.268270Z",
     "start_time": "2024-04-19T06:27:42.262293Z"
    }
   },
   "id": "4e55b93e143c543",
   "execution_count": 5
  },
  {
   "cell_type": "code",
   "outputs": [],
   "source": [
    "# Select the srid column where _merge is left_only\n",
    "srid_list = empl_cust.loc[____, 'srid']"
   ],
   "metadata": {
    "collapsed": false
   },
   "id": "6c93f31eb930c9b4",
   "execution_count": null
  },
  {
   "cell_type": "markdown",
   "source": [
    "#### Instructions 3/3\n",
    "\n",
    "Subset the employees table and select those rows where the srid is in the variable srid_list and print the results."
   ],
   "metadata": {
    "collapsed": false
   },
   "id": "5b6bd0b50789562d"
  },
  {
   "cell_type": "code",
   "outputs": [
    {
     "data": {
      "text/plain": "   srid     lname    fname            title   hire_date  \\\n0     1     Adams   Andrew  General Manager  2002-08-14   \n1     2   Edwards    Nancy    Sales Manager  2002-05-01   \n5     6  Mitchell  Michael       IT Manager  2003-10-17   \n6     7      King   Robert         IT Staff  2004-01-02   \n7     8  Callahan    Laura         IT Staff  2004-03-04   \n\n                     email  \n0   andrew@chinookcorp.com  \n1    nancy@chinookcorp.com  \n5  michael@chinookcorp.com  \n6   robert@chinookcorp.com  \n7    laura@chinookcorp.com  ",
      "text/html": "<div>\n<style scoped>\n    .dataframe tbody tr th:only-of-type {\n        vertical-align: middle;\n    }\n\n    .dataframe tbody tr th {\n        vertical-align: top;\n    }\n\n    .dataframe thead th {\n        text-align: right;\n    }\n</style>\n<table border=\"1\" class=\"dataframe\">\n  <thead>\n    <tr style=\"text-align: right;\">\n      <th></th>\n      <th>srid</th>\n      <th>lname</th>\n      <th>fname</th>\n      <th>title</th>\n      <th>hire_date</th>\n      <th>email</th>\n    </tr>\n  </thead>\n  <tbody>\n    <tr>\n      <th>0</th>\n      <td>1</td>\n      <td>Adams</td>\n      <td>Andrew</td>\n      <td>General Manager</td>\n      <td>2002-08-14</td>\n      <td>andrew@chinookcorp.com</td>\n    </tr>\n    <tr>\n      <th>1</th>\n      <td>2</td>\n      <td>Edwards</td>\n      <td>Nancy</td>\n      <td>Sales Manager</td>\n      <td>2002-05-01</td>\n      <td>nancy@chinookcorp.com</td>\n    </tr>\n    <tr>\n      <th>5</th>\n      <td>6</td>\n      <td>Mitchell</td>\n      <td>Michael</td>\n      <td>IT Manager</td>\n      <td>2003-10-17</td>\n      <td>michael@chinookcorp.com</td>\n    </tr>\n    <tr>\n      <th>6</th>\n      <td>7</td>\n      <td>King</td>\n      <td>Robert</td>\n      <td>IT Staff</td>\n      <td>2004-01-02</td>\n      <td>robert@chinookcorp.com</td>\n    </tr>\n    <tr>\n      <th>7</th>\n      <td>8</td>\n      <td>Callahan</td>\n      <td>Laura</td>\n      <td>IT Staff</td>\n      <td>2004-03-04</td>\n      <td>laura@chinookcorp.com</td>\n    </tr>\n  </tbody>\n</table>\n</div>"
     },
     "metadata": {},
     "output_type": "display_data"
    }
   ],
   "source": [
    "# Get employees not working with top customers\n",
    "display(employees[employees['srid'].isin(srid_list)])"
   ],
   "metadata": {
    "collapsed": false,
    "ExecuteTime": {
     "end_time": "2024-04-19T06:32:28.062027Z",
     "start_time": "2024-04-19T06:32:28.053913Z"
    }
   },
   "id": "c58a9008fb4e4258",
   "execution_count": 9
  },
  {
   "cell_type": "code",
   "outputs": [],
   "source": [
    "# Get employees not working with top customers\n",
    "print(employees[____.isin(____)])"
   ],
   "metadata": {
    "collapsed": false
   },
   "id": "57e2ca5edebf9793",
   "execution_count": null
  },
  {
   "cell_type": "markdown",
   "source": [
    "### Success! \n",
    "\n",
    "You performed an anti join by first merging the tables with a left join, selecting the ID of those employees who did not support a top customer, and then subsetting the original employee's table. From that, we can see that there are five employees not supporting top customers. Anti joins are a powerful tool to filter a main table (i.e. employees) by another (i.e. customers)."
   ],
   "metadata": {
    "collapsed": false
   },
   "id": "24983a4d82257183"
  },
  {
   "cell_type": "markdown",
   "source": [
    "### Performing a semi join\n",
    "Some of the tracks that have generated the most significant amount of revenue are from TV-shows or are other non-musical audio. You have been given a table of invoices that include top revenue-generating items. Additionally, you have a table of non-musical tracks from the streaming service. In this exercise, you'll use a semi join to find the top revenue-generating non-musical tracks..\n",
    "\n",
    "The tables non_mus_tcks, top_invoices, and genres have been loaded for you."
   ],
   "metadata": {
    "collapsed": false
   },
   "id": "1f16f08ecc4c90c9"
  },
  {
   "cell_type": "code",
   "source": [
    "import pandas as pd\n",
    "non_mus_tcks = pd.read_csv('datasets/non_mus_tcks.csv')\n",
    "top_invoices = pd.read_csv('datasets/top_invoices.csv')\n",
    "genres = pd.read_csv('datasets/genres.csv')"
   ],
   "metadata": {
    "collapsed": false,
    "ExecuteTime": {
     "end_time": "2024-04-21T13:09:12.804344Z",
     "start_time": "2024-04-21T13:09:12.324667Z"
    }
   },
   "id": "23cdcecba420891e",
   "outputs": [],
   "execution_count": 1
  },
  {
   "cell_type": "markdown",
   "source": [
    "#### Instructions\n",
    "\n",
    "- Merge non_mus_tcks and top_invoices on tid using an inner join. Save the result as tracks_invoices.\n",
    "- Use .isin() to subset the rows of non_mus_tck where tid is in the tid column of tracks_invoices. Save the result as top_tracks.\n",
    "- Group top_tracks by gid and count the tid rows. Save the result to cnt_by_gid.\n",
    "- Merge cnt_by_gid with the genres table on gid and print the result.\n",
    "\n"
   ],
   "metadata": {
    "collapsed": false
   },
   "id": "6c42d6ec470c8162"
  },
  {
   "cell_type": "code",
   "source": [
    "# Merge the non_mus_tck and top_invoices tables on tid\n",
    "tracks_invoices = non_mus_tcks.merge(top_invoices, on='tid', how='inner')\n",
    "\n",
    "# Use .isin() to subset non_mus_tcks to rows with tid in tracks_invoices\n",
    "top_tracks = non_mus_tcks[non_mus_tcks['tid'].isin(tracks_invoices['tid'])]\n",
    "\n",
    "# Group the top_tracks by gid and count the tid rows\n",
    "cnt_by_gid = top_tracks.groupby(['gid'], as_index=False).agg({'tid':'count'})\n",
    "\n",
    "# Merge the genres table to cnt_by_gid on gid and print\n",
    "print(cnt_by_gid.merge(genres, on='gid', how='inner'))"
   ],
   "metadata": {
    "collapsed": false,
    "ExecuteTime": {
     "end_time": "2024-04-21T13:18:39.754583Z",
     "start_time": "2024-04-21T13:18:39.738849Z"
    }
   },
   "id": "144c2957c03383b3",
   "outputs": [
    {
     "name": "stdout",
     "output_type": "stream",
     "text": [
      "   gid  tid      name\n",
      "0   19    4  TV Shows\n",
      "1   21    2     Drama\n",
      "2   22    1    Comedy\n"
     ]
    }
   ],
   "execution_count": 3
  },
  {
   "cell_type": "code",
   "outputs": [],
   "source": [
    "# Merge the non_mus_tck and top_invoices tables on tid\n",
    "tracks_invoices = ____.merge(____)\n",
    "\n",
    "# Use .isin() to subset non_mus_tcks to rows with tid in tracks_invoices\n",
    "top_tracks = _____[non_mus_tcks['tid'].isin(____)]\n",
    "\n",
    "# Group the top_tracks by gid and count the tid rows\n",
    "cnt_by_gid = top_tracks.groupby(['gid'], as_index=False).agg({'tid':____})\n",
    "\n",
    "# Merge the genres table to cnt_by_gid on gid and print\n",
    "print(____)"
   ],
   "metadata": {
    "collapsed": false
   },
   "id": "79c9dedc9ae091f",
   "execution_count": null
  },
  {
   "metadata": {},
   "cell_type": "markdown",
   "source": [
    "### Concatenation basics\n",
    "You have been given a few tables of data with musical track info for different albums from the metal band, Metallica. The track info comes from their Ride The Lightning, Master Of Puppets, and St. Anger albums. Try various features of the .concat() method by concatenating the tables vertically together in different ways.\n",
    "\n",
    "The tables tracks_master, tracks_ride, and tracks_st have loaded for you."
   ],
   "id": "9befa1676d3288b0"
  },
  {
   "metadata": {
    "ExecuteTime": {
     "end_time": "2024-04-21T13:31:15.772171Z",
     "start_time": "2024-04-21T13:31:15.760895Z"
    }
   },
   "cell_type": "code",
   "source": [
    "import pandas as pd\n",
    "tracks_master = pd.read_csv('datasets/tracks_master.csv')\n",
    "tracks_ride = pd.read_csv('datasets/tracks_ride.csv')\n",
    "tracks_st = pd.read_csv('datasets/tracks_st.csv')"
   ],
   "id": "cba735f747dd6421",
   "outputs": [],
   "execution_count": 4
  },
  {
   "metadata": {},
   "cell_type": "markdown",
   "source": [
    "#### Instructions 1/3\n",
    "\n",
    "Concatenate tracks_master, tracks_ride, and tracks_st, in that order, setting sort to True."
   ],
   "id": "1ec427e9467d52fd"
  },
  {
   "metadata": {
    "ExecuteTime": {
     "end_time": "2024-04-21T13:33:43.039504Z",
     "start_time": "2024-04-21T13:33:43.027961Z"
    }
   },
   "cell_type": "code",
   "source": [
    "# Concatenate the tracks\n",
    "tracks_from_albums = pd.concat([tracks_master, tracks_ride, tracks_st],\n",
    "                               sort=True)\n",
    "print(tracks_from_albums)"
   ],
   "id": "4a37b01d32a3f141",
   "outputs": [
    {
     "name": "stdout",
     "output_type": "stream",
     "text": [
      "   aid             composer  gid  mtid                     name   tid  u_price\n",
      "0  152  J.Hetfield/L.Ulrich    3     1                  Battery  1853     0.99\n",
      "1  152            K.Hammett    3     1        Master Of Puppets  1854     0.99\n",
      "2  152  J.Hetfield/L.Ulrich    3     1        Disposable Heroes  1857     0.99\n",
      "0  154                  NaN    3     1     Fight Fire With Fire  1874     0.99\n",
      "1  154                  NaN    3     1       Ride The Lightning  1875     0.99\n",
      "2  154                  NaN    3     1  For Whom The Bell Tolls  1876     0.99\n",
      "3  154                  NaN    3     1            Fade To Black  1877     0.99\n",
      "4  154                  NaN    3     1        Trapped Under Ice  1878     0.99\n",
      "0  155                  NaN    3     1                  Frantic  1882     0.99\n",
      "1  155                  NaN    3     1                St. Anger  1883     0.99\n",
      "2  155                  NaN    3     1     Some Kind Of Monster  1884     0.99\n",
      "3  155                  NaN    3     1             Dirty Window  1885     0.99\n",
      "4  155                  NaN    3     1            Invisible Kid  1886     0.99\n"
     ]
    }
   ],
   "execution_count": 5
  },
  {
   "metadata": {},
   "cell_type": "code",
   "outputs": [],
   "execution_count": null,
   "source": [
    "# Concatenate the tracks\n",
    "tracks_from_albums = pd.concat(____,\n",
    "                               sort=True)\n",
    "print(tracks_from_albums)"
   ],
   "id": "e7f684acdc52d9da"
  },
  {
   "metadata": {},
   "cell_type": "markdown",
   "source": [
    "2. Concatenate tracks_master, tracks_ride, and tracks_st, where the index goes from 0 to n-1."
   ],
   "id": "67509e93d5d3bcab"
  },
  {
   "metadata": {},
   "cell_type": "code",
   "outputs": [],
   "execution_count": null,
   "source": [
    "# Concatenate the tracks so the index goes from 0 to n-1\n",
    "tracks_from_albums = pd.concat([____],\n",
    "                               ____,\n",
    "                               sort=True)\n",
    "print(tracks_from_albums)"
   ],
   "id": "6f9b82f2e4f3f3f8"
  },
  {
   "metadata": {
    "ExecuteTime": {
     "end_time": "2024-04-21T13:35:04.698491Z",
     "start_time": "2024-04-21T13:35:04.688540Z"
    }
   },
   "cell_type": "code",
   "source": [
    "# Concatenate the tracks so the index goes from 0 to n-1\n",
    "tracks_from_albums = pd.concat([tracks_master, tracks_ride, tracks_st],\n",
    "                               ignore_index=True,\n",
    "                               sort=True)\n",
    "print(tracks_from_albums)"
   ],
   "id": "638f40824368905a",
   "outputs": [
    {
     "name": "stdout",
     "output_type": "stream",
     "text": [
      "    aid             composer  gid  mtid                     name   tid  \\\n",
      "0   152  J.Hetfield/L.Ulrich    3     1                  Battery  1853   \n",
      "1   152            K.Hammett    3     1        Master Of Puppets  1854   \n",
      "2   152  J.Hetfield/L.Ulrich    3     1        Disposable Heroes  1857   \n",
      "3   154                  NaN    3     1     Fight Fire With Fire  1874   \n",
      "4   154                  NaN    3     1       Ride The Lightning  1875   \n",
      "5   154                  NaN    3     1  For Whom The Bell Tolls  1876   \n",
      "6   154                  NaN    3     1            Fade To Black  1877   \n",
      "7   154                  NaN    3     1        Trapped Under Ice  1878   \n",
      "8   155                  NaN    3     1                  Frantic  1882   \n",
      "9   155                  NaN    3     1                St. Anger  1883   \n",
      "10  155                  NaN    3     1     Some Kind Of Monster  1884   \n",
      "11  155                  NaN    3     1             Dirty Window  1885   \n",
      "12  155                  NaN    3     1            Invisible Kid  1886   \n",
      "\n",
      "    u_price  \n",
      "0      0.99  \n",
      "1      0.99  \n",
      "2      0.99  \n",
      "3      0.99  \n",
      "4      0.99  \n",
      "5      0.99  \n",
      "6      0.99  \n",
      "7      0.99  \n",
      "8      0.99  \n",
      "9      0.99  \n",
      "10     0.99  \n",
      "11     0.99  \n",
      "12     0.99  \n"
     ]
    }
   ],
   "execution_count": 6
  },
  {
   "metadata": {},
   "cell_type": "markdown",
   "source": [
    "3. Concatenate tracks_master, tracks_ride, and tracks_st, showing only columns that are in all tables."
   ],
   "id": "48b5e4ecbc3a3820"
  },
  {
   "metadata": {},
   "cell_type": "code",
   "outputs": [],
   "execution_count": null,
   "source": [
    "# Concatenate the tracks, show only columns names that are in all tables\n",
    "tracks_from_albums = pd.concat(____,\n",
    "                               ____,\n",
    "                               sort=True)\n",
    "print(tracks_from_albums)"
   ],
   "id": "c0ad2c1add0f5b47"
  },
  {
   "metadata": {
    "ExecuteTime": {
     "end_time": "2024-04-21T13:37:07.241832Z",
     "start_time": "2024-04-21T13:37:07.232925Z"
    }
   },
   "cell_type": "code",
   "source": [
    "# Concatenate the tracks, show only columns names that are in all tables\n",
    "tracks_from_albums = pd.concat([tracks_master, tracks_ride, tracks_st],\n",
    "                               join='inner',\n",
    "                               sort=True)\n",
    "print(tracks_from_albums)"
   ],
   "id": "8eb96fbc2ec758af",
   "outputs": [
    {
     "name": "stdout",
     "output_type": "stream",
     "text": [
      "   aid  gid  mtid                     name   tid  u_price\n",
      "0  152    3     1                  Battery  1853     0.99\n",
      "1  152    3     1        Master Of Puppets  1854     0.99\n",
      "2  152    3     1        Disposable Heroes  1857     0.99\n",
      "0  154    3     1     Fight Fire With Fire  1874     0.99\n",
      "1  154    3     1       Ride The Lightning  1875     0.99\n",
      "2  154    3     1  For Whom The Bell Tolls  1876     0.99\n",
      "3  154    3     1            Fade To Black  1877     0.99\n",
      "4  154    3     1        Trapped Under Ice  1878     0.99\n",
      "0  155    3     1                  Frantic  1882     0.99\n",
      "1  155    3     1                St. Anger  1883     0.99\n",
      "2  155    3     1     Some Kind Of Monster  1884     0.99\n",
      "3  155    3     1             Dirty Window  1885     0.99\n",
      "4  155    3     1            Invisible Kid  1886     0.99\n"
     ]
    }
   ],
   "execution_count": 7
  },
  {
   "metadata": {},
   "cell_type": "markdown",
   "source": [
    "Great job! You've concatenated your first set of tables, adjusted the index, and altered the columns shown in the output. The .concat() method is a very flexible tool that is useful for combining data into a new dataset."
   ],
   "id": "1df42d3efe4b7bed"
  },
  {
   "metadata": {},
   "cell_type": "markdown",
   "source": [
    "#### Concatenating with keys\n",
    "The leadership of the music streaming company has come to you and asked you for assistance in analyzing sales for a recent business quarter. They would like to know which month in the quarter saw the highest average invoice total. You have been given three tables with invoice data named inv_jul, inv_aug, and inv_sep. Concatenate these tables into one to create a graph of the average monthly invoice total."
   ],
   "id": "dcceba65af15faf"
  },
  {
   "metadata": {
    "ExecuteTime": {
     "end_time": "2024-04-21T14:02:38.844239Z",
     "start_time": "2024-04-21T14:02:38.831397Z"
    }
   },
   "cell_type": "code",
   "source": [
    "import pandas as pd\n",
    "inv_jul = pd.read_csv('datasets/inv_jul.csv')\n",
    "inv_aug = pd.read_csv('datasets/inv_aug.csv')\n",
    "inv_sep = pd.read_csv('datasets/inv_sep.csv')"
   ],
   "id": "e6fc79011db6af48",
   "outputs": [],
   "execution_count": 9
  },
  {
   "metadata": {},
   "cell_type": "markdown",
   "source": [
    "- Concatenate the three tables together vertically in order with the oldest month first, adding '7Jul', '8Aug', and '9Sep' as keys for their respective months, and save to variable avg_inv_by_month.\n",
    "- Use the .agg() method to find the average of the total column from the grouped invoices.\n",
    "- Create a bar chart of avg_inv_by_month."
   ],
   "id": "de87eb3eb6289141"
  },
  {
   "metadata": {
    "ExecuteTime": {
     "end_time": "2024-04-21T15:51:30.764209Z",
     "start_time": "2024-04-21T15:51:30.582599Z"
    }
   },
   "cell_type": "code",
   "source": [
    "import matplotlib.pyplot as plt\n",
    "# Concatenate the tables and add keys\n",
    "inv_jul_thr_sep = pd.concat([inv_jul, inv_aug, inv_sep],\n",
    "                            keys=['7Jul', '8Aug', '9Sep'])\n",
    "\n",
    "# Group the invoices by the index keys and find avg of the total column\n",
    "avg_inv_by_month = inv_jul_thr_sep.groupby(level=0).agg({'total':'mean'})\n",
    "\n",
    "# Bar plot of avg_inv_by_month\n",
    "avg_inv_by_month.plot(kind='bar')\n",
    "plt.show()"
   ],
   "id": "e975b31abe363288",
   "outputs": [
    {
     "data": {
      "text/plain": [
       "<Figure size 640x480 with 1 Axes>"
      ],
      "image/png": "[encoded data removed]"
     },
     "metadata": {},
     "output_type": "display_data"
    }
   ],
   "execution_count": 15
  },
  {
   "metadata": {},
   "cell_type": "code",
   "outputs": [],
   "execution_count": null,
   "source": [
    "# Concatenate the tables and add keys\n",
    "inv_jul_thr_sep = pd.concat(____,\n",
    "                            keys=____)\n",
    "\n",
    "# Group the invoices by the index keys and find avg of the total column\n",
    "avg_inv_by_month = inv_jul_thr_sep.groupby(level=0).agg(____)\n",
    "\n",
    "# Bar plot of avg_inv_by_month\n",
    "avg_inv_by_month.____\n",
    "plt.show()"
   ],
   "id": "62e99e8db66c1a9e"
  },
  {
   "metadata": {},
   "cell_type": "markdown",
   "source": [
    "### Concatenate and merge to find common songs\n",
    "The senior leadership of the streaming service is requesting your help again. You are given the historical files for a popular playlist in the classical music genre in 2018 and 2019. Additionally, you are given a similar set of files for the most popular pop music genre playlist on the streaming service in 2018 and 2019. Your goal is to concatenate the respective files to make a large classical playlist table and overall popular music table. Then filter the classical music table using a semi join to return only the most popular classical music tracks.\n",
    "\n",
    "The tables classic_18, classic_19, and pop_18, pop_19 have been loaded for you. Additionally, pandas has been loaded as pd."
   ],
   "id": "7d3b2dcbd640fa1e"
  },
  {
   "metadata": {
    "ExecuteTime": {
     "end_time": "2024-04-21T16:07:23.768950Z",
     "start_time": "2024-04-21T16:07:23.757063Z"
    }
   },
   "cell_type": "code",
   "source": [
    "import pandas as pd\n",
    "classic_18 = pd.read_csv('datasets/classic_18.csv')\n",
    "classic_19 = pd.read_csv('datasets/classic_19.csv')\n",
    "pop_18 = pd.read_csv('datasets/pop_18.csv')\n",
    "pop_19 = pd.read_csv('datasets/pop_19.csv')"
   ],
   "id": "b990dabc563fd8fd",
   "outputs": [],
   "execution_count": 16
  },
  {
   "metadata": {},
   "cell_type": "markdown",
   "source": [
    "#### Instructions 1/2\n",
    "\n",
    "1. Concatenate the classic_18 and classic_19 tables vertically where the index goes from 0 to n-1, and save to classic_18_19.\n",
    "2. Concatenate the pop_18 and pop_19 tables vertically where the index goes from 0 to n-1, and save to pop_18_19."
   ],
   "id": "9809530f89aed535"
  },
  {
   "metadata": {
    "ExecuteTime": {
     "end_time": "2024-04-21T16:16:19.091129Z",
     "start_time": "2024-04-21T16:16:19.086670Z"
    }
   },
   "cell_type": "code",
   "source": [
    "# Concatenate the classic tables vertically\n",
    "classic_18_19 = pd.concat([classic_18, classic_19], ignore_index=True)\n",
    "\n",
    "# Concatenate the pop tables vertically\n",
    "pop_18_19 = pd.concat([pop_18, pop_19], ignore_index=True)"
   ],
   "id": "33b5c3ff058949e4",
   "outputs": [],
   "execution_count": 20
  },
  {
   "metadata": {},
   "cell_type": "code",
   "outputs": [],
   "execution_count": null,
   "source": [
    "# Concatenate the classic tables vertically\n",
    "classic_18_19 = ____\n",
    "\n",
    "# Concatenate the pop tables vertically\n",
    "pop_18_19 = ____"
   ],
   "id": "8ea0670b62b37cba"
  },
  {
   "metadata": {},
   "cell_type": "markdown",
   "source": [
    "#### Instructions 2/2\n",
    "\n",
    "- With classic_18_19 on the left, merge it with pop_18_19 on tid using an inner join.\n",
    "- Use .isin() to filter classic_18_19 where tid is in classic_pop."
   ],
   "id": "9e78cb39ae382773"
  },
  {
   "metadata": {},
   "cell_type": "code",
   "outputs": [],
   "execution_count": null,
   "source": [
    "# Merge classic_18_19 with pop_18_19\n",
    "classic_pop = ____\n",
    "\n",
    "# Using .isin(), filter classic_18_19 rows where tid is in classic_pop\n",
    "popular_classic = classic_18_19[classic_18_19[____].isin(____)]\n",
    "\n",
    "# Print popular chart\n",
    "print(popular_classic)"
   ],
   "id": "9b9d929837f4f3d9"
  },
  {
   "metadata": {
    "ExecuteTime": {
     "end_time": "2024-04-21T16:24:51.190121Z",
     "start_time": "2024-04-21T16:24:51.179001Z"
    }
   },
   "cell_type": "code",
   "source": [
    "# Merge classic_18_19 with pop_18_19\n",
    "classic_pop = classic_18_19.merge(pop_18_19, on='tid', how='inner')\n",
    "\n",
    "# Using .isin(), filter classic_18_19 rows where tid is in classic_pop\n",
    "popular_classic = classic_18_19[classic_18_19['tid'].isin(classic_pop['tid'])]\n",
    "\n",
    "# Print popular chart\n",
    "print(popular_classic)"
   ],
   "id": "d070ab8d49f3b177",
   "outputs": [
    {
     "name": "stdout",
     "output_type": "stream",
     "text": [
      "    pid   tid\n",
      "3    12  3479\n",
      "10   12  3439\n",
      "21   12  3445\n",
      "23   12  3449\n",
      "48   12  3437\n",
      "50   12  3435\n"
     ]
    }
   ],
   "execution_count": 21
  }
 ],
 "metadata": {
  "kernelspec": {
   "display_name": "Python 3",
   "language": "python",
   "name": "python3"
  },
  "language_info": {
   "codemirror_mode": {
    "name": "ipython",
    "version": 2
   },
   "file_extension": ".py",
   "mimetype": "text/x-python",
   "name": "python",
   "nbconvert_exporter": "python",
   "pygments_lexer": "ipython2",
   "version": "2.7.6"
  }
 },
 "nbformat": 4,
 "nbformat_minor": 5
}
