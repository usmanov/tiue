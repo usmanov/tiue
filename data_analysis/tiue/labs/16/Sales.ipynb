{
 "metadata": {
  "kernelspec": {
   "language": "python",
   "display_name": "Python 3",
   "name": "python3"
  },
  "language_info": {
   "pygments_lexer": "ipython3",
   "nbconvert_exporter": "python",
   "version": "3.6.4",
   "file_extension": ".py",
   "codemirror_mode": {
    "name": "ipython",
    "version": 3
   },
   "name": "python",
   "mimetype": "text/x-python"
  },
  "kaggle": {
   "accelerator": "none",
   "dataSources": [
    {
     "sourceId": 1480443,
     "sourceType": "datasetVersion",
     "datasetId": 835308
    }
   ],
   "dockerImageVersionId": 30008,
   "isInternetEnabled": true,
   "language": "python",
   "sourceType": "notebook",
   "isGpuEnabled": false
  }
 },
 "nbformat_minor": 4,
 "nbformat": 4,
 "cells": [
  {
   "cell_type": "markdown",
   "source": "# Sales Forecasting and EDA \n\nPart 1: Exploratory Data Analysis",
   "metadata": {
    "papermill": {
     "duration": 0.018889,
     "end_time": "2020-09-06T08:47:40.426603",
     "exception": false,
     "start_time": "2020-09-06T08:47:40.407714",
     "status": "completed"
    },
    "tags": []
   }
  },
  {
   "cell_type": "code",
   "source": "#import the necessary Libraries\nimport pandas as pd\nimport numpy as np\nimport matplotlib.pyplot as plt\nimport seaborn as sns\nimport time\nimport matplotlib.ticker as ticker",
   "metadata": {
    "execution": {
     "iopub.execute_input": "2020-09-06T08:47:40.467937Z",
     "iopub.status.busy": "2020-09-06T08:47:40.467072Z",
     "iopub.status.idle": "2020-09-06T08:47:41.944586Z",
     "shell.execute_reply": "2020-09-06T08:47:41.943672Z"
    },
    "papermill": {
     "duration": 1.500173,
     "end_time": "2020-09-06T08:47:41.944724",
     "exception": false,
     "start_time": "2020-09-06T08:47:40.444551",
     "status": "completed"
    },
    "tags": [],
    "trusted": true,
    "ExecuteTime": {
     "end_time": "2024-05-06T13:52:37.836247Z",
     "start_time": "2024-05-06T13:52:37.832954Z"
    }
   },
   "outputs": [],
   "execution_count": 1
  },
  {
   "cell_type": "code",
   "source": "df = pd.read_csv('datasets/sales.csv') #Read the dataset",
   "metadata": {
    "execution": {
     "iopub.execute_input": "2020-09-06T08:47:41.985172Z",
     "iopub.status.busy": "2020-09-06T08:47:41.984307Z",
     "iopub.status.idle": "2020-09-06T08:47:42.116703Z",
     "shell.execute_reply": "2020-09-06T08:47:42.117442Z"
    },
    "papermill": {
     "duration": 0.158409,
     "end_time": "2020-09-06T08:47:42.117621",
     "exception": false,
     "start_time": "2020-09-06T08:47:41.959212",
     "status": "completed"
    },
    "tags": [],
    "trusted": true,
    "ExecuteTime": {
     "end_time": "2024-05-06T13:52:37.885987Z",
     "start_time": "2024-05-06T13:52:37.837643Z"
    }
   },
   "outputs": [],
   "execution_count": 2
  },
  {
   "cell_type": "markdown",
   "source": "**Let's take a look at the dataset**",
   "metadata": {
    "papermill": {
     "duration": 0.015795,
     "end_time": "2020-09-06T08:47:42.148809",
     "exception": false,
     "start_time": "2020-09-06T08:47:42.133014",
     "status": "completed"
    },
    "tags": []
   }
  },
  {
   "cell_type": "code",
   "source": "df.head()",
   "metadata": {
    "execution": {
     "iopub.execute_input": "2020-09-06T08:47:42.197473Z",
     "iopub.status.busy": "2020-09-06T08:47:42.196632Z",
     "iopub.status.idle": "2020-09-06T08:47:42.228757Z",
     "shell.execute_reply": "2020-09-06T08:47:42.229373Z"
    },
    "papermill": {
     "duration": 0.06475,
     "end_time": "2020-09-06T08:47:42.229502",
     "exception": false,
     "start_time": "2020-09-06T08:47:42.164752",
     "status": "completed"
    },
    "tags": [],
    "trusted": true,
    "ExecuteTime": {
     "end_time": "2024-05-06T13:52:37.906711Z",
     "start_time": "2024-05-06T13:52:37.887331Z"
    }
   },
   "outputs": [
    {
     "data": {
      "text/plain": [
       "   Row ID        Order ID  Order Date   Ship Date       Ship Mode Customer ID  \\\n",
       "0       1  CA-2017-152156  08/11/2017  11/11/2017    Second Class    CG-12520   \n",
       "1       2  CA-2017-152156  08/11/2017  11/11/2017    Second Class    CG-12520   \n",
       "2       3  CA-2017-138688  12/06/2017  16/06/2017    Second Class    DV-13045   \n",
       "3       4  US-2016-108966  11/10/2016  18/10/2016  Standard Class    SO-20335   \n",
       "4       5  US-2016-108966  11/10/2016  18/10/2016  Standard Class    SO-20335   \n",
       "\n",
       "     Customer Name    Segment        Country             City       State  \\\n",
       "0      Claire Gute   Consumer  United States        Henderson    Kentucky   \n",
       "1      Claire Gute   Consumer  United States        Henderson    Kentucky   \n",
       "2  Darrin Van Huff  Corporate  United States      Los Angeles  California   \n",
       "3   Sean O'Donnell   Consumer  United States  Fort Lauderdale     Florida   \n",
       "4   Sean O'Donnell   Consumer  United States  Fort Lauderdale     Florida   \n",
       "\n",
       "   Postal Code Region       Product ID         Category Sub-Category  \\\n",
       "0      42420.0  South  FUR-BO-10001798        Furniture    Bookcases   \n",
       "1      42420.0  South  FUR-CH-10000454        Furniture       Chairs   \n",
       "2      90036.0   West  OFF-LA-10000240  Office Supplies       Labels   \n",
       "3      33311.0  South  FUR-TA-10000577        Furniture       Tables   \n",
       "4      33311.0  South  OFF-ST-10000760  Office Supplies      Storage   \n",
       "\n",
       "                                        Product Name     Sales  \n",
       "0                  Bush Somerset Collection Bookcase  261.9600  \n",
       "1  Hon Deluxe Fabric Upholstered Stacking Chairs,...  731.9400  \n",
       "2  Self-Adhesive Address Labels for Typewriters b...   14.6200  \n",
       "3      Bretford CR4500 Series Slim Rectangular Table  957.5775  \n",
       "4                     Eldon Fold 'N Roll Cart System   22.3680  "
      ],
      "text/html": [
       "<div>\n",
       "<style scoped>\n",
       "    .dataframe tbody tr th:only-of-type {\n",
       "        vertical-align: middle;\n",
       "    }\n",
       "\n",
       "    .dataframe tbody tr th {\n",
       "        vertical-align: top;\n",
       "    }\n",
       "\n",
       "    .dataframe thead th {\n",
       "        text-align: right;\n",
       "    }\n",
       "</style>\n",
       "<table border=\"1\" class=\"dataframe\">\n",
       "  <thead>\n",
       "    <tr style=\"text-align: right;\">\n",
       "      <th></th>\n",
       "      <th>Row ID</th>\n",
       "      <th>Order ID</th>\n",
       "      <th>Order Date</th>\n",
       "      <th>Ship Date</th>\n",
       "      <th>Ship Mode</th>\n",
       "      <th>Customer ID</th>\n",
       "      <th>Customer Name</th>\n",
       "      <th>Segment</th>\n",
       "      <th>Country</th>\n",
       "      <th>City</th>\n",
       "      <th>State</th>\n",
       "      <th>Postal Code</th>\n",
       "      <th>Region</th>\n",
       "      <th>Product ID</th>\n",
       "      <th>Category</th>\n",
       "      <th>Sub-Category</th>\n",
       "      <th>Product Name</th>\n",
       "      <th>Sales</th>\n",
       "    </tr>\n",
       "  </thead>\n",
       "  <tbody>\n",
       "    <tr>\n",
       "      <th>0</th>\n",
       "      <td>1</td>\n",
       "      <td>CA-2017-152156</td>\n",
       "      <td>08/11/2017</td>\n",
       "      <td>11/11/2017</td>\n",
       "      <td>Second Class</td>\n",
       "      <td>CG-12520</td>\n",
       "      <td>Claire Gute</td>\n",
       "      <td>Consumer</td>\n",
       "      <td>United States</td>\n",
       "      <td>Henderson</td>\n",
       "      <td>Kentucky</td>\n",
       "      <td>42420.0</td>\n",
       "      <td>South</td>\n",
       "      <td>FUR-BO-10001798</td>\n",
       "      <td>Furniture</td>\n",
       "      <td>Bookcases</td>\n",
       "      <td>Bush Somerset Collection Bookcase</td>\n",
       "      <td>261.9600</td>\n",
       "    </tr>\n",
       "    <tr>\n",
       "      <th>1</th>\n",
       "      <td>2</td>\n",
       "      <td>CA-2017-152156</td>\n",
       "      <td>08/11/2017</td>\n",
       "      <td>11/11/2017</td>\n",
       "      <td>Second Class</td>\n",
       "      <td>CG-12520</td>\n",
       "      <td>Claire Gute</td>\n",
       "      <td>Consumer</td>\n",
       "      <td>United States</td>\n",
       "      <td>Henderson</td>\n",
       "      <td>Kentucky</td>\n",
       "      <td>42420.0</td>\n",
       "      <td>South</td>\n",
       "      <td>FUR-CH-10000454</td>\n",
       "      <td>Furniture</td>\n",
       "      <td>Chairs</td>\n",
       "      <td>Hon Deluxe Fabric Upholstered Stacking Chairs,...</td>\n",
       "      <td>731.9400</td>\n",
       "    </tr>\n",
       "    <tr>\n",
       "      <th>2</th>\n",
       "      <td>3</td>\n",
       "      <td>CA-2017-138688</td>\n",
       "      <td>12/06/2017</td>\n",
       "      <td>16/06/2017</td>\n",
       "      <td>Second Class</td>\n",
       "      <td>DV-13045</td>\n",
       "      <td>Darrin Van Huff</td>\n",
       "      <td>Corporate</td>\n",
       "      <td>United States</td>\n",
       "      <td>Los Angeles</td>\n",
       "      <td>California</td>\n",
       "      <td>90036.0</td>\n",
       "      <td>West</td>\n",
       "      <td>OFF-LA-10000240</td>\n",
       "      <td>Office Supplies</td>\n",
       "      <td>Labels</td>\n",
       "      <td>Self-Adhesive Address Labels for Typewriters b...</td>\n",
       "      <td>14.6200</td>\n",
       "    </tr>\n",
       "    <tr>\n",
       "      <th>3</th>\n",
       "      <td>4</td>\n",
       "      <td>US-2016-108966</td>\n",
       "      <td>11/10/2016</td>\n",
       "      <td>18/10/2016</td>\n",
       "      <td>Standard Class</td>\n",
       "      <td>SO-20335</td>\n",
       "      <td>Sean O'Donnell</td>\n",
       "      <td>Consumer</td>\n",
       "      <td>United States</td>\n",
       "      <td>Fort Lauderdale</td>\n",
       "      <td>Florida</td>\n",
       "      <td>33311.0</td>\n",
       "      <td>South</td>\n",
       "      <td>FUR-TA-10000577</td>\n",
       "      <td>Furniture</td>\n",
       "      <td>Tables</td>\n",
       "      <td>Bretford CR4500 Series Slim Rectangular Table</td>\n",
       "      <td>957.5775</td>\n",
       "    </tr>\n",
       "    <tr>\n",
       "      <th>4</th>\n",
       "      <td>5</td>\n",
       "      <td>US-2016-108966</td>\n",
       "      <td>11/10/2016</td>\n",
       "      <td>18/10/2016</td>\n",
       "      <td>Standard Class</td>\n",
       "      <td>SO-20335</td>\n",
       "      <td>Sean O'Donnell</td>\n",
       "      <td>Consumer</td>\n",
       "      <td>United States</td>\n",
       "      <td>Fort Lauderdale</td>\n",
       "      <td>Florida</td>\n",
       "      <td>33311.0</td>\n",
       "      <td>South</td>\n",
       "      <td>OFF-ST-10000760</td>\n",
       "      <td>Office Supplies</td>\n",
       "      <td>Storage</td>\n",
       "      <td>Eldon Fold 'N Roll Cart System</td>\n",
       "      <td>22.3680</td>\n",
       "    </tr>\n",
       "  </tbody>\n",
       "</table>\n",
       "</div>"
      ]
     },
     "execution_count": 3,
     "metadata": {},
     "output_type": "execute_result"
    }
   ],
   "execution_count": 3
  },
  {
   "cell_type": "code",
   "source": "df.describe() #Describing the data ",
   "metadata": {
    "execution": {
     "iopub.execute_input": "2020-09-06T08:47:42.268775Z",
     "iopub.status.busy": "2020-09-06T08:47:42.26762Z",
     "iopub.status.idle": "2020-09-06T08:47:42.293801Z",
     "shell.execute_reply": "2020-09-06T08:47:42.293186Z"
    },
    "papermill": {
     "duration": 0.053259,
     "end_time": "2020-09-06T08:47:42.293904",
     "exception": false,
     "start_time": "2020-09-06T08:47:42.240645",
     "status": "completed"
    },
    "tags": [],
    "trusted": true,
    "ExecuteTime": {
     "end_time": "2024-05-06T13:52:37.922348Z",
     "start_time": "2024-05-06T13:52:37.908390Z"
    }
   },
   "outputs": [
    {
     "data": {
      "text/plain": [
       "            Row ID   Postal Code         Sales\n",
       "count  9800.000000   9789.000000   9800.000000\n",
       "mean   4900.500000  55273.322403    230.769059\n",
       "std    2829.160653  32041.223413    626.651875\n",
       "min       1.000000   1040.000000      0.444000\n",
       "25%    2450.750000  23223.000000     17.248000\n",
       "50%    4900.500000  58103.000000     54.490000\n",
       "75%    7350.250000  90008.000000    210.605000\n",
       "max    9800.000000  99301.000000  22638.480000"
      ],
      "text/html": [
       "<div>\n",
       "<style scoped>\n",
       "    .dataframe tbody tr th:only-of-type {\n",
       "        vertical-align: middle;\n",
       "    }\n",
       "\n",
       "    .dataframe tbody tr th {\n",
       "        vertical-align: top;\n",
       "    }\n",
       "\n",
       "    .dataframe thead th {\n",
       "        text-align: right;\n",
       "    }\n",
       "</style>\n",
       "<table border=\"1\" class=\"dataframe\">\n",
       "  <thead>\n",
       "    <tr style=\"text-align: right;\">\n",
       "      <th></th>\n",
       "      <th>Row ID</th>\n",
       "      <th>Postal Code</th>\n",
       "      <th>Sales</th>\n",
       "    </tr>\n",
       "  </thead>\n",
       "  <tbody>\n",
       "    <tr>\n",
       "      <th>count</th>\n",
       "      <td>9800.000000</td>\n",
       "      <td>9789.000000</td>\n",
       "      <td>9800.000000</td>\n",
       "    </tr>\n",
       "    <tr>\n",
       "      <th>mean</th>\n",
       "      <td>4900.500000</td>\n",
       "      <td>55273.322403</td>\n",
       "      <td>230.769059</td>\n",
       "    </tr>\n",
       "    <tr>\n",
       "      <th>std</th>\n",
       "      <td>2829.160653</td>\n",
       "      <td>32041.223413</td>\n",
       "      <td>626.651875</td>\n",
       "    </tr>\n",
       "    <tr>\n",
       "      <th>min</th>\n",
       "      <td>1.000000</td>\n",
       "      <td>1040.000000</td>\n",
       "      <td>0.444000</td>\n",
       "    </tr>\n",
       "    <tr>\n",
       "      <th>25%</th>\n",
       "      <td>2450.750000</td>\n",
       "      <td>23223.000000</td>\n",
       "      <td>17.248000</td>\n",
       "    </tr>\n",
       "    <tr>\n",
       "      <th>50%</th>\n",
       "      <td>4900.500000</td>\n",
       "      <td>58103.000000</td>\n",
       "      <td>54.490000</td>\n",
       "    </tr>\n",
       "    <tr>\n",
       "      <th>75%</th>\n",
       "      <td>7350.250000</td>\n",
       "      <td>90008.000000</td>\n",
       "      <td>210.605000</td>\n",
       "    </tr>\n",
       "    <tr>\n",
       "      <th>max</th>\n",
       "      <td>9800.000000</td>\n",
       "      <td>99301.000000</td>\n",
       "      <td>22638.480000</td>\n",
       "    </tr>\n",
       "  </tbody>\n",
       "</table>\n",
       "</div>"
      ]
     },
     "execution_count": 4,
     "metadata": {},
     "output_type": "execute_result"
    }
   ],
   "execution_count": 4
  },
  {
   "cell_type": "code",
   "source": "df.drop('Row ID',axis = 1, inplace = True) #Dropping the Row ID column\ndf['Order Date'] = pd.to_datetime(df['Order Date'], format='%d/%m/%Y') #convert Order dates to pandas datetime format\ndf['Ship Date'] = pd.to_datetime(df['Ship Date'], format='%d/%m/%Y')   #convert shipping dates to pandas datetime format",
   "metadata": {
    "execution": {
     "iopub.execute_input": "2020-09-06T08:47:42.331231Z",
     "iopub.status.busy": "2020-09-06T08:47:42.325172Z",
     "iopub.status.idle": "2020-09-06T08:47:42.360053Z",
     "shell.execute_reply": "2020-09-06T08:47:42.360722Z"
    },
    "papermill": {
     "duration": 0.055991,
     "end_time": "2020-09-06T08:47:42.360916",
     "exception": false,
     "start_time": "2020-09-06T08:47:42.304925",
     "status": "completed"
    },
    "tags": [],
    "trusted": true,
    "ExecuteTime": {
     "end_time": "2024-05-06T13:52:37.941787Z",
     "start_time": "2024-05-06T13:52:37.923940Z"
    }
   },
   "outputs": [],
   "execution_count": 5
  },
  {
   "cell_type": "code",
   "source": "#sorting data by order date\ndf.sort_values(by=['Order Date'], inplace=True, ascending=True)",
   "metadata": {
    "execution": {
     "iopub.execute_input": "2020-09-06T08:47:42.401648Z",
     "iopub.status.busy": "2020-09-06T08:47:42.40101Z",
     "iopub.status.idle": "2020-09-06T08:47:42.414557Z",
     "shell.execute_reply": "2020-09-06T08:47:42.413536Z"
    },
    "papermill": {
     "duration": 0.036661,
     "end_time": "2020-09-06T08:47:42.414687",
     "exception": false,
     "start_time": "2020-09-06T08:47:42.378026",
     "status": "completed"
    },
    "tags": [],
    "trusted": true,
    "ExecuteTime": {
     "end_time": "2024-05-06T13:52:37.949588Z",
     "start_time": "2024-05-06T13:52:37.943099Z"
    }
   },
   "outputs": [],
   "execution_count": 6
  },
  {
   "cell_type": "code",
   "source": "#setting the index to be the date will help us a lot later on\ndf.set_index(\"Order Date\", inplace = True)",
   "metadata": {
    "execution": {
     "iopub.execute_input": "2020-09-06T08:47:42.456068Z",
     "iopub.status.busy": "2020-09-06T08:47:42.455074Z",
     "iopub.status.idle": "2020-09-06T08:47:42.458578Z",
     "shell.execute_reply": "2020-09-06T08:47:42.457984Z"
    },
    "papermill": {
     "duration": 0.026048,
     "end_time": "2020-09-06T08:47:42.458676",
     "exception": false,
     "start_time": "2020-09-06T08:47:42.432628",
     "status": "completed"
    },
    "tags": [],
    "trusted": true,
    "ExecuteTime": {
     "end_time": "2024-05-06T13:52:37.955939Z",
     "start_time": "2024-05-06T13:52:37.951066Z"
    }
   },
   "outputs": [],
   "execution_count": 7
  },
  {
   "cell_type": "markdown",
   "source": "**checking if there is any null data or not**",
   "metadata": {
    "papermill": {
     "duration": 0.010381,
     "end_time": "2020-09-06T08:47:42.479773",
     "exception": false,
     "start_time": "2020-09-06T08:47:42.469392",
     "status": "completed"
    },
    "tags": []
   }
  },
  {
   "cell_type": "code",
   "source": "print(df.isnull().sum())",
   "metadata": {
    "execution": {
     "iopub.execute_input": "2020-09-06T08:47:42.516856Z",
     "iopub.status.busy": "2020-09-06T08:47:42.516045Z",
     "iopub.status.idle": "2020-09-06T08:47:42.524369Z",
     "shell.execute_reply": "2020-09-06T08:47:42.523641Z"
    },
    "papermill": {
     "duration": 0.034097,
     "end_time": "2020-09-06T08:47:42.524494",
     "exception": false,
     "start_time": "2020-09-06T08:47:42.490397",
     "status": "completed"
    },
    "tags": [],
    "trusted": true,
    "ExecuteTime": {
     "end_time": "2024-05-06T13:52:37.972475Z",
     "start_time": "2024-05-06T13:52:37.963538Z"
    }
   },
   "outputs": [
    {
     "name": "stdout",
     "output_type": "stream",
     "text": [
      "Order ID          0\n",
      "Ship Date         0\n",
      "Ship Mode         0\n",
      "Customer ID       0\n",
      "Customer Name     0\n",
      "Segment           0\n",
      "Country           0\n",
      "City              0\n",
      "State             0\n",
      "Postal Code      11\n",
      "Region            0\n",
      "Product ID        0\n",
      "Category          0\n",
      "Sub-Category      0\n",
      "Product Name      0\n",
      "Sales             0\n",
      "dtype: int64\n"
     ]
    }
   ],
   "execution_count": 8
  },
  {
   "cell_type": "markdown",
   "source": "<b>To handle the null values in postal code. We will not drop them, instead we will add the postal code of respective city.<br>\n1. we need to find the cities for which the postal code is not mentioned. \n2. Fill the postal code of the respective city into the postal code column.</b>",
   "metadata": {
    "papermill": {
     "duration": 0.017037,
     "end_time": "2020-09-06T08:47:42.558547",
     "exception": false,
     "start_time": "2020-09-06T08:47:42.54151",
     "status": "completed"
    },
    "tags": []
   }
  },
  {
   "cell_type": "code",
   "source": "df[df['Postal Code'].isnull()]",
   "metadata": {
    "execution": {
     "iopub.execute_input": "2020-09-06T08:47:42.627922Z",
     "iopub.status.busy": "2020-09-06T08:47:42.605447Z",
     "iopub.status.idle": "2020-09-06T08:47:42.634947Z",
     "shell.execute_reply": "2020-09-06T08:47:42.634271Z"
    },
    "papermill": {
     "duration": 0.059569,
     "end_time": "2020-09-06T08:47:42.635063",
     "exception": false,
     "start_time": "2020-09-06T08:47:42.575494",
     "status": "completed"
    },
    "tags": [],
    "trusted": true,
    "ExecuteTime": {
     "end_time": "2024-05-06T13:52:37.991379Z",
     "start_time": "2024-05-06T13:52:37.974198Z"
    }
   },
   "outputs": [
    {
     "data": {
      "text/plain": [
       "                  Order ID  Ship Date       Ship Mode Customer ID  \\\n",
       "Order Date                                                          \n",
       "2016-11-07  CA-2016-162887 2016-11-09    Second Class    SV-20785   \n",
       "2016-11-08  CA-2016-117086 2016-11-12  Standard Class    QJ-19255   \n",
       "2017-01-23  US-2017-165505 2017-01-27  Standard Class    CB-12535   \n",
       "2017-01-23  US-2017-165505 2017-01-27  Standard Class    CB-12535   \n",
       "2017-01-23  US-2017-165505 2017-01-27  Standard Class    CB-12535   \n",
       "2017-04-06  US-2017-150140 2017-04-10  Standard Class    VM-21685   \n",
       "2018-01-19  US-2018-127292 2018-01-23  Standard Class    RM-19375   \n",
       "2018-01-19  US-2018-127292 2018-01-23  Standard Class    RM-19375   \n",
       "2018-01-19  US-2018-127292 2018-01-23  Standard Class    RM-19375   \n",
       "2018-01-19  US-2018-127292 2018-01-23  Standard Class    RM-19375   \n",
       "2018-12-05  CA-2018-104066 2018-12-10  Standard Class    QJ-19255   \n",
       "\n",
       "               Customer Name      Segment        Country        City    State  \\\n",
       "Order Date                                                                      \n",
       "2016-11-07  Stewart Visinsky     Consumer  United States  Burlington  Vermont   \n",
       "2016-11-08      Quincy Jones    Corporate  United States  Burlington  Vermont   \n",
       "2017-01-23  Claudia Bergmann    Corporate  United States  Burlington  Vermont   \n",
       "2017-01-23  Claudia Bergmann    Corporate  United States  Burlington  Vermont   \n",
       "2017-01-23  Claudia Bergmann    Corporate  United States  Burlington  Vermont   \n",
       "2017-04-06   Valerie Mitchum  Home Office  United States  Burlington  Vermont   \n",
       "2018-01-19     Raymond Messe     Consumer  United States  Burlington  Vermont   \n",
       "2018-01-19     Raymond Messe     Consumer  United States  Burlington  Vermont   \n",
       "2018-01-19     Raymond Messe     Consumer  United States  Burlington  Vermont   \n",
       "2018-01-19     Raymond Messe     Consumer  United States  Burlington  Vermont   \n",
       "2018-12-05      Quincy Jones    Corporate  United States  Burlington  Vermont   \n",
       "\n",
       "            Postal Code Region       Product ID         Category Sub-Category  \\\n",
       "Order Date                                                                      \n",
       "2016-11-07          NaN   East  FUR-CH-10000595        Furniture       Chairs   \n",
       "2016-11-08          NaN   East  FUR-BO-10004834        Furniture    Bookcases   \n",
       "2017-01-23          NaN   East  TEC-AC-10002926       Technology  Accessories   \n",
       "2017-01-23          NaN   East  OFF-ST-10001526  Office Supplies      Storage   \n",
       "2017-01-23          NaN   East  OFF-AR-10003477  Office Supplies          Art   \n",
       "2017-04-06          NaN   East  TEC-PH-10002555       Technology       Phones   \n",
       "2018-01-19          NaN   East  OFF-AP-10000828  Office Supplies   Appliances   \n",
       "2018-01-19          NaN   East  OFF-EN-10001509  Office Supplies    Envelopes   \n",
       "2018-01-19          NaN   East  OFF-PA-10001970  Office Supplies        Paper   \n",
       "2018-01-19          NaN   East  OFF-PA-10000157  Office Supplies        Paper   \n",
       "2018-12-05          NaN   East  TEC-AC-10001013       Technology  Accessories   \n",
       "\n",
       "                                                 Product Name    Sales  \n",
       "Order Date                                                              \n",
       "2016-11-07                    Safco Contoured Stacking Chairs   715.20  \n",
       "2016-11-08  Riverside Palais Royal Lawyers Bookcase, Royal...  4404.90  \n",
       "2017-01-23              Logitech Wireless Marathon Mouse M705    99.98  \n",
       "2017-01-23              Iceberg Mobile Mega Data/Printer Cart  1564.29  \n",
       "2017-01-23                                  4009 Highlighters     8.04  \n",
       "2017-04-06                Nortel Meridian M5316 Digital phone  1294.75  \n",
       "2018-01-19                    Avanti 4.4 Cu. Ft. Refrigerator   542.94  \n",
       "2018-01-19                          Poly String Tie Envelopes     2.04  \n",
       "2018-01-19                                         Xerox 1881    12.28  \n",
       "2018-01-19                                          Xerox 191    79.92  \n",
       "2018-12-05        Logitech ClearChat Comfort/USB Headset H390   205.03  "
      ],
      "text/html": [
       "<div>\n",
       "<style scoped>\n",
       "    .dataframe tbody tr th:only-of-type {\n",
       "        vertical-align: middle;\n",
       "    }\n",
       "\n",
       "    .dataframe tbody tr th {\n",
       "        vertical-align: top;\n",
       "    }\n",
       "\n",
       "    .dataframe thead th {\n",
       "        text-align: right;\n",
       "    }\n",
       "</style>\n",
       "<table border=\"1\" class=\"dataframe\">\n",
       "  <thead>\n",
       "    <tr style=\"text-align: right;\">\n",
       "      <th></th>\n",
       "      <th>Order ID</th>\n",
       "      <th>Ship Date</th>\n",
       "      <th>Ship Mode</th>\n",
       "      <th>Customer ID</th>\n",
       "      <th>Customer Name</th>\n",
       "      <th>Segment</th>\n",
       "      <th>Country</th>\n",
       "      <th>City</th>\n",
       "      <th>State</th>\n",
       "      <th>Postal Code</th>\n",
       "      <th>Region</th>\n",
       "      <th>Product ID</th>\n",
       "      <th>Category</th>\n",
       "      <th>Sub-Category</th>\n",
       "      <th>Product Name</th>\n",
       "      <th>Sales</th>\n",
       "    </tr>\n",
       "    <tr>\n",
       "      <th>Order Date</th>\n",
       "      <th></th>\n",
       "      <th></th>\n",
       "      <th></th>\n",
       "      <th></th>\n",
       "      <th></th>\n",
       "      <th></th>\n",
       "      <th></th>\n",
       "      <th></th>\n",
       "      <th></th>\n",
       "      <th></th>\n",
       "      <th></th>\n",
       "      <th></th>\n",
       "      <th></th>\n",
       "      <th></th>\n",
       "      <th></th>\n",
       "      <th></th>\n",
       "    </tr>\n",
       "  </thead>\n",
       "  <tbody>\n",
       "    <tr>\n",
       "      <th>2016-11-07</th>\n",
       "      <td>CA-2016-162887</td>\n",
       "      <td>2016-11-09</td>\n",
       "      <td>Second Class</td>\n",
       "      <td>SV-20785</td>\n",
       "      <td>Stewart Visinsky</td>\n",
       "      <td>Consumer</td>\n",
       "      <td>United States</td>\n",
       "      <td>Burlington</td>\n",
       "      <td>Vermont</td>\n",
       "      <td>NaN</td>\n",
       "      <td>East</td>\n",
       "      <td>FUR-CH-10000595</td>\n",
       "      <td>Furniture</td>\n",
       "      <td>Chairs</td>\n",
       "      <td>Safco Contoured Stacking Chairs</td>\n",
       "      <td>715.20</td>\n",
       "    </tr>\n",
       "    <tr>\n",
       "      <th>2016-11-08</th>\n",
       "      <td>CA-2016-117086</td>\n",
       "      <td>2016-11-12</td>\n",
       "      <td>Standard Class</td>\n",
       "      <td>QJ-19255</td>\n",
       "      <td>Quincy Jones</td>\n",
       "      <td>Corporate</td>\n",
       "      <td>United States</td>\n",
       "      <td>Burlington</td>\n",
       "      <td>Vermont</td>\n",
       "      <td>NaN</td>\n",
       "      <td>East</td>\n",
       "      <td>FUR-BO-10004834</td>\n",
       "      <td>Furniture</td>\n",
       "      <td>Bookcases</td>\n",
       "      <td>Riverside Palais Royal Lawyers Bookcase, Royal...</td>\n",
       "      <td>4404.90</td>\n",
       "    </tr>\n",
       "    <tr>\n",
       "      <th>2017-01-23</th>\n",
       "      <td>US-2017-165505</td>\n",
       "      <td>2017-01-27</td>\n",
       "      <td>Standard Class</td>\n",
       "      <td>CB-12535</td>\n",
       "      <td>Claudia Bergmann</td>\n",
       "      <td>Corporate</td>\n",
       "      <td>United States</td>\n",
       "      <td>Burlington</td>\n",
       "      <td>Vermont</td>\n",
       "      <td>NaN</td>\n",
       "      <td>East</td>\n",
       "      <td>TEC-AC-10002926</td>\n",
       "      <td>Technology</td>\n",
       "      <td>Accessories</td>\n",
       "      <td>Logitech Wireless Marathon Mouse M705</td>\n",
       "      <td>99.98</td>\n",
       "    </tr>\n",
       "    <tr>\n",
       "      <th>2017-01-23</th>\n",
       "      <td>US-2017-165505</td>\n",
       "      <td>2017-01-27</td>\n",
       "      <td>Standard Class</td>\n",
       "      <td>CB-12535</td>\n",
       "      <td>Claudia Bergmann</td>\n",
       "      <td>Corporate</td>\n",
       "      <td>United States</td>\n",
       "      <td>Burlington</td>\n",
       "      <td>Vermont</td>\n",
       "      <td>NaN</td>\n",
       "      <td>East</td>\n",
       "      <td>OFF-ST-10001526</td>\n",
       "      <td>Office Supplies</td>\n",
       "      <td>Storage</td>\n",
       "      <td>Iceberg Mobile Mega Data/Printer Cart</td>\n",
       "      <td>1564.29</td>\n",
       "    </tr>\n",
       "    <tr>\n",
       "      <th>2017-01-23</th>\n",
       "      <td>US-2017-165505</td>\n",
       "      <td>2017-01-27</td>\n",
       "      <td>Standard Class</td>\n",
       "      <td>CB-12535</td>\n",
       "      <td>Claudia Bergmann</td>\n",
       "      <td>Corporate</td>\n",
       "      <td>United States</td>\n",
       "      <td>Burlington</td>\n",
       "      <td>Vermont</td>\n",
       "      <td>NaN</td>\n",
       "      <td>East</td>\n",
       "      <td>OFF-AR-10003477</td>\n",
       "      <td>Office Supplies</td>\n",
       "      <td>Art</td>\n",
       "      <td>4009 Highlighters</td>\n",
       "      <td>8.04</td>\n",
       "    </tr>\n",
       "    <tr>\n",
       "      <th>2017-04-06</th>\n",
       "      <td>US-2017-150140</td>\n",
       "      <td>2017-04-10</td>\n",
       "      <td>Standard Class</td>\n",
       "      <td>VM-21685</td>\n",
       "      <td>Valerie Mitchum</td>\n",
       "      <td>Home Office</td>\n",
       "      <td>United States</td>\n",
       "      <td>Burlington</td>\n",
       "      <td>Vermont</td>\n",
       "      <td>NaN</td>\n",
       "      <td>East</td>\n",
       "      <td>TEC-PH-10002555</td>\n",
       "      <td>Technology</td>\n",
       "      <td>Phones</td>\n",
       "      <td>Nortel Meridian M5316 Digital phone</td>\n",
       "      <td>1294.75</td>\n",
       "    </tr>\n",
       "    <tr>\n",
       "      <th>2018-01-19</th>\n",
       "      <td>US-2018-127292</td>\n",
       "      <td>2018-01-23</td>\n",
       "      <td>Standard Class</td>\n",
       "      <td>RM-19375</td>\n",
       "      <td>Raymond Messe</td>\n",
       "      <td>Consumer</td>\n",
       "      <td>United States</td>\n",
       "      <td>Burlington</td>\n",
       "      <td>Vermont</td>\n",
       "      <td>NaN</td>\n",
       "      <td>East</td>\n",
       "      <td>OFF-AP-10000828</td>\n",
       "      <td>Office Supplies</td>\n",
       "      <td>Appliances</td>\n",
       "      <td>Avanti 4.4 Cu. Ft. Refrigerator</td>\n",
       "      <td>542.94</td>\n",
       "    </tr>\n",
       "    <tr>\n",
       "      <th>2018-01-19</th>\n",
       "      <td>US-2018-127292</td>\n",
       "      <td>2018-01-23</td>\n",
       "      <td>Standard Class</td>\n",
       "      <td>RM-19375</td>\n",
       "      <td>Raymond Messe</td>\n",
       "      <td>Consumer</td>\n",
       "      <td>United States</td>\n",
       "      <td>Burlington</td>\n",
       "      <td>Vermont</td>\n",
       "      <td>NaN</td>\n",
       "      <td>East</td>\n",
       "      <td>OFF-EN-10001509</td>\n",
       "      <td>Office Supplies</td>\n",
       "      <td>Envelopes</td>\n",
       "      <td>Poly String Tie Envelopes</td>\n",
       "      <td>2.04</td>\n",
       "    </tr>\n",
       "    <tr>\n",
       "      <th>2018-01-19</th>\n",
       "      <td>US-2018-127292</td>\n",
       "      <td>2018-01-23</td>\n",
       "      <td>Standard Class</td>\n",
       "      <td>RM-19375</td>\n",
       "      <td>Raymond Messe</td>\n",
       "      <td>Consumer</td>\n",
       "      <td>United States</td>\n",
       "      <td>Burlington</td>\n",
       "      <td>Vermont</td>\n",
       "      <td>NaN</td>\n",
       "      <td>East</td>\n",
       "      <td>OFF-PA-10001970</td>\n",
       "      <td>Office Supplies</td>\n",
       "      <td>Paper</td>\n",
       "      <td>Xerox 1881</td>\n",
       "      <td>12.28</td>\n",
       "    </tr>\n",
       "    <tr>\n",
       "      <th>2018-01-19</th>\n",
       "      <td>US-2018-127292</td>\n",
       "      <td>2018-01-23</td>\n",
       "      <td>Standard Class</td>\n",
       "      <td>RM-19375</td>\n",
       "      <td>Raymond Messe</td>\n",
       "      <td>Consumer</td>\n",
       "      <td>United States</td>\n",
       "      <td>Burlington</td>\n",
       "      <td>Vermont</td>\n",
       "      <td>NaN</td>\n",
       "      <td>East</td>\n",
       "      <td>OFF-PA-10000157</td>\n",
       "      <td>Office Supplies</td>\n",
       "      <td>Paper</td>\n",
       "      <td>Xerox 191</td>\n",
       "      <td>79.92</td>\n",
       "    </tr>\n",
       "    <tr>\n",
       "      <th>2018-12-05</th>\n",
       "      <td>CA-2018-104066</td>\n",
       "      <td>2018-12-10</td>\n",
       "      <td>Standard Class</td>\n",
       "      <td>QJ-19255</td>\n",
       "      <td>Quincy Jones</td>\n",
       "      <td>Corporate</td>\n",
       "      <td>United States</td>\n",
       "      <td>Burlington</td>\n",
       "      <td>Vermont</td>\n",
       "      <td>NaN</td>\n",
       "      <td>East</td>\n",
       "      <td>TEC-AC-10001013</td>\n",
       "      <td>Technology</td>\n",
       "      <td>Accessories</td>\n",
       "      <td>Logitech ClearChat Comfort/USB Headset H390</td>\n",
       "      <td>205.03</td>\n",
       "    </tr>\n",
       "  </tbody>\n",
       "</table>\n",
       "</div>"
      ]
     },
     "execution_count": 9,
     "metadata": {},
     "output_type": "execute_result"
    }
   ],
   "execution_count": 9
  },
  {
   "cell_type": "markdown",
   "source": "**We can see that the postal code is not mentioned only for Burlington city in Vermont state. So, we need to fill the postal code of that city.**",
   "metadata": {
    "papermill": {
     "duration": 0.017538,
     "end_time": "2020-09-06T08:47:42.670935",
     "exception": false,
     "start_time": "2020-09-06T08:47:42.653397",
     "status": "completed"
    },
    "tags": []
   }
  },
  {
   "cell_type": "code",
   "source": "df['Postal Code'] = df['Postal Code'].fillna(5401) # Postal code for Burlington city",
   "metadata": {
    "execution": {
     "iopub.execute_input": "2020-09-06T08:47:42.716084Z",
     "iopub.status.busy": "2020-09-06T08:47:42.715076Z",
     "iopub.status.idle": "2020-09-06T08:47:42.71843Z",
     "shell.execute_reply": "2020-09-06T08:47:42.717765Z"
    },
    "papermill": {
     "duration": 0.029154,
     "end_time": "2020-09-06T08:47:42.718541",
     "exception": false,
     "start_time": "2020-09-06T08:47:42.689387",
     "status": "completed"
    },
    "tags": [],
    "trusted": true,
    "ExecuteTime": {
     "end_time": "2024-05-06T13:52:37.996728Z",
     "start_time": "2024-05-06T13:52:37.992955Z"
    }
   },
   "outputs": [],
   "execution_count": 10
  },
  {
   "cell_type": "code",
   "source": "print(df.isnull().sum())",
   "metadata": {
    "execution": {
     "iopub.execute_input": "2020-09-06T08:47:42.765647Z",
     "iopub.status.busy": "2020-09-06T08:47:42.76473Z",
     "iopub.status.idle": "2020-09-06T08:47:42.772088Z",
     "shell.execute_reply": "2020-09-06T08:47:42.771542Z"
    },
    "papermill": {
     "duration": 0.041792,
     "end_time": "2020-09-06T08:47:42.772238",
     "exception": false,
     "start_time": "2020-09-06T08:47:42.730446",
     "status": "completed"
    },
    "tags": [],
    "trusted": true,
    "ExecuteTime": {
     "end_time": "2024-05-06T13:52:38.007076Z",
     "start_time": "2024-05-06T13:52:37.998122Z"
    }
   },
   "outputs": [
    {
     "name": "stdout",
     "output_type": "stream",
     "text": [
      "Order ID         0\n",
      "Ship Date        0\n",
      "Ship Mode        0\n",
      "Customer ID      0\n",
      "Customer Name    0\n",
      "Segment          0\n",
      "Country          0\n",
      "City             0\n",
      "State            0\n",
      "Postal Code      0\n",
      "Region           0\n",
      "Product ID       0\n",
      "Category         0\n",
      "Sub-Category     0\n",
      "Product Name     0\n",
      "Sales            0\n",
      "dtype: int64\n"
     ]
    }
   ],
   "execution_count": 11
  },
  {
   "cell_type": "markdown",
   "source": "**<h3>Let's find out who are the Most Valuable customers!</h3>**\n\nThe Most Valuable Customers are the customers who are the most profitable for a company. <br>\nThese customers buy more or higher-value products than the average customer.",
   "metadata": {
    "papermill": {
     "duration": 0.011457,
     "end_time": "2020-09-06T08:47:42.795499",
     "exception": false,
     "start_time": "2020-09-06T08:47:42.784042",
     "status": "completed"
    },
    "tags": []
   }
  },
  {
   "cell_type": "code",
   "source": "Top_customers = df.groupby([\"Customer Name\"]).sum().sort_values(\"Sales\", ascending=False).head(20) # Sort the Customers as per the sales\nTop_customers = Top_customers[[\"Sales\"]].round(2) # Round off the Sales Value up to 2 decimal places\nTop_customers.reset_index(inplace=True) # Since we have used groupby, we will have to reset the index to add the customer name into dataframe ",
   "metadata": {
    "execution": {
     "iopub.execute_input": "2020-09-06T08:47:42.829579Z",
     "iopub.status.busy": "2020-09-06T08:47:42.827253Z",
     "iopub.status.idle": "2020-09-06T08:47:42.845347Z",
     "shell.execute_reply": "2020-09-06T08:47:42.845983Z"
    },
    "papermill": {
     "duration": 0.039405,
     "end_time": "2020-09-06T08:47:42.846212",
     "exception": false,
     "start_time": "2020-09-06T08:47:42.806807",
     "status": "completed"
    },
    "tags": [],
    "trusted": true,
    "ExecuteTime": {
     "end_time": "2024-05-06T13:52:39.443198Z",
     "start_time": "2024-05-06T13:52:38.008633Z"
    }
   },
   "outputs": [
    {
     "ename": "TypeError",
     "evalue": "datetime64 type does not support sum operations",
     "output_type": "error",
     "traceback": [
      "\u001B[0;31m---------------------------------------------------------------------------\u001B[0m",
      "\u001B[0;31mTypeError\u001B[0m                                 Traceback (most recent call last)",
      "Cell \u001B[0;32mIn[12], line 1\u001B[0m\n\u001B[0;32m----> 1\u001B[0m Top_customers \u001B[38;5;241m=\u001B[39m \u001B[43mdf\u001B[49m\u001B[38;5;241;43m.\u001B[39;49m\u001B[43mgroupby\u001B[49m\u001B[43m(\u001B[49m\u001B[43m[\u001B[49m\u001B[38;5;124;43m\"\u001B[39;49m\u001B[38;5;124;43mCustomer Name\u001B[39;49m\u001B[38;5;124;43m\"\u001B[39;49m\u001B[43m]\u001B[49m\u001B[43m)\u001B[49m\u001B[38;5;241;43m.\u001B[39;49m\u001B[43msum\u001B[49m\u001B[43m(\u001B[49m\u001B[43m)\u001B[49m\u001B[38;5;241m.\u001B[39msort_values(\u001B[38;5;124m\"\u001B[39m\u001B[38;5;124mSales\u001B[39m\u001B[38;5;124m\"\u001B[39m, ascending\u001B[38;5;241m=\u001B[39m\u001B[38;5;28;01mFalse\u001B[39;00m)\u001B[38;5;241m.\u001B[39mhead(\u001B[38;5;241m20\u001B[39m) \u001B[38;5;66;03m# Sort the Customers as per the sales\u001B[39;00m\n\u001B[1;32m      2\u001B[0m Top_customers \u001B[38;5;241m=\u001B[39m Top_customers[[\u001B[38;5;124m\"\u001B[39m\u001B[38;5;124mSales\u001B[39m\u001B[38;5;124m\"\u001B[39m]]\u001B[38;5;241m.\u001B[39mround(\u001B[38;5;241m2\u001B[39m) \u001B[38;5;66;03m# Round off the Sales Value up to 2 decimal places\u001B[39;00m\n\u001B[1;32m      3\u001B[0m Top_customers\u001B[38;5;241m.\u001B[39mreset_index(inplace\u001B[38;5;241m=\u001B[39m\u001B[38;5;28;01mTrue\u001B[39;00m) \u001B[38;5;66;03m# Since we have used groupby, we will have to reset the index to add the customer name into dataframe \u001B[39;00m\n",
      "File \u001B[0;32m~/Library/Python/3.9/lib/python/site-packages/pandas/core/groupby/groupby.py:3146\u001B[0m, in \u001B[0;36mGroupBy.sum\u001B[0;34m(self, numeric_only, min_count, engine, engine_kwargs)\u001B[0m\n\u001B[1;32m   3141\u001B[0m \u001B[38;5;28;01melse\u001B[39;00m:\n\u001B[1;32m   3142\u001B[0m     \u001B[38;5;66;03m# If we are grouping on categoricals we want unobserved categories to\u001B[39;00m\n\u001B[1;32m   3143\u001B[0m     \u001B[38;5;66;03m# return zero, rather than the default of NaN which the reindexing in\u001B[39;00m\n\u001B[1;32m   3144\u001B[0m     \u001B[38;5;66;03m# _agg_general() returns. GH #31422\u001B[39;00m\n\u001B[1;32m   3145\u001B[0m     \u001B[38;5;28;01mwith\u001B[39;00m com\u001B[38;5;241m.\u001B[39mtemp_setattr(\u001B[38;5;28mself\u001B[39m, \u001B[38;5;124m\"\u001B[39m\u001B[38;5;124mobserved\u001B[39m\u001B[38;5;124m\"\u001B[39m, \u001B[38;5;28;01mTrue\u001B[39;00m):\n\u001B[0;32m-> 3146\u001B[0m         result \u001B[38;5;241m=\u001B[39m \u001B[38;5;28;43mself\u001B[39;49m\u001B[38;5;241;43m.\u001B[39;49m\u001B[43m_agg_general\u001B[49m\u001B[43m(\u001B[49m\n\u001B[1;32m   3147\u001B[0m \u001B[43m            \u001B[49m\u001B[43mnumeric_only\u001B[49m\u001B[38;5;241;43m=\u001B[39;49m\u001B[43mnumeric_only\u001B[49m\u001B[43m,\u001B[49m\n\u001B[1;32m   3148\u001B[0m \u001B[43m            \u001B[49m\u001B[43mmin_count\u001B[49m\u001B[38;5;241;43m=\u001B[39;49m\u001B[43mmin_count\u001B[49m\u001B[43m,\u001B[49m\n\u001B[1;32m   3149\u001B[0m \u001B[43m            \u001B[49m\u001B[43malias\u001B[49m\u001B[38;5;241;43m=\u001B[39;49m\u001B[38;5;124;43m\"\u001B[39;49m\u001B[38;5;124;43msum\u001B[39;49m\u001B[38;5;124;43m\"\u001B[39;49m\u001B[43m,\u001B[49m\n\u001B[1;32m   3150\u001B[0m \u001B[43m            \u001B[49m\u001B[43mnpfunc\u001B[49m\u001B[38;5;241;43m=\u001B[39;49m\u001B[43mnp\u001B[49m\u001B[38;5;241;43m.\u001B[39;49m\u001B[43msum\u001B[49m\u001B[43m,\u001B[49m\n\u001B[1;32m   3151\u001B[0m \u001B[43m        \u001B[49m\u001B[43m)\u001B[49m\n\u001B[1;32m   3153\u001B[0m     \u001B[38;5;28;01mreturn\u001B[39;00m \u001B[38;5;28mself\u001B[39m\u001B[38;5;241m.\u001B[39m_reindex_output(result, fill_value\u001B[38;5;241m=\u001B[39m\u001B[38;5;241m0\u001B[39m)\n",
      "File \u001B[0;32m~/Library/Python/3.9/lib/python/site-packages/pandas/core/groupby/groupby.py:1906\u001B[0m, in \u001B[0;36mGroupBy._agg_general\u001B[0;34m(self, numeric_only, min_count, alias, npfunc, **kwargs)\u001B[0m\n\u001B[1;32m   1896\u001B[0m \u001B[38;5;129m@final\u001B[39m\n\u001B[1;32m   1897\u001B[0m \u001B[38;5;28;01mdef\u001B[39;00m \u001B[38;5;21m_agg_general\u001B[39m(\n\u001B[1;32m   1898\u001B[0m     \u001B[38;5;28mself\u001B[39m,\n\u001B[0;32m   (...)\u001B[0m\n\u001B[1;32m   1904\u001B[0m     \u001B[38;5;241m*\u001B[39m\u001B[38;5;241m*\u001B[39mkwargs,\n\u001B[1;32m   1905\u001B[0m ):\n\u001B[0;32m-> 1906\u001B[0m     result \u001B[38;5;241m=\u001B[39m \u001B[38;5;28;43mself\u001B[39;49m\u001B[38;5;241;43m.\u001B[39;49m\u001B[43m_cython_agg_general\u001B[49m\u001B[43m(\u001B[49m\n\u001B[1;32m   1907\u001B[0m \u001B[43m        \u001B[49m\u001B[43mhow\u001B[49m\u001B[38;5;241;43m=\u001B[39;49m\u001B[43malias\u001B[49m\u001B[43m,\u001B[49m\n\u001B[1;32m   1908\u001B[0m \u001B[43m        \u001B[49m\u001B[43malt\u001B[49m\u001B[38;5;241;43m=\u001B[39;49m\u001B[43mnpfunc\u001B[49m\u001B[43m,\u001B[49m\n\u001B[1;32m   1909\u001B[0m \u001B[43m        \u001B[49m\u001B[43mnumeric_only\u001B[49m\u001B[38;5;241;43m=\u001B[39;49m\u001B[43mnumeric_only\u001B[49m\u001B[43m,\u001B[49m\n\u001B[1;32m   1910\u001B[0m \u001B[43m        \u001B[49m\u001B[43mmin_count\u001B[49m\u001B[38;5;241;43m=\u001B[39;49m\u001B[43mmin_count\u001B[49m\u001B[43m,\u001B[49m\n\u001B[1;32m   1911\u001B[0m \u001B[43m        \u001B[49m\u001B[38;5;241;43m*\u001B[39;49m\u001B[38;5;241;43m*\u001B[39;49m\u001B[43mkwargs\u001B[49m\u001B[43m,\u001B[49m\n\u001B[1;32m   1912\u001B[0m \u001B[43m    \u001B[49m\u001B[43m)\u001B[49m\n\u001B[1;32m   1913\u001B[0m     \u001B[38;5;28;01mreturn\u001B[39;00m result\u001B[38;5;241m.\u001B[39m__finalize__(\u001B[38;5;28mself\u001B[39m\u001B[38;5;241m.\u001B[39mobj, method\u001B[38;5;241m=\u001B[39m\u001B[38;5;124m\"\u001B[39m\u001B[38;5;124mgroupby\u001B[39m\u001B[38;5;124m\"\u001B[39m)\n",
      "File \u001B[0;32m~/Library/Python/3.9/lib/python/site-packages/pandas/core/groupby/groupby.py:1998\u001B[0m, in \u001B[0;36mGroupBy._cython_agg_general\u001B[0;34m(self, how, alt, numeric_only, min_count, **kwargs)\u001B[0m\n\u001B[1;32m   1995\u001B[0m     result \u001B[38;5;241m=\u001B[39m \u001B[38;5;28mself\u001B[39m\u001B[38;5;241m.\u001B[39m_agg_py_fallback(how, values, ndim\u001B[38;5;241m=\u001B[39mdata\u001B[38;5;241m.\u001B[39mndim, alt\u001B[38;5;241m=\u001B[39malt)\n\u001B[1;32m   1996\u001B[0m     \u001B[38;5;28;01mreturn\u001B[39;00m result\n\u001B[0;32m-> 1998\u001B[0m new_mgr \u001B[38;5;241m=\u001B[39m \u001B[43mdata\u001B[49m\u001B[38;5;241;43m.\u001B[39;49m\u001B[43mgrouped_reduce\u001B[49m\u001B[43m(\u001B[49m\u001B[43marray_func\u001B[49m\u001B[43m)\u001B[49m\n\u001B[1;32m   1999\u001B[0m res \u001B[38;5;241m=\u001B[39m \u001B[38;5;28mself\u001B[39m\u001B[38;5;241m.\u001B[39m_wrap_agged_manager(new_mgr)\n\u001B[1;32m   2000\u001B[0m \u001B[38;5;28;01mif\u001B[39;00m how \u001B[38;5;129;01min\u001B[39;00m [\u001B[38;5;124m\"\u001B[39m\u001B[38;5;124midxmin\u001B[39m\u001B[38;5;124m\"\u001B[39m, \u001B[38;5;124m\"\u001B[39m\u001B[38;5;124midxmax\u001B[39m\u001B[38;5;124m\"\u001B[39m]:\n",
      "File \u001B[0;32m~/Library/Python/3.9/lib/python/site-packages/pandas/core/internals/managers.py:1472\u001B[0m, in \u001B[0;36mBlockManager.grouped_reduce\u001B[0;34m(self, func)\u001B[0m\n\u001B[1;32m   1470\u001B[0m             result_blocks \u001B[38;5;241m=\u001B[39m extend_blocks(applied, result_blocks)\n\u001B[1;32m   1471\u001B[0m     \u001B[38;5;28;01melse\u001B[39;00m:\n\u001B[0;32m-> 1472\u001B[0m         applied \u001B[38;5;241m=\u001B[39m \u001B[43mblk\u001B[49m\u001B[38;5;241;43m.\u001B[39;49m\u001B[43mapply\u001B[49m\u001B[43m(\u001B[49m\u001B[43mfunc\u001B[49m\u001B[43m)\u001B[49m\n\u001B[1;32m   1473\u001B[0m         result_blocks \u001B[38;5;241m=\u001B[39m extend_blocks(applied, result_blocks)\n\u001B[1;32m   1475\u001B[0m \u001B[38;5;28;01mif\u001B[39;00m \u001B[38;5;28mlen\u001B[39m(result_blocks) \u001B[38;5;241m==\u001B[39m \u001B[38;5;241m0\u001B[39m:\n",
      "File \u001B[0;32m~/Library/Python/3.9/lib/python/site-packages/pandas/core/internals/blocks.py:393\u001B[0m, in \u001B[0;36mBlock.apply\u001B[0;34m(self, func, **kwargs)\u001B[0m\n\u001B[1;32m    387\u001B[0m \u001B[38;5;129m@final\u001B[39m\n\u001B[1;32m    388\u001B[0m \u001B[38;5;28;01mdef\u001B[39;00m \u001B[38;5;21mapply\u001B[39m(\u001B[38;5;28mself\u001B[39m, func, \u001B[38;5;241m*\u001B[39m\u001B[38;5;241m*\u001B[39mkwargs) \u001B[38;5;241m-\u001B[39m\u001B[38;5;241m>\u001B[39m \u001B[38;5;28mlist\u001B[39m[Block]:\n\u001B[1;32m    389\u001B[0m \u001B[38;5;250m    \u001B[39m\u001B[38;5;124;03m\"\"\"\u001B[39;00m\n\u001B[1;32m    390\u001B[0m \u001B[38;5;124;03m    apply the function to my values; return a block if we are not\u001B[39;00m\n\u001B[1;32m    391\u001B[0m \u001B[38;5;124;03m    one\u001B[39;00m\n\u001B[1;32m    392\u001B[0m \u001B[38;5;124;03m    \"\"\"\u001B[39;00m\n\u001B[0;32m--> 393\u001B[0m     result \u001B[38;5;241m=\u001B[39m \u001B[43mfunc\u001B[49m\u001B[43m(\u001B[49m\u001B[38;5;28;43mself\u001B[39;49m\u001B[38;5;241;43m.\u001B[39;49m\u001B[43mvalues\u001B[49m\u001B[43m,\u001B[49m\u001B[43m \u001B[49m\u001B[38;5;241;43m*\u001B[39;49m\u001B[38;5;241;43m*\u001B[39;49m\u001B[43mkwargs\u001B[49m\u001B[43m)\u001B[49m\n\u001B[1;32m    395\u001B[0m     result \u001B[38;5;241m=\u001B[39m maybe_coerce_values(result)\n\u001B[1;32m    396\u001B[0m     \u001B[38;5;28;01mreturn\u001B[39;00m \u001B[38;5;28mself\u001B[39m\u001B[38;5;241m.\u001B[39m_split_op_result(result)\n",
      "File \u001B[0;32m~/Library/Python/3.9/lib/python/site-packages/pandas/core/groupby/groupby.py:1973\u001B[0m, in \u001B[0;36mGroupBy._cython_agg_general.<locals>.array_func\u001B[0;34m(values)\u001B[0m\n\u001B[1;32m   1971\u001B[0m \u001B[38;5;28;01mdef\u001B[39;00m \u001B[38;5;21marray_func\u001B[39m(values: ArrayLike) \u001B[38;5;241m-\u001B[39m\u001B[38;5;241m>\u001B[39m ArrayLike:\n\u001B[1;32m   1972\u001B[0m     \u001B[38;5;28;01mtry\u001B[39;00m:\n\u001B[0;32m-> 1973\u001B[0m         result \u001B[38;5;241m=\u001B[39m \u001B[38;5;28;43mself\u001B[39;49m\u001B[38;5;241;43m.\u001B[39;49m\u001B[43m_grouper\u001B[49m\u001B[38;5;241;43m.\u001B[39;49m\u001B[43m_cython_operation\u001B[49m\u001B[43m(\u001B[49m\n\u001B[1;32m   1974\u001B[0m \u001B[43m            \u001B[49m\u001B[38;5;124;43m\"\u001B[39;49m\u001B[38;5;124;43maggregate\u001B[39;49m\u001B[38;5;124;43m\"\u001B[39;49m\u001B[43m,\u001B[49m\n\u001B[1;32m   1975\u001B[0m \u001B[43m            \u001B[49m\u001B[43mvalues\u001B[49m\u001B[43m,\u001B[49m\n\u001B[1;32m   1976\u001B[0m \u001B[43m            \u001B[49m\u001B[43mhow\u001B[49m\u001B[43m,\u001B[49m\n\u001B[1;32m   1977\u001B[0m \u001B[43m            \u001B[49m\u001B[43maxis\u001B[49m\u001B[38;5;241;43m=\u001B[39;49m\u001B[43mdata\u001B[49m\u001B[38;5;241;43m.\u001B[39;49m\u001B[43mndim\u001B[49m\u001B[43m \u001B[49m\u001B[38;5;241;43m-\u001B[39;49m\u001B[43m \u001B[49m\u001B[38;5;241;43m1\u001B[39;49m\u001B[43m,\u001B[49m\n\u001B[1;32m   1978\u001B[0m \u001B[43m            \u001B[49m\u001B[43mmin_count\u001B[49m\u001B[38;5;241;43m=\u001B[39;49m\u001B[43mmin_count\u001B[49m\u001B[43m,\u001B[49m\n\u001B[1;32m   1979\u001B[0m \u001B[43m            \u001B[49m\u001B[38;5;241;43m*\u001B[39;49m\u001B[38;5;241;43m*\u001B[39;49m\u001B[43mkwargs\u001B[49m\u001B[43m,\u001B[49m\n\u001B[1;32m   1980\u001B[0m \u001B[43m        \u001B[49m\u001B[43m)\u001B[49m\n\u001B[1;32m   1981\u001B[0m     \u001B[38;5;28;01mexcept\u001B[39;00m \u001B[38;5;167;01mNotImplementedError\u001B[39;00m:\n\u001B[1;32m   1982\u001B[0m         \u001B[38;5;66;03m# generally if we have numeric_only=False\u001B[39;00m\n\u001B[1;32m   1983\u001B[0m         \u001B[38;5;66;03m# and non-applicable functions\u001B[39;00m\n\u001B[1;32m   1984\u001B[0m         \u001B[38;5;66;03m# try to python agg\u001B[39;00m\n\u001B[1;32m   1985\u001B[0m         \u001B[38;5;66;03m# TODO: shouldn't min_count matter?\u001B[39;00m\n\u001B[1;32m   1986\u001B[0m         \u001B[38;5;66;03m# TODO: avoid special casing SparseArray here\u001B[39;00m\n\u001B[1;32m   1987\u001B[0m         \u001B[38;5;28;01mif\u001B[39;00m how \u001B[38;5;129;01min\u001B[39;00m [\u001B[38;5;124m\"\u001B[39m\u001B[38;5;124many\u001B[39m\u001B[38;5;124m\"\u001B[39m, \u001B[38;5;124m\"\u001B[39m\u001B[38;5;124mall\u001B[39m\u001B[38;5;124m\"\u001B[39m] \u001B[38;5;129;01mand\u001B[39;00m \u001B[38;5;28misinstance\u001B[39m(values, SparseArray):\n",
      "File \u001B[0;32m~/Library/Python/3.9/lib/python/site-packages/pandas/core/groupby/ops.py:831\u001B[0m, in \u001B[0;36mBaseGrouper._cython_operation\u001B[0;34m(self, kind, values, how, axis, min_count, **kwargs)\u001B[0m\n\u001B[1;32m    829\u001B[0m ids, _, _ \u001B[38;5;241m=\u001B[39m \u001B[38;5;28mself\u001B[39m\u001B[38;5;241m.\u001B[39mgroup_info\n\u001B[1;32m    830\u001B[0m ngroups \u001B[38;5;241m=\u001B[39m \u001B[38;5;28mself\u001B[39m\u001B[38;5;241m.\u001B[39mngroups\n\u001B[0;32m--> 831\u001B[0m \u001B[38;5;28;01mreturn\u001B[39;00m \u001B[43mcy_op\u001B[49m\u001B[38;5;241;43m.\u001B[39;49m\u001B[43mcython_operation\u001B[49m\u001B[43m(\u001B[49m\n\u001B[1;32m    832\u001B[0m \u001B[43m    \u001B[49m\u001B[43mvalues\u001B[49m\u001B[38;5;241;43m=\u001B[39;49m\u001B[43mvalues\u001B[49m\u001B[43m,\u001B[49m\n\u001B[1;32m    833\u001B[0m \u001B[43m    \u001B[49m\u001B[43maxis\u001B[49m\u001B[38;5;241;43m=\u001B[39;49m\u001B[43maxis\u001B[49m\u001B[43m,\u001B[49m\n\u001B[1;32m    834\u001B[0m \u001B[43m    \u001B[49m\u001B[43mmin_count\u001B[49m\u001B[38;5;241;43m=\u001B[39;49m\u001B[43mmin_count\u001B[49m\u001B[43m,\u001B[49m\n\u001B[1;32m    835\u001B[0m \u001B[43m    \u001B[49m\u001B[43mcomp_ids\u001B[49m\u001B[38;5;241;43m=\u001B[39;49m\u001B[43mids\u001B[49m\u001B[43m,\u001B[49m\n\u001B[1;32m    836\u001B[0m \u001B[43m    \u001B[49m\u001B[43mngroups\u001B[49m\u001B[38;5;241;43m=\u001B[39;49m\u001B[43mngroups\u001B[49m\u001B[43m,\u001B[49m\n\u001B[1;32m    837\u001B[0m \u001B[43m    \u001B[49m\u001B[38;5;241;43m*\u001B[39;49m\u001B[38;5;241;43m*\u001B[39;49m\u001B[43mkwargs\u001B[49m\u001B[43m,\u001B[49m\n\u001B[1;32m    838\u001B[0m \u001B[43m\u001B[49m\u001B[43m)\u001B[49m\n",
      "File \u001B[0;32m~/Library/Python/3.9/lib/python/site-packages/pandas/core/groupby/ops.py:541\u001B[0m, in \u001B[0;36mWrappedCythonOp.cython_operation\u001B[0;34m(self, values, axis, min_count, comp_ids, ngroups, **kwargs)\u001B[0m\n\u001B[1;32m    537\u001B[0m \u001B[38;5;28mself\u001B[39m\u001B[38;5;241m.\u001B[39m_validate_axis(axis, values)\n\u001B[1;32m    539\u001B[0m \u001B[38;5;28;01mif\u001B[39;00m \u001B[38;5;129;01mnot\u001B[39;00m \u001B[38;5;28misinstance\u001B[39m(values, np\u001B[38;5;241m.\u001B[39mndarray):\n\u001B[1;32m    540\u001B[0m     \u001B[38;5;66;03m# i.e. ExtensionArray\u001B[39;00m\n\u001B[0;32m--> 541\u001B[0m     \u001B[38;5;28;01mreturn\u001B[39;00m \u001B[43mvalues\u001B[49m\u001B[38;5;241;43m.\u001B[39;49m\u001B[43m_groupby_op\u001B[49m\u001B[43m(\u001B[49m\n\u001B[1;32m    542\u001B[0m \u001B[43m        \u001B[49m\u001B[43mhow\u001B[49m\u001B[38;5;241;43m=\u001B[39;49m\u001B[38;5;28;43mself\u001B[39;49m\u001B[38;5;241;43m.\u001B[39;49m\u001B[43mhow\u001B[49m\u001B[43m,\u001B[49m\n\u001B[1;32m    543\u001B[0m \u001B[43m        \u001B[49m\u001B[43mhas_dropped_na\u001B[49m\u001B[38;5;241;43m=\u001B[39;49m\u001B[38;5;28;43mself\u001B[39;49m\u001B[38;5;241;43m.\u001B[39;49m\u001B[43mhas_dropped_na\u001B[49m\u001B[43m,\u001B[49m\n\u001B[1;32m    544\u001B[0m \u001B[43m        \u001B[49m\u001B[43mmin_count\u001B[49m\u001B[38;5;241;43m=\u001B[39;49m\u001B[43mmin_count\u001B[49m\u001B[43m,\u001B[49m\n\u001B[1;32m    545\u001B[0m \u001B[43m        \u001B[49m\u001B[43mngroups\u001B[49m\u001B[38;5;241;43m=\u001B[39;49m\u001B[43mngroups\u001B[49m\u001B[43m,\u001B[49m\n\u001B[1;32m    546\u001B[0m \u001B[43m        \u001B[49m\u001B[43mids\u001B[49m\u001B[38;5;241;43m=\u001B[39;49m\u001B[43mcomp_ids\u001B[49m\u001B[43m,\u001B[49m\n\u001B[1;32m    547\u001B[0m \u001B[43m        \u001B[49m\u001B[38;5;241;43m*\u001B[39;49m\u001B[38;5;241;43m*\u001B[39;49m\u001B[43mkwargs\u001B[49m\u001B[43m,\u001B[49m\n\u001B[1;32m    548\u001B[0m \u001B[43m    \u001B[49m\u001B[43m)\u001B[49m\n\u001B[1;32m    550\u001B[0m \u001B[38;5;28;01mreturn\u001B[39;00m \u001B[38;5;28mself\u001B[39m\u001B[38;5;241m.\u001B[39m_cython_op_ndim_compat(\n\u001B[1;32m    551\u001B[0m     values,\n\u001B[1;32m    552\u001B[0m     min_count\u001B[38;5;241m=\u001B[39mmin_count,\n\u001B[0;32m   (...)\u001B[0m\n\u001B[1;32m    556\u001B[0m     \u001B[38;5;241m*\u001B[39m\u001B[38;5;241m*\u001B[39mkwargs,\n\u001B[1;32m    557\u001B[0m )\n",
      "File \u001B[0;32m~/Library/Python/3.9/lib/python/site-packages/pandas/core/arrays/datetimelike.py:1671\u001B[0m, in \u001B[0;36mDatetimeLikeArrayMixin._groupby_op\u001B[0;34m(self, how, has_dropped_na, min_count, ngroups, ids, **kwargs)\u001B[0m\n\u001B[1;32m   1668\u001B[0m \u001B[38;5;28;01mif\u001B[39;00m dtype\u001B[38;5;241m.\u001B[39mkind \u001B[38;5;241m==\u001B[39m \u001B[38;5;124m\"\u001B[39m\u001B[38;5;124mM\u001B[39m\u001B[38;5;124m\"\u001B[39m:\n\u001B[1;32m   1669\u001B[0m     \u001B[38;5;66;03m# Adding/multiplying datetimes is not valid\u001B[39;00m\n\u001B[1;32m   1670\u001B[0m     \u001B[38;5;28;01mif\u001B[39;00m how \u001B[38;5;129;01min\u001B[39;00m [\u001B[38;5;124m\"\u001B[39m\u001B[38;5;124msum\u001B[39m\u001B[38;5;124m\"\u001B[39m, \u001B[38;5;124m\"\u001B[39m\u001B[38;5;124mprod\u001B[39m\u001B[38;5;124m\"\u001B[39m, \u001B[38;5;124m\"\u001B[39m\u001B[38;5;124mcumsum\u001B[39m\u001B[38;5;124m\"\u001B[39m, \u001B[38;5;124m\"\u001B[39m\u001B[38;5;124mcumprod\u001B[39m\u001B[38;5;124m\"\u001B[39m, \u001B[38;5;124m\"\u001B[39m\u001B[38;5;124mvar\u001B[39m\u001B[38;5;124m\"\u001B[39m, \u001B[38;5;124m\"\u001B[39m\u001B[38;5;124mskew\u001B[39m\u001B[38;5;124m\"\u001B[39m]:\n\u001B[0;32m-> 1671\u001B[0m         \u001B[38;5;28;01mraise\u001B[39;00m \u001B[38;5;167;01mTypeError\u001B[39;00m(\u001B[38;5;124mf\u001B[39m\u001B[38;5;124m\"\u001B[39m\u001B[38;5;124mdatetime64 type does not support \u001B[39m\u001B[38;5;132;01m{\u001B[39;00mhow\u001B[38;5;132;01m}\u001B[39;00m\u001B[38;5;124m operations\u001B[39m\u001B[38;5;124m\"\u001B[39m)\n\u001B[1;32m   1672\u001B[0m     \u001B[38;5;28;01mif\u001B[39;00m how \u001B[38;5;129;01min\u001B[39;00m [\u001B[38;5;124m\"\u001B[39m\u001B[38;5;124many\u001B[39m\u001B[38;5;124m\"\u001B[39m, \u001B[38;5;124m\"\u001B[39m\u001B[38;5;124mall\u001B[39m\u001B[38;5;124m\"\u001B[39m]:\n\u001B[1;32m   1673\u001B[0m         \u001B[38;5;66;03m# GH#34479\u001B[39;00m\n\u001B[1;32m   1674\u001B[0m         warnings\u001B[38;5;241m.\u001B[39mwarn(\n\u001B[1;32m   1675\u001B[0m             \u001B[38;5;124mf\u001B[39m\u001B[38;5;124m\"\u001B[39m\u001B[38;5;124m'\u001B[39m\u001B[38;5;132;01m{\u001B[39;00mhow\u001B[38;5;132;01m}\u001B[39;00m\u001B[38;5;124m'\u001B[39m\u001B[38;5;124m with datetime64 dtypes is deprecated and will raise in a \u001B[39m\u001B[38;5;124m\"\u001B[39m\n\u001B[1;32m   1676\u001B[0m             \u001B[38;5;124mf\u001B[39m\u001B[38;5;124m\"\u001B[39m\u001B[38;5;124mfuture version. Use (obj != pd.Timestamp(0)).\u001B[39m\u001B[38;5;132;01m{\u001B[39;00mhow\u001B[38;5;132;01m}\u001B[39;00m\u001B[38;5;124m() instead.\u001B[39m\u001B[38;5;124m\"\u001B[39m,\n\u001B[1;32m   1677\u001B[0m             \u001B[38;5;167;01mFutureWarning\u001B[39;00m,\n\u001B[1;32m   1678\u001B[0m             stacklevel\u001B[38;5;241m=\u001B[39mfind_stack_level(),\n\u001B[1;32m   1679\u001B[0m         )\n",
      "\u001B[0;31mTypeError\u001B[0m: datetime64 type does not support sum operations"
     ]
    }
   ],
   "execution_count": 12
  },
  {
   "cell_type": "code",
   "source": "plt.figure(figsize = (15,5)) # width and height of figure is defined in inches\nplt.title(\"Most Valuable Customers (2015-2019)\", fontsize=18) \nplt.bar(Top_customers[\"Customer Name\"], Top_customers[\"Sales\"],color= '#99ff99',edgecolor='green', linewidth = 1)\nplt.xlabel(\"Customers\",fontsize=15) # x axis shows the customers \nplt.ylabel(\"Revenue\",fontsize=15) # y axis shows the Revenue\nplt.xticks(fontsize=12, rotation=90)\nplt.yticks(fontsize=12)\nfor k,v in Top_customers[\"Sales\"].items(): #To show the exact revenue generated on the figure\n    plt.text(k,v-8000,'$'+ str(v), fontsize=12,rotation=90,color='k', horizontalalignment='center');",
   "metadata": {
    "execution": {
     "iopub.execute_input": "2020-09-06T08:47:42.889524Z",
     "iopub.status.busy": "2020-09-06T08:47:42.888532Z",
     "iopub.status.idle": "2020-09-06T08:47:43.284104Z",
     "shell.execute_reply": "2020-09-06T08:47:43.284652Z"
    },
    "papermill": {
     "duration": 0.421751,
     "end_time": "2020-09-06T08:47:43.284787",
     "exception": false,
     "start_time": "2020-09-06T08:47:42.863036",
     "status": "completed"
    },
    "tags": [],
    "trusted": true,
    "ExecuteTime": {
     "end_time": "2024-05-06T13:52:39.444827Z",
     "start_time": "2024-05-06T13:52:39.444716Z"
    }
   },
   "outputs": [],
   "execution_count": null
  },
  {
   "cell_type": "markdown",
   "source": "**<h3>Let's find out which states generated the highest revenue!</h3>**\n\nHere are the Top 10 States which generated the highest revenue",
   "metadata": {
    "papermill": {
     "duration": 0.012264,
     "end_time": "2020-09-06T08:47:43.309554",
     "exception": false,
     "start_time": "2020-09-06T08:47:43.29729",
     "status": "completed"
    },
    "tags": []
   }
  },
  {
   "cell_type": "code",
   "source": "Top_states = df.groupby([\"State\"]).sum().sort_values(\"Sales\", ascending=False).head(20) # Sort the States as per the sales\nTop_states = Top_states[[\"Sales\"]].round(2) # Round off the Sales Value up to 2 decimal places\nTop_states.reset_index(inplace=True) # Since we have used groupby, we will have to reset the index to add the states into dataframe",
   "metadata": {
    "execution": {
     "iopub.execute_input": "2020-09-06T08:47:43.343956Z",
     "iopub.status.busy": "2020-09-06T08:47:43.343143Z",
     "iopub.status.idle": "2020-09-06T08:47:43.360084Z",
     "shell.execute_reply": "2020-09-06T08:47:43.359444Z"
    },
    "papermill": {
     "duration": 0.037905,
     "end_time": "2020-09-06T08:47:43.360238",
     "exception": false,
     "start_time": "2020-09-06T08:47:43.322333",
     "status": "completed"
    },
    "tags": [],
    "trusted": true
   },
   "outputs": [],
   "execution_count": null
  },
  {
   "cell_type": "code",
   "source": "plt.figure(figsize = (15,5)) # width and height of figure is defined in inches\nplt.title(\"States which generated Highest Revenue (2015-2019)\", fontsize=18) \nplt.bar(Top_states[\"State\"], Top_states[\"Sales\"],color= '#FF6F61',edgecolor='Red', linewidth = 1)\nplt.xlabel(\"States\",fontsize=15) # x axis shows the States\nplt.ylabel(\"Revenue\",fontsize=15) # y axis shows the Revenue\nplt.xticks(fontsize=12, rotation=90)\nplt.yticks(fontsize=12)\nfor k,v in Top_states[\"Sales\"].items(): #To show the exact revenue generated on the figure\n    if v>400000:\n        plt.text(k,v-150000,'$'+ str(v), fontsize=12,rotation=90,color='k', horizontalalignment='center');\n    else:\n        plt.text(k,v+15000,'$'+ str(v), fontsize=12,rotation=90,color='k', horizontalalignment='center');",
   "metadata": {
    "execution": {
     "iopub.execute_input": "2020-09-06T08:47:43.416338Z",
     "iopub.status.busy": "2020-09-06T08:47:43.393951Z",
     "iopub.status.idle": "2020-09-06T08:47:43.718248Z",
     "shell.execute_reply": "2020-09-06T08:47:43.718726Z"
    },
    "papermill": {
     "duration": 0.346129,
     "end_time": "2020-09-06T08:47:43.718859",
     "exception": false,
     "start_time": "2020-09-06T08:47:43.37273",
     "status": "completed"
    },
    "tags": [],
    "trusted": true
   },
   "outputs": [],
   "execution_count": null
  },
  {
   "cell_type": "markdown",
   "source": "**<h3>Let's find out which cities generated highest revenue!</h3>**\n\nHere are the top 10 cities which generated the highest revenue",
   "metadata": {
    "papermill": {
     "duration": 0.01256,
     "end_time": "2020-09-06T08:47:43.746483",
     "exception": false,
     "start_time": "2020-09-06T08:47:43.733923",
     "status": "completed"
    },
    "tags": []
   }
  },
  {
   "cell_type": "code",
   "source": "Top_cities = df.groupby([\"City\"]).sum().sort_values(\"Sales\", ascending=False).head(20) # Sort the States as per the sales\nTop_cities = Top_cities[[\"Sales\"]].round(2) # Round off the Sales Value up to 2 decimal places\nTop_cities.reset_index(inplace=True) # Since we have used groupby, we will have to reset the index to add the cities into the dataframe",
   "metadata": {
    "execution": {
     "iopub.execute_input": "2020-09-06T08:47:43.784345Z",
     "iopub.status.busy": "2020-09-06T08:47:43.783547Z",
     "iopub.status.idle": "2020-09-06T08:47:43.795711Z",
     "shell.execute_reply": "2020-09-06T08:47:43.79641Z"
    },
    "papermill": {
     "duration": 0.03752,
     "end_time": "2020-09-06T08:47:43.796592",
     "exception": false,
     "start_time": "2020-09-06T08:47:43.759072",
     "status": "completed"
    },
    "tags": [],
    "trusted": true
   },
   "outputs": [],
   "execution_count": null
  },
  {
   "cell_type": "code",
   "source": "plt.figure(figsize = (15,5)) # width and height of figure is defined in inches\nplt.title(\"Cities which generated Highest Revenue (2015-2019)\", fontsize=18)\nplt.bar(Top_cities[\"City\"], Top_cities[\"Sales\"],color= '#95DEE3',edgecolor='blue', linewidth = 1)\nplt.xlabel(\"Cities\",fontsize=15)  # x axis shows the States\nplt.ylabel(\"Revenue\",fontsize=15)  # y axis shows the Revenue\nplt.xticks(fontsize=12, rotation=90)\nplt.yticks(fontsize=12)\nfor k,v in Top_cities[\"Sales\"].items(): #To show the exact revenue generated on the figure\n    if v>250000:\n        plt.text(k,v-75000,'$'+ str(v), fontsize=12,rotation=90,color='k', horizontalalignment='center');\n    else:\n        plt.text(k,v+15000,'$'+ str(v), fontsize=12,rotation=90,color='k', horizontalalignment='center');",
   "metadata": {
    "execution": {
     "iopub.execute_input": "2020-09-06T08:47:43.858502Z",
     "iopub.status.busy": "2020-09-06T08:47:43.850295Z",
     "iopub.status.idle": "2020-09-06T08:47:44.214008Z",
     "shell.execute_reply": "2020-09-06T08:47:44.213254Z"
    },
    "papermill": {
     "duration": 0.39807,
     "end_time": "2020-09-06T08:47:44.214168",
     "exception": false,
     "start_time": "2020-09-06T08:47:43.816098",
     "status": "completed"
    },
    "tags": [],
    "trusted": true
   },
   "outputs": [],
   "execution_count": null
  },
  {
   "cell_type": "markdown",
   "source": "**<h3>Let's look at the revenue generated by each category!</h3>**",
   "metadata": {
    "papermill": {
     "duration": 0.020009,
     "end_time": "2020-09-06T08:47:44.255683",
     "exception": false,
     "start_time": "2020-09-06T08:47:44.235674",
     "status": "completed"
    },
    "tags": []
   }
  },
  {
   "cell_type": "code",
   "source": "Top_category = df.groupby([\"Category\"]).sum().sort_values(\"Sales\", ascending=False)  # Sort the Categories as per the sales\nTop_category = Top_category[[\"Sales\"]] # keep only the sales column in the dataframe\ntotal_revenue_category = Top_category[\"Sales\"].sum() # To find the total revenue generated as per category\ntotal_revenue_category = str(int(total_revenue_category)) # Convert the total_revenue_category from float to int and then to string\ntotal_revenue_category = '$' + total_revenue_category # Adding '$' sign before the Value\nTop_category.reset_index(inplace=True) # Since we have used groupby, we will have to reset the index to add the category into the dataframe",
   "metadata": {
    "execution": {
     "iopub.execute_input": "2020-09-06T08:47:44.325585Z",
     "iopub.status.busy": "2020-09-06T08:47:44.314437Z",
     "iopub.status.idle": "2020-09-06T08:47:44.329223Z",
     "shell.execute_reply": "2020-09-06T08:47:44.329811Z"
    },
    "papermill": {
     "duration": 0.054496,
     "end_time": "2020-09-06T08:47:44.329978",
     "exception": false,
     "start_time": "2020-09-06T08:47:44.275482",
     "status": "completed"
    },
    "tags": [],
    "trusted": true
   },
   "outputs": [],
   "execution_count": null
  },
  {
   "cell_type": "code",
   "source": "plt.rcParams[\"figure.figsize\"] = (13,5) # width and height of figure is defined in inches\nplt.rcParams['font.size'] = 12.0 # Font size is defined\nplt.rcParams['font.weight'] = 6 # Font weight is defined\n# we don't want to look at the percentage distribution in the pie chart. Instead, we want to look at the exact revenue generated by the categories.\ndef autopct_format(values): \n    def my_format(pct): \n        total = sum(values) \n        val = int(round(pct*total/100.0))\n        return ' ${v:d}'.format(v=val)\n    return my_format\ncolors = ['#BC243C','#FE840E','#C62168'] # Colors are defined for the pie chart\nexplode = (0.05,0.05,0.05)\nfig1, ax1 = plt.subplots()\nax1.pie(Top_category['Sales'], colors = colors, labels=Top_category['Category'], autopct= autopct_format(Top_category['Sales']), startangle=90,explode=explode)\ncentre_circle = plt.Circle((0,0),0.82,fc='white') # drawing a circle on the pie chart to make it look better \nfig = plt.gcf()\nfig.gca().add_artist(centre_circle) # Add the circle on the pie chart\n# Equal aspect ratio ensures that pie is drawn as a circle\nax1.axis('equal') \n# we can look the total revenue generated by all the categories at the center\nlabel = ax1.annotate('Total Revenue \\n'+str(total_revenue_category),color = 'red', xy=(0, 0), fontsize=12, ha=\"center\")\nplt.tight_layout()\nplt.show()",
   "metadata": {
    "execution": {
     "iopub.execute_input": "2020-09-06T08:47:44.38641Z",
     "iopub.status.busy": "2020-09-06T08:47:44.382269Z",
     "iopub.status.idle": "2020-09-06T08:47:44.579039Z",
     "shell.execute_reply": "2020-09-06T08:47:44.577659Z"
    },
    "papermill": {
     "duration": 0.230292,
     "end_time": "2020-09-06T08:47:44.579463",
     "exception": false,
     "start_time": "2020-09-06T08:47:44.349171",
     "status": "completed"
    },
    "tags": [],
    "trusted": true
   },
   "outputs": [],
   "execution_count": null
  },
  {
   "cell_type": "markdown",
   "source": "We can see that <i><b>Category - Technology</b></i> generated the highest revenue of about <b>$827426!</b><br>\n\nThe <b>Total Revenue</b> generated by all the categories - <b>$2261536!</b>",
   "metadata": {
    "papermill": {
     "duration": 0.021868,
     "end_time": "2020-09-06T08:47:44.65163",
     "exception": false,
     "start_time": "2020-09-06T08:47:44.629762",
     "status": "completed"
    },
    "tags": []
   }
  },
  {
   "cell_type": "markdown",
   "source": "**<h3> Which products contributed most to the revenue? </h3>**",
   "metadata": {
    "papermill": {
     "duration": 0.021872,
     "end_time": "2020-09-06T08:47:44.695048",
     "exception": false,
     "start_time": "2020-09-06T08:47:44.673176",
     "status": "completed"
    },
    "tags": []
   }
  },
  {
   "cell_type": "code",
   "source": "Top_products = df.groupby([\"Product Name\"]).sum().sort_values(\"Sales\",ascending=False).head(8) # Sort the product names as per the sales\nTop_products = Top_products[[\"Sales\"]].round(2) # Round off the Sales Value up to 2 decimal places\nTop_products.reset_index(inplace=True) # Since we have used groupby, we will have to reset the index to add the product names into the dataframe\ntotal_revenue_products = Top_products[\"Sales\"].sum() # To find the total revenue generated by all the top products\ntotal_revenue_products = str(int(total_revenue_products)) # Convert the total_revenue_products from float to int and then to string\ntotal_revenue_products = '$' + total_revenue_products # Adding '$' sign before the Value",
   "metadata": {
    "execution": {
     "iopub.execute_input": "2020-09-06T08:47:44.751212Z",
     "iopub.status.busy": "2020-09-06T08:47:44.750163Z",
     "iopub.status.idle": "2020-09-06T08:47:44.762489Z",
     "shell.execute_reply": "2020-09-06T08:47:44.761728Z"
    },
    "papermill": {
     "duration": 0.044725,
     "end_time": "2020-09-06T08:47:44.762619",
     "exception": false,
     "start_time": "2020-09-06T08:47:44.717894",
     "status": "completed"
    },
    "tags": [],
    "trusted": true
   },
   "outputs": [],
   "execution_count": null
  },
  {
   "cell_type": "code",
   "source": "plt.rcParams[\"figure.figsize\"] = (13,7) # width and height of figure is defined in inches\nplt.rcParams['font.size'] = 12.0 # Font size is defined for the figure\ncolors = ['#ff9999','#66b3ff','#99ff99','#ffcc99','#55B4B0','#E15D44','#009B77','#B565A7'] # colors are defined for the pie chart\nexplode = (0.05,0.05,0.05,0.05,0.05,0.05,0.05,0.05)\nfig1, ax1 = plt.subplots()\nax1.pie(Top_products['Sales'], colors = colors, labels=Top_products['Product Name'], autopct= autopct_format(Top_products['Sales']), startangle=90,explode=explode)\ncentre_circle = plt.Circle((0,0),0.80,fc='white') # Draw a circle on the pie chart\nfig = plt.gcf()\nfig.gca().add_artist(centre_circle)\n# Equal aspect ratio ensures that pie is drawn as a circle\nax1.axis('equal')  \nlabel = ax1.annotate('Total Revenue \\n of these products \\n'+str(total_revenue_products),color = 'red', xy=(0, 0), fontsize=12, ha=\"center\")\nplt.tight_layout()\nplt.show()",
   "metadata": {
    "execution": {
     "iopub.execute_input": "2020-09-06T08:47:44.81859Z",
     "iopub.status.busy": "2020-09-06T08:47:44.815765Z",
     "iopub.status.idle": "2020-09-06T08:47:45.098408Z",
     "shell.execute_reply": "2020-09-06T08:47:45.097558Z"
    },
    "papermill": {
     "duration": 0.313781,
     "end_time": "2020-09-06T08:47:45.098536",
     "exception": false,
     "start_time": "2020-09-06T08:47:44.784755",
     "status": "completed"
    },
    "tags": [],
    "trusted": true
   },
   "outputs": [],
   "execution_count": null
  },
  {
   "cell_type": "markdown",
   "source": "We can see that <i><b>Product - Canon imageCLASS 2200 Advanced Copier</b></i> generated the highest revenue of about <b>$61600!</b><br>\n\nThe <b>Total Revenue</b> generated by all these products - <b>$209624!</b>",
   "metadata": {
    "papermill": {
     "duration": 0.022101,
     "end_time": "2020-09-06T08:47:45.144916",
     "exception": false,
     "start_time": "2020-09-06T08:47:45.122815",
     "status": "completed"
    },
    "tags": []
   }
  },
  {
   "cell_type": "markdown",
   "source": "<h3><b>Let's look at the revenue generated by each Sub-Category!<h3****>",
   "metadata": {
    "papermill": {
     "duration": 0.021721,
     "end_time": "2020-09-06T08:47:45.188604",
     "exception": false,
     "start_time": "2020-09-06T08:47:45.166883",
     "status": "completed"
    },
    "tags": []
   }
  },
  {
   "cell_type": "code",
   "source": "# Sort both category and  sub category as per the sales\nTop_subcat = df.groupby(['Category','Sub-Category']).sum().sort_values(\"Sales\", ascending=False).head(10)\nTop_subcat = Top_subcat[[\"Sales\"]].astype(int) # Cast Sales column to integer data type\nTop_subcat = Top_subcat.sort_values(\"Category\") # Sort the values as per Category\nTop_subcat.reset_index(inplace=True) # Since we have used groupby, we will have to reset the index to add both columns into data frame\nTop_subcat_1 = Top_subcat.groupby(['Category']).sum() # Calculated the total Sales of all the categories\nTop_subcat_1.reset_index(inplace=True) # Reset the index",
   "metadata": {
    "execution": {
     "iopub.execute_input": "2020-09-06T08:47:45.244805Z",
     "iopub.status.busy": "2020-09-06T08:47:45.243702Z",
     "iopub.status.idle": "2020-09-06T08:47:45.257936Z",
     "shell.execute_reply": "2020-09-06T08:47:45.257211Z"
    },
    "papermill": {
     "duration": 0.047362,
     "end_time": "2020-09-06T08:47:45.258071",
     "exception": false,
     "start_time": "2020-09-06T08:47:45.210709",
     "status": "completed"
    },
    "tags": [],
    "trusted": true
   },
   "outputs": [],
   "execution_count": null
  },
  {
   "cell_type": "code",
   "source": "plt.rcParams[\"figure.figsize\"] = (15,10) # width and height of figure is defined in inches\nfig, ax = plt.subplots()\nax.axis('equal') # Equal aspect ratio ensures that pie is drawn as a circle\nwidth = 0.1\nouter_colors = ['#FE840E','#009B77','#BC243C'] # Outer colors of the pie chart\ninner_colors = ['Orangered','tomato','coral',\"darkturquoise\",\"mediumturquoise\",\"paleturquoise\",\"lightpink\",\"pink\",\"hotpink\",\"deeppink\"] # inner colors of the pie chart\npie = ax.pie(Top_subcat_1['Sales'], radius=1, labels=Top_subcat_1['Category'],colors=outer_colors,wedgeprops=dict(edgecolor='w'))\npie2 = ax.pie(Top_subcat['Sales'], radius=1-width, labels=Top_subcat['Sub-Category'],autopct= autopct_format(Top_subcat['Sales']),labeldistance=0.7,colors=inner_colors,wedgeprops=dict(edgecolor='w'), pctdistance=0.53,rotatelabels =True)\n# Rotate fractions\n# [0] = wedges, [1] = labels, [2] = fractions\nfraction_text_list = pie2[2]\nfor text in fraction_text_list: \n    text.set_rotation(315) # rotate the autopct values\ncentre_circle = plt.Circle((0,0),0.6,fc='white') # Draw a circle on the pie chart\nfig = plt.gcf()\nfig.gca().add_artist(centre_circle)\n# Equal aspect ratio ensures that pie is drawn as a circle\nax1.axis('equal')  \nplt.tight_layout()\nplt.show()",
   "metadata": {
    "execution": {
     "iopub.execute_input": "2020-09-06T08:47:45.32707Z",
     "iopub.status.busy": "2020-09-06T08:47:45.32152Z",
     "iopub.status.idle": "2020-09-06T08:47:45.549464Z",
     "shell.execute_reply": "2020-09-06T08:47:45.550168Z"
    },
    "papermill": {
     "duration": 0.268903,
     "end_time": "2020-09-06T08:47:45.550333",
     "exception": false,
     "start_time": "2020-09-06T08:47:45.28143",
     "status": "completed"
    },
    "tags": [],
    "trusted": true
   },
   "outputs": [],
   "execution_count": null
  },
  {
   "cell_type": "markdown",
   "source": "We can see that <i><b>Sub-Category - Phones</b></i> generated the highest revenue of about <b>$327782!</b><br>",
   "metadata": {
    "papermill": {
     "duration": 0.032965,
     "end_time": "2020-09-06T08:47:45.609001",
     "exception": false,
     "start_time": "2020-09-06T08:47:45.576036",
     "status": "completed"
    },
    "tags": []
   }
  },
  {
   "cell_type": "markdown",
   "source": "<h3><b>Which Segment has the highest sales?</h3>",
   "metadata": {
    "papermill": {
     "duration": 0.024834,
     "end_time": "2020-09-06T08:47:45.657344",
     "exception": false,
     "start_time": "2020-09-06T08:47:45.63251",
     "status": "completed"
    },
    "tags": []
   }
  },
  {
   "cell_type": "code",
   "source": "Top_segment = df.groupby([\"Segment\"]).sum().sort_values(\"Sales\", ascending=False) # Sort the segment as per the sales\nTop_segment = Top_segment[[\"Sales\"]] # keep only the sales column in the dataframe\nTop_segment.reset_index(inplace=True) # Since we have used groupby, we will have to reset the index to add the segment column into the data frame\ntotal_revenue_segement = Top_segment[\"Sales\"].sum() # To find the total revenue generated as per segment\ntotal_revenue_segement = str(int(total_revenue_segement)) # Convert the total_revenue_segment from float to int and then to string\ntotal_revenue_segement= '$' + total_revenue_segement # Adding '$' sign before the Value",
   "metadata": {
    "execution": {
     "iopub.execute_input": "2020-09-06T08:47:45.716002Z",
     "iopub.status.busy": "2020-09-06T08:47:45.713645Z",
     "iopub.status.idle": "2020-09-06T08:47:45.725929Z",
     "shell.execute_reply": "2020-09-06T08:47:45.725395Z"
    },
    "papermill": {
     "duration": 0.045123,
     "end_time": "2020-09-06T08:47:45.72604",
     "exception": false,
     "start_time": "2020-09-06T08:47:45.680917",
     "status": "completed"
    },
    "tags": [],
    "trusted": true
   },
   "outputs": [],
   "execution_count": null
  },
  {
   "cell_type": "code",
   "source": "plt.rcParams[\"figure.figsize\"] = (13,5) # width and height of figure is defined in inches\nplt.rcParams['font.size'] = 12.0 # Font size is defined\nplt.rcParams['font.weight'] = 6 # Font weight is defined\ncolors = ['#BC243C','#FE840E','#C62168'] # Colors are defined for the pie chart\nexplode = (0.05,0.05,0.05)\nfig1, ax1 = plt.subplots()\nax1.pie(Top_segment['Sales'], colors = colors, labels=Top_segment['Segment'], autopct= autopct_format(Top_segment['Sales']),startangle=90,explode=explode)\ncentre_circle = plt.Circle((0,0),0.85,fc='white') # Draw a circle on the pie chart\nfig = plt.gcf()\nfig.gca().add_artist(centre_circle)\n# Equal aspect ratio ensures that pie is drawn as a circle\nax1.axis('equal') \nlabel = ax1.annotate('Total Revenue \\n'+str(total_revenue_segement),color = 'red', xy=(0, 0), fontsize=12, ha=\"center\")\nplt.tight_layout()\nplt.show()",
   "metadata": {
    "execution": {
     "iopub.execute_input": "2020-09-06T08:47:45.774164Z",
     "iopub.status.busy": "2020-09-06T08:47:45.773248Z",
     "iopub.status.idle": "2020-09-06T08:47:45.879662Z",
     "shell.execute_reply": "2020-09-06T08:47:45.879092Z"
    },
    "papermill": {
     "duration": 0.13675,
     "end_time": "2020-09-06T08:47:45.879767",
     "exception": false,
     "start_time": "2020-09-06T08:47:45.743017",
     "status": "completed"
    },
    "tags": [],
    "trusted": true
   },
   "outputs": [],
   "execution_count": null
  },
  {
   "cell_type": "markdown",
   "source": "We can see that <i><b>Segment - Consumer</b></i> generated the highest revenue of about <b>$1148061!</b><br>\n\nThe <b>Total Revenue</b> generated by all the segments - <b>$209624!</b>",
   "metadata": {
    "papermill": {
     "duration": 0.016679,
     "end_time": "2020-09-06T08:47:45.913893",
     "exception": false,
     "start_time": "2020-09-06T08:47:45.897214",
     "status": "completed"
    },
    "tags": []
   }
  },
  {
   "cell_type": "markdown",
   "source": "<h3><b>Which Region has the highest sales?</h3>\n",
   "metadata": {
    "papermill": {
     "duration": 0.016291,
     "end_time": "2020-09-06T08:47:45.946912",
     "exception": false,
     "start_time": "2020-09-06T08:47:45.930621",
     "status": "completed"
    },
    "tags": []
   }
  },
  {
   "cell_type": "code",
   "source": "Top_region = df.groupby([\"Region\"]).sum().sort_values(\"Sales\", ascending=False) # Sort the Region as per the sales\nTop_region = Top_region[[\"Sales\"]].astype(int) # Cast Sales column to integer data type\nTop_region.reset_index(inplace=True) # Since we have used groupby, we will have to reset the index to add the Region column into the data frame",
   "metadata": {
    "execution": {
     "iopub.execute_input": "2020-09-06T08:47:45.991535Z",
     "iopub.status.busy": "2020-09-06T08:47:45.989288Z",
     "iopub.status.idle": "2020-09-06T08:47:46.000908Z",
     "shell.execute_reply": "2020-09-06T08:47:46.000073Z"
    },
    "papermill": {
     "duration": 0.037359,
     "end_time": "2020-09-06T08:47:46.001038",
     "exception": false,
     "start_time": "2020-09-06T08:47:45.963679",
     "status": "completed"
    },
    "tags": [],
    "trusted": true
   },
   "outputs": [],
   "execution_count": null
  },
  {
   "cell_type": "code",
   "source": "plt.figure(figsize = (10,5)) # width and height of figure is defined in inches\nplt.title(\"Region-wise Revenue Generation\", fontsize=18)\nplt.bar(Top_region[\"Region\"], Top_region[\"Sales\"],color= '#FF6F61',edgecolor='Red', linewidth = 1)\nplt.xlabel(\"Region\",fontsize=15) # x axis shows the Region \nplt.ylabel(\"Revenue\",fontsize=15) # y axis show the Revenue generated\nplt.xticks(fontsize=12, rotation=90)\nplt.yticks(fontsize=12)\nfor k,v in Top_region[\"Sales\"].items(): #To show the exact revenue generated on the figure\n        plt.text(k,v-150000,'$'+ str(v), fontsize=12,color='k', horizontalalignment='center');",
   "metadata": {
    "execution": {
     "iopub.execute_input": "2020-09-06T08:47:46.077543Z",
     "iopub.status.busy": "2020-09-06T08:47:46.061035Z",
     "iopub.status.idle": "2020-09-06T08:47:46.249592Z",
     "shell.execute_reply": "2020-09-06T08:47:46.248722Z"
    },
    "papermill": {
     "duration": 0.223478,
     "end_time": "2020-09-06T08:47:46.249721",
     "exception": false,
     "start_time": "2020-09-06T08:47:46.026243",
     "status": "completed"
    },
    "tags": [],
    "trusted": true
   },
   "outputs": [],
   "execution_count": null
  },
  {
   "cell_type": "markdown",
   "source": "<h3>Which shipping mode has the highest sales?</h3>",
   "metadata": {
    "papermill": {
     "duration": 0.024861,
     "end_time": "2020-09-06T08:47:46.29987",
     "exception": false,
     "start_time": "2020-09-06T08:47:46.275009",
     "status": "completed"
    },
    "tags": []
   }
  },
  {
   "cell_type": "code",
   "source": "Top_shipping = df.groupby([\"Ship Mode\"]).sum().sort_values(\"Sales\", ascending=False) # Sort the Shipping modes as per the sales\nTop_shipping = Top_shipping[[\"Sales\"]] # keep only the sales column in the dataframe\nTop_shipping.reset_index(inplace=True) # Since we have used groupby, we will have to reset the index to add the Ship Mode column into the data frame\ntotal_revenue_ship = Top_segment[\"Sales\"].sum() # To find the total revenue generated as per shipping mode\ntotal_revenue_ship = str(int(total_revenue_ship)) # Convert the total_revenue_ship from float to int and then to string\ntotal_revenue_ship = '$' + total_revenue_ship # Adding '$' sign before the Value",
   "metadata": {
    "execution": {
     "iopub.execute_input": "2020-09-06T08:47:46.361808Z",
     "iopub.status.busy": "2020-09-06T08:47:46.360974Z",
     "iopub.status.idle": "2020-09-06T08:47:46.370066Z",
     "shell.execute_reply": "2020-09-06T08:47:46.369372Z"
    },
    "papermill": {
     "duration": 0.045673,
     "end_time": "2020-09-06T08:47:46.370232",
     "exception": false,
     "start_time": "2020-09-06T08:47:46.324559",
     "status": "completed"
    },
    "tags": [],
    "trusted": true
   },
   "outputs": [],
   "execution_count": null
  },
  {
   "cell_type": "code",
   "source": "plt.rcParams[\"figure.figsize\"] = (13,5) # width and height of figure is defined in inches\nplt.rcParams['font.size'] = 12.0 # Font size is defined\nplt.rcParams['font.weight'] = 6 # Font weight is defined\ncolors = ['#BC243C','#FE840E','#C62168',\"limegreen\"] # define colors for the pie chart\nfig1, ax1 = plt.subplots()\nax1.pie(Top_shipping['Sales'], colors = colors, labels=Top_shipping['Ship Mode'], autopct= autopct_format(Top_shipping['Sales']), startangle=90)\ncentre_circle = plt.Circle((0,0),0.82,fc='white') # Draw a circle on the pie chart\nfig = plt.gcf()\nfig.gca().add_artist(centre_circle)\n# Equal aspect ratio ensures that pie is drawn as a circle\nax1.axis('equal') \nlabel = ax1.annotate('Total Revenue \\n'+str(total_revenue_ship),color = 'red', xy=(0, 0), fontsize=12, ha=\"center\")\nplt.tight_layout()\nplt.show()",
   "metadata": {
    "execution": {
     "iopub.execute_input": "2020-09-06T08:47:46.434531Z",
     "iopub.status.busy": "2020-09-06T08:47:46.428641Z",
     "iopub.status.idle": "2020-09-06T08:47:46.527485Z",
     "shell.execute_reply": "2020-09-06T08:47:46.526643Z"
    },
    "papermill": {
     "duration": 0.133081,
     "end_time": "2020-09-06T08:47:46.527615",
     "exception": false,
     "start_time": "2020-09-06T08:47:46.394534",
     "status": "completed"
    },
    "tags": [],
    "trusted": true
   },
   "outputs": [],
   "execution_count": null
  },
  {
   "cell_type": "markdown",
   "source": "We can see that <i><b>Shipping mode - Standard Class</b></i> generated the highest revenue of about <b>$1340831!</b><br>\n\nThe <b>Total Revenue</b> generated by all the shipping modes - <b>$2261536!</b>",
   "metadata": {
    "papermill": {
     "duration": 0.025354,
     "end_time": "2020-09-06T08:47:46.579331",
     "exception": false,
     "start_time": "2020-09-06T08:47:46.553977",
     "status": "completed"
    },
    "tags": []
   }
  },
  {
   "cell_type": "markdown",
   "source": "<h3><b>Correlation of Features</b></h3>\nBy plotting a correlation matrix, we have a very nice overview of how the features are related to one another. For a Pandas dataframe, we can conveniently use the call <b>.corr</b> which by default provides the Pearson Correlation values of the columns pairwise in that dataframe.",
   "metadata": {
    "papermill": {
     "duration": 0.024649,
     "end_time": "2020-09-06T08:47:46.629643",
     "exception": false,
     "start_time": "2020-09-06T08:47:46.604994",
     "status": "completed"
    },
    "tags": []
   }
  },
  {
   "cell_type": "code",
   "source": "df1 = df[['Segment','Sales']]\ndf_cat = pd.get_dummies(df1)\ncor_mat = df_cat.corr()\nmask = np.array(cor_mat)\nmask[np.tril_indices_from(mask)]=False\nfig = plt.gcf()\nfig.set_size_inches(20,5)\nsns.heatmap(data = cor_mat, mask = mask, square = True, annot = True, cbar = True);",
   "metadata": {
    "execution": {
     "iopub.execute_input": "2020-09-06T08:47:46.69387Z",
     "iopub.status.busy": "2020-09-06T08:47:46.688624Z",
     "iopub.status.idle": "2020-09-06T08:47:47.006636Z",
     "shell.execute_reply": "2020-09-06T08:47:47.006038Z"
    },
    "papermill": {
     "duration": 0.35226,
     "end_time": "2020-09-06T08:47:47.006744",
     "exception": false,
     "start_time": "2020-09-06T08:47:46.654484",
     "status": "completed"
    },
    "tags": [],
    "trusted": true
   },
   "outputs": [],
   "execution_count": null
  },
  {
   "cell_type": "code",
   "source": "df1 = df[['Category','Sales']]\ndf_cat = pd.get_dummies(df1)\ncor_mat = df_cat.corr()\nmask = np.array(cor_mat)\nmask[np.tril_indices_from(mask)]=False\nfig = plt.gcf()\nfig.set_size_inches(20,5)\nsns.heatmap(data = cor_mat, mask = mask, square = True, annot = True, cbar = True);",
   "metadata": {
    "execution": {
     "iopub.execute_input": "2020-09-06T08:47:47.095998Z",
     "iopub.status.busy": "2020-09-06T08:47:47.095087Z",
     "iopub.status.idle": "2020-09-06T08:47:47.389905Z",
     "shell.execute_reply": "2020-09-06T08:47:47.390427Z"
    },
    "papermill": {
     "duration": 0.365732,
     "end_time": "2020-09-06T08:47:47.390565",
     "exception": false,
     "start_time": "2020-09-06T08:47:47.024833",
     "status": "completed"
    },
    "tags": [],
    "trusted": true
   },
   "outputs": [],
   "execution_count": null
  },
  {
   "cell_type": "code",
   "source": "df1 = df[['Ship Mode','Sales']]\ndf_cat = pd.get_dummies(df1)\ncor_mat = df_cat.corr()\nmask = np.array(cor_mat)\nmask[np.tril_indices_from(mask)]=False\nfig = plt.gcf()\nfig.set_size_inches(20,5)\nsns.heatmap(data = cor_mat, mask = mask, square = True, annot = True, cbar = True);",
   "metadata": {
    "execution": {
     "iopub.execute_input": "2020-09-06T08:47:47.443838Z",
     "iopub.status.busy": "2020-09-06T08:47:47.438592Z",
     "iopub.status.idle": "2020-09-06T08:47:47.848071Z",
     "shell.execute_reply": "2020-09-06T08:47:47.847419Z"
    },
    "papermill": {
     "duration": 0.438034,
     "end_time": "2020-09-06T08:47:47.848291",
     "exception": false,
     "start_time": "2020-09-06T08:47:47.410257",
     "status": "completed"
    },
    "tags": [],
    "trusted": true
   },
   "outputs": [],
   "execution_count": null
  },
  {
   "cell_type": "markdown",
   "source": "<b><h3>Choropleth map</h3>\n<br>\nSince the state abbreviation or the latitude and longitude are not given, it is difficult to plot a map.\nSo, the state abbreviations are added to the respective states and a choropleth map is plotted.",
   "metadata": {
    "papermill": {
     "duration": 0.019527,
     "end_time": "2020-09-06T08:47:47.891095",
     "exception": false,
     "start_time": "2020-09-06T08:47:47.871568",
     "status": "completed"
    },
    "tags": []
   }
  },
  {
   "cell_type": "code",
   "source": "state = ['Alabama', 'Arizona' ,'Arkansas', 'California', 'Colorado', 'Connecticut', 'Delaware', 'Florida', \n         'Georgia', 'Hawaii', 'Idaho', 'Illinois', 'Indiana', 'Iowa', 'Kansas', 'Kentucky', 'Louisiana', 'Maine', 'Maryland',\n         'Massachusetts', 'Michigan', 'Minnesota', 'Mississippi', 'Missouri', 'Montana','Nebraska', 'Nevada', 'New Hampshire',\n         'New Jersey', 'New Mexico', 'New York', 'North Carolina', 'North Dakota', 'Ohio', 'Oklahoma', 'Oregon', 'Pennsylvania',\n         'Rhode Island', 'South Carolina', 'South Dakota', 'Tennessee', 'Texas', 'Utah', 'Vermont', 'Virginia', 'Washington',\n         'West Virginia', 'Wisconsin','Wyoming']\nstate_code = ['AL','AZ','AR','CA','CO','CT','DE','FL','GA','HI','ID','IL','IN','IA','KS','KY','LA','ME','MD','MA',\n              'MI','MN','MS','MO','MT','NE','NV','NH','NJ','NM','NY','NC','ND','OH','OK','OR','PA','RI','SC','SD','TN',\n              'TX','UT','VT','VA','WA','WV','WI','WY']",
   "metadata": {
    "execution": {
     "iopub.execute_input": "2020-09-06T08:47:47.940863Z",
     "iopub.status.busy": "2020-09-06T08:47:47.939892Z",
     "iopub.status.idle": "2020-09-06T08:47:47.944089Z",
     "shell.execute_reply": "2020-09-06T08:47:47.943488Z"
    },
    "papermill": {
     "duration": 0.033959,
     "end_time": "2020-09-06T08:47:47.944245",
     "exception": false,
     "start_time": "2020-09-06T08:47:47.910286",
     "status": "completed"
    },
    "tags": [],
    "trusted": true
   },
   "outputs": [],
   "execution_count": null
  },
  {
   "cell_type": "code",
   "source": "state_df = pd.DataFrame(state, state_code) # Create a dataframe\nstate_df.reset_index(level=0, inplace=True)\nstate_df.columns = ['State Code','State']\nsales = df.groupby([\"State\"]).sum().sort_values(\"Sales\", ascending=False)\nsales.reset_index(level=0, inplace=True)\nsales.drop('Postal Code',1, inplace = True)\nsales= sales.sort_values('State', ascending=True)\nsales.reset_index(inplace = True)\nsales.drop('index',1,inplace = True)\nsales.insert(1, 'State Code', state_df['State Code'])",
   "metadata": {
    "execution": {
     "iopub.execute_input": "2020-09-06T08:47:47.998017Z",
     "iopub.status.busy": "2020-09-06T08:47:47.992639Z",
     "iopub.status.idle": "2020-09-06T08:47:48.017591Z",
     "shell.execute_reply": "2020-09-06T08:47:48.016357Z"
    },
    "papermill": {
     "duration": 0.054304,
     "end_time": "2020-09-06T08:47:48.017772",
     "exception": false,
     "start_time": "2020-09-06T08:47:47.963468",
     "status": "completed"
    },
    "tags": [],
    "trusted": true
   },
   "outputs": [],
   "execution_count": null
  },
  {
   "cell_type": "code",
   "source": "import plotly.graph_objects as go\n\nsales['text'] = sales['State']\nfig = go.Figure(data=go.Choropleth(\n    locations=sales['State Code'], # Spatial coordinates\n    text=sales['text'],\n    z = sales['Sales'].astype(float), # Data to be color-coded\n    locationmode = 'USA-states', # set of locations match entries in `locations`\n    colorscale = 'Reds',\n    colorbar_title = \"Sales\",\n    \n))\n\nfig.update_layout(\n    title_text = 'Sales',\n    geo_scope='usa', # limite map scope to USA\n)\n\nfig.show();",
   "metadata": {
    "execution": {
     "iopub.execute_input": "2020-09-06T08:47:48.071762Z",
     "iopub.status.busy": "2020-09-06T08:47:48.071156Z",
     "iopub.status.idle": "2020-09-06T08:47:48.341678Z",
     "shell.execute_reply": "2020-09-06T08:47:48.341025Z"
    },
    "papermill": {
     "duration": 0.300102,
     "end_time": "2020-09-06T08:47:48.341782",
     "exception": false,
     "start_time": "2020-09-06T08:47:48.04168",
     "status": "completed"
    },
    "tags": [],
    "trusted": true
   },
   "outputs": [],
   "execution_count": null
  },
  {
   "cell_type": "markdown",
   "source": "Further time series analysis will be performed in Part 2 i.e.,  [Part 2: Time Series Analysis](https://www.kaggle.com/samruddhim/part-2-time-series-analysis)",
   "metadata": {}
  },
  {
   "cell_type": "markdown",
   "source": "**If you like my notebook, kindly give it an upvote!**",
   "metadata": {}
  }
 ]
}
