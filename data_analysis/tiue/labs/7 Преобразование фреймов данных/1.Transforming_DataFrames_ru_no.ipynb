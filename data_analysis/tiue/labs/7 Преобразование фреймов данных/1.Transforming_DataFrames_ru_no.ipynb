{
 "cells": [
  {
   "cell_type": "markdown",
   "metadata": {},
   "source": [
    "# Обработка данных с помощью Pandas"
   ]
  },
  {
   "cell_type": "markdown",
   "metadata": {},
   "source": [
    "## Преобразование DataFrame"
   ]
  },
  {
   "cell_type": "markdown",
   "metadata": {},
   "source": [
    "### Осмотр DataFrame"
   ]
  },
  {
   "cell_type": "markdown",
   "metadata": {},
   "source": [
    "Когда у вас появляется новый DataFrame для работы, первое, что вам нужно сделать, это изучить его и посмотреть, что он содержит. Существует несколько полезных методов и атрибутов для этого.\n",
    "\n",
    "- `head()` возвращает несколько первых строк («голову» DataFrame).\n",
    "- `info()` показывает информацию по каждому столбцу, такую как тип данных и количество отсутствующих значений.\n",
    "- `.shape` возвращает количество строк и столбцов DataFrame.\n",
    "- `describe()` вычисляет несколько сводных статистических данных для каждого столбца.\n",
    "- `homelessness` - это DataFrame, содержащий оценки бездомности в каждом штате США в 2018 году. Индивидуальный столбец - это количество бездомных людей без детей. Столбец `family_members` - количество бездомных людей с детьми. Столбец `state_pop` - общая численность населения штата.\n",
    "\n",
    "Необходимо импортировать pandas."
   ]
  },
  {
   "cell_type": "code",
   "execution_count": 3,
   "metadata": {
    "ExecuteTime": {
     "end_time": "2024-01-04T08:58:30.292116Z",
     "start_time": "2024-01-04T08:58:29.080150Z"
    }
   },
   "outputs": [],
   "source": [
    "import pandas as pd"
   ]
  },
  {
   "cell_type": "markdown",
   "metadata": {},
   "source": [
    "Выведите первые строки DataFrame `homelessness`."
   ]
  },
  {
   "cell_type": "code",
   "execution_count": 5,
   "metadata": {
    "ExecuteTime": {
     "end_time": "2024-01-04T08:58:32.449126Z",
     "start_time": "2024-01-04T08:58:31.993479Z"
    }
   },
   "outputs": [
    {
     "data": {
      "text/html": [
       "<div>\n",
       "<style scoped>\n",
       "    .dataframe tbody tr th:only-of-type {\n",
       "        vertical-align: middle;\n",
       "    }\n",
       "\n",
       "    .dataframe tbody tr th {\n",
       "        vertical-align: top;\n",
       "    }\n",
       "\n",
       "    .dataframe thead th {\n",
       "        text-align: right;\n",
       "    }\n",
       "</style>\n",
       "<table border=\"1\" class=\"dataframe\">\n",
       "  <thead>\n",
       "    <tr style=\"text-align: right;\">\n",
       "      <th></th>\n",
       "      <th>Unnamed: 0</th>\n",
       "      <th>region</th>\n",
       "      <th>state</th>\n",
       "      <th>individuals</th>\n",
       "      <th>family_members</th>\n",
       "      <th>state_pop</th>\n",
       "    </tr>\n",
       "  </thead>\n",
       "  <tbody>\n",
       "    <tr>\n",
       "      <th>0</th>\n",
       "      <td>0</td>\n",
       "      <td>East South Central</td>\n",
       "      <td>Alabama</td>\n",
       "      <td>2570.0</td>\n",
       "      <td>864.0</td>\n",
       "      <td>4887681</td>\n",
       "    </tr>\n",
       "    <tr>\n",
       "      <th>1</th>\n",
       "      <td>1</td>\n",
       "      <td>Pacific</td>\n",
       "      <td>Alaska</td>\n",
       "      <td>1434.0</td>\n",
       "      <td>582.0</td>\n",
       "      <td>735139</td>\n",
       "    </tr>\n",
       "    <tr>\n",
       "      <th>2</th>\n",
       "      <td>2</td>\n",
       "      <td>Mountain</td>\n",
       "      <td>Arizona</td>\n",
       "      <td>7259.0</td>\n",
       "      <td>2606.0</td>\n",
       "      <td>7158024</td>\n",
       "    </tr>\n",
       "    <tr>\n",
       "      <th>3</th>\n",
       "      <td>3</td>\n",
       "      <td>West South Central</td>\n",
       "      <td>Arkansas</td>\n",
       "      <td>2280.0</td>\n",
       "      <td>432.0</td>\n",
       "      <td>3009733</td>\n",
       "    </tr>\n",
       "    <tr>\n",
       "      <th>4</th>\n",
       "      <td>4</td>\n",
       "      <td>Pacific</td>\n",
       "      <td>California</td>\n",
       "      <td>109008.0</td>\n",
       "      <td>20964.0</td>\n",
       "      <td>39461588</td>\n",
       "    </tr>\n",
       "  </tbody>\n",
       "</table>\n",
       "</div>"
      ],
      "text/plain": [
       "   Unnamed: 0              region       state  individuals  family_members  \\\n",
       "0           0  East South Central     Alabama       2570.0           864.0   \n",
       "1           1             Pacific      Alaska       1434.0           582.0   \n",
       "2           2            Mountain     Arizona       7259.0          2606.0   \n",
       "3           3  West South Central    Arkansas       2280.0           432.0   \n",
       "4           4             Pacific  California     109008.0         20964.0   \n",
       "\n",
       "   state_pop  \n",
       "0    4887681  \n",
       "1     735139  \n",
       "2    7158024  \n",
       "3    3009733  \n",
       "4   39461588  "
      ]
     },
     "execution_count": 5,
     "metadata": {},
     "output_type": "execute_result"
    }
   ],
   "source": [
    "homelessness = pd.read_csv('datasets/homelessness.csv')\n"
   ]
  },
  {
   "cell_type": "code",
   "execution_count": 5,
   "metadata": {
    "ExecuteTime": {
     "end_time": "2024-01-04T08:58:44.435370Z",
     "start_time": "2024-01-04T08:58:44.409011Z"
    }
   },
   "outputs": [
    {
     "name": "stdout",
     "output_type": "stream",
     "text": [
      "<class 'pandas.core.frame.DataFrame'>\n",
      "RangeIndex: 51 entries, 0 to 50\n",
      "Data columns (total 6 columns):\n",
      " #   Column          Non-Null Count  Dtype  \n",
      "---  ------          --------------  -----  \n",
      " 0   Unnamed: 0      51 non-null     int64  \n",
      " 1   region          51 non-null     object \n",
      " 2   state           51 non-null     object \n",
      " 3   individuals     51 non-null     float64\n",
      " 4   family_members  51 non-null     float64\n",
      " 5   state_pop       51 non-null     int64  \n",
      "dtypes: float64(2), int64(2), object(2)\n",
      "memory usage: 2.5+ KB\n"
     ]
    }
   ],
   "source": [
    "homelessness.info()"
   ]
  },
  {
   "cell_type": "code",
   "execution_count": 6,
   "metadata": {
    "ExecuteTime": {
     "end_time": "2024-01-04T08:58:47.850610Z",
     "start_time": "2024-01-04T08:58:47.824673Z"
    }
   },
   "outputs": [
    {
     "data": {
      "text/plain": [
       "(51, 6)"
      ]
     },
     "execution_count": 6,
     "metadata": {},
     "output_type": "execute_result"
    }
   ],
   "source": [
    "homelessness.shape"
   ]
  },
  {
   "cell_type": "markdown",
   "metadata": {},
   "source": [
    "Print some summary statistics that describe the `homelessness` DataFrame."
   ]
  },
  {
   "cell_type": "code",
   "execution_count": 7,
   "metadata": {
    "ExecuteTime": {
     "end_time": "2024-01-04T08:58:53.454482Z",
     "start_time": "2024-01-04T08:58:53.445704Z"
    }
   },
   "outputs": [
    {
     "name": "stdout",
     "output_type": "stream",
     "text": [
      "       Unnamed: 0    individuals  family_members     state_pop\n",
      "count   51.000000      51.000000       51.000000  5.100000e+01\n",
      "mean    25.000000    7225.784314     3504.882353  6.405637e+06\n",
      "std     14.866069   15991.025083     7805.411811  7.327258e+06\n",
      "min      0.000000     434.000000       75.000000  5.776010e+05\n",
      "25%     12.500000    1446.500000      592.000000  1.777414e+06\n",
      "50%     25.000000    3082.000000     1482.000000  4.461153e+06\n",
      "75%     37.500000    6781.500000     3196.000000  7.340946e+06\n",
      "max     50.000000  109008.000000    52070.000000  3.946159e+07\n"
     ]
    }
   ],
   "source": [
    "# Print a description of homelessness\n"
   ]
  },
  {
   "cell_type": "markdown",
   "metadata": {},
   "source": [
    "## Части DataFrame\n",
    "\n",
    "Для лучшего понимания объектов DataFrame полезно знать, что они состоят из трех компонентов, хранящихся как атрибуты:\n",
    "\n",
    "- `values`: Двумерный массив значений NumPy.\n",
    "- `columns`: Индекс столбцов - имена столбцов.\n",
    "- `index`: Индекс строк - либо номера строк, либо имена строк.\n",
    "- Обычно индексы можно представить как список строк или чисел, хотя тип данных Index в pandas позволяет использовать более сложные варианты. (Об этом будет рассказано позже в курсе.)\n",
    "- `homelessness` доступен."
   ]
  },
  {
   "cell_type": "markdown",
   "metadata": {},
   "source": [
    "### Инструкции\n",
    "\n",
    "- Вывести двумерный массив значений в `homelessness`.\n",
    "- Вывести имена столбцов в `homelessness`.\n",
    "- Вывести индекс в `homelessness`."
   ]
  },
  {
   "cell_type": "code",
   "execution_count": 8,
   "metadata": {
    "ExecuteTime": {
     "end_time": "2024-01-04T08:59:31.666539Z",
     "start_time": "2024-01-04T08:59:31.634443Z"
    }
   },
   "outputs": [
    {
     "data": {
      "text/plain": [
       "array([[0, 'East South Central', 'Alabama', 2570.0, 864.0, 4887681],\n",
       "       [1, 'Pacific', 'Alaska', 1434.0, 582.0, 735139],\n",
       "       [2, 'Mountain', 'Arizona', 7259.0, 2606.0, 7158024],\n",
       "       [3, 'West South Central', 'Arkansas', 2280.0, 432.0, 3009733],\n",
       "       [4, 'Pacific', 'California', 109008.0, 20964.0, 39461588],\n",
       "       [5, 'Mountain', 'Colorado', 7607.0, 3250.0, 5691287],\n",
       "       [6, 'New England', 'Connecticut', 2280.0, 1696.0, 3571520],\n",
       "       [7, 'South Atlantic', 'Delaware', 708.0, 374.0, 965479],\n",
       "       [8, 'South Atlantic', 'District of Columbia', 3770.0, 3134.0,\n",
       "        701547],\n",
       "       [9, 'South Atlantic', 'Florida', 21443.0, 9587.0, 21244317],\n",
       "       [10, 'South Atlantic', 'Georgia', 6943.0, 2556.0, 10511131],\n",
       "       [11, 'Pacific', 'Hawaii', 4131.0, 2399.0, 1420593],\n",
       "       [12, 'Mountain', 'Idaho', 1297.0, 715.0, 1750536],\n",
       "       [13, 'East North Central', 'Illinois', 6752.0, 3891.0, 12723071],\n",
       "       [14, 'East North Central', 'Indiana', 3776.0, 1482.0, 6695497],\n",
       "       [15, 'West North Central', 'Iowa', 1711.0, 1038.0, 3148618],\n",
       "       [16, 'West North Central', 'Kansas', 1443.0, 773.0, 2911359],\n",
       "       [17, 'East South Central', 'Kentucky', 2735.0, 953.0, 4461153],\n",
       "       [18, 'West South Central', 'Louisiana', 2540.0, 519.0, 4659690],\n",
       "       [19, 'New England', 'Maine', 1450.0, 1066.0, 1339057],\n",
       "       [20, 'South Atlantic', 'Maryland', 4914.0, 2230.0, 6035802],\n",
       "       [21, 'New England', 'Massachusetts', 6811.0, 13257.0, 6882635],\n",
       "       [22, 'East North Central', 'Michigan', 5209.0, 3142.0, 9984072],\n",
       "       [23, 'West North Central', 'Minnesota', 3993.0, 3250.0, 5606249],\n",
       "       [24, 'East South Central', 'Mississippi', 1024.0, 328.0, 2981020],\n",
       "       [25, 'West North Central', 'Missouri', 3776.0, 2107.0, 6121623],\n",
       "       [26, 'Mountain', 'Montana', 983.0, 422.0, 1060665],\n",
       "       [27, 'West North Central', 'Nebraska', 1745.0, 676.0, 1925614],\n",
       "       [28, 'Mountain', 'Nevada', 7058.0, 486.0, 3027341],\n",
       "       [29, 'New England', 'New Hampshire', 835.0, 615.0, 1353465],\n",
       "       [30, 'Mid-Atlantic', 'New Jersey', 6048.0, 3350.0, 8886025],\n",
       "       [31, 'Mountain', 'New Mexico', 1949.0, 602.0, 2092741],\n",
       "       [32, 'Mid-Atlantic', 'New York', 39827.0, 52070.0, 19530351],\n",
       "       [33, 'South Atlantic', 'North Carolina', 6451.0, 2817.0, 10381615],\n",
       "       [34, 'West North Central', 'North Dakota', 467.0, 75.0, 758080],\n",
       "       [35, 'East North Central', 'Ohio', 6929.0, 3320.0, 11676341],\n",
       "       [36, 'West South Central', 'Oklahoma', 2823.0, 1048.0, 3940235],\n",
       "       [37, 'Pacific', 'Oregon', 11139.0, 3337.0, 4181886],\n",
       "       [38, 'Mid-Atlantic', 'Pennsylvania', 8163.0, 5349.0, 12800922],\n",
       "       [39, 'New England', 'Rhode Island', 747.0, 354.0, 1058287],\n",
       "       [40, 'South Atlantic', 'South Carolina', 3082.0, 851.0, 5084156],\n",
       "       [41, 'West North Central', 'South Dakota', 836.0, 323.0, 878698],\n",
       "       [42, 'East South Central', 'Tennessee', 6139.0, 1744.0, 6771631],\n",
       "       [43, 'West South Central', 'Texas', 19199.0, 6111.0, 28628666],\n",
       "       [44, 'Mountain', 'Utah', 1904.0, 972.0, 3153550],\n",
       "       [45, 'New England', 'Vermont', 780.0, 511.0, 624358],\n",
       "       [46, 'South Atlantic', 'Virginia', 3928.0, 2047.0, 8501286],\n",
       "       [47, 'Pacific', 'Washington', 16424.0, 5880.0, 7523869],\n",
       "       [48, 'South Atlantic', 'West Virginia', 1021.0, 222.0, 1804291],\n",
       "       [49, 'East North Central', 'Wisconsin', 2740.0, 2167.0, 5807406],\n",
       "       [50, 'Mountain', 'Wyoming', 434.0, 205.0, 577601]], dtype=object)"
      ]
     },
     "execution_count": 8,
     "metadata": {},
     "output_type": "execute_result"
    }
   ],
   "source": [
    "# Вывести значения DataFrame homelessness\n"
   ]
  },
  {
   "cell_type": "code",
   "execution_count": 9,
   "metadata": {
    "ExecuteTime": {
     "end_time": "2024-01-04T09:00:16.121158Z",
     "start_time": "2024-01-04T09:00:16.017774Z"
    }
   },
   "outputs": [
    {
     "data": {
      "text/plain": [
       "Index(['Unnamed: 0', 'region', 'state', 'individuals', 'family_members',\n",
       "       'state_pop'],\n",
       "      dtype='object')"
      ]
     },
     "execution_count": 9,
     "metadata": {},
     "output_type": "execute_result"
    }
   ],
   "source": [
    "# Вывести индекс столбцов DataFrame homelessness\n"
   ]
  },
  {
   "cell_type": "code",
   "execution_count": 11,
   "metadata": {
    "ExecuteTime": {
     "end_time": "2024-01-04T09:00:31.484013Z",
     "start_time": "2024-01-04T09:00:31.454594Z"
    },
    "collapsed": false
   },
   "outputs": [
    {
     "data": {
      "text/plain": [
       "RangeIndex(start=0, stop=51, step=1)"
      ]
     },
     "execution_count": 11,
     "metadata": {},
     "output_type": "execute_result"
    }
   ],
   "source": [
    "homelessness.index"
   ]
  },
  {
   "cell_type": "markdown",
   "metadata": {},
   "source": [
    "## Сортировка строк\n",
    "\n",
    "Найти интересные фрагменты данных в DataFrame часто легче, если вы измените порядок строк. Вы можете отсортировать строки, передав имя столбца в `.sort_values()`.\n",
    "\n",
    "В случаях, когда строки имеют одинаковое значение (это часто бывает при сортировке по категориальной переменной), вы можете разрешить ситуацию, отсортировав по другому столбцу. Вы можете сортировать по нескольким столбцам, передав список имен столбцов."
   ]
  },
  {
   "cell_type": "markdown",
   "metadata": {},
   "source": [
    "| Сортировать по      | Синтаксис                      |\n",
    "|---------------------|--------------------------------|\n",
    "| one column          | df.sort_values(\"breed\")        |\n",
    "| multiple columns    | df.sort_values([\"breed\", \"weight_kg\"]) |"
   ]
  },
  {
   "cell_type": "markdown",
   "metadata": {},
   "source": [
    "### Инструкции 1/2\n",
    "\n",
    "- Совместив `.sort_values()` с `.head()`, вы можете ответить на вопросы в форме \"Какие самые верхние случаи, где...?\".\n",
    "\n",
    "- Доступен `homelessness`, и `pandas` загружен как pd.\n",
    "\n",
    "- Отсортируйте `homelessness` по количеству бездомных людей, от наименьшего к наибольшему, и сохраните это как `homelessness_ind`.\n",
    "  \n",
    "- Выведите первые строки отсортированного DataFrame."
   ]
  },
  {
   "cell_type": "code",
   "execution_count": 10,
   "metadata": {
    "ExecuteTime": {
     "end_time": "2024-01-04T09:01:57.235895Z",
     "start_time": "2024-01-04T09:01:57.222007Z"
    }
   },
   "outputs": [
    {
     "name": "stdout",
     "output_type": "stream",
     "text": [
      "    Unnamed: 0              region         state  individuals  family_members  \\\n",
      "50          50            Mountain       Wyoming        434.0           205.0   \n",
      "34          34  West North Central  North Dakota        467.0            75.0   \n",
      "7            7      South Atlantic      Delaware        708.0           374.0   \n",
      "39          39         New England  Rhode Island        747.0           354.0   \n",
      "45          45         New England       Vermont        780.0           511.0   \n",
      "\n",
      "    state_pop  \n",
      "50     577601  \n",
      "34     758080  \n",
      "7      965479  \n",
      "39    1058287  \n",
      "45     624358  \n"
     ]
    }
   ],
   "source": [
    "# Отсортировать homelessness по числу бездомных\n",
    "homelessness_ind = \n",
    "\n",
    "# Вывести несколько первых строк\n"
   ]
  },
  {
   "cell_type": "code",
   "execution_count": 8,
   "metadata": {},
   "outputs": [
    {
     "name": "stdout",
     "output_type": "stream",
     "text": [
      "    Unnamed: 0              region          state  individuals  \\\n",
      "32          32        Mid-Atlantic       New York      39827.0   \n",
      "4            4             Pacific     California     109008.0   \n",
      "21          21         New England  Massachusetts       6811.0   \n",
      "9            9      South Atlantic        Florida      21443.0   \n",
      "43          43  West South Central          Texas      19199.0   \n",
      "\n",
      "    family_members  state_pop  \n",
      "32         52070.0   19530351  \n",
      "4          20964.0   39461588  \n",
      "21         13257.0    6882635  \n",
      "9           9587.0   21244317  \n",
      "43          6111.0   28628666  \n"
     ]
    }
   ],
   "source": [
    "# Сортировка бездомных по убыванию числа членов семьи\n",
    "homelessness_fam =\n",
    "\n",
    "# Напечатайте несколько верхних строк\n"
   ]
  },
  {
   "cell_type": "markdown",
   "metadata": {},
   "source": [
    "### Инструкции 2/2\n",
    "\n",
    "- Отсортируйте `homelessness` сначала по региону (по возрастанию), а затем по количеству членов семьи (по убыванию). Сохраните это как `homelessness_reg_fam`.\n",
    "- Выведите первые строки отсортированного DataFrame."
   ]
  },
  {
   "cell_type": "code",
   "execution_count": 11,
   "metadata": {
    "ExecuteTime": {
     "end_time": "2024-01-04T09:03:04.561138Z",
     "start_time": "2024-01-04T09:03:04.521105Z"
    }
   },
   "outputs": [
    {
     "name": "stdout",
     "output_type": "stream",
     "text": [
      "    Unnamed: 0              region      state  individuals  family_members  \\\n",
      "13          13  East North Central   Illinois       6752.0          3891.0   \n",
      "35          35  East North Central       Ohio       6929.0          3320.0   \n",
      "22          22  East North Central   Michigan       5209.0          3142.0   \n",
      "49          49  East North Central  Wisconsin       2740.0          2167.0   \n",
      "14          14  East North Central    Indiana       3776.0          1482.0   \n",
      "\n",
      "    state_pop  \n",
      "13   12723071  \n",
      "35   11676341  \n",
      "22    9984072  \n",
      "49    5807406  \n",
      "14    6695497  \n"
     ]
    }
   ],
   "source": [
    "# Отсортировать homelessness по региону, затем по убыванию числа членов семьи\n",
    "homelessness_reg_fam = \n",
    "\n",
    "# Вывести несколько первых строк\n"
   ]
  },
  {
   "cell_type": "markdown",
   "metadata": {},
   "source": [
    "## Выбор столбцов\n",
    "\n",
    "При работе с данными вам может не понадобиться все переменные в вашем наборе данных. Квадратные скобки ([]) можно использовать для выбора только тех столбцов, которые вам интересны, в порядке, который имеет для вас смысл. Чтобы выбрать только \"col_a\" DataFrame df, используйте\n",
    "\n",
    "    df[\"col_a\"]\n",
    "\n",
    "Чтобы выбрать `\"col_a\"` и `\"col_b\"` в `df`, используйте\n",
    "\n",
    "    df[[\"col_a\", \"col_b\"]]\n",
    "\n",
    "`homelessness` доступен, и pandas загружен как pd."
   ]
  },
  {
   "cell_type": "markdown",
   "metadata": {},
   "source": [
    "#### Инструкции\n",
    "\n",
    "- Создайте DataFrame с именем `individuals`, который содержит только столбец `individuals` из `homelessness`.\n",
    "- Выведите несколько первых строк результата."
   ]
  },
  {
   "cell_type": "code",
   "execution_count": 12,
   "metadata": {
    "ExecuteTime": {
     "end_time": "2024-01-04T09:04:29.812051Z",
     "start_time": "2024-01-04T09:04:29.791023Z"
    }
   },
   "outputs": [
    {
     "name": "stdout",
     "output_type": "stream",
     "text": [
      "0      2570.0\n",
      "1      1434.0\n",
      "2      7259.0\n",
      "3      2280.0\n",
      "4    109008.0\n",
      "Name: individuals, dtype: float64\n"
     ]
    }
   ],
   "source": [
    "# Выбрать столбец individuals\n",
    "individuals = \n",
    "\n",
    "# Вывести несколько первых строк результата\n"
   ]
  },
  {
   "cell_type": "markdown",
   "metadata": {},
   "source": [
    "2. Создайте DataFrame с именем `state_fam`, который содержит только столбцы `state` и `family_members` из `homelessness`, в указанном порядке.\n",
    "- Выведите несколько первых строк результата."
   ]
  },
  {
   "cell_type": "code",
   "execution_count": 13,
   "metadata": {
    "ExecuteTime": {
     "end_time": "2024-01-04T09:04:54.351274Z",
     "start_time": "2024-01-04T09:04:54.322909Z"
    }
   },
   "outputs": [
    {
     "name": "stdout",
     "output_type": "stream",
     "text": [
      "        state  family_members\n",
      "0     Alabama           864.0\n",
      "1      Alaska           582.0\n",
      "2     Arizona          2606.0\n",
      "3    Arkansas           432.0\n",
      "4  California         20964.0\n"
     ]
    }
   ],
   "source": [
    "# Выбрать столбцы state и family_members\n",
    "state_fam = \n",
    "\n",
    "# Вывести несколько первых строк результата\n"
   ]
  },
  {
   "cell_type": "markdown",
   "metadata": {},
   "source": [
    "3. Создайте DataFrame с именем `ind_state`, который содержит только столбцы `individuals` и `state` из `homelessness`, в указанном порядке.\n",
    "Выведите несколько первых строк результата."
   ]
  },
  {
   "cell_type": "code",
   "execution_count": 14,
   "metadata": {
    "ExecuteTime": {
     "end_time": "2024-01-04T09:05:16.632921Z",
     "start_time": "2024-01-04T09:05:16.600721Z"
    }
   },
   "outputs": [
    {
     "name": "stdout",
     "output_type": "stream",
     "text": [
      "   individuals       state\n",
      "0       2570.0     Alabama\n",
      "1       1434.0      Alaska\n",
      "2       7259.0     Arizona\n",
      "3       2280.0    Arkansas\n",
      "4     109008.0  California\n"
     ]
    }
   ],
   "source": [
    "# Выбрать только столбцы individuals и state, в указанном порядке\n",
    "ind_state = \n",
    "\n",
    "# Вывести несколько первых строк результата\n"
   ]
  },
  {
   "cell_type": "markdown",
   "metadata": {},
   "source": [
    "### Выбор строк\n",
    "\n",
    "Большая часть работы в области анализа данных заключается в поиске интересных фрагментов вашего набора данных. Одним из самых простых методов для этого является поиск подмножества строк, которые соответствуют определенным критериям. Это иногда известно как фильтрация строк или выбор строк.\n",
    "\n",
    "Существует много способов выбора подмножества DataFrame, одним из наиболее распространенных является использование операторов отношений для возврата True или False для каждой строки, а затем передача этого в квадратных скобках.\n",
    "\n",
    "    dogs[dogs[\"height_cm\"] > 60]\n",
    "    dogs[dogs[\"color\"] == \"tan\"]\n",
    "    \n",
    "Вы можете фильтровать по нескольким условиям сразу, используя оператор \"логическое и\", &.\n",
    "\n",
    "    dogs[(dogs[\"height_cm\"] > 60) & (dogs[\"color\"] == \"tan\")]\n",
    "\n",
    "`homelessness` доступен, а pandas загружен как pd."
   ]
  },
  {
   "cell_type": "markdown",
   "metadata": {
    "collapsed": false
   },
   "source": [
    "#### Инструкции\n",
    "\n",
    "Отфильтруйте `homelessness` для случаев, где количество `individuals` больше десяти тысяч, присвоив это `ind_gt_10k`. Посмотрите на результат вывода."
   ]
  },
  {
   "cell_type": "code",
   "execution_count": 15,
   "metadata": {
    "ExecuteTime": {
     "end_time": "2024-01-04T09:08:42.287040Z",
     "start_time": "2024-01-04T09:08:42.267917Z"
    }
   },
   "outputs": [
    {
     "name": "stdout",
     "output_type": "stream",
     "text": [
      "    Unnamed: 0              region       state  individuals  family_members  \\\n",
      "4            4             Pacific  California     109008.0         20964.0   \n",
      "9            9      South Atlantic     Florida      21443.0          9587.0   \n",
      "32          32        Mid-Atlantic    New York      39827.0         52070.0   \n",
      "37          37             Pacific      Oregon      11139.0          3337.0   \n",
      "43          43  West South Central       Texas      19199.0          6111.0   \n",
      "47          47             Pacific  Washington      16424.0          5880.0   \n",
      "\n",
      "    state_pop  \n",
      "4    39461588  \n",
      "9    21244317  \n",
      "32   19530351  \n",
      "37    4181886  \n",
      "43   28628666  \n",
      "47    7523869  \n"
     ]
    }
   ],
   "source": [
    "# Отфильтровать строки, где individuals больше 10000\n",
    "ind_gt_10k = \n",
    "\n",
    "# Посмотреть результат\n"
   ]
  },
  {
   "cell_type": "markdown",
   "metadata": {},
   "source": [
    "2. Отфильтруйте `homelessness` для случаев, где регион переписи США - `Mountain`, присвоив это `mountain_reg`. Посмотрите на результат вывода."
   ]
  },
  {
   "cell_type": "code",
   "execution_count": 19,
   "metadata": {
    "ExecuteTime": {
     "end_time": "2024-01-04T09:09:32.503847Z",
     "start_time": "2024-01-04T09:09:32.475702Z"
    }
   },
   "outputs": [
    {
     "name": "stdout",
     "output_type": "stream",
     "text": [
      "    Unnamed: 0    region       state  individuals  family_members  state_pop\n",
      "2            2  Mountain     Arizona       7259.0          2606.0    7158024\n",
      "5            5  Mountain    Colorado       7607.0          3250.0    5691287\n",
      "12          12  Mountain       Idaho       1297.0           715.0    1750536\n",
      "26          26  Mountain     Montana        983.0           422.0    1060665\n",
      "28          28  Mountain      Nevada       7058.0           486.0    3027341\n",
      "31          31  Mountain  New Mexico       1949.0           602.0    2092741\n",
      "44          44  Mountain        Utah       1904.0           972.0    3153550\n",
      "50          50  Mountain     Wyoming        434.0           205.0     577601\n"
     ]
    }
   ],
   "source": [
    "# Отфильтровать строки, где region равен Mountain\n",
    "mountain_reg = \n",
    "\n",
    "# Посмотреть результат\n"
   ]
  },
  {
   "cell_type": "markdown",
   "metadata": {},
   "source": [
    "3. Отфильтруйте `homelessness` для случаев, где количество `family_members` меньше тысячи и регион - \"Pacific\", присвоив это `fam_lt_1k_pac`. Посмотрите на результат вывода."
   ]
  },
  {
   "cell_type": "code",
   "execution_count": 16,
   "metadata": {
    "ExecuteTime": {
     "end_time": "2024-01-04T09:09:39.984663Z",
     "start_time": "2024-01-04T09:09:39.964646Z"
    }
   },
   "outputs": [
    {
     "name": "stdout",
     "output_type": "stream",
     "text": [
      "   Unnamed: 0   region   state  individuals  family_members  state_pop\n",
      "1           1  Pacific  Alaska       1434.0           582.0     735139\n"
     ]
    }
   ],
   "source": [
    "# Отфильтровать строки, где family_members меньше 1000 \n",
    "# и region равен Pacific\n",
    "fam_lt_1k_pac = \n",
    "\n",
    "# Посмотреть результат\n"
   ]
  },
  {
   "cell_type": "markdown",
   "metadata": {},
   "source": [
    "### Выбор подмножества строк по категориальным переменным\n",
    "\n",
    "Выбор данных на основе категориальной переменной часто включает использование оператора \"или\" (|) для выбора строк из нескольких категорий. Это может быть утомительным, когда вам нужны все штаты в одном из трех разных регионов, например. Вместо этого используйте метод .isin(), который позволит решить эту проблему, написав одно условие вместо трех отдельных.\n",
    "\n",
    "`colors = [\"brown\", \"black\", \"tan\"]`\n",
    "`condition = dogs[\"color\"].isin(colors)`\n",
    "`dogs[condition]`\n",
    "`homelessness` is available and pandas is loaded as pd."
   ]
  },
  {
   "cell_type": "markdown",
   "metadata": {},
   "source": [
    "#### Инструкции\n",
    "\n",
    "1. Отфильтруйте `homelessness` для случаев, где регион переписи США - \"South Atlantic\" или \"Mid-Atlantic\", присвоив это `south_mid_atlantic`. Посмотрите на результат вывода."
   ]
  },
  {
   "cell_type": "code",
   "execution_count": 17,
   "metadata": {
    "ExecuteTime": {
     "end_time": "2024-01-04T09:10:23.132076Z",
     "start_time": "2024-01-04T09:10:23.112313Z"
    }
   },
   "outputs": [
    {
     "name": "stdout",
     "output_type": "stream",
     "text": [
      "    Unnamed: 0          region                 state  individuals  \\\n",
      "7            7  South Atlantic              Delaware        708.0   \n",
      "8            8  South Atlantic  District of Columbia       3770.0   \n",
      "9            9  South Atlantic               Florida      21443.0   \n",
      "10          10  South Atlantic               Georgia       6943.0   \n",
      "20          20  South Atlantic              Maryland       4914.0   \n",
      "30          30    Mid-Atlantic            New Jersey       6048.0   \n",
      "32          32    Mid-Atlantic              New York      39827.0   \n",
      "33          33  South Atlantic        North Carolina       6451.0   \n",
      "38          38    Mid-Atlantic          Pennsylvania       8163.0   \n",
      "40          40  South Atlantic        South Carolina       3082.0   \n",
      "46          46  South Atlantic              Virginia       3928.0   \n",
      "48          48  South Atlantic         West Virginia       1021.0   \n",
      "\n",
      "    family_members  state_pop  \n",
      "7            374.0     965479  \n",
      "8           3134.0     701547  \n",
      "9           9587.0   21244317  \n",
      "10          2556.0   10511131  \n",
      "20          2230.0    6035802  \n",
      "30          3350.0    8886025  \n",
      "32         52070.0   19530351  \n",
      "33          2817.0   10381615  \n",
      "38          5349.0   12800922  \n",
      "40           851.0    5084156  \n",
      "46          2047.0    8501286  \n",
      "48           222.0    1804291  \n"
     ]
    }
   ],
   "source": [
    "# Выбор строк в регионах South Atlantic или Mid-Atlantic\n",
    "south_mid_atlantic = \n",
    "\n",
    "# Посмотреть результат\n",
    "print(south_mid_atlantic)"
   ]
  },
  {
   "cell_type": "markdown",
   "metadata": {},
   "source": [
    "2. Отфильтруйте `homelessness` для случаев, где перепись США государство находится в списке штатов Мохаве, присвоив это `mojave_homelessness`. Посмотрите на результат вывода."
   ]
  },
  {
   "cell_type": "code",
   "execution_count": 18,
   "metadata": {
    "ExecuteTime": {
     "end_time": "2024-01-04T09:10:47.928095Z",
     "start_time": "2024-01-04T09:10:47.895848Z"
    }
   },
   "outputs": [
    {
     "name": "stdout",
     "output_type": "stream",
     "text": [
      "    Unnamed: 0    region       state  individuals  family_members  state_pop\n",
      "2            2  Mountain     Arizona       7259.0          2606.0    7158024\n",
      "4            4   Pacific  California     109008.0         20964.0   39461588\n",
      "28          28  Mountain      Nevada       7058.0           486.0    3027341\n",
      "44          44  Mountain        Utah       1904.0           972.0    3153550\n"
     ]
    }
   ],
   "source": [
    "# Штаты Мохаве-дезерта\n",
    "canu = [\"California\", \"Arizona\", \"Nevada\", \"Utah\"]\n",
    "\n",
    "# Отфильтровать строки в штатах Мохаве-дезерта\n",
    "mojave_homelessness =\n",
    "\n",
    "# Посмотреть результат\n",
    "print(mojave_homelessness)"
   ]
  },
  {
   "cell_type": "markdown",
   "metadata": {},
   "source": [
    "### Добавление новых столбцов\n",
    "\n",
    "Вы не ограничены только данными, которые у вас есть. Вместо этого вы можете добавлять новые столбцы в DataFrame. Это имеет много названий, таких как преобразование, мутация и инженерия признаков.\n",
    "\n",
    "Вы можете создавать новые столбцы с нуля, но также обычно производить их из других столбцов, например, путем сложения столбцов или изменения их единиц измерения.\n",
    "\n",
    "homelessness доступен, и pandas загружен как pd."
   ]
  },
  {
   "cell_type": "markdown",
   "metadata": {},
   "source": [
    "#### Инструкции\n",
    "\n",
    "Добавьте новый столбец в `homelessness` с именем `total`, содержащий сумму столбцов `individuals` и `family_members`.\n",
    "\n",
    "Добавьте еще один столбец в `homelessness` с именем `p_individuals`, содержащий долю бездомных людей в каждом штате, которые являются одиночками.\n",
    "\n",
    "    text{p_individuals} = \\frac{\\text{individuals}}{\\text{individuals} + \\text{family_members}}"
   ]
  },
  {
   "cell_type": "code",
   "execution_count": 19,
   "metadata": {
    "ExecuteTime": {
     "end_time": "2024-01-04T09:11:31.775457Z",
     "start_time": "2024-01-04T09:11:31.748572Z"
    }
   },
   "outputs": [
    {
     "name": "stdout",
     "output_type": "stream",
     "text": [
      "   Unnamed: 0              region       state  individuals  family_members  \\\n",
      "0           0  East South Central     Alabama       2570.0           864.0   \n",
      "1           1             Pacific      Alaska       1434.0           582.0   \n",
      "2           2            Mountain     Arizona       7259.0          2606.0   \n",
      "3           3  West South Central    Arkansas       2280.0           432.0   \n",
      "4           4             Pacific  California     109008.0         20964.0   \n",
      "\n",
      "   state_pop     total  p_individuals  \n",
      "0    4887681    3434.0       0.748398  \n",
      "1     735139    2016.0       0.711310  \n",
      "2    7158024    9865.0       0.735834  \n",
      "3    3009733    2712.0       0.840708  \n",
      "4   39461588  129972.0       0.838704  \n"
     ]
    }
   ],
   "source": [
    "# Добавить столбец total как сумму individuals и family_members\n",
    "homelessness[\"total\"] = \n",
    "\n",
    "# Добавить столбец p_individuals как долю от total, которые являются individuals\n",
    "\n",
    "# Посмотреть результат\n"
   ]
  },
  {
   "cell_type": "markdown",
   "metadata": {},
   "source": [
    "### Комбо-атака!\n",
    "\n",
    "Вы видели четыре наиболее распространенных типа манипуляций с данными: сортировка строк, выбор столбцов, выбор подмножества строк и добавление новых столбцов. В реальном анализе данных вы можете смешивать и сочетать эти четыре манипуляции, чтобы ответить на множество вопросов.\n",
    "\n",
    "В этом упражнении вы ответите на вопрос: \"Какой штат имеет наибольшее количество бездомных людей на 10 000 человек в штате?\" Совместите свои новые навыки pandas, чтобы выяснить это."
   ]
  },
  {
   "cell_type": "markdown",
   "metadata": {},
   "source": [
    "#### Инструкции\n",
    "\n",
    "- Добавьте столбец в `homelessness`, `indiv_per_10k`, содержащий количество бездомных людей на десять тысяч человек в каждом штате.\n",
    "- Выберите строки, где `indiv_per_10k` выше 20, присвоив это `high_homelessness`.\n",
    "- Отсортируйте `high_homelessness` по убыванию `indiv_per_10k`, присвоив это `high_homelessness_srt`.\n",
    "- Выберите только столбцы `state` и `indiv_per_10k` из `high_homelessness_srt` и сохраните результат. Посмотрите на результат."
   ]
  },
  {
   "cell_type": "code",
   "execution_count": 20,
   "metadata": {
    "ExecuteTime": {
     "end_time": "2024-01-04T09:12:00.183893Z",
     "start_time": "2024-01-04T09:12:00.166681Z"
    }
   },
   "outputs": [
    {
     "name": "stdout",
     "output_type": "stream",
     "text": [
      "                   state  indiv_per_10k\n",
      "8   District of Columbia      53.738381\n",
      "11                Hawaii      29.079406\n",
      "4             California      27.623825\n",
      "37                Oregon      26.636307\n",
      "28                Nevada      23.314189\n",
      "47            Washington      21.829195\n",
      "32              New York      20.392363\n"
     ]
    }
   ],
   "source": [
    "# Создать столбец indiv_per_10k как бездомные лица на 10 000 человек в штате\n",
    "homelessness[\"indiv_per_10k\"] = 10000 * \n",
    "\n",
    "# Выбрать строки для indiv_per_10k больше 20\n",
    "high_homelessness = \n",
    "\n",
    "# Отсортировать high_homelessness по убыванию indiv_per_10k\n",
    "high_homelessness_srt = \n",
    "\n",
    "# Из high_homelessness_srt выбрать столбцы state и indiv_per_10k\n",
    "result = \n",
    "\n",
    "# Посмотреть результат\n",
    "print(result)"
   ]
  }
 ],
 "metadata": {
  "kernelspec": {
   "display_name": "Python 3",
   "language": "python",
   "name": "python3"
  },
  "language_info": {
   "codemirror_mode": {
    "name": "ipython",
    "version": 3
   },
   "file_extension": ".py",
   "mimetype": "text/x-python",
   "name": "python",
   "nbconvert_exporter": "python",
   "pygments_lexer": "ipython3",
   "version": "3.11.3"
  }
 },
 "nbformat": 4,
 "nbformat_minor": 2
}
