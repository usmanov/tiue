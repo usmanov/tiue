{
 "cells": [
  {
   "cell_type": "markdown",
   "source": [
    "## Correlation between GDP and S&P500"
   ],
   "metadata": {
    "collapsed": false
   },
   "id": "dabbf37f742bef2b"
  },
  {
   "cell_type": "markdown",
   "source": [
    "In this exercise, you want to analyze stock returns from the S&P 500. You believe there may be a relationship between the returns of the S&P 500 and the GDP of the US. Merge the different datasets together to compute the correlation.\n",
    "\n",
    "Two tables have been provided for you, named `sp500`, and `gdp`. As always, pandas has been imported for you as pd."
   ],
   "metadata": {
    "collapsed": false
   },
   "id": "7159dc843e4dc339"
  },
  {
   "cell_type": "code",
   "outputs": [],
   "source": [
    "import pandas as pd\n",
    "sp500 = pd.read_csv('datasets/sp500.csv')\n",
    "gdp = pd.read_csv('datasets/gdp.csv')"
   ],
   "metadata": {
    "collapsed": false,
    "ExecuteTime": {
     "end_time": "2024-04-25T04:53:17.641416Z",
     "start_time": "2024-04-25T04:53:16.418234Z"
    }
   },
   "id": "d0af74e9663e6955",
   "execution_count": 1
  },
  {
   "cell_type": "markdown",
   "source": [
    "#### Instructions 1/3\n",
    "\n",
    "- Use merge_ordered() to merge gdp and sp500 using a left join on year and date. Save the results as gdp_sp500.\n",
    "- Print gdp_sp500 and look at the returns for the year 2018."
   ],
   "metadata": {
    "collapsed": false
   },
   "id": "5124e78df10ae05f"
  },
  {
   "cell_type": "code",
   "execution_count": 2,
   "id": "initial_id",
   "metadata": {
    "collapsed": true,
    "ExecuteTime": {
     "end_time": "2024-04-24T10:56:21.894651Z",
     "start_time": "2024-04-24T10:56:21.881737Z"
    }
   },
   "outputs": [
    {
     "name": "stdout",
     "output_type": "stream",
     "text": [
      "  country code  year           gdp    date  returns\n",
      "0          USA  2010  1.499210e+13  2010.0    12.78\n",
      "1          USA  2011  1.554260e+13  2011.0     0.00\n",
      "2          USA  2012  1.619700e+13  2012.0    13.41\n",
      "3          USA  2012  1.619700e+13  2012.0    13.41\n",
      "4          USA  2013  1.678480e+13  2013.0    29.60\n",
      "5          USA  2014  1.752170e+13  2014.0    11.39\n",
      "6          USA  2015  1.821930e+13  2015.0    -0.73\n",
      "7          USA  2016  1.870720e+13  2016.0     9.54\n",
      "8          USA  2017  1.948540e+13  2017.0    19.42\n",
      "9          USA  2018  2.049410e+13     NaN      NaN\n"
     ]
    }
   ],
   "source": [
    "# Use merge_ordered() to merge gdp and sp500 on year and date\n",
    "gdp_sp500 = pd.merge_ordered(gdp, sp500, left_on='year', right_on='date',\n",
    "                             how='left')\n",
    "\n",
    "# Print gdp_sp500\n",
    "print(gdp_sp500)"
   ]
  },
  {
   "cell_type": "code",
   "outputs": [],
   "source": [
    "# Use merge_ordered() to merge gdp and sp500 on year and date\n",
    "gdp_sp500 = pd.merge_ordered(____, ____, left_on=____, right_on=____,\n",
    "                             how=____)\n",
    "\n",
    "# Print gdp_sp500\n",
    "print(____)"
   ],
   "metadata": {
    "collapsed": false
   },
   "id": "9667083723403b22"
  },
  {
   "cell_type": "markdown",
   "source": [
    "#### Instructions 2/3\n",
    "\n",
    "Use merge_ordered(), again similar to before, to merge gdp and sp500 use the function's ability to interpolate missing data to forward fill the missing value for returns, assigning this table to the variable gdp_sp500."
   ],
   "metadata": {
    "collapsed": false
   },
   "id": "836602942056c16d"
  },
  {
   "cell_type": "code",
   "outputs": [
    {
     "name": "stdout",
     "output_type": "stream",
     "text": [
      "  country code  year           gdp  date  returns\n",
      "0          USA  2010  1.499210e+13  2010    12.78\n",
      "1          USA  2011  1.554260e+13  2011     0.00\n",
      "2          USA  2012  1.619700e+13  2012    13.41\n",
      "3          USA  2012  1.619700e+13  2012    13.41\n",
      "4          USA  2013  1.678480e+13  2013    29.60\n",
      "5          USA  2014  1.752170e+13  2014    11.39\n",
      "6          USA  2015  1.821930e+13  2015    -0.73\n",
      "7          USA  2016  1.870720e+13  2016     9.54\n",
      "8          USA  2017  1.948540e+13  2017    19.42\n",
      "9          USA  2018  2.049410e+13  2017    19.42\n"
     ]
    }
   ],
   "source": [
    "# Use merge_ordered() to merge gdp and sp500, interpolate missing value\n",
    "gdp_sp500 = pd.merge_ordered(gdp, sp500, left_on='year', right_on='date',\n",
    "                             how='left', fill_method='ffill')\n",
    "\n",
    "\n",
    "# Print gdp_sp500\n",
    "print (gdp_sp500)"
   ],
   "metadata": {
    "collapsed": false,
    "ExecuteTime": {
     "end_time": "2024-04-24T11:00:24.020358Z",
     "start_time": "2024-04-24T11:00:24.011109Z"
    }
   },
   "id": "87c3abd29a6c3f09",
   "execution_count": 4
  },
  {
   "cell_type": "code",
   "outputs": [],
   "source": [
    "# Use merge_ordered() to merge gdp and sp500, interpolate missing value\n",
    "gdp_sp500 = pd.merge_ordered(____)\n",
    "\n",
    "\n",
    "# Print gdp_sp500\n",
    "print (gdp_sp500)"
   ],
   "metadata": {
    "collapsed": false
   },
   "id": "ab8e73f64c56e412"
  },
  {
   "cell_type": "markdown",
   "source": [
    "#### Instructions 3/3\n",
    "\n",
    "- Subset the gdp_sp500 table, select the gdp and returns columns, and save as gdp_returns.\n",
    "- Print the correlation matrix of the gdp_returns table using the .corr() method."
   ],
   "metadata": {
    "collapsed": false
   },
   "id": "40aabf94dadc9da6"
  },
  {
   "cell_type": "code",
   "outputs": [
    {
     "name": "stdout",
     "output_type": "stream",
     "text": [
      "              gdp   returns\n",
      "gdp      1.000000  0.212173\n",
      "returns  0.212173  1.000000\n"
     ]
    }
   ],
   "source": [
    "# Subset the gdp and returns columns\n",
    "gdp_returns = gdp_sp500[['gdp', 'returns']]\n",
    "\n",
    "# Print gdp_returns correlation\n",
    "print (gdp_returns.corr())"
   ],
   "metadata": {
    "collapsed": false,
    "ExecuteTime": {
     "end_time": "2024-04-24T11:10:55.260707Z",
     "start_time": "2024-04-24T11:10:55.253638Z"
    }
   },
   "id": "4dffd49fce0e7c95",
   "execution_count": 13
  },
  {
   "cell_type": "code",
   "outputs": [],
   "source": [
    "# Subset the gdp and returns columns\n",
    "gdp_returns = ____\n",
    "\n",
    "# Print gdp_returns correlation\n",
    "print (____)"
   ],
   "metadata": {
    "collapsed": false
   },
   "id": "9802b9b50ba8498e"
  },
  {
   "cell_type": "markdown",
   "source": [],
   "metadata": {
    "collapsed": false
   },
   "id": "9ad08409f1fa4c90"
  },
  {
   "cell_type": "markdown",
   "source": [
    "### Phillips curve using merge_ordered()\n",
    "There is an economic theory developed by A. W. Phillips which states that inflation and unemployment have an inverse relationship. The theory claims that with economic growth comes inflation, which in turn should lead to more jobs and less unemployment.\n",
    "\n",
    "You will take two tables of data from the U.S. Bureau of Labor Statistics, containing unemployment and inflation data over different periods, and create a Phillips curve. The tables have different frequencies. One table has a data entry every six months, while the other has a data entry every month. You will need to use the entries where you have data within both tables.\n",
    "\n",
    "The tables unemployment and inflation have been loaded for you."
   ],
   "metadata": {
    "collapsed": false
   },
   "id": "97d5cb753cbefe36"
  },
  {
   "cell_type": "code",
   "outputs": [],
   "source": [
    "unemployment = pd.read_csv('datasets/unemployment.csv')\n",
    "inflation = pd.read_csv('datasets/inflation.csv')"
   ],
   "metadata": {
    "collapsed": false,
    "ExecuteTime": {
     "end_time": "2024-04-25T04:53:27.050585Z",
     "start_time": "2024-04-25T04:53:27.042209Z"
    }
   },
   "id": "5ceefe3a2700607f",
   "execution_count": 2
  },
  {
   "cell_type": "markdown",
   "source": [
    "#### Instructions\n",
    "\n",
    "- Use merge_ordered() to merge the inflation and unemployment tables on date with an inner join, and save the results as inflation_unemploy.\n",
    "- Print the inflation_unemploy variable.\n",
    "- Using inflation_unemploy, create a scatter plot with unemployment_rate on the horizontal axis and cpi (inflation) on the vertical axis."
   ],
   "metadata": {
    "collapsed": false
   },
   "id": "c27e1468b4e8f565"
  },
  {
   "cell_type": "code",
   "outputs": [
    {
     "name": "stdout",
     "output_type": "stream",
     "text": [
      "         date      cpi     seriesid                  data_type  \\\n",
      "0  2014-01-01  235.288  CUSR0000SA0  SEASONALLY ADJUSTED INDEX   \n",
      "1  2014-06-01  237.231  CUSR0000SA0  SEASONALLY ADJUSTED INDEX   \n",
      "2  2015-01-01  234.718  CUSR0000SA0  SEASONALLY ADJUSTED INDEX   \n",
      "3  2015-06-01  237.684  CUSR0000SA0  SEASONALLY ADJUSTED INDEX   \n",
      "4  2016-01-01  237.833  CUSR0000SA0  SEASONALLY ADJUSTED INDEX   \n",
      "5  2016-06-01  240.167  CUSR0000SA0  SEASONALLY ADJUSTED INDEX   \n",
      "6  2017-01-01  243.780  CUSR0000SA0  SEASONALLY ADJUSTED INDEX   \n",
      "7  2017-06-01  244.182  CUSR0000SA0  SEASONALLY ADJUSTED INDEX   \n",
      "8  2018-01-01  248.884  CUSR0000SA0  SEASONALLY ADJUSTED INDEX   \n",
      "9  2018-06-01  251.134  CUSR0000SA0  SEASONALLY ADJUSTED INDEX   \n",
      "\n",
      "   unemployment_rate  \n",
      "0                6.7  \n",
      "1                6.1  \n",
      "2                5.6  \n",
      "3                5.3  \n",
      "4                5.0  \n",
      "5                4.9  \n",
      "6                4.7  \n",
      "7                4.3  \n",
      "8                4.1  \n",
      "9                4.0  \n"
     ]
    },
    {
     "data": {
      "text/plain": "<Figure size 640x480 with 1 Axes>",
      "image/png": "[encoded data removed]"
     },
     "metadata": {},
     "output_type": "display_data"
    }
   ],
   "source": [
    "import matplotlib.pyplot as plt\n",
    "# Use merge_ordered() to merge inflation, unemployment with inner join\n",
    "inflation_unemploy = pd.merge_ordered(inflation, unemployment, on='date', how='inner',)\n",
    "\n",
    "# Print inflation_unemploy \n",
    "print (inflation_unemploy)\n",
    "\n",
    "# Plot a scatter plot of unemployment_rate vs cpi of inflation_unemploy\n",
    "inflation_unemploy.plot(kind='scatter', x='unemployment_rate', y='cpi')\n",
    "plt.show()"
   ],
   "metadata": {
    "collapsed": false,
    "ExecuteTime": {
     "end_time": "2024-04-24T12:55:34.863336Z",
     "start_time": "2024-04-24T12:55:34.703409Z"
    }
   },
   "id": "f50c9bc4aa494087",
   "execution_count": 18
  },
  {
   "cell_type": "code",
   "outputs": [],
   "source": [
    "# Use merge_ordered() to merge inflation, unemployment with inner join\n",
    "inflation_unemploy = ____\n",
    "\n",
    "# Print inflation_unemploy \n",
    "____\n",
    "\n",
    "# Plot a scatter plot of unemployment_rate vs cpi of inflation_unemploy\n",
    "inflation_unemploy.plot(____)\n",
    "plt.show()"
   ],
   "metadata": {
    "collapsed": false
   },
   "id": "406319556a3f327a"
  },
  {
   "cell_type": "markdown",
   "source": [
    "Great work! You created a Phillips curve. There are critics of the curve, but what is more important in this example is that you were able to use entries where you had entries in both tables by using an inner join. You might ask why not use the default outer join and use forward fill to fill to estimate the missing variables. You might choose differently. In this case, instead of showing an estimated unemployment rate (which is a continually changing measure) for five periods, that data was dropped from the plot."
   ],
   "metadata": {
    "collapsed": false
   },
   "id": "3c30252bd691d709"
  },
  {
   "cell_type": "markdown",
   "source": [
    "#### merge_ordered() caution, multiple columns\n",
    "When using merge_ordered() to merge on multiple columns, the order is important when you combine it with the forward fill feature. The function sorts the merge on columns in the order provided. In this exercise, we will merge GDP and population data from the World Bank for the Australia and Sweden, reversing the order of the merge on columns. The frequency of the series are different, the GDP values are quarterly, and the population is yearly. Use the forward fill feature to fill in the missing data. Depending on the order provided, the fill forward will use unintended data to fill in the missing values.\n",
    "\n",
    "The tables gdp and pop have been loaded."
   ],
   "metadata": {
    "collapsed": false
   },
   "id": "f7a9a5a1198f114a"
  },
  {
   "cell_type": "code",
   "outputs": [],
   "source": [
    "pop = pd.read_csv('datasets/pop_2.csv')\n",
    "gdp = pd.read_csv('datasets/gdp_2.csv')"
   ],
   "metadata": {
    "collapsed": false,
    "ExecuteTime": {
     "end_time": "2024-04-25T07:25:01.461164Z",
     "start_time": "2024-04-25T07:25:01.452375Z"
    }
   },
   "id": "ed7e2792f301b7f8",
   "execution_count": 10
  },
  {
   "cell_type": "markdown",
   "source": [
    "#### Instructions 1/2\n",
    "\n",
    "Use merge_ordered() on gdp and pop, merging on columns date and country with the fill feature, save to ctry_date."
   ],
   "metadata": {
    "collapsed": false
   },
   "id": "f0e62095c6d51a2e"
  },
  {
   "cell_type": "code",
   "outputs": [
    {
     "name": "stdout",
     "output_type": "stream",
     "text": [
      "          date    country         gdp_x  series_code_x         gdp_y  \\\n",
      "0   1990-01-01  Australia  158051.13240  NYGDPMKTPSAKD  158051.13240   \n",
      "1   1990-01-01     Sweden   79837.84599  NYGDPMKTPSAKD   79837.84599   \n",
      "2   1990-04-01  Australia  158263.58160  NYGDPMKTPSAKD  158263.58160   \n",
      "3   1990-04-01     Sweden   80582.28597  NYGDPMKTPSAKD   80582.28597   \n",
      "4   1990-07-01  Australia  157329.27900  NYGDPMKTPSAKD  157329.27900   \n",
      "5   1990-07-01     Sweden   79974.36017  NYGDPMKTPSAKD   79974.36017   \n",
      "6   1990-09-01  Australia  158240.67810  NYGDPMKTPSAKD  158240.67810   \n",
      "7   1990-09-01     Sweden   80106.49738  NYGDPMKTPSAKD   80106.49738   \n",
      "8   1991-01-01  Australia  156195.95350  NYGDPMKTPSAKD  156195.95350   \n",
      "9   1991-01-01     Sweden   79524.24192  NYGDPMKTPSAKD   79524.24192   \n",
      "10  1991-04-01  Australia  155989.03270  NYGDPMKTPSAKD  155989.03270   \n",
      "11  1991-04-01     Sweden   79073.05901  NYGDPMKTPSAKD   79073.05901   \n",
      "12  1991-07-01  Australia  156635.85760  NYGDPMKTPSAKD  156635.85760   \n",
      "13  1991-07-01     Sweden   79084.77036  NYGDPMKTPSAKD   79084.77036   \n",
      "14  1991-09-01  Australia  156744.05660  NYGDPMKTPSAKD  156744.05660   \n",
      "15  1991-09-01     Sweden   79740.60625  NYGDPMKTPSAKD   79740.60625   \n",
      "16  1992-01-01  Australia  157916.08110  NYGDPMKTPSAKD  157916.08110   \n",
      "17  1992-01-01     Sweden   79390.92175  NYGDPMKTPSAKD   79390.92175   \n",
      "18  1992-04-01  Australia  159047.82710  NYGDPMKTPSAKD  159047.82710   \n",
      "19  1992-04-01     Sweden   79060.28298  NYGDPMKTPSAKD   79060.28298   \n",
      "20  1992-07-01  Australia  160658.17600  NYGDPMKTPSAKD  160658.17600   \n",
      "21  1992-07-01     Sweden   78904.60477  NYGDPMKTPSAKD   78904.60477   \n",
      "22  1992-09-01  Australia  163960.22070  NYGDPMKTPSAKD  163960.22070   \n",
      "23  1992-09-01     Sweden   76996.83684  NYGDPMKTPSAKD   76996.83684   \n",
      "24  1993-01-01  Australia  165097.49510  NYGDPMKTPSAKD  165097.49510   \n",
      "25  1993-01-01     Sweden   75783.58777  NYGDPMKTPSAKD   75783.58777   \n",
      "26  1993-04-01  Australia  166027.05900  NYGDPMKTPSAKD  166027.05900   \n",
      "27  1993-04-01     Sweden   76708.54823  NYGDPMKTPSAKD   76708.54823   \n",
      "28  1993-07-01  Australia  166203.17860  NYGDPMKTPSAKD  166203.17860   \n",
      "29  1993-07-01     Sweden   77662.01816  NYGDPMKTPSAKD   77662.01816   \n",
      "30  1993-09-01  Australia  169279.34790  NYGDPMKTPSAKD  169279.34790   \n",
      "31  1993-09-01     Sweden   77703.30364  NYGDPMKTPSAKD   77703.30364   \n",
      "\n",
      "    series_code_y  \n",
      "0   NYGDPMKTPSAKD  \n",
      "1   NYGDPMKTPSAKD  \n",
      "2   NYGDPMKTPSAKD  \n",
      "3   NYGDPMKTPSAKD  \n",
      "4   NYGDPMKTPSAKD  \n",
      "5   NYGDPMKTPSAKD  \n",
      "6   NYGDPMKTPSAKD  \n",
      "7   NYGDPMKTPSAKD  \n",
      "8   NYGDPMKTPSAKD  \n",
      "9   NYGDPMKTPSAKD  \n",
      "10  NYGDPMKTPSAKD  \n",
      "11  NYGDPMKTPSAKD  \n",
      "12  NYGDPMKTPSAKD  \n",
      "13  NYGDPMKTPSAKD  \n",
      "14  NYGDPMKTPSAKD  \n",
      "15  NYGDPMKTPSAKD  \n",
      "16  NYGDPMKTPSAKD  \n",
      "17  NYGDPMKTPSAKD  \n",
      "18  NYGDPMKTPSAKD  \n",
      "19  NYGDPMKTPSAKD  \n",
      "20  NYGDPMKTPSAKD  \n",
      "21  NYGDPMKTPSAKD  \n",
      "22  NYGDPMKTPSAKD  \n",
      "23  NYGDPMKTPSAKD  \n",
      "24  NYGDPMKTPSAKD  \n",
      "25  NYGDPMKTPSAKD  \n",
      "26  NYGDPMKTPSAKD  \n",
      "27  NYGDPMKTPSAKD  \n",
      "28  NYGDPMKTPSAKD  \n",
      "29  NYGDPMKTPSAKD  \n",
      "30  NYGDPMKTPSAKD  \n",
      "31  NYGDPMKTPSAKD  \n"
     ]
    }
   ],
   "source": [
    "# Merge gdp and pop on date and country with fill and notice rows 2 and 3\n",
    "ctry_date = pd.merge_ordered(gdp, pop, on=['date', 'country'], fill_method='ffill')\n",
    "\n",
    "# Print ctry_date\n",
    "print(ctry_date)"
   ],
   "metadata": {
    "collapsed": false,
    "ExecuteTime": {
     "end_time": "2024-04-25T07:25:29.554684Z",
     "start_time": "2024-04-25T07:25:29.538281Z"
    }
   },
   "id": "489ec65affdb1e5a",
   "execution_count": 11
  },
  {
   "cell_type": "markdown",
   "source": [
    "2. Perform the same merge of gdp and pop, but join on country and date (reverse of step 1) with the fill feature, saving this as date_ctry."
   ],
   "metadata": {
    "collapsed": false
   },
   "id": "f817f6d653c0a8c"
  },
  {
   "cell_type": "code",
   "outputs": [
    {
     "name": "stdout",
     "output_type": "stream",
     "text": [
      "          date    country         gdp_x  series_code_x         gdp_y  \\\n",
      "0   1990-01-01  Australia  158051.13240  NYGDPMKTPSAKD  158051.13240   \n",
      "1   1990-04-01  Australia  158263.58160  NYGDPMKTPSAKD  158263.58160   \n",
      "2   1990-07-01  Australia  157329.27900  NYGDPMKTPSAKD  157329.27900   \n",
      "3   1990-09-01  Australia  158240.67810  NYGDPMKTPSAKD  158240.67810   \n",
      "4   1991-01-01  Australia  156195.95350  NYGDPMKTPSAKD  156195.95350   \n",
      "5   1991-04-01  Australia  155989.03270  NYGDPMKTPSAKD  155989.03270   \n",
      "6   1991-07-01  Australia  156635.85760  NYGDPMKTPSAKD  156635.85760   \n",
      "7   1991-09-01  Australia  156744.05660  NYGDPMKTPSAKD  156744.05660   \n",
      "8   1992-01-01  Australia  157916.08110  NYGDPMKTPSAKD  157916.08110   \n",
      "9   1992-04-01  Australia  159047.82710  NYGDPMKTPSAKD  159047.82710   \n",
      "10  1992-07-01  Australia  160658.17600  NYGDPMKTPSAKD  160658.17600   \n",
      "11  1992-09-01  Australia  163960.22070  NYGDPMKTPSAKD  163960.22070   \n",
      "12  1993-01-01  Australia  165097.49510  NYGDPMKTPSAKD  165097.49510   \n",
      "13  1993-04-01  Australia  166027.05900  NYGDPMKTPSAKD  166027.05900   \n",
      "14  1993-07-01  Australia  166203.17860  NYGDPMKTPSAKD  166203.17860   \n",
      "15  1993-09-01  Australia  169279.34790  NYGDPMKTPSAKD  169279.34790   \n",
      "16  1990-01-01     Sweden   79837.84599  NYGDPMKTPSAKD   79837.84599   \n",
      "17  1990-04-01     Sweden   80582.28597  NYGDPMKTPSAKD   80582.28597   \n",
      "18  1990-07-01     Sweden   79974.36017  NYGDPMKTPSAKD   79974.36017   \n",
      "19  1990-09-01     Sweden   80106.49738  NYGDPMKTPSAKD   80106.49738   \n",
      "20  1991-01-01     Sweden   79524.24192  NYGDPMKTPSAKD   79524.24192   \n",
      "21  1991-04-01     Sweden   79073.05901  NYGDPMKTPSAKD   79073.05901   \n",
      "22  1991-07-01     Sweden   79084.77036  NYGDPMKTPSAKD   79084.77036   \n",
      "23  1991-09-01     Sweden   79740.60625  NYGDPMKTPSAKD   79740.60625   \n",
      "24  1992-01-01     Sweden   79390.92175  NYGDPMKTPSAKD   79390.92175   \n",
      "25  1992-04-01     Sweden   79060.28298  NYGDPMKTPSAKD   79060.28298   \n",
      "26  1992-07-01     Sweden   78904.60477  NYGDPMKTPSAKD   78904.60477   \n",
      "27  1992-09-01     Sweden   76996.83684  NYGDPMKTPSAKD   76996.83684   \n",
      "28  1993-01-01     Sweden   75783.58777  NYGDPMKTPSAKD   75783.58777   \n",
      "29  1993-04-01     Sweden   76708.54823  NYGDPMKTPSAKD   76708.54823   \n",
      "30  1993-07-01     Sweden   77662.01816  NYGDPMKTPSAKD   77662.01816   \n",
      "31  1993-09-01     Sweden   77703.30364  NYGDPMKTPSAKD   77703.30364   \n",
      "\n",
      "    series_code_y  \n",
      "0   NYGDPMKTPSAKD  \n",
      "1   NYGDPMKTPSAKD  \n",
      "2   NYGDPMKTPSAKD  \n",
      "3   NYGDPMKTPSAKD  \n",
      "4   NYGDPMKTPSAKD  \n",
      "5   NYGDPMKTPSAKD  \n",
      "6   NYGDPMKTPSAKD  \n",
      "7   NYGDPMKTPSAKD  \n",
      "8   NYGDPMKTPSAKD  \n",
      "9   NYGDPMKTPSAKD  \n",
      "10  NYGDPMKTPSAKD  \n",
      "11  NYGDPMKTPSAKD  \n",
      "12  NYGDPMKTPSAKD  \n",
      "13  NYGDPMKTPSAKD  \n",
      "14  NYGDPMKTPSAKD  \n",
      "15  NYGDPMKTPSAKD  \n",
      "16  NYGDPMKTPSAKD  \n",
      "17  NYGDPMKTPSAKD  \n",
      "18  NYGDPMKTPSAKD  \n",
      "19  NYGDPMKTPSAKD  \n",
      "20  NYGDPMKTPSAKD  \n",
      "21  NYGDPMKTPSAKD  \n",
      "22  NYGDPMKTPSAKD  \n",
      "23  NYGDPMKTPSAKD  \n",
      "24  NYGDPMKTPSAKD  \n",
      "25  NYGDPMKTPSAKD  \n",
      "26  NYGDPMKTPSAKD  \n",
      "27  NYGDPMKTPSAKD  \n",
      "28  NYGDPMKTPSAKD  \n",
      "29  NYGDPMKTPSAKD  \n",
      "30  NYGDPMKTPSAKD  \n",
      "31  NYGDPMKTPSAKD  \n"
     ]
    }
   ],
   "source": [
    "# Merge gdp and pop on country and date with fill\n",
    "date_ctry = pd.merge_ordered(gdp, pop, on=['country', 'date'], fill_method='ffill')\n",
    "\n",
    "# Print date_ctry\n",
    "print(date_ctry)"
   ],
   "metadata": {
    "collapsed": false,
    "ExecuteTime": {
     "end_time": "2024-04-25T07:26:59.609982Z",
     "start_time": "2024-04-25T07:26:59.598528Z"
    }
   },
   "id": "1ca9a54e3b593052",
   "execution_count": 12
  },
  {
   "cell_type": "markdown",
   "source": [],
   "metadata": {
    "collapsed": false
   },
   "id": "afecc5d3b2765009"
  },
  {
   "cell_type": "markdown",
   "source": [
    "Nice! When you merge on date first, the table is sorted by date then country. When forward fill is applied, Sweden's population value in January is used to fill in the missing values for both Australia and the Sweden for the remainder of the year. This is not what you want. The fill forward is using unintended data to fill in the missing values. However, when you merge on country first, the table is sorted by country then date, so the forward fill is applied appropriately in this situation."
   ],
   "metadata": {
    "collapsed": false
   },
   "id": "181d62c6f91f67a9"
  },
  {
   "cell_type": "markdown",
   "source": [
    "#### Using merge_asof() to study stocks\n",
    "You have a feed of stock market prices that you record. You attempt to track the price every five minutes. Still, due to some network latency, the prices you record are roughly every 5 minutes. You pull your price logs for three banks, JP Morgan (JPM), Wells Fargo (WFC), and Bank Of America (BAC). You want to know how the price change of the two other banks compare to JP Morgan. Therefore, you will need to merge these three logs into one table. Afterward, you will use the pandas .diff() method to compute the price change over time. Finally, plot the price changes so you can review your analysis.\n",
    "\n",
    "The three log files have been loaded for you as tables named jpm, wells, and bac."
   ],
   "metadata": {
    "collapsed": false
   },
   "id": "b5bc11bec8b1baf0"
  },
  {
   "cell_type": "code",
   "outputs": [],
   "source": [
    "import pandas as pd\n",
    "import matplotlib.pyplot as plt\n",
    "jpm = pd.read_csv('datasets/jpm.csv')\n",
    "wells = pd.read_csv('datasets/wells.csv')\n",
    "bac = pd.read_csv('datasets/bac.csv')"
   ],
   "metadata": {
    "collapsed": false,
    "ExecuteTime": {
     "end_time": "2024-04-30T13:54:36.440453Z",
     "start_time": "2024-04-30T13:54:36.187521Z"
    }
   },
   "id": "cf4d3d11121923a8",
   "execution_count": 7
  },
  {
   "cell_type": "markdown",
   "source": [
    "#### Instructions\n",
    "\n",
    "- Use merge_asof() to merge jpm (left table) and wells together on the date_time column, where the rows with the nearest times are matched, and with suffixes=('', '_wells'). Save to jpm_wells.\n",
    "- Use merge_asof() to merge jpm_wells (left table) and bac together on the date_time column, where the rows with the closest times are matched, and with suffixes=('_jpm', '_bac'). Save to jpm_wells_bac.\n",
    "- Using price_diffs, create a line plot of the close price of JPM, WFC, and BAC only."
   ],
   "metadata": {
    "collapsed": false
   },
   "id": "a3d09fbd77786105"
  },
  {
   "cell_type": "code",
   "outputs": [
    {
     "data": {
      "text/plain": "<Figure size 640x480 with 1 Axes>",
      "image/png": "[encoded data removed]"
     },
     "metadata": {},
     "output_type": "display_data"
    }
   ],
   "source": [
    "# Use merge_asof() to merge jpm and wells\n",
    "jpm_wells = pd.merge_asof(jpm, wells, on='date_time', suffixes=('_jpm', '_wells'))\n",
    "\n",
    "# Use merge_asof() to merge jpm_wells and bac\n",
    "jpm_wells_bac = pd.merge_asof(jpm_wells, bac, on='date_time', suffixes=('_jpm', '_bac'))\n",
    "\n",
    "# Compute price diff\n",
    "price_diffs = jpm_wells_bac.diff()\n",
    "\n",
    "# Plot the price diff of the close of jpm, wells, and bac only\n",
    "price_diffs.plot(y=['close_jpm', 'close_wells', 'close'])\n",
    "plt.show()"
   ],
   "metadata": {
    "collapsed": false,
    "ExecuteTime": {
     "end_time": "2024-04-30T13:57:21.358529Z",
     "start_time": "2024-04-30T13:57:21.176142Z"
    }
   },
   "id": "b44d9d5ae29ee08c",
   "execution_count": 13
  },
  {
   "cell_type": "code",
   "outputs": [],
   "source": [
    "# Use merge_asof() to merge jpm and wells\n",
    "jpm_wells = ____\n",
    "\n",
    "\n",
    "# Use merge_asof() to merge jpm_wells and bac\n",
    "jpm_wells_bac = ____\n",
    "\n",
    "\n",
    "# Compute price diff\n",
    "price_diffs = jpm_wells_bac.diff()\n",
    "\n",
    "# Plot the price diff of the close of jpm, wells and bac only\n",
    "price_diffs.plot(y=[____, ____, ____])\n",
    "plt.show()"
   ],
   "metadata": {
    "collapsed": false
   },
   "id": "7ae07f1e40703fbb"
  }
 ],
 "metadata": {
  "kernelspec": {
   "display_name": "Python 3",
   "language": "python",
   "name": "python3"
  },
  "language_info": {
   "codemirror_mode": {
    "name": "ipython",
    "version": 2
   },
   "file_extension": ".py",
   "mimetype": "text/x-python",
   "name": "python",
   "nbconvert_exporter": "python",
   "pygments_lexer": "ipython2",
   "version": "2.7.6"
  }
 },
 "nbformat": 4,
 "nbformat_minor": 5
}
