{
 "cells": [
  {
   "cell_type": "markdown",
   "source": [
    "## Correlation between GDP and S&P500"
   ],
   "metadata": {
    "collapsed": false
   },
   "id": "dabbf37f742bef2b"
  },
  {
   "cell_type": "markdown",
   "source": [
    "In this exercise, you want to analyze stock returns from the S&P 500. You believe there may be a relationship between the returns of the S&P 500 and the GDP of the US. Merge the different datasets together to compute the correlation.\n",
    "\n",
    "Two tables have been provided for you, named `sp500`, and `gdp`. As always, pandas has been imported for you as pd."
   ],
   "metadata": {
    "collapsed": false
   },
   "id": "7159dc843e4dc339"
  },
  {
   "cell_type": "code",
   "outputs": [],
   "source": [
    "import pandas as pd\n",
    "sp500 = pd.read_csv('datasets/sp500.csv')\n",
    "gdp = pd.read_csv('datasets/gdp.csv')"
   ],
   "metadata": {
    "collapsed": false,
    "ExecuteTime": {
     "end_time": "2024-04-23T06:38:53.283060Z",
     "start_time": "2024-04-23T06:38:52.656316Z"
    }
   },
   "id": "d0af74e9663e6955",
   "execution_count": 1
  },
  {
   "cell_type": "code",
   "execution_count": null,
   "id": "initial_id",
   "metadata": {
    "collapsed": true
   },
   "outputs": [],
   "source": [
    "# Use merge_ordered() to merge gdp and sp500 on year and date\n",
    "gdp_sp500 = pd.merge_ordered(____, ____, left_on=____, right_on=____,\n",
    "                             how=____)\n",
    "\n",
    "# Print gdp_sp500\n",
    "print(____)"
   ]
  }
 ],
 "metadata": {
  "kernelspec": {
   "display_name": "Python 3",
   "language": "python",
   "name": "python3"
  },
  "language_info": {
   "codemirror_mode": {
    "name": "ipython",
    "version": 2
   },
   "file_extension": ".py",
   "mimetype": "text/x-python",
   "name": "python",
   "nbconvert_exporter": "python",
   "pygments_lexer": "ipython2",
   "version": "2.7.6"
  }
 },
 "nbformat": 4,
 "nbformat_minor": 5
}
