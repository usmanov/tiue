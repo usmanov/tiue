{
 "cells": [
  {
   "cell_type": "code",
   "execution_count": null,
   "id": "initial_id",
   "metadata": {
    "collapsed": true
   },
   "outputs": [],
   "source": [
    "# Loop Data Structures Part 1"
   ]
  },
  {
   "cell_type": "markdown",
   "source": [
    "## Loop over dictionary\n",
    "In Python 3, you need the **items()** method to loop over a dictionary:\n",
    "\n",
    "    world = { \"afghanistan\":30.55, \n",
    "              \"albania\":2.77,\n",
    "              \"algeria\":39.21 }\n",
    "    \n",
    "    for key, value in world.items() :\n",
    "        print(key + \" -- \" + str(value))\n",
    "\n",
    "Remember the `europe` dictionary that contained the names of some European countries as key and their capitals as corresponding value? Go ahead and write a loop to iterate over it!"
   ],
   "metadata": {
    "collapsed": false
   },
   "id": "9d8304f71bb9fb4f"
  },
  {
   "cell_type": "markdown",
   "source": [
    "### Instructions\n",
    "\n",
    "- Write a `for` loop that goes through each key:value pair of `europe`. On each iteration, `the capital of x is y` should be printed out, where x is the key and y is the value of the pair."
   ],
   "metadata": {
    "collapsed": false
   },
   "id": "f2365cd92e90b47d"
  },
  {
   "cell_type": "code",
   "outputs": [],
   "source": [
    "# Definition of dictionary\n",
    "europe = {'spain':'madrid', 'france':'paris', 'germany':'berlin',\n",
    "          'norway':'oslo', 'italy':'rome', 'poland':'warsaw', 'austria':'vienna' }\n",
    "\n",
    "# Iterate over europe\n",
    "for country, capital in europe.items():\n",
    "    print(\"the capital of \" + country + \" is \" + capital)"
   ],
   "metadata": {
    "collapsed": false
   },
   "id": "91aabbf6d1c2cb98"
  },
  {
   "cell_type": "markdown",
   "source": [
    "## Loop over NumPy array\n",
    "If you're dealing with a 1D NumPy array, looping over all elements can be as simple as:\n",
    "\n",
    "    for x in my_array :\n",
    "        ...\n",
    "        \n",
    "If you're dealing with a 2D NumPy array, it's more complicated. A 2D array is built up of multiple 1D arrays. To explicitly iterate over all separate elements of a multi-dimensional array, you'll need this syntax:\n",
    "\n",
    "    for x in np.nditer(my_array) :\n",
    "        ...\n",
    "        \n",
    "Two NumPy arrays that you might recognize from the intro course are available in your Python session: np_height, a NumPy array containing the heights of Major League Baseball players, and np_baseball, a 2D NumPy array that contains both the heights (first column) and weights (second column) of those players."
   ],
   "metadata": {
    "collapsed": false
   },
   "id": "e90535e0234b11bb"
  },
  {
   "cell_type": "markdown",
   "source": [
    "### Instructions\n",
    "\n",
    "- Import the `numpy` package under the local alias `np`.\n",
    "- Write a `for` loop that iterates over all elements in `np_height` and prints out \"`x inches`\" for each element, where x is the value in the array.\n",
    "- Write a for loop that visits every element of the `np_baseball` array and prints it out."
   ],
   "metadata": {
    "collapsed": false
   },
   "id": "32022d6880f88ab8"
  },
  {
   "cell_type": "code",
   "outputs": [],
   "source": [
    "import pandas as pd\n",
    "import numpy as np\n",
    "baseball = pd.read_csv('datasets/MLB(baseball).csv')\n",
    "\n",
    "np_height = np.array(baseball['Height'])\n",
    "np_baseball = np.array(baseball[['Height', 'Weight']])\n",
    "\n",
    "# For loop over np_height\n",
    "for height in np_height:\n",
    "    print(str(height) + \" inches\")\n",
    "\n",
    "# For loop over np_baseball\n",
    "for x in np.nditer(np_baseball):\n",
    "    print(x)"
   ],
   "metadata": {
    "collapsed": false
   },
   "id": "990fd0ce0483f7f4"
  },
  {
   "cell_type": "markdown",
   "source": [
    "## Loop over DataFrame (1)\n",
    "\n",
    "Iterating over a Pandas DataFrame is typically done with the **iterrows()** method. Used in a `for` loop, every observation is iterated over and on every iteration the row label and actual row contents are available:\n",
    "\n",
    "    for lab, row in brics.iterrows() :\n",
    "        ...\n",
    "        \n",
    "In this and the following exercises you will be working on the `cars` DataFrame. It contains information on the cars per capita and whether people drive right or left for seven countries in the world."
   ],
   "metadata": {
    "collapsed": false
   },
   "id": "1e036d6ccdf420d2"
  },
  {
   "cell_type": "markdown",
   "source": [
    "### Instructions\n",
    "\n",
    "Write a `for` loop that iterates over the rows of `cars` and on each iteration perform two **print()** calls: one to print out the row label and one to print out all of the rows contents."
   ],
   "metadata": {
    "collapsed": false
   },
   "id": "26b0d513008bf81"
  },
  {
   "cell_type": "code",
   "outputs": [],
   "source": [
    "cars = pd.read_csv('datasets/cars.csv', index_col = 0)\n",
    "\n",
    "# Iterate over rows of cars\n",
    "for lab, row in cars.iterrows():\n",
    "    print(lab)\n",
    "    print(row)"
   ],
   "metadata": {
    "collapsed": false
   },
   "id": "a3522a7fbc6799a0"
  },
  {
   "cell_type": "markdown",
   "source": [
    "## Loop over DataFrame (2)\n",
    "The row data that's generated by `iterrows()` on every run is a Pandas Series. This format is not very convenient to print out. Luckily, you can easily select variables from the Pandas Series using square brackets:\n",
    "\n",
    "    for lab, row in brics.iterrows() :\n",
    "        print(row['country'])\n",
    "       "
   ],
   "metadata": {
    "collapsed": false
   },
   "id": "d225efc6c889ce9a"
  },
  {
   "cell_type": "markdown",
   "source": [
    "### Instructions\n",
    "\n",
    "- Using the iterators `lab` and `row`, adapt the code in the for loop such that the first iteration prints out `US: 809`, the second iteration `AUS: 731`, and so on.\n",
    "- The output should be in the form \"`country: cars_per_cap`\". Make sure to print out this exact string (with the correct spacing).\n",
    "-   You can use str() to convert your integer data to a string so that you can print it in conjunction with the country label."
   ],
   "metadata": {
    "collapsed": false
   },
   "id": "de9e17b935025e8a"
  },
  {
   "cell_type": "code",
   "outputs": [],
   "source": [
    "# Adapt for loop\n",
    "for lab, row in cars.iterrows() :\n",
    "    # print(lab)\n",
    "    print(lab + \": \" + str(row['cars_per_cap']))"
   ],
   "metadata": {
    "collapsed": false
   },
   "id": "dc8ec0614076d1fc"
  },
  {
   "cell_type": "markdown",
   "source": [
    "## Add column (1)\n",
    "In the video, Hugo showed you how to add the ````length```` of the country names of the `brics` DataFrame in a new column:\n",
    "\n",
    "    for lab, row in brics.iterrows() :\n",
    "        brics.loc[lab, \"name_length\"] = len(row[\"country\"])\n",
    "        \n",
    "You can do similar things on the cars DataFrame."
   ],
   "metadata": {
    "collapsed": false
   },
   "id": "39d89e41fd38cd41"
  },
  {
   "cell_type": "markdown",
   "source": [
    "### Instructions\n",
    "\n",
    "- Use a for loop to add a new column, named `COUNTRY`, that contains a uppercase version of the country names in the \"`country`\" column. You can use the string method **upper()** for this.\n",
    "- To see if your code worked, print out `cars`. Don't indent this code, so that it's not part of the `for` loop."
   ],
   "metadata": {
    "collapsed": false
   },
   "id": "3fcd0ba82858505c"
  },
  {
   "cell_type": "code",
   "outputs": [],
   "source": [
    "# Code for loop that adds COUNTRY column\n",
    "for lab, row in cars.iterrows() :\n",
    "    cars.loc[lab, \"COUNTRY\"] = (row[\"country\"]).upper()\n",
    "\n",
    "# Print cars\n",
    "print(cars)"
   ],
   "metadata": {
    "collapsed": false
   },
   "id": "ab9a1c278032fe22"
  },
  {
   "cell_type": "markdown",
   "source": [
    "## Add column (2)\n",
    "Using **iterrows()** to iterate over every observation of a Pandas DataFrame is easy to understand, but not very efficient. On every iteration, you're creating a new Pandas Series.\n",
    "\n",
    "If you want to add a column to a DataFrame by calling a function on another column, the **iterrows()** method in combination with a `for` loop is not the preferred way to go. Instead, you'll want to use **apply()**.\n",
    "\n",
    "Compare the **iterrows()** version with the **apply()** version to get the same result in the brics DataFrame:\n",
    "\n",
    "    for lab, row in brics.iterrows() :\n",
    "        brics.loc[lab, \"name_length\"] = len(row[\"country\"])\n",
    "    \n",
    "    brics[\"name_length\"] = brics[\"country\"].apply(len)\n",
    "    \n",
    "We can do a similar thing to call the **upper()** method on every name in the country column. However, **upper()** is a method, so we'll need a slightly different approach:"
   ],
   "metadata": {
    "collapsed": false
   },
   "id": "8e173720966736cd"
  },
  {
   "cell_type": "markdown",
   "source": [
    "### Instructions\n",
    "\n",
    "- Replace the `for` loop with a one-liner that uses `.apply(str.upper)`. The call should give the same result: a column `COUNTRY` should be added to `cars`, containing an uppercase version of the country names.\n",
    "- As usual, print out `cars` to see the fruits of your hard labor"
   ],
   "metadata": {
    "collapsed": false
   },
   "id": "a6fc957f720c43f8"
  },
  {
   "cell_type": "code",
   "outputs": [],
   "source": [
    "\n",
    "# Use .apply(str.upper)\n",
    "# for lab, row in cars.iterrows() :\n",
    "#     cars.loc[lab, \"COUNTRY\"] = row[\"country\"].upper()\n",
    "\n",
    "cars[\"COUNTRY\"] = cars[\"country\"].apply(lambda x: x.upper())\n",
    "print(cars)"
   ],
   "metadata": {
    "collapsed": false
   },
   "id": "e32465db86ad055b"
  }
 ],
 "metadata": {
  "kernelspec": {
   "display_name": "Python 3",
   "language": "python",
   "name": "python3"
  },
  "language_info": {
   "codemirror_mode": {
    "name": "ipython",
    "version": 2
   },
   "file_extension": ".py",
   "mimetype": "text/x-python",
   "name": "python",
   "nbconvert_exporter": "python",
   "pygments_lexer": "ipython2",
   "version": "2.7.6"
  }
 },
 "nbformat": 4,
 "nbformat_minor": 5
}
