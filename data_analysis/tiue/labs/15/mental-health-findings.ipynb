{
 "metadata": {
  "kernelspec": {
   "language": "python",
   "display_name": "Python 3",
   "name": "python3"
  },
  "language_info": {
   "name": "python",
   "version": "3.10.13",
   "mimetype": "text/x-python",
   "codemirror_mode": {
    "name": "ipython",
    "version": 3
   },
   "pygments_lexer": "ipython3",
   "nbconvert_exporter": "python",
   "file_extension": ".py"
  },
  "kaggle": {
   "accelerator": "none",
   "dataSources": [
    {
     "sourceId": 7872606,
     "sourceType": "datasetVersion",
     "datasetId": 4619539
    }
   ],
   "dockerImageVersionId": 30673,
   "isInternetEnabled": false,
   "language": "python",
   "sourceType": "notebook",
   "isGpuEnabled": false
  }
 },
 "nbformat_minor": 4,
 "nbformat": 4,
 "cells": [
  {
   "cell_type": "code",
   "source": "import pandas as pd\npd.plotting.register_matplotlib_converters()\nimport matplotlib.pyplot as plt\n%matplotlib inline\nimport seaborn as sns\nfrom scipy.stats import chi2_contingency\nprint(\"Setup Complete\")",
   "metadata": {
    "_uuid": "8f2839f25d086af736a60e9eeb907d3b93b6e0e5",
    "_cell_guid": "b1076dfc-b9ad-4769-8c92-a6c4dae69d19",
    "execution": {
     "iopub.status.busy": "2024-03-24T15:43:46.546079Z",
     "iopub.execute_input": "2024-03-24T15:43:46.54649Z",
     "iopub.status.idle": "2024-03-24T15:43:46.554725Z",
     "shell.execute_reply.started": "2024-03-24T15:43:46.546459Z",
     "shell.execute_reply": "2024-03-24T15:43:46.553508Z"
    },
    "trusted": true,
    "ExecuteTime": {
     "end_time": "2024-05-02T05:35:41.134074Z",
     "start_time": "2024-05-02T05:35:24.985227Z"
    }
   },
   "execution_count": 3,
   "outputs": []
  },
  {
   "cell_type": "code",
   "source": [
    "# Specify the path of the CSV file to read\n",
    "my_filepath = \"Mental Health Dataset.csv\"\n"
   ],
   "metadata": {
    "execution": {
     "iopub.status.busy": "2024-03-24T15:13:47.922038Z",
     "iopub.execute_input": "2024-03-24T15:13:47.922654Z",
     "iopub.status.idle": "2024-03-24T15:13:47.928024Z",
     "shell.execute_reply.started": "2024-03-24T15:13:47.922618Z",
     "shell.execute_reply": "2024-03-24T15:13:47.926886Z"
    },
    "trusted": true,
    "ExecuteTime": {
     "end_time": "2024-05-01T16:46:18.305347Z",
     "start_time": "2024-05-01T16:46:18.300481Z"
    }
   },
   "execution_count": 2,
   "outputs": []
  },
  {
   "cell_type": "code",
   "source": [
    "# Read the file into a variable my_data\n",
    "mental_health = pd.read_csv('Mental Health Dataset.csv', index_col=\"Country\", parse_dates=True)"
   ],
   "metadata": {
    "execution": {
     "iopub.status.busy": "2024-03-24T15:18:02.070634Z",
     "iopub.execute_input": "2024-03-24T15:18:02.071047Z",
     "iopub.status.idle": "2024-03-24T15:18:03.054093Z",
     "shell.execute_reply.started": "2024-03-24T15:18:02.071017Z",
     "shell.execute_reply": "2024-03-24T15:18:03.052921Z"
    },
    "trusted": true,
    "ExecuteTime": {
     "end_time": "2024-05-01T16:46:22.222468Z",
     "start_time": "2024-05-01T16:46:21.401190Z"
    }
   },
   "execution_count": 3,
   "outputs": []
  },
  {
   "cell_type": "code",
   "source": "# Examine the dataset\nmental_health",
   "metadata": {
    "execution": {
     "iopub.status.busy": "2024-03-24T15:18:15.309571Z",
     "iopub.execute_input": "2024-03-24T15:18:15.309985Z",
     "iopub.status.idle": "2024-03-24T15:18:15.344105Z",
     "shell.execute_reply.started": "2024-03-24T15:18:15.30994Z",
     "shell.execute_reply": "2024-03-24T15:18:15.342966Z"
    },
    "trusted": true,
    "ExecuteTime": {
     "end_time": "2024-05-01T16:46:24.986502Z",
     "start_time": "2024-05-01T16:46:24.962309Z"
    }
   },
   "execution_count": 4,
   "outputs": []
  },
  {
   "cell_type": "code",
   "source": "# List all the columns in the dataset\ncolumns_list = mental_health.columns\n\n# Print the list of column names\nprint(columns_list)",
   "metadata": {
    "execution": {
     "iopub.status.busy": "2024-03-24T15:20:18.09807Z",
     "iopub.execute_input": "2024-03-24T15:20:18.098505Z",
     "iopub.status.idle": "2024-03-24T15:20:18.105123Z",
     "shell.execute_reply.started": "2024-03-24T15:20:18.098473Z",
     "shell.execute_reply": "2024-03-24T15:20:18.104156Z"
    },
    "trusted": true,
    "ExecuteTime": {
     "end_time": "2024-05-01T16:47:10.478335Z",
     "start_time": "2024-05-01T16:47:10.472441Z"
    }
   },
   "execution_count": 5,
   "outputs": []
  },
  {
   "cell_type": "code",
   "source": "# Check for missing values in each column\nmissing_values_count = mental_health.isnull().sum()\n\n# Print the count of missing values for each column\nprint(missing_values_count)",
   "metadata": {
    "execution": {
     "iopub.status.busy": "2024-03-24T15:22:12.061138Z",
     "iopub.execute_input": "2024-03-24T15:22:12.061575Z",
     "iopub.status.idle": "2024-03-24T15:22:12.569408Z",
     "shell.execute_reply.started": "2024-03-24T15:22:12.061541Z",
     "shell.execute_reply": "2024-03-24T15:22:12.56814Z"
    },
    "trusted": true,
    "ExecuteTime": {
     "end_time": "2024-05-01T16:47:15.796049Z",
     "start_time": "2024-05-01T16:47:14.937899Z"
    }
   },
   "execution_count": 6,
   "outputs": []
  },
  {
   "cell_type": "code",
   "source": "# Drop Rows with Missing self_employed Values\nmental_health = mental_health.dropna(subset=['self_employed'])",
   "metadata": {
    "execution": {
     "iopub.status.busy": "2024-03-24T15:25:16.112695Z",
     "iopub.execute_input": "2024-03-24T15:25:16.113164Z",
     "iopub.status.idle": "2024-03-24T15:25:16.221144Z",
     "shell.execute_reply.started": "2024-03-24T15:25:16.11313Z",
     "shell.execute_reply": "2024-03-24T15:25:16.219727Z"
    },
    "trusted": true,
    "ExecuteTime": {
     "end_time": "2024-05-01T16:48:18.616262Z",
     "start_time": "2024-05-01T16:48:18.515177Z"
    }
   },
   "execution_count": 7,
   "outputs": []
  },
  {
   "cell_type": "code",
   "source": "# Check for missing values in each column\nmissing_values_count = mental_health.isnull().sum()\n\n# Print the count of missing values for each column\nprint(missing_values_count)",
   "metadata": {
    "execution": {
     "iopub.status.busy": "2024-03-24T15:25:36.000455Z",
     "iopub.execute_input": "2024-03-24T15:25:36.000901Z",
     "iopub.status.idle": "2024-03-24T15:25:36.494775Z",
     "shell.execute_reply.started": "2024-03-24T15:25:36.000868Z",
     "shell.execute_reply": "2024-03-24T15:25:36.493639Z"
    },
    "trusted": true,
    "ExecuteTime": {
     "end_time": "2024-05-01T16:48:37.186451Z",
     "start_time": "2024-05-01T16:48:36.358739Z"
    }
   },
   "execution_count": 8,
   "outputs": []
  },
  {
   "cell_type": "code",
   "source": [
    "# Step 1: Analyze the distribution of genders\n",
    "gender_distribution = mental_health['Gender'].value_counts()\n",
    "print(\"Gender Distribution:\\n\", gender_distribution)"
   ],
   "metadata": {
    "execution": {
     "iopub.status.busy": "2024-03-24T15:36:28.281992Z",
     "iopub.execute_input": "2024-03-24T15:36:28.282677Z",
     "iopub.status.idle": "2024-03-24T15:36:28.423976Z",
     "shell.execute_reply.started": "2024-03-24T15:36:28.282642Z",
     "shell.execute_reply": "2024-03-24T15:36:28.422743Z"
    },
    "trusted": true,
    "ExecuteTime": {
     "end_time": "2024-05-01T16:49:21.536375Z",
     "start_time": "2024-05-01T16:49:21.508135Z"
    }
   },
   "execution_count": 9,
   "outputs": []
  },
  {
   "metadata": {
    "ExecuteTime": {
     "end_time": "2024-05-01T16:49:32.807834Z",
     "start_time": "2024-05-01T16:49:32.721927Z"
    }
   },
   "cell_type": "code",
   "source": [
    "# Step 2: Examine the relationship between gender and treatment-seeking\n",
    "treatment_by_gender = pd.crosstab(mental_health['Gender'], mental_health['treatment'])\n",
    "print(\"\\nTreatment by Gender:\\n\", treatment_by_gender)"
   ],
   "execution_count": 10,
   "outputs": []
  },
  {
   "metadata": {
    "ExecuteTime": {
     "end_time": "2024-05-01T16:50:06.334826Z",
     "start_time": "2024-05-01T16:50:06.326431Z"
    }
   },
   "cell_type": "code",
   "source": [
    "# Calculate proportions of treatment-seeking by gender for a clearer comparison\n",
    "treatment_by_gender_proportions = treatment_by_gender.div(treatment_by_gender.sum(1), axis=0)\n",
    "print(\"\\nProportions of Treatment by Gender:\\n\", treatment_by_gender_proportions)"
   ],
   "execution_count": 11,
   "outputs": []
  },
  {
   "cell_type": "code",
   "source": "# Gender and Mental Health: How do mental health issues differ across genders? \n# Are certain genders more likely to seek treatment?\n# Step 3: Visualize the findings\n# Plotting the distribution of gender\nplt.figure(figsize=(8, 5))\nsns.countplot(data=mental_health, x='Gender')\nplt.title('Distribution of Gender')\nplt.xticks(rotation=45)\nplt.show()\n\n# Plotting the proportions of individuals seeking treatment by gender\ntreatment_by_gender_proportions.plot(kind='bar', stacked=True)\nplt.title('Proportion of Individuals Seeking Treatment by Gender')\nplt.ylabel('Proportion')\nplt.xlabel('Gender')\nplt.xticks(rotation=45)\nplt.legend(title='Treatment', labels=['No', 'Yes'])\nplt.show()",
   "metadata": {
    "execution": {
     "iopub.status.busy": "2024-03-24T15:39:29.012429Z",
     "iopub.execute_input": "2024-03-24T15:39:29.012842Z",
     "iopub.status.idle": "2024-03-24T15:39:29.986852Z",
     "shell.execute_reply.started": "2024-03-24T15:39:29.012812Z",
     "shell.execute_reply": "2024-03-24T15:39:29.985712Z"
    },
    "trusted": true,
    "ExecuteTime": {
     "end_time": "2024-05-01T16:51:02.747118Z",
     "start_time": "2024-05-01T16:51:02.028317Z"
    }
   },
   "execution_count": 12,
   "outputs": []
  },
  {
   "cell_type": "code",
   "source": "# Is there a correlation between one's occupation \n# and their mental health status or treatment-seeking behavior?\n\n# Step 1: Cross-tabulation\noccupation_treatment_ct = pd.crosstab(mental_health['Occupation'], mental_health['treatment'])\n\n# Step 2: Visualization\n# Convert counts to proportions for better comparison\noccupation_treatment_prop = occupation_treatment_ct.div(occupation_treatment_ct.sum(1), axis=0)\noccupation_treatment_prop.plot(kind='bar', stacked=True, figsize=(10, 6))\nplt.title('Treatment-Seeking Behavior by Occupation')\nplt.xlabel('Occupation')\nplt.ylabel('Proportion Seeking Treatment')\nplt.legend(title='Treatment', labels=['No', 'Yes'])\nplt.xticks(rotation=45)\nplt.tight_layout()\nplt.show()\n\n# Step 3: Statistical Test (Chi-square Test)\nchi2, p, dof, expected = chi2_contingency(occupation_treatment_ct)\nprint(f\"Chi-square Statistic: {chi2}, p-value: {p}\")",
   "metadata": {
    "execution": {
     "iopub.status.busy": "2024-03-24T15:45:23.645851Z",
     "iopub.execute_input": "2024-03-24T15:45:23.646337Z",
     "iopub.status.idle": "2024-03-24T15:45:24.216296Z",
     "shell.execute_reply.started": "2024-03-24T15:45:23.646304Z",
     "shell.execute_reply": "2024-03-24T15:45:24.215072Z"
    },
    "trusted": true,
    "ExecuteTime": {
     "end_time": "2024-05-01T16:51:18.405832Z",
     "start_time": "2024-05-01T16:51:17.889899Z"
    }
   },
   "execution_count": 13,
   "outputs": []
  },
  {
   "cell_type": "code",
   "source": "# How does having a family history of mental health issues influence \n# an individual's likelihood of experiencing similar issues or seeking treatment?\n\n# Analyze the relationship between family history and personal mental health history\ncross_tab_history = pd.crosstab(mental_health['family_history'], mental_health['Mental_Health_History'])\n\n# Analyze the relationship between family history and treatment-seeking behavior\ncross_tab_treatment = pd.crosstab(mental_health['family_history'], mental_health['treatment'])\n\n# Visualize the relationship between family history and personal mental health history\ncross_tab_history.plot(kind='bar', stacked=True, figsize=(10, 6))\nplt.title('Personal Mental Health History vs. Family History of Mental Health Issues')\nplt.xlabel('Family History of Mental Health Issues')\nplt.ylabel('Count')\nplt.xticks(rotation=0)\nplt.legend(title='Personal Mental Health History')\nplt.show()\n\n# Visualize the relationship between family history and treatment-seeking behavior\ncross_tab_treatment.plot(kind='bar', stacked=True, figsize=(10, 6))\nplt.title('Treatment Seeking Behavior vs. Family History of Mental Health Issues')\nplt.xlabel('Family History of Mental Health Issues')\nplt.ylabel('Count')\nplt.xticks(rotation=0)\nplt.legend(title='Treatment Seeking Behavior')\nplt.show()\n",
   "metadata": {
    "execution": {
     "iopub.status.busy": "2024-03-24T15:58:00.837924Z",
     "iopub.execute_input": "2024-03-24T15:58:00.838717Z",
     "iopub.status.idle": "2024-03-24T15:58:01.786569Z",
     "shell.execute_reply.started": "2024-03-24T15:58:00.838682Z",
     "shell.execute_reply": "2024-03-24T15:58:01.785456Z"
    },
    "trusted": true,
    "ExecuteTime": {
     "end_time": "2024-05-01T16:51:28.594487Z",
     "start_time": "2024-05-01T16:51:27.799443Z"
    }
   },
   "execution_count": 14,
   "outputs": []
  },
  {
   "cell_type": "code",
   "source": "# Does spending more days indoors correlate with \n# higher levels of reported stress or changes in mental health habits?\n\n# Analyze the relationship between days indoors and growing stress\ncross_tab_stress = pd.crosstab(mental_health['Days_Indoors'], mental_health['Growing_Stress'])\n\n# Analyze the relationship between days indoors and changes in habits\ncross_tab_habits = pd.crosstab(mental_health['Days_Indoors'], mental_health['Changes_Habits'])\n\n# Visualize the relationship between days indoors and growing stress\ncross_tab_stress.plot(kind='bar', stacked=True, figsize=(10, 6))\nplt.title('Reported Stress Levels vs. Days Indoors')\nplt.xlabel('Days Indoors')\nplt.ylabel('Count')\nplt.xticks(rotation=45)\nplt.legend(title='Reported Stress')\nplt.show()\n\n# Visualize the relationship between days indoors and changes in habits\ncross_tab_habits.plot(kind='bar', stacked=True, figsize=(10, 6))\nplt.title('Changes in Mental Health Habits vs. Days Indoors')\nplt.xlabel('Days Indoors')\nplt.ylabel('Count')\nplt.xticks(rotation=45)\nplt.legend(title='Changes in Habits')\nplt.show()",
   "metadata": {
    "execution": {
     "iopub.status.busy": "2024-03-24T16:10:21.978307Z",
     "iopub.execute_input": "2024-03-24T16:10:21.978725Z",
     "iopub.status.idle": "2024-03-24T16:10:22.951583Z",
     "shell.execute_reply.started": "2024-03-24T16:10:21.978696Z",
     "shell.execute_reply": "2024-03-24T16:10:22.950051Z"
    },
    "trusted": true,
    "ExecuteTime": {
     "end_time": "2024-05-01T16:51:46.291312Z",
     "start_time": "2024-05-01T16:51:45.354035Z"
    }
   },
   "execution_count": 15,
   "outputs": []
  },
  {
   "metadata": {},
   "cell_type": "code",
   "execution_count": null,
   "source": "",
   "outputs": []
  }
 ]
}
