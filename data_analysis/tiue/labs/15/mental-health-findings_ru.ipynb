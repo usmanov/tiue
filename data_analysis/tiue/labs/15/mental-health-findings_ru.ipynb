{
 "metadata": {
  "kernelspec": {
   "language": "python",
   "display_name": "Python 3",
   "name": "python3"
  },
  "language_info": {
   "name": "python",
   "version": "3.10.13",
   "mimetype": "text/x-python",
   "codemirror_mode": {
    "name": "ipython",
    "version": 3
   },
   "pygments_lexer": "ipython3",
   "nbconvert_exporter": "python",
   "file_extension": ".py"
  },
  "kaggle": {
   "accelerator": "none",
   "dataSources": [
    {
     "sourceId": 7872606,
     "sourceType": "datasetVersion",
     "datasetId": 4619539
    }
   ],
   "dockerImageVersionId": 30673,
   "isInternetEnabled": false,
   "language": "python",
   "sourceType": "notebook",
   "isGpuEnabled": false
  }
 },
 "nbformat_minor": 4,
 "nbformat": 4,
 "cells": [
  {
   "metadata": {},
   "cell_type": "markdown",
   "source": [
    "# Набор данных о психическом здоровье\n",
    "### Изучение ландшафта психического благополучия: Всесторонний анализ набора данных"
   ]
  },
  {
   "metadata": {},
   "cell_type": "markdown",
   "source": [
    "## О наборе данных\n",
    "Этот набор данных, по-видимому, содержит множество функций, связанных с анализом текста, анализом настроений и психологическими индикаторами, которые, вероятно, получены из сообщений или текстовых данных. Некоторые функции включают в себя индексы читаемости, такие как автоматический индекс читаемости (ARI), индекс Коулмана Лиау и уровень оценки Флеша-Кинкейда, а также результаты анализа настроений, такие как сложные, отрицательные, нейтральные и положительные оценки. Кроме того, существуют особенности, связанные с психологическими аспектами, такими как экономический стресс, изоляция, употребление психоактивных веществ и бытовой стресс. Набор данных, по-видимому, охватывает широкий спектр лингвистических, психологических и поведенческих характеристик, потенциально пригодных для анализа тем, связанных с психическим здоровьем, в онлайн-сообществах или текстовых данных."
   ]
  },
  {
   "cell_type": "code",
   "source": "import pandas as pd\npd.plotting.register_matplotlib_converters()\nimport matplotlib.pyplot as plt\n%matplotlib inline\nimport seaborn as sns\nfrom scipy.stats import chi2_contingency\nprint(\"Setup Complete\")",
   "metadata": {
    "_uuid": "8f2839f25d086af736a60e9eeb907d3b93b6e0e5",
    "_cell_guid": "b1076dfc-b9ad-4769-8c92-a6c4dae69d19",
    "execution": {
     "iopub.status.busy": "2024-03-24T15:43:46.546079Z",
     "iopub.execute_input": "2024-03-24T15:43:46.54649Z",
     "iopub.status.idle": "2024-03-24T15:43:46.554725Z",
     "shell.execute_reply.started": "2024-03-24T15:43:46.546459Z",
     "shell.execute_reply": "2024-03-24T15:43:46.553508Z"
    },
    "trusted": true,
    "ExecuteTime": {
     "end_time": "2024-05-02T05:36:52.601728Z",
     "start_time": "2024-05-02T05:36:52.556820Z"
    }
   },
   "execution_count": 1,
   "outputs": []
  },
  {
   "metadata": {},
   "cell_type": "markdown",
   "source": [
    "Этот код считывает CSV-файл с именем \"Mental Health Dataset.csv\" в объект DataFrame библиотеки pandas с именем `mental_health`. Рассмотрим параметры:\n",
    "\n",
    "- `pd.read_csv`: Это функция из библиотеки pandas, используемая для чтения данных из CSV-файла.\n",
    "- `\"Mental Health Dataset.csv\"`: Это путь к файлу или URL-адрес CSV-файла, который нужно прочитать. Он указывает имя и расположение файла.\n",
    "- `index_col=\"Country\"`: Этот параметр указывает, что столбец с именем \"Country\" должен быть использован в качестве индекса DataFrame. Это означает, что значения в столбце \"Country\" будут использоваться в качестве меток строк.\n",
    "- `parse_dates=True`: Этот параметр указывает, что pandas должен попытаться разобрать даты в CSV-файле в объекты datetime. Если установлено значение True, pandas автоматически обнаружит и разберет столбцы с датами.\n",
    "\n",
    "Таким образом, при выполнении этого кода данные из файла \"Mental Health Dataset.csv\" считываются в объект DataFrame библиотеки pandas с именем `mental_health`, где столбец \"Country\" используется в качестве индекса, а любые столбцы с датами разбираются в объекты datetime."
   ]
  },
  {
   "cell_type": "code",
   "source": [
    "# Считывает файл в переменную my_data\n",
    "mental_health = pd.read_csv( \"Mental Health Dataset.csv\", index_col=\"Country\", parse_dates=True)"
   ],
   "metadata": {
    "execution": {
     "iopub.status.busy": "2024-03-24T15:18:02.070634Z",
     "iopub.execute_input": "2024-03-24T15:18:02.071047Z",
     "iopub.status.idle": "2024-03-24T15:18:03.054093Z",
     "shell.execute_reply.started": "2024-03-24T15:18:02.071017Z",
     "shell.execute_reply": "2024-03-24T15:18:03.052921Z"
    },
    "trusted": true,
    "ExecuteTime": {
     "end_time": "2024-05-02T05:39:47.844292Z",
     "start_time": "2024-05-02T05:39:47.365119Z"
    }
   },
   "execution_count": 6,
   "outputs": []
  },
  {
   "cell_type": "code",
   "source": [
    "# Изучите набор данных\n",
    "mental_health"
   ],
   "metadata": {
    "execution": {
     "iopub.status.busy": "2024-03-24T15:18:15.309571Z",
     "iopub.execute_input": "2024-03-24T15:18:15.309985Z",
     "iopub.status.idle": "2024-03-24T15:18:15.344105Z",
     "shell.execute_reply.started": "2024-03-24T15:18:15.30994Z",
     "shell.execute_reply": "2024-03-24T15:18:15.342966Z"
    },
    "trusted": true,
    "ExecuteTime": {
     "end_time": "2024-05-02T05:39:50.530575Z",
     "start_time": "2024-05-02T05:39:50.515108Z"
    }
   },
   "execution_count": 7,
   "outputs": []
  },
  {
   "cell_type": "code",
   "source": [
    "# Перечислить все столбцы в наборе данных\n",
    "columns_list = mental_health.columns\n",
    "\n",
    "# Распечатать список имен столбцов\n",
    "print(columns_list)"
   ],
   "metadata": {
    "execution": {
     "iopub.status.busy": "2024-03-24T15:20:18.09807Z",
     "iopub.execute_input": "2024-03-24T15:20:18.098505Z",
     "iopub.status.idle": "2024-03-24T15:20:18.105123Z",
     "shell.execute_reply.started": "2024-03-24T15:20:18.098473Z",
     "shell.execute_reply": "2024-03-24T15:20:18.104156Z"
    },
    "trusted": true,
    "ExecuteTime": {
     "end_time": "2024-05-02T05:42:54.621055Z",
     "start_time": "2024-05-02T05:42:54.616991Z"
    }
   },
   "execution_count": 8,
   "outputs": []
  },
  {
   "cell_type": "code",
   "source": [
    "# Проверьте, нет ли пропущенных значений в каждом столбце\n",
    "missing_values_count = mental_health.isnull().sum()\n",
    "\n",
    "# Выведите количество пропущенных значений для каждого столбца\n",
    "print(missing_values_count)"
   ],
   "metadata": {
    "execution": {
     "iopub.status.busy": "2024-03-24T15:22:12.061138Z",
     "iopub.execute_input": "2024-03-24T15:22:12.061575Z",
     "iopub.status.idle": "2024-03-24T15:22:12.569408Z",
     "shell.execute_reply.started": "2024-03-24T15:22:12.061541Z",
     "shell.execute_reply": "2024-03-24T15:22:12.56814Z"
    },
    "trusted": true,
    "ExecuteTime": {
     "end_time": "2024-05-02T05:44:56.837853Z",
     "start_time": "2024-05-02T05:44:56.704479Z"
    }
   },
   "execution_count": 9,
   "outputs": []
  },
  {
   "metadata": {},
   "cell_type": "markdown",
   "source": "Этот код удаляет строки из DataFrame `mental_health`, в которых значение столбца 'self_employed' является отсутствующим (NaN). Метод `dropna()` принимает параметр `subset=['self_employed']`, что означает, что строки будут удалены только в тех случаях, когда отсутствует значение в столбце 'self_employed'."
  },
  {
   "cell_type": "code",
   "source": [
    "# Удалить строки с отсутствующими значениями self_employed\n",
    "mental_health = mental_health.dropna(subset=['self_employed'])"
   ],
   "metadata": {
    "execution": {
     "iopub.status.busy": "2024-03-24T15:25:16.112695Z",
     "iopub.execute_input": "2024-03-24T15:25:16.113164Z",
     "iopub.status.idle": "2024-03-24T15:25:16.221144Z",
     "shell.execute_reply.started": "2024-03-24T15:25:16.11313Z",
     "shell.execute_reply": "2024-03-24T15:25:16.219727Z"
    },
    "trusted": true,
    "ExecuteTime": {
     "end_time": "2024-05-02T05:45:19.115245Z",
     "start_time": "2024-05-02T05:45:19.061020Z"
    }
   },
   "execution_count": 10,
   "outputs": []
  },
  {
   "cell_type": "code",
   "source": [
    "# Проверьте, нет ли пропущенных значений в каждом столбце\n",
    "missing_values_count = mental_health.isnull().sum()\n",
    "\n",
    "# Выведите количество пропущенных значений для каждого столбца\n",
    "print(missing_values_count)"
   ],
   "metadata": {
    "execution": {
     "iopub.status.busy": "2024-03-24T15:25:36.000455Z",
     "iopub.execute_input": "2024-03-24T15:25:36.000901Z",
     "iopub.status.idle": "2024-03-24T15:25:36.494775Z",
     "shell.execute_reply.started": "2024-03-24T15:25:36.000868Z",
     "shell.execute_reply": "2024-03-24T15:25:36.493639Z"
    },
    "trusted": true,
    "ExecuteTime": {
     "end_time": "2024-05-02T05:47:22.244606Z",
     "start_time": "2024-05-02T05:47:22.117515Z"
    }
   },
   "execution_count": 11,
   "outputs": []
  },
  {
   "metadata": {},
   "cell_type": "markdown",
   "source": "Этот код создает переменную gender_distribution, которая содержит подсчет количества значений в столбце 'Gender' из DataFrame mental_health. Затем он выводит распределение половых групп, печатая переменную gender_distribution."
  },
  {
   "cell_type": "code",
   "source": [
    "# Шаг 1: Проанализируйте распределение по полам\n",
    "gender_distribution = mental_health['Gender'].value_counts()\n",
    "print(\"Gender Distribution:\\n\", gender_distribution)"
   ],
   "metadata": {
    "execution": {
     "iopub.status.busy": "2024-03-24T15:36:28.281992Z",
     "iopub.execute_input": "2024-03-24T15:36:28.282677Z",
     "iopub.status.idle": "2024-03-24T15:36:28.423976Z",
     "shell.execute_reply.started": "2024-03-24T15:36:28.282642Z",
     "shell.execute_reply": "2024-03-24T15:36:28.422743Z"
    },
    "trusted": true,
    "ExecuteTime": {
     "end_time": "2024-05-02T05:50:45.308780Z",
     "start_time": "2024-05-02T05:50:45.285702Z"
    }
   },
   "execution_count": 13,
   "outputs": []
  },
  {
   "metadata": {},
   "cell_type": "markdown",
   "source": "Этот код использует функцию `pd.crosstab()` для создания таблицы сопряженности между столбцами \"Gender\" и \"treatment\" из DataFrame `mental_health`. Результат сохраняется в переменной `treatment_by_gender`."
  },
  {
   "metadata": {
    "ExecuteTime": {
     "end_time": "2024-05-02T05:53:51.967820Z",
     "start_time": "2024-05-02T05:53:51.916121Z"
    }
   },
   "cell_type": "code",
   "source": [
    "# Шаг 2: Изучите взаимосвязь между полом и обращением за медицинской помощью.\n",
    "treatment_by_gender = pd.crosstab(mental_health['Gender'], mental_health['treatment'])\n",
    "print(\"\\nTreatment by Gender:\\n\", treatment_by_gender)"
   ],
   "execution_count": 14,
   "outputs": []
  },
  {
   "metadata": {},
   "cell_type": "markdown",
   "source": "Этот код вычисляет пропорции в распределении значений в таблице `treatment_by_gender`. Для этого каждое значение в строках делится на сумму значений в этой строке. Результат сохраняется в переменной `treatment_by_gender_proportions`."
  },
  {
   "metadata": {
    "ExecuteTime": {
     "end_time": "2024-05-02T05:58:17.876581Z",
     "start_time": "2024-05-02T05:58:17.869755Z"
    }
   },
   "cell_type": "code",
   "source": [
    "# Рассчитайте соотношение обращений за медицинской помощью в разбивке по полу для более четкого сравнения.\n",
    "treatment_by_gender_proportions = treatment_by_gender.div(treatment_by_gender.sum(1), axis=0)\n",
    "print(\"\\nProportions of Treatment by Gender:\\n\", treatment_by_gender_proportions)"
   ],
   "execution_count": 18,
   "outputs": []
  },
  {
   "cell_type": "code",
   "source": [
    "# Гендер и психическое здоровье: как различаются проблемы психического здоровья у разных полов? \n",
    "# Чаще ли представители определенного пола обращаются за лечением?\n",
    "# Шаг 3: Визуализируйте результаты\n",
    "# Составьте график гендерного распределения\n",
    "plt.figure(figsize=(8, 5))\n",
    "sns.countplot(data=mental_health, x='Gender')\n",
    "plt.title('Распределение по полу')\n",
    "plt.xticks(rotation=45)\n",
    "plt.show()"
   ],
   "metadata": {
    "execution": {
     "iopub.status.busy": "2024-03-24T15:39:29.012429Z",
     "iopub.execute_input": "2024-03-24T15:39:29.012842Z",
     "iopub.status.idle": "2024-03-24T15:39:29.986852Z",
     "shell.execute_reply.started": "2024-03-24T15:39:29.012812Z",
     "shell.execute_reply": "2024-03-24T15:39:29.985712Z"
    },
    "trusted": true,
    "ExecuteTime": {
     "end_time": "2024-05-02T06:01:36.584353Z",
     "start_time": "2024-05-02T06:01:35.774086Z"
    }
   },
   "execution_count": 23,
   "outputs": []
  },
  {
   "metadata": {},
   "cell_type": "markdown",
   "source": "Этот код создает столбчатую диаграмму, на которой каждый столбец представляет собой долю каждого типа лечения (таких как \"да\" или \"нет\") для каждого пола (мужчины и женщины). Параметр `stacked=True` позволяет отображать столбцы для каждого значения переменной `treatment` на одном столбце, что удобно для сравнения пропорций между гендерами."
  },
  {
   "metadata": {
    "ExecuteTime": {
     "end_time": "2024-05-02T06:03:52.499492Z",
     "start_time": "2024-05-02T06:03:52.307239Z"
    }
   },
   "cell_type": "code",
   "source": [
    "# Построение графика соотношения лиц, обращающихся за лечением, в разбивке по полу.\n",
    "treatment_by_gender_proportions.plot(kind='bar', stacked=True)\n",
    "plt.title('Доля лиц, обратившихся за медицинской помощью, в разбивке по полу')\n",
    "plt.ylabel('Пропорция')\n",
    "plt.xlabel('Пол')\n",
    "plt.xticks(rotation=45)\n",
    "plt.legend(title='Treatment', labels=['No', 'Yes'])\n",
    "plt.show()"
   ],
   "execution_count": 25,
   "outputs": []
  },
  {
   "metadata": {},
   "cell_type": "markdown",
   "source": "Этот код использует функцию `chi2_contingency` из модуля `scipy.stats` для вычисления значения критерия хи-квадрат (chi2), p-значения (p), степеней свободы (dof) и ожидаемых частот (expected) для таблицы сопряженности `occupation_treatment_ct`. Критерий хи-квадрат используется для определения статистической зависимости между двумя категориальными переменными, такими как профессия и тип лечения."
  },
  {
   "cell_type": "code",
   "source": [
    "# Существует ли взаимосвязь между родом занятий человека \n",
    "# и состоянием его психического здоровья или поведением при обращении за медицинской помощью?\n",
    "\n",
    "# Шаг 1: Составление перекрестной таблицы\n",
    "occupation_treatment_ct = pd.crosstab(mental_health['Occupation'], mental_health['treatment'])\n",
    "\n",
    "# Шаг 2: Визуализация\n",
    "# Преобразуйте количество в пропорции для лучшего сравнения\n",
    "occupation_treatment_prop = occupation_treatment_ct.div(occupation_treatment_ct.sum(1), axis=0)\n",
    "occupation_treatment_prop.plot(kind='bar', stacked=True, figsize=(10, 6))\n",
    "plt.title('Поведение, связанное с обращением за медицинской помощью в зависимости от рода занятий')\n",
    "plt.xlabel('Занятость')\n",
    "plt.ylabel('Доля обращающихся за лечением')\n",
    "plt.legend(title='Treatment', labels=['No', 'Yes'])\n",
    "plt.xticks(rotation=45)\n",
    "plt.tight_layout()\n",
    "plt.show()\n",
    "\n",
    "# Шаг 3: Статистический тест (критерий Хи-квадрат)\n",
    "chi2, p, dof, expected = chi2_contingency(occupation_treatment_ct)\n",
    "print(f\"Chi-square Statistic: {chi2}, p-value: {p}\")"
   ],
   "metadata": {
    "execution": {
     "iopub.status.busy": "2024-03-24T15:45:23.645851Z",
     "iopub.execute_input": "2024-03-24T15:45:23.646337Z",
     "iopub.status.idle": "2024-03-24T15:45:24.216296Z",
     "shell.execute_reply.started": "2024-03-24T15:45:23.646304Z",
     "shell.execute_reply": "2024-03-24T15:45:24.215072Z"
    },
    "trusted": true,
    "ExecuteTime": {
     "end_time": "2024-05-02T06:07:16.905332Z",
     "start_time": "2024-05-02T06:07:16.545324Z"
    }
   },
   "execution_count": 27,
   "outputs": []
  },
  {
   "cell_type": "code",
   "source": [
    "# Как наличие в семейном анамнезе проблем с психическим здоровьем влияет на \n",
    "# какова вероятность того, что человек столкнется с подобными проблемами или обратится за лечением?\n",
    "\n",
    "# Проанализируйте взаимосвязь между семейной историей и личной историей психического здоровья.\n",
    "cross_tab_history = pd.crosstab(mental_health['family_history'], mental_health['Mental_Health_History'])\n",
    "\n",
    "# Проанализируйте взаимосвязь между семейным анамнезом и поведением, связанным с обращением за медицинской помощью.\n",
    "cross_tab_treatment = pd.crosstab(mental_health['family_history'], mental_health['treatment'])\n",
    "\n",
    "# Визуализируйте взаимосвязь между семейной историей и личной историей психического здоровья.\n",
    "cross_tab_history.plot(kind='bar', stacked=True, figsize=(10, 6))\n",
    "plt.title('Личная история психического здоровья в сравнении с В семейном анамнезе были проблемы с психическим здоровьем')\n",
    "plt.xlabel('В семейном анамнезе были проблемы с психическим здоровьем')\n",
    "plt.ylabel('Рассчитывать')\n",
    "plt.xticks(rotation=0)\n",
    "plt.legend(title='Личная история психического здоровья')\n",
    "plt.show()"
   ],
   "metadata": {
    "execution": {
     "iopub.status.busy": "2024-03-24T15:58:00.837924Z",
     "iopub.execute_input": "2024-03-24T15:58:00.838717Z",
     "iopub.status.idle": "2024-03-24T15:58:01.786569Z",
     "shell.execute_reply.started": "2024-03-24T15:58:00.838682Z",
     "shell.execute_reply": "2024-03-24T15:58:01.785456Z"
    },
    "trusted": true,
    "ExecuteTime": {
     "end_time": "2024-05-02T06:10:31.353623Z",
     "start_time": "2024-05-02T06:10:31.031150Z"
    }
   },
   "execution_count": 31,
   "outputs": []
  },
  {
   "metadata": {
    "ExecuteTime": {
     "end_time": "2024-05-02T06:10:19.330885Z",
     "start_time": "2024-05-02T06:10:19.088703Z"
    }
   },
   "cell_type": "code",
   "source": [
    "# Визуализируйте взаимосвязь между семейным анамнезом и поведением, связанным с обращением за медицинской помощью.\n",
    "cross_tab_treatment.plot(kind='bar', stacked=True, figsize=(10, 6))\n",
    "plt.title('Поведение, связанное с обращением за лечением, в сравнении с Семейным анамнезом проблем с психическим здоровьем')\n",
    "plt.xlabel('В семейном анамнезе были проблемы с психическим здоровьем')\n",
    "plt.ylabel('Количество')\n",
    "plt.xticks(rotation=0)\n",
    "plt.legend(title='Поведение в поисках лечения')\n",
    "plt.show()"
   ],
   "execution_count": 30,
   "outputs": []
  },
  {
   "cell_type": "code",
   "source": [
    "# Связано ли увеличение количества дней, проведенных в помещении, с \n",
    "# более высоким уровнем стресса или изменениями в привычках, связанных с психическим здоровьем?\n",
    "\n",
    "# Проанализируйте взаимосвязь между днями, проведенными в помещении, и ростом стресса\n",
    "cross_tab_stress = pd.crosstab(mental_health['Days_Indoors'], mental_health['Growing_Stress'])\n",
    "\n",
    "# Analyze the relationship between days indoors and changes in habits\n",
    "cross_tab_habits = pd.crosstab(mental_health['Days_Indoors'], mental_health['Changes_Habits'])\n",
    "\n",
    "# Визуализируйте взаимосвязь между днями, проведенными в помещении, и растущим стрессом.\n",
    "cross_tab_stress.plot(kind='bar', stacked=True, figsize=(10, 6))\n",
    "plt.title('Уровни стресса, о которых сообщалось, в сравнении с Днями, проведенными в помещении')\n",
    "plt.xlabel('Дни в помещении')\n",
    "plt.ylabel('Количество')\n",
    "plt.xticks(rotation=45)\n",
    "plt.legend(title='Сообщение о стрессе')\n",
    "plt.show()"
   ],
   "metadata": {
    "execution": {
     "iopub.status.busy": "2024-03-24T16:10:21.978307Z",
     "iopub.execute_input": "2024-03-24T16:10:21.978725Z",
     "iopub.status.idle": "2024-03-24T16:10:22.951583Z",
     "shell.execute_reply.started": "2024-03-24T16:10:21.978696Z",
     "shell.execute_reply": "2024-03-24T16:10:22.950051Z"
    },
    "trusted": true,
    "ExecuteTime": {
     "end_time": "2024-05-02T06:13:58.264087Z",
     "start_time": "2024-05-02T06:13:57.913276Z"
    }
   },
   "execution_count": 32,
   "outputs": []
  },
  {
   "metadata": {
    "ExecuteTime": {
     "end_time": "2024-05-02T06:15:00.062757Z",
     "start_time": "2024-05-02T06:14:59.789803Z"
    }
   },
   "cell_type": "code",
   "source": [
    "# Визуализируйте взаимосвязь между днями, проведенными в помещении, и изменениями в привычках.\n",
    "cross_tab_habits.plot(kind='bar', stacked=True, figsize=(10, 6))\n",
    "plt.title('Изменения в привычках психического здоровья и Дней В Закрытом Помещении')\n",
    "plt.xlabel('Дни в помещении')\n",
    "plt.ylabel('Колличество')\n",
    "plt.xticks(rotation=45)\n",
    "plt.legend(title='Изменения в привычках')\n",
    "plt.show()"
   ],
   "execution_count": 34,
   "outputs": []
  },
  {
   "metadata": {},
   "cell_type": "code",
   "execution_count": null,
   "source": "",
   "outputs": []
  }
 ]
}
