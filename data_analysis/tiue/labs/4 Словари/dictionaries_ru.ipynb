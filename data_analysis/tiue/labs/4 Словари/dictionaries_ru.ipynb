{
 "cells": [
  {
   "cell_type": "markdown",
   "metadata": {
    "collapsed": false
   },
   "source": [
    "# Словари и pandas"
   ]
  },
  {
   "cell_type": "markdown",
   "metadata": {
    "collapsed": false
   },
   "source": [
    "## Мотивация для словарей\n",
    "\n",
    "Чтобы понять, почему словари полезны, взгляните на два списка, определенные в скрипте. страны содержит названия некоторых европейских «стран». `capitals` перечисляет соответствующие названия их столицы."
   ]
  },
  {
   "cell_type": "markdown",
   "metadata": {
    "collapsed": false
   },
   "source": [
    "### Инструкции\n",
    "\n",
    "- Используйте метод ****index()**** для стран, чтобы найти индекс Германии. Сохраните этот индекс как `ind_ger`.\n",
    "- Используйте `ind_ger` для доступа к «столице» Германии из списка столиц. Распечатай."
   ]
  },
  {
   "cell_type": "code",
   "execution_count": 1,
   "metadata": {
    "ExecuteTime": {
     "end_time": "2024-01-02T09:09:32.717954Z",
     "start_time": "2024-01-02T09:09:32.700306Z"
    },
    "collapsed": true
   },
   "outputs": [
    {
     "name": "stdout",
     "output_type": "stream",
     "text": [
      "berlin\n"
     ]
    }
   ],
   "source": [
    "# Определение стран и их столиц\n",
    "countries = ['spain', 'france', 'germany', 'norway']\n",
    "capitals = ['madrid', 'paris', 'berlin', 'oslo']\n",
    "\n",
    "# Получение индекса 'germany': ind_ger\n",
    "ind_ger = countries.index('germany')\n",
    "\n",
    "# Использование ind_ger для вывода столицы Германии\n",
    "print(capitals[ind_ger])"
   ]
  },
  {
   "cell_type": "markdown",
   "metadata": {
    "collapsed": false
   },
   "source": [
    "### Инструкции\n",
    "\n",
    "Со строками в `countries` и `capitals` создайте словарь под названием `europe` с четырьмя парами ключ:значение. Остерегайтесь капитализации! Убедитесь, что вы везде используете строчные буквы.\n",
    "Распечатайте слово «Европа» и проверьте, соответствует ли результат вашим ожиданиям."
   ]
  },
  {
   "cell_type": "code",
   "execution_count": 2,
   "metadata": {
    "ExecuteTime": {
     "end_time": "2024-01-02T08:26:29.421258Z",
     "start_time": "2024-01-02T08:26:29.406020Z"
    },
    "collapsed": false
   },
   "outputs": [
    {
     "name": "stdout",
     "output_type": "stream",
     "text": [
      "berlin\n"
     ]
    }
   ],
   "source": [
    "# Определение стран и их столиц\n",
    "countries = ['spain', 'france', 'germany', 'norway']\n",
    "capitals = ['madrid', 'paris', 'berlin', 'oslo']\n",
    "\n",
    "# Получение индекса 'germany': ind_ger\n",
    "ind_ger = countries.index('germany')\n",
    "\n",
    "# Использование ind_ger для вывода столицы Германии\n",
    "print(capitals[ind_ger])"
   ]
  },
  {
   "cell_type": "markdown",
   "metadata": {
    "collapsed": false
   },
   "source": [
    "## Доступ к словарю\n",
    "\n",
    "Если ключи словаря выбраны разумно, доступ к значениям в словаре будет простым и интуитивно понятным. Например, чтобы получить столицу Франции из Европы, вы можете использовать:\n",
    "\n",
    "     Европа['Франция']\n",
    "\n",
    "Здесь `france` — это ключ, а `paris` — возвращаемое значение."
   ]
  },
  {
   "cell_type": "markdown",
   "metadata": {
    "collapsed": false
   },
   "source": [
    "### Инструкции\n",
    "\n",
    "- Проверьте, какие ключи есть в `europe`, вызвав метод `keys()`. Выведите результат.\n",
    "- Выведите значение, которое принадлежит ключу '`norway`'."
   ]
  },
  {
   "cell_type": "code",
   "execution_count": 3,
   "metadata": {
    "ExecuteTime": {
     "end_time": "2024-01-02T10:40:11.399443Z",
     "start_time": "2024-01-02T10:40:11.338523Z"
    },
    "collapsed": false
   },
   "outputs": [
    {
     "name": "stdout",
     "output_type": "stream",
     "text": [
      "{'spain': {'capital': 'madrid', 'population': 46.77}, 'france': {'capital': 'paris', 'population': 66.03}, 'germany': {'capital': 'berlin', 'population': 80.62}, 'norway': {'capital': 'oslo', 'population': 5.084}, 'italy': {'capital': 'rome', 'population': 59.83}}\n"
     ]
    }
   ],
   "source": [
    "# Словарь словарей\n",
    "europe = { 'spain': { 'capital':'madrid', 'population':46.77 },\n",
    "           'france': { 'capital':'paris', 'population':66.03 },\n",
    "           'germany': { 'capital':'berlin', 'population':80.62 },\n",
    "           'norway': { 'capital':'oslo', 'population':5.084 } }\n",
    "\n",
    "# Вывод столицы Франции\n",
    "europe['france']['capital']\n",
    "\n",
    "# Создание подсловаря data\n",
    "data = {'capital':'rome','population':59.83}\n",
    "\n",
    "# Добавление данных в europe под ключ 'italy'\n",
    "europe['italy'] = data\n",
    "\n",
    "# Вывод europe\n",
    "print(europe)"
   ]
  },
  {
   "cell_type": "markdown",
   "metadata": {
    "collapsed": false
   },
   "source": [
    "## Управление словарями (1)\n",
    "\n",
    "Если вы знаете, как получить доступ к словарю, вы также можете присвоить ему новое значение. Чтобы добавить новую пару ключ-значение в europe, вы можете использовать что-то вроде этого:\n",
    "\n",
    "    europe['iceland'] = 'reykjavik'"
   ]
  },
  {
   "cell_type": "markdown",
   "metadata": {
    "collapsed": false
   },
   "source": [
    "### Инструкции\n",
    "\n",
    "- Добавьте ключ '`italy`' со значением '`rome`' в словарь europe.\n",
    "- Чтобы убедиться, что '`italy`' теперь является ключом в europe, выведите '`italy`' из `europe`.\n",
    "- Добавьте еще одну пару ключ-значение в europe: ключ '`poland`', значение '`warsaw`'.\n",
    "- Выведите `europe`."
   ]
  },
  {
   "cell_type": "code",
   "execution_count": 4,
   "metadata": {
    "ExecuteTime": {
     "end_time": "2024-01-02T08:36:30.870004Z",
     "start_time": "2024-01-02T08:36:30.842916Z"
    },
    "collapsed": false
   },
   "outputs": [
    {
     "name": "stdout",
     "output_type": "stream",
     "text": [
      "True\n",
      "{'spain': 'madrid', 'france': 'paris', 'germany': 'berlin', 'norway': 'oslo', 'italy': 'rome', 'poland': 'warsaw'}\n"
     ]
    }
   ],
   "source": [
    "# Определение словаря\n",
    "europe = {'spain':'madrid', 'france':'paris', 'germany':'berlin', 'norway':'oslo' }\n",
    "\n",
    "# Добавление Италии в Европу\n",
    "europe['italy'] = 'rome'\n",
    "\n",
    "# Вывод Италии в Европе\n",
    "print('italy' in europe)\n",
    "\n",
    "# Добавление Польши в Европу\n",
    "europe['poland'] = 'warsaw'\n",
    "\n",
    "# Вывод Европы\n",
    "print(europe)"
   ]
  },
  {
   "cell_type": "code",
   "execution_count": 6,
   "metadata": {
    "ExecuteTime": {
     "end_time": "2024-01-02T08:32:55.810926Z",
     "start_time": "2024-01-02T08:32:54.792165Z"
    },
    "collapsed": false
   },
   "outputs": [
    {
     "name": "stdout",
     "output_type": "stream",
     "text": [
      "             country  drives_right  cars_per_cap\n",
      "0  Соединенные Штаты          True           809\n",
      "1          Австралия         False           731\n",
      "2             Япония         False           588\n",
      "3              Индия         False            18\n",
      "4             Россия          True           200\n",
      "5            Марокко          True            70\n",
      "6             Египет          True            45\n"
     ]
    }
   ],
   "source": [
    "# Заранее определенные списки\n",
    "names = ['Соединенные Штаты', 'Австралия', 'Япония', 'Индия', 'Россия', 'Марокко', 'Египет']\n",
    "dr = [True, False, False, False, True, True, True]\n",
    "cpc = [809, 731, 588, 18, 200, 70, 45]\n",
    "\n",
    "# Импорт pandas как pd\n",
    "import pandas as pd\n",
    "\n",
    "# Создание словаря my_dict с тремя парами ключ:значение: my_dict\n",
    "my_dict = {'country': names, 'drives_right': dr, 'cars_per_cap': cpc}\n",
    "\n",
    "# Создание DataFrame cars из my_dict: cars\n",
    "cars = pd.DataFrame(my_dict)\n",
    "\n",
    "# Вывод cars\n",
    "print(cars)"
   ]
  },
  {
   "cell_type": "markdown",
   "metadata": {
    "collapsed": false
   },
   "source": [
    "## Изменение словаря (2)\n",
    "\n",
    "- Кто-то решил пошутить и изменил ваш точно сгенерированный словарь. Адаптированная версия словаря `europe` доступна в скрипте.\n",
    "\n",
    "Можете его очистить? Не меняйте определение `europe`, а просто добавьте команды Python в скрипт для обновления и удаления пар ключ:значение."
   ]
  },
  {
   "cell_type": "markdown",
   "metadata": {
    "collapsed": false
   },
   "source": [
    "### Инструкции\n",
    "\n",
    "- Столица Германии не '`Bonn`'; это '`Berlin`'. Обновите его значение.\n",
    "- Австралия не входит в Европу, Австрия! Удалите ключ '`australia`' из `europe`.\n",
    "- Напечатайте `europe`, чтобы увидеть, сработала ли ваша очистка."
   ]
  },
  {
   "cell_type": "code",
   "execution_count": 7,
   "metadata": {
    "ExecuteTime": {
     "end_time": "2024-01-02T08:49:29.179427Z",
     "start_time": "2024-01-02T08:49:29.163629Z"
    },
    "collapsed": false
   },
   "outputs": [
    {
     "name": "stdout",
     "output_type": "stream",
     "text": [
      "{'spain': 'madrid', 'france': 'paris', 'germany': 'berlin', 'norway': 'oslo', 'italy': 'rome', 'poland': 'warsaw'}\n"
     ]
    }
   ],
   "source": [
    "# Определение словаря\n",
    "europe = {'spain':'madrid', 'france':'paris', 'germany':'bonn',\n",
    "          'norway':'oslo', 'italy':'rome', 'poland':'warsaw',\n",
    "          'australia':'vienna' }\n",
    "\n",
    "# Обновление столицы Германии\n",
    "europe['germany'] = 'berlin'\n",
    "\n",
    "# Удаление Австралии\n",
    "del(europe['australia'])\n",
    "\n",
    "# Вывод словаря europe\n",
    "print(europe)"
   ]
  },
  {
   "cell_type": "markdown",
   "metadata": {
    "collapsed": false
   },
   "source": [
    "## Словари в словарях\n",
    "\n",
    "Помните списки? Они могли содержать всё, даже другие списки. Для словарей то же самое. Словари могут содержать пары ключ:значение, где значения снова являются словарями.\n",
    "\n",
    "Для примера взгляните на скрипт, в котором создана другая версия europe - словаря, с которым вы работали. Ключи все еще - это названия стран, но значения представляют собой словари, которые содержат больше информации, чем просто столицы.\n",
    "\n",
    "Совершенно возможно цеплять квадратные скобки для выбора элементов. Чтобы получить население Испании из europe, например, вам нужно:\n",
    "\n",
    "    europe['spain']['population']"
   ]
  },
  {
   "cell_type": "markdown",
   "metadata": {
    "collapsed": false
   },
   "source": [
    "### Инструкции\n",
    "\n",
    "- Используйте цепочку квадратных скобок, чтобы выбрать и вывести столицу Франции.\n",
    "- Создайте словарь с именем `data`, с ключами '`capital`' и '`population`'. Установите их соответственно '`rome`' и 59.83.\n",
    "- Добавьте новую пару ключ-значение в europe; ключ - '`italy`', а значение - `data`, словарь, который вы только что создали."
   ]
  },
  {
   "cell_type": "code",
   "execution_count": 8,
   "metadata": {
    "ExecuteTime": {
     "end_time": "2024-01-02T08:59:54.335966Z",
     "start_time": "2024-01-02T08:59:54.316403Z"
    },
    "collapsed": false
   },
   "outputs": [
    {
     "name": "stdout",
     "output_type": "stream",
     "text": [
      "{'spain': {'capital': 'madrid', 'population': 46.77}, 'france': {'capital': 'paris', 'population': 66.03}, 'germany': {'capital': 'berlin', 'population': 80.62}, 'norway': {'capital': 'oslo', 'population': 5.084}, 'italy': {'capital': 'rome', 'population': 59.83}}\n"
     ]
    }
   ],
   "source": [
    "# Словарь из словарей\n",
    "europe = { 'spain': { 'capital':'madrid', 'population':46.77 },\n",
    "           'france': { 'capital':'paris', 'population':66.03 },\n",
    "           'germany': { 'capital':'berlin', 'population':80.62 },\n",
    "           'norway': { 'capital':'oslo', 'population':5.084 } }\n",
    "\n",
    "# Вывести столицу Франции\n",
    "europe['france']['capital']\n",
    "\n",
    "# Создать подсловарь data\n",
    "data = {'capital':'rome','population':59.83}\n",
    "\n",
    "# Добавить data в словарь europe под ключом 'italy'\n",
    "europe['italy'] = data\n",
    "\n",
    "# Вывести europe\n",
    "print(europe)"
   ]
  },
  {
   "cell_type": "markdown",
   "metadata": {
    "collapsed": false
   },
   "source": [
    "# Pandas"
   ]
  },
  {
   "cell_type": "markdown",
   "metadata": {
    "collapsed": false
   },
   "source": [
    "## Словарь в DataFrame (1)\n",
    "\n",
    "Pandas - это библиотека с открытым исходным кодом, предоставляющая высокопроизводительные и простые в использовании структуры данных и инструменты для анализа данных на Python. Звучит многообещающе!\n",
    "\n",
    "DataFrame - одна из самых важных структур данных в Pandas. Это, по сути, способ хранить табличные данные, где вы можете помечать строки и столбцы. Один из способов создания DataFrame - из словаря.\n",
    "\n",
    "В упражнениях, которые следуют, вы будете работать с данными о транспортных средствах из разных стран. Каждое наблюдение соответствует стране, а столбцы содержат информацию о количестве транспортных средств на душу населения, о том, ездят ли люди слева или справа и так далее.\n",
    "\n",
    "Три списка определены в скрипте:\n",
    "\n",
    "- `names`, содержащий имена стран, для которых доступны данные.\n",
    "- `dr`, список с логическими значениями, определяющими, едут ли люди слева или справа в соответствующей стране.\n",
    "- `cpc`, количество автотранспортных средств на 1000 человек в соответствующей стране.\n",
    "\n",
    "Каждый ключ словаря - это метка столбца, а каждое значение - список, содержащий элементы столбца.\n"
   ]
  },
  {
   "cell_type": "markdown",
   "metadata": {},
   "source": [
    "### Инструкции\n",
    "\n",
    "Импортировать `pandas` как `pd`\n",
    "\n",
    "Использовать предопределенные списки для создания словаря под названием `my_dict`. Должно быть три пары ключ-значение:\n",
    "- ключ '`country`' и значение `names`.\n",
    "- ключ `drives_right` и значение `dr`.\n",
    "- ключ `cars_per_cap` и значение `cpc`.\n",
    "- \n",
    "    my_dict = {'country': names, 'drives_right': dr, 'cars_per_cap': cpc}\n",
    "\n",
    "Использовать `pd.DataFrame()`, чтобы преобразовать ваш словарь в `DataFrame` под названием `cars`.\n",
    "\n",
    "    cars = pd.DataFrame(my_dict)\n",
    "\n",
    "Напечатать `cars` и посмотреть, какой он красивый.\n",
    "    \n",
    "    print(cars)\n"
   ]
  },
  {
   "cell_type": "code",
   "execution_count": 9,
   "metadata": {
    "ExecuteTime": {
     "end_time": "2024-01-02T09:00:01.712101Z",
     "start_time": "2024-01-02T09:00:01.694262Z"
    },
    "collapsed": false
   },
   "outputs": [
    {
     "name": "stdout",
     "output_type": "stream",
     "text": [
      "             country  drives_right  cars_per_cap\n",
      "0  Соединенные Штаты          True           809\n",
      "1          Австралия         False           731\n",
      "2             Япония         False           588\n",
      "3              Индия         False            18\n",
      "4             Россия          True           200\n",
      "5            Марокко          True            70\n",
      "6             Египет          True            45\n"
     ]
    }
   ],
   "source": [
    "# Предопределенные списки\n",
    "names = ['Соединенные Штаты', 'Австралия', 'Япония', 'Индия', 'Россия', 'Марокко', 'Египет']\n",
    "dr = [True, False, False, False, True, True, True]\n",
    "cpc = [809, 731, 588, 18, 200, 70, 45]\n",
    "\n",
    "# Импорт pandas как pd\n",
    "import pandas as pd\n",
    "\n",
    "# Создать словарь my_dict с тремя парами ключ:значение: my_dict\n",
    "my_dict = {'country': names, 'drives_right': dr, 'cars_per_cap': cpc}\n",
    "\n",
    "# Создать DataFrame cars из my_dict: cars\n",
    "cars = pd.DataFrame(my_dict)\n",
    "\n",
    "# Напечатать cars\n",
    "print(cars)"
   ]
  },
  {
   "cell_type": "markdown",
   "metadata": {
    "collapsed": false
   },
   "source": [
    "## Словарь в DataFrame (2)\n",
    "\n",
    "В скрипте уже представлен код на Python, который решает предыдущее упражнение. Заметили ли вы, что метки строк (т.е. метки для различных наблюдений) автоматически установлены как целые числа от 0 до 6?\n",
    "\n",
    "Для решения этой проблемы был создан список `row_labels`. Вы можете использовать его для указания меток строк в DataFrame `cars`. Вы это делаете, устанавливая атрибут `index` для `cars`, к которому можно обратиться как `cars.index`."
   ]
  },
  {
   "cell_type": "markdown",
   "metadata": {
    "collapsed": false
   },
   "source": [
    "### Инструкции\n",
    "\n",
    "- Укажите метки строк, установив `cars.index` равным `row_labels`.\n",
    "- Снова выведите `cars` на печать и проверьте, правильно ли установлены метки строк."
   ]
  },
  {
   "cell_type": "code",
   "execution_count": 10,
   "metadata": {
    "ExecuteTime": {
     "end_time": "2024-01-02T09:02:14.181234Z",
     "start_time": "2024-01-02T09:02:14.152374Z"
    },
    "collapsed": false
   },
   "outputs": [
    {
     "name": "stdout",
     "output_type": "stream",
     "text": [
      "               country  drives_right  cars_per_cap\n",
      "US   Соединенные Штаты          True           809\n",
      "AUS          Австралия         False           731\n",
      "JAP             Япония         False           588\n",
      "IN               Индия         False            18\n",
      "RU              Россия          True           200\n",
      "MOR            Марокко          True            70\n",
      "EG              Египет          True            45\n"
     ]
    }
   ],
   "source": [
    "# Предопределенные списки\n",
    "names = ['Соединенные Штаты', 'Австралия', 'Япония', 'Индия', 'Россия', 'Марокко', 'Египет']\n",
    "dr = [True, False, False, False, True, True, True]\n",
    "cpc = [809, 731, 588, 18, 200, 70, 45]\n",
    "\n",
    "# Импорт pandas как pd\n",
    "import pandas as pd\n",
    "\n",
    "# Создать словарь my_dict с тремя парами ключ:значение: my_dict\n",
    "my_dict = {'country': names, 'drives_right': dr, 'cars_per_cap': cpc}\n",
    "\n",
    "# Создать DataFrame cars из my_dict: cars\n",
    "cars = pd.DataFrame(my_dict)\n",
    "\n",
    "# Создать список меток строк\n",
    "row_labels = ['US', 'AUS', 'JAP', 'IN', 'RU', 'MOR', 'EG']\n",
    "\n",
    "# Установить метки строк для cars\n",
    "cars.index = row_labels\n",
    "\n",
    "# Напечатать cars\n",
    "print(cars)"
   ]
  },
  {
   "cell_type": "markdown",
   "metadata": {
    "collapsed": false
   },
   "source": [
    "## CSV в DataFrame\n",
    "\n",
    "Перенос данных в словарь, а затем построение DataFrame работает, но это не очень эффективно. Что если у вас миллионы наблюдений? В таких случаях данные обычно доступны в файлах с регулярной структурой. Один из таких типов файлов - это CSV-файл, что означает \"значения, разделенные запятыми\".\n",
    "\n",
    "Чтобы импортировать CSV-данные в Python как DataFrame Pandas, можно использовать `read_csv()`.\n",
    "\n",
    "Давайте изучим эту функцию с теми же данными об автомобилях из предыдущих упражнений. На этот раз, однако, данные доступны в CSV-файле под названием `cars.csv`. Он доступен в вашей текущей рабочей директории, поэтому путь к файлу просто `cars.csv`."
   ]
  },
  {
   "cell_type": "markdown",
   "metadata": {
    "collapsed": false
   },
   "source": [
    "### Инструкции\n",
    "\n",
    "- Для импорта файлов CSV вам все еще нужен пакет `pandas`: импортируйте его как `pd`.\n",
    "- Используйте `pd.read_csv()`, чтобы импортировать данные из `cars.csv` в виде DataFrame. Сохраните этот DataFrame как `cars`.\n",
    "- Выведите `cars` на экран. Все выглядит нормально?"
   ]
  },
  {
   "cell_type": "code",
   "execution_count": 1,
   "metadata": {
    "ExecuteTime": {
     "end_time": "2024-01-02T09:06:08.348191Z",
     "start_time": "2024-01-02T09:06:08.315277Z"
    },
    "collapsed": false
   },
   "outputs": [
    {
     "name": "stdout",
     "output_type": "stream",
     "text": [
      "  Unnamed: 0  cars_per_cap        country  drives_right\n",
      "0         US           809  United States          True\n",
      "1        AUS           731      Australia         False\n",
      "2        JAP           588          Japan         False\n",
      "3         IN            18          India         False\n",
      "4         RU           200         Russia          True\n",
      "5        MOR            70        Morocco          True\n",
      "6         EG            45          Egypt          True\n"
     ]
    }
   ],
   "source": [
    "# Импортировать pandas как pd\n",
    "import pandas as pd\n",
    "\n",
    "# Импортировать данные из cars.csv: cars\n",
    "cars = pd.DataFrame(pd.read_csv('datasets/cars.csv'))\n",
    "# Вывести cars\n",
    "print(cars)"
   ]
  },
  {
   "cell_type": "markdown",
   "metadata": {
    "collapsed": false
   },
   "source": [
    "## CSV в DataFrame (2)\n",
    "\n",
    "Ваш вызов `read_csv()` для импорта данных CSV не вызвал ошибку, но вывод не совсем соответствует нашим ожиданиям. Метки строк были импортированы как еще один столбец без имени.\n",
    "\n",
    "Помните о `index_col`, аргументе `read_csv()`, который вы можете использовать для указания столбца в файле CSV, который следует использовать в качестве меток строк? Именно это вам и нужно здесь!\n",
    "\n",
    "Код на Python, который решает предыдущее упражнение, уже включен; можете ли вы внести соответствующие изменения, чтобы исправить импорт данных?"
   ]
  },
  {
   "cell_type": "markdown",
   "metadata": {
    "collapsed": false
   },
   "source": [
    "### Инструкции\n",
    "\n",
    "- Запустите код с помощью кнопки \"Запустить код\" и убедитесь, что первый столбец должен фактически использоваться в качестве меток строк.\n",
    "- Укажите аргумент `index_col` внутри `pd.read_csv()`: установите его на 0, чтобы первый столбец был использован в качестве меток строк.\n",
    "- Улучшился ли вывод `cars` сейчас?"
   ]
  },
  {
   "cell_type": "code",
   "execution_count": 2,
   "metadata": {
    "ExecuteTime": {
     "end_time": "2024-01-02T09:08:48.453383Z",
     "start_time": "2024-01-02T09:08:48.424563Z"
    },
    "collapsed": false
   },
   "outputs": [
    {
     "name": "stdout",
     "output_type": "stream",
     "text": [
      "     cars_per_cap        country  drives_right\n",
      "US            809  United States          True\n",
      "AUS           731      Australia         False\n",
      "JAP           588          Japan         False\n",
      "IN             18          India         False\n",
      "RU            200         Russia          True\n",
      "MOR            70        Morocco          True\n",
      "EG             45          Egypt          True\n"
     ]
    }
   ],
   "source": [
    "# Импорт pandas как pd\n",
    "import pandas as pd\n",
    "\n",
    "# Исправление импорта с помощью включения index_col\n",
    "cars = pd.read_csv('datasets/cars.csv', index_col=0)\n",
    "\n",
    "# Вывод cars\n",
    "print(cars)"
   ]
  },
  {
   "cell_type": "markdown",
   "metadata": {
    "collapsed": false
   },
   "source": [
    "## Квадратные скобки (1)\n",
    "\n",
    "В видео вы видели, что вы можете индексировать и выбирать данные в Pandas DataFrame разными способами. Самый простой, но не самый мощный способ - использовать квадратные скобки.\n",
    "\n",
    "В примере кода те же данные об автомобилях импортируются из файлов CSV в виде Pandas DataFrame. Чтобы выбрать только столбец `cars_per_cap` из `cars`, вы можете использовать:\n",
    "\n",
    "    cars['cars_per_cap']\n",
    "    cars[['cars_per_cap']]\n",
    "\n",
    "Одиночная скобка создает объект Pandas Series, двойная скобка создает объект Pandas DataFrame."
   ]
  },
  {
   "cell_type": "markdown",
   "metadata": {
    "collapsed": false
   },
   "source": [
    "### Инструкции\n",
    "\n",
    "- Используйте одинарные квадратные скобки для вывода столбца `country` из `cars` как объекта Pandas Series.\n",
    "- Используйте двойные квадратные скобки для вывода столбца `country` из `cars` как объекта Pandas DataFrame.\n",
    "- Используйте двойные квадратные скобки для вывода DataFrame с колонками `country` и `drives_right` из `cars`, в данном порядке."
   ]
  },
  {
   "cell_type": "code",
   "execution_count": 3,
   "metadata": {
    "ExecuteTime": {
     "end_time": "2024-01-02T09:12:08.900942Z",
     "start_time": "2024-01-02T09:12:08.870945Z"
    },
    "collapsed": false
   },
   "outputs": [
    {
     "name": "stdout",
     "output_type": "stream",
     "text": [
      "US     United States\n",
      "AUS        Australia\n",
      "JAP            Japan\n",
      "IN             India\n",
      "RU            Russia\n",
      "MOR          Morocco\n",
      "EG             Egypt\n",
      "Name: country, dtype: object\n",
      "           country\n",
      "US   United States\n",
      "AUS      Australia\n",
      "JAP          Japan\n",
      "IN           India\n",
      "RU          Russia\n",
      "MOR        Morocco\n",
      "EG           Egypt\n",
      "           country  drives_right\n",
      "US   United States          True\n",
      "AUS      Australia         False\n",
      "JAP          Japan         False\n",
      "IN           India         False\n",
      "RU          Russia          True\n",
      "MOR        Morocco          True\n",
      "EG           Egypt          True\n"
     ]
    }
   ],
   "source": [
    "# Вывод столбца 'country' в виде объекта Pandas Series\n",
    "print(cars['country'])\n",
    "\n",
    "# Вывод столбца 'country' в виде объекта Pandas DataFrame\n",
    "print(cars[['country']])\n",
    "\n",
    "# Вывод DataFrame с столбцами 'country' и 'drives_right'\n",
    "print(cars[['country','drives_right']])"
   ]
  },
  {
   "cell_type": "markdown",
   "metadata": {
    "collapsed": false
   },
   "source": [
    "## Квадратные скобки (2)\n",
    "\n",
    "Квадратные скобки могут делать не только выбор столбцов, но и получать строки или наблюдения из DataFrame. Следующий вызов выбирает первые пять строк из DataFrame cars:\n",
    "\n",
    "    cars[0:5]\n",
    "\n",
    "Результатом будет еще один DataFrame, содержащий только указанные вами строки.\n",
    "\n",
    "Обратите внимание: вы можете выбирать строки с помощью квадратных скобок, только если указываете срез, например, 0:4. Кроме того, вы используете целочисленные индексы строк, а не метки строк!"
   ]
  },
  {
   "cell_type": "markdown",
   "metadata": {
    "collapsed": false
   },
   "source": [
    "### Инструкции\n",
    "\n",
    "- Выберите первые 3 наблюдения из `cars` и выведите их.\n",
    "- Выберите четвертое, пятое и шестое наблюдения, соответствующие индексам строк 3, 4 и 5, и выведите их."
   ]
  },
  {
   "cell_type": "code",
   "execution_count": 4,
   "metadata": {
    "ExecuteTime": {
     "end_time": "2024-01-02T10:28:20.252776Z",
     "start_time": "2024-01-02T10:28:20.226370Z"
    },
    "collapsed": false
   },
   "outputs": [
    {
     "name": "stdout",
     "output_type": "stream",
     "text": [
      "     cars_per_cap        country  drives_right\n",
      "US            809  United States          True\n",
      "AUS           731      Australia         False\n",
      "JAP           588          Japan         False\n",
      "     cars_per_cap  country  drives_right\n",
      "IN             18    India         False\n",
      "RU            200   Russia          True\n",
      "MOR            70  Morocco          True\n"
     ]
    }
   ],
   "source": [
    "# Импорт данных по автомобилям\n",
    "cars = pd.read_csv('datasets/cars.csv', index_col=0)\n",
    "\n",
    "# Вывод первых 3 наблюдений\n",
    "print(cars[0:3])\n",
    "\n",
    "# Вывод четвертого, пятого и шестого наблюдений\n",
    "print(cars[3:6])"
   ]
  },
  {
   "cell_type": "markdown",
   "metadata": {
    "collapsed": false
   },
   "source": [
    "## loc и iloc (1)\n",
    "\n",
    "С помощью `loc` и `iloc` можно выполнять практически любую операцию выбора данных в DataFrame, о которой вы можете подумать. loc основан на метках, что означает, что вы должны указать строки и столбцы на основе их меток строк и столбцов. `iloc` основан на целочисленных индексах, поэтому вам нужно указывать строки и столбцы по их целочисленным индексам, как вы делали в предыдущем упражнении.\n",
    "\n",
    "Попробуйте выполнить следующие команды в IPython Shell, чтобы экспериментировать с `loc` и `iloc` для выбора наблюдений. Каждая пара команд здесь дает одинаковый результат.\n",
    "\n",
    "    cars.loc['RU']\n",
    "    cars.iloc[4]\n",
    "\n",
    "    cars.loc[['RU']]\n",
    "    cars.iloc[[4]]\n",
    "\n",
    "    cars.loc[['RU', 'AUS']]\n",
    "    cars.iloc[[4, 1]]\n",
    "\n",
    "Как и раньше, включен код, который импортирует данные об автомобилях как DataFrame в Pandas."
   ]
  },
  {
   "cell_type": "markdown",
   "metadata": {
    "collapsed": false
   },
   "source": [
    "### Инструкции\n",
    "\n",
    "- Используйте `loc` или `iloc`, чтобы выбрать наблюдение, соответствующее Японии, в виде Series. Метка этой строки - `JAP`, индекс - 2. Обязательно выведите полученный Series.\n",
    "- Используйте `loc` или `iloc`, чтобы выбрать наблюдения для Австралии и Египта в виде DataFrame. Вы можете узнать метки/индексы этих строк, осмотрев `cars` в IPython Shell. Обязательно выведите полученный DataFrame."
   ]
  },
  {
   "cell_type": "code",
   "execution_count": 5,
   "metadata": {
    "ExecuteTime": {
     "end_time": "2024-01-02T10:33:57.685055Z",
     "start_time": "2024-01-02T10:33:57.635914Z"
    },
    "collapsed": false
   },
   "outputs": [
    {
     "name": "stdout",
     "output_type": "stream",
     "text": [
      "cars_per_cap      588\n",
      "country         Japan\n",
      "drives_right    False\n",
      "Name: JAP, dtype: object\n",
      "     cars_per_cap    country  drives_right\n",
      "AUS           731  Australia         False\n",
      "EG             45      Egypt          True\n"
     ]
    }
   ],
   "source": [
    "# Импорт данных по автомобилям\n",
    "cars = pd.read_csv('datasets/cars.csv', index_col=0)\n",
    "\n",
    "# Вывод наблюдения для Японии\n",
    "print(cars.loc[\"JAP\"])\n",
    "\n",
    "# Вывод наблюдений для Австралии и Египта\n",
    "print(cars.iloc[[1, -1]])"
   ]
  },
  {
   "cell_type": "markdown",
   "metadata": {
    "collapsed": false
   },
   "source": [
    "## loc и iloc (2)\n",
    "\n",
    "`loc` и `iloc` также позволяют выбирать как строки, так и столбцы из DataFrame. Чтобы провести эксперимент, попробуйте следующие команды в IPython Shell. Опять же, парные команды дают одинаковый результат.\n",
    "    \n",
    "    cars.loc['IN', 'cars_per_cap']\n",
    "    cars.iloc[3, 0]\n",
    "    \n",
    "    cars.loc[['IN', 'RU'], 'cars_per_cap']\n",
    "    cars.iloc[[3, 4], 0]\n",
    "    \n",
    "    cars.loc[['IN', 'RU'], ['cars_per_cap', 'country']]\n",
    "    cars.iloc[[3, 4], [0, 1]]\n",
    "\n"
   ]
  },
  {
   "cell_type": "markdown",
   "metadata": {
    "collapsed": false
   },
   "source": [
    "### Инструкции\n",
    "\n",
    "- Выведите значение `drives_right` для строки, соответствующей `Марокко` (метка строки - `MOR`).\n",
    "- Выведите под-DataFrame, содержащий наблюдения для России и Марокко, а также столбцы `country` и `drives_right`."
   ]
  },
  {
   "cell_type": "code",
   "execution_count": 6,
   "metadata": {
    "ExecuteTime": {
     "end_time": "2024-01-02T10:36:15.511070Z",
     "start_time": "2024-01-02T10:36:15.462185Z"
    },
    "collapsed": false
   },
   "outputs": [
    {
     "name": "stdout",
     "output_type": "stream",
     "text": [
      "True\n",
      "     country  drives_right\n",
      "RU    Russia          True\n",
      "MOR  Morocco          True\n"
     ]
    }
   ],
   "source": [
    "# Вывести значение drives_right для Марокко\n",
    "print(cars.loc['MOR', 'drives_right'])\n",
    "\n",
    "# Вывести под-DataFrame\n",
    "print(cars.loc[['RU','MOR'],['country','drives_right']])"
   ]
  },
  {
   "cell_type": "markdown",
   "metadata": {
    "collapsed": false
   },
   "source": [
    "## loc и iloc (3)\n",
    "\n",
    "Возможно также выбирать только столбцы с помощью `loc` и `iloc`. В обоих случаях достаточно указать срез от начала до конца перед запятой:\n",
    "\n",
    "    cars.loc[:, 'country']\n",
    "    cars.iloc[:, 1]\n",
    "    \n",
    "    cars.loc[:, ['country','drives_right']]\n",
    "    cars.iloc[:, [1, 2]]\n"
   ]
  },
  {
   "cell_type": "markdown",
   "metadata": {
    "collapsed": false
   },
   "source": [
    "### Инструкции\n",
    "\n",
    "- Выведите столбец `drives_right` в виде Series, используя `loc` или `iloc`.\n",
    "- Выведите столбец `drives_right` в виде DataFrame, используя `loc` или `iloc`.\n",
    "- Выведите как столбец `cars_per_cap`, так и driv`es_right в виде DataFrame, используя `loc` или `iloc`."
   ]
  },
  {
   "cell_type": "code",
   "execution_count": 7,
   "metadata": {
    "ExecuteTime": {
     "end_time": "2024-01-02T10:38:57.494417Z",
     "start_time": "2024-01-02T10:38:57.450578Z"
    },
    "collapsed": false
   },
   "outputs": [
    {
     "name": "stdout",
     "output_type": "stream",
     "text": [
      "US      True\n",
      "AUS    False\n",
      "JAP    False\n",
      "IN     False\n",
      "RU      True\n",
      "MOR     True\n",
      "EG      True\n",
      "Name: drives_right, dtype: bool\n",
      "     drives_right\n",
      "US           True\n",
      "AUS         False\n",
      "JAP         False\n",
      "IN          False\n",
      "RU           True\n",
      "MOR          True\n",
      "EG           True\n",
      "     cars_per_cap  drives_right\n",
      "US            809          True\n",
      "AUS           731         False\n",
      "JAP           588         False\n",
      "IN             18         False\n",
      "RU            200          True\n",
      "MOR            70          True\n",
      "EG             45          True\n"
     ]
    }
   ],
   "source": [
    "# Вывести столбец drives_right как Series\n",
    "print(cars.loc[:, 'drives_right'])\n",
    "\n",
    "# Вывести столбец drives_right как DataFrame\n",
    "print(cars.loc[:, ['drives_right']])\n",
    "\n",
    "# Вывести cars_per_cap и drives_right как DataFrame\n",
    "print(cars.loc[:, ['cars_per_cap', 'drives_right']])"
   ]
  }
 ],
 "metadata": {
  "kernelspec": {
   "display_name": "Python 3",
   "language": "python",
   "name": "python3"
  },
  "language_info": {
   "codemirror_mode": {
    "name": "ipython",
    "version": 3
   },
   "file_extension": ".py",
   "mimetype": "text/x-python",
   "name": "python",
   "nbconvert_exporter": "python",
   "pygments_lexer": "ipython3",
   "version": "3.11.3"
  }
 },
 "nbformat": 4,
 "nbformat_minor": 0
}
