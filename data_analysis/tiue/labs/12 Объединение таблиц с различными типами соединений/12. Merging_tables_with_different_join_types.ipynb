{
 "cells": [
  {
   "cell_type": "markdown",
   "source": [
    "# Merging Tables With Different Join Types"
   ],
   "metadata": {
    "collapsed": false
   },
   "id": "acfe95686bc59a01"
  },
  {
   "cell_type": "markdown",
   "source": [
    "## Counting missing rows with left join\n",
    "The Movie Database is supported by volunteers going out into the world, collecting data, and entering it into the database. This includes financial data, such as movie budget and revenue. If you wanted to know which movies are still missing data, you could use a left join to identify them. Practice using a left join by merging the `movies` table and the `financials` table.\n",
    "\n",
    "The `movies` and `financials` tables have been loaded for you.\n"
   ],
   "metadata": {
    "collapsed": false
   },
   "id": "73f7be1c9b418c13"
  },
  {
   "cell_type": "code",
   "outputs": [
    {
     "name": "stdout",
     "output_type": "stream",
     "text": [
      "File opened successfully!\n"
     ]
    }
   ],
   "source": [
    "# Assuming your Jupyter Notebook is in the exercises folder\n",
    "# You want to access the file movies.p in the datasets folder\n",
    "\n",
    "import os\n",
    "import pickle\n",
    "import pandas as pd\n",
    "\n",
    "# Get the current directory\n",
    "current_directory = os.getcwd()\n",
    "\n",
    "# Navigate to the datasets folder\n",
    "datasets_directory = os.path.join(current_directory, '..', 'datasets')\n",
    "\n",
    "# Check if the file exists in the datasets folder\n",
    "file_path = os.path.join(datasets_directory, 'movies.p')\n",
    "\n",
    "if os.path.exists(file_path):\n",
    "    # File exists, so open it\n",
    "    with open(file_path, 'rb') as file:\n",
    "        data = pickle.load(file)\n",
    "    # Work with the 'data' object as needed\n",
    "    print(\"File opened successfully!\")\n",
    "else:\n",
    "    print(\"File not found.\")\n",
    "movies = data"
   ],
   "metadata": {
    "collapsed": false,
    "ExecuteTime": {
     "end_time": "2024-01-07T04:47:47.253823Z",
     "start_time": "2024-01-07T04:47:44.905787Z"
    }
   },
   "id": "6624579d248ffc9d",
   "execution_count": 1
  },
  {
   "cell_type": "code",
   "outputs": [
    {
     "name": "stdout",
     "output_type": "stream",
     "text": [
      "File opened successfully!\n"
     ]
    }
   ],
   "source": [
    "# Assuming your Jupyter Notebook is in the exercises folder\n",
    "# You want to access the file financials.p in the datasets folder\n",
    "\n",
    "# Get the current directory\n",
    "current_directory = os.getcwd()\n",
    "\n",
    "# Navigate to the datasets folder\n",
    "datasets_directory = os.path.join(current_directory, '..', 'datasets')\n",
    "\n",
    "# Check if the file exists in the datasets folder\n",
    "file_path = os.path.join(datasets_directory, 'financials.p')\n",
    "\n",
    "if os.path.exists(file_path):\n",
    "    # File exists, so open it\n",
    "    with open(file_path, 'rb') as file:\n",
    "        data = pickle.load(file)\n",
    "    # Work with the 'data' object as needed\n",
    "    print(\"File opened successfully!\")\n",
    "else:\n",
    "    print(\"File not found.\")\n",
    "financials = data"
   ],
   "metadata": {
    "collapsed": false,
    "ExecuteTime": {
     "end_time": "2024-01-07T04:47:47.424937Z",
     "start_time": "2024-01-07T04:47:47.259395Z"
    }
   },
   "id": "798ad860d23ae944",
   "execution_count": 2
  },
  {
   "cell_type": "markdown",
   "source": [
    "### Instructions 1/2\n",
    "\n",
    "Merge the `movies` table, as the left table, with the `financials` table using a left join, and save the result to `movies_financials`."
   ],
   "metadata": {
    "collapsed": false
   },
   "id": "f32a05af86e741f1"
  },
  {
   "cell_type": "code",
   "execution_count": 3,
   "id": "initial_id",
   "metadata": {
    "collapsed": true,
    "ExecuteTime": {
     "end_time": "2024-01-07T04:47:47.441126Z",
     "start_time": "2024-01-07T04:47:47.425455Z"
    }
   },
   "outputs": [],
   "source": [
    "# Merge movies and financials with a left join\n",
    "movies_financials = movies.merge(financials, how='left', on='id')"
   ]
  },
  {
   "cell_type": "markdown",
   "source": [
    "### Instructions 2/3\n",
    "\n",
    "Count the number of rows in `movies_financials` with a null value in the `budget` column."
   ],
   "metadata": {
    "collapsed": false
   },
   "id": "a27f8dc1fd28dcc4"
  },
  {
   "cell_type": "markdown",
   "source": [
    "Great job! You used a left join to find out which rows in the `financials` table were missing data. When performing a left join, the `.merge()` method returns a row full of null values for columns in the right table if the key column does not have a matching value in both tables. We see that there are at least 1,500 rows missing data. Wow! That sounds like a lot of work."
   ],
   "metadata": {
    "collapsed": false
   },
   "id": "e2e22ad2efc1cbc0"
  },
  {
   "cell_type": "code",
   "outputs": [
    {
     "name": "stdout",
     "output_type": "stream",
     "text": [
      "1574\n"
     ]
    }
   ],
   "source": [
    "# Count the number of rows in the budget column that are missing\n",
    "number_of_missing_fin = movies_financials['budget'].isnull().sum()\n",
    "\n",
    "# Print the number of movies missing financials\n",
    "print(number_of_missing_fin)"
   ],
   "metadata": {
    "collapsed": false,
    "ExecuteTime": {
     "end_time": "2024-01-07T04:47:47.478149Z",
     "start_time": "2024-01-07T04:47:47.447181Z"
    }
   },
   "id": "cd368f6a5bd90270",
   "execution_count": 4
  },
  {
   "cell_type": "markdown",
   "source": [
    "## Enriching a dataset\n",
    "Setting `how='left'` with the `.merge()` method is a useful technique for enriching or enhancing a dataset with additional information from a different table. In this exercise, you will start off with a sample of movie data from the movie series Toy Story. Your goal is to enrich this data by adding the marketing tag line for each movie. You will compare the results of a left join versus an inner join.\n",
    "\n",
    "The `toy_story` DataFrame contains the Toy Story movies. The `toy_story` and `taglines` DataFrames have been loaded for you."
   ],
   "metadata": {
    "collapsed": false
   },
   "id": "589516e84fc19f8e"
  },
  {
   "cell_type": "code",
   "outputs": [],
   "source": [
    "# Create a DataFrame with the provided data\n",
    "data = {\n",
    "    'id': [10193, 863, 862],\n",
    "    'title': ['Toy Story 3', 'Toy Story 2', 'Toy Story'],\n",
    "    'popularity': [59.995, 73.575, 73.64],\n",
    "    'release_date': ['2010-06-16', '1999-10-30', '1995-10-30']\n",
    "}\n",
    "\n",
    "toy_story = pd.DataFrame(data)\n",
    "\n",
    "# Save the DataFrame as a CSV file\n",
    "toy_story.to_csv('toy_story.csv', index=False)"
   ],
   "metadata": {
    "collapsed": false,
    "ExecuteTime": {
     "end_time": "2024-01-07T04:47:47.536519Z",
     "start_time": "2024-01-07T04:47:47.451642Z"
    }
   },
   "id": "1d4ead98f5f5283e",
   "execution_count": 5
  },
  {
   "cell_type": "code",
   "outputs": [
    {
     "name": "stdout",
     "output_type": "stream",
     "text": [
      "File opened successfully!\n"
     ]
    }
   ],
   "source": [
    "# Assuming your Jupyter Notebook is in the exercises folder\n",
    "# You want to access the file financials.p in the datasets folder\n",
    "\n",
    "# Get the current directory\n",
    "current_directory = os.getcwd()\n",
    "\n",
    "# Navigate to the datasets folder\n",
    "datasets_directory = os.path.join(current_directory, '..', 'datasets')\n",
    "\n",
    "# Check if the file exists in the datasets folder\n",
    "file_path = os.path.join(datasets_directory, 'taglines.p')\n",
    "\n",
    "if os.path.exists(file_path):\n",
    "    # File exists, so open it\n",
    "    with open(file_path, 'rb') as file:\n",
    "        data = pickle.load(file)\n",
    "    # Work with the 'data' object as needed\n",
    "    print(\"File opened successfully!\")\n",
    "else:\n",
    "    print(\"File not found.\")\n",
    "taglines = data"
   ],
   "metadata": {
    "collapsed": false,
    "ExecuteTime": {
     "end_time": "2024-01-07T04:47:47.709300Z",
     "start_time": "2024-01-07T04:47:47.482272Z"
    }
   },
   "id": "2da6f0eb29f0a19d",
   "execution_count": 6
  },
  {
   "cell_type": "markdown",
   "source": [
    "### Instructions 1/2\n",
    "\n",
    "Merge `toy_story` and `taglines` on the `id` column with a left join, and save the result as `toystory_tag`."
   ],
   "metadata": {
    "collapsed": false
   },
   "id": "bd2abae4ab6936d"
  },
  {
   "cell_type": "code",
   "outputs": [
    {
     "name": "stdout",
     "output_type": "stream",
     "text": [
      "      id        title  popularity release_date                   tagline\n",
      "0  10193  Toy Story 3      59.995   2010-06-16  No toy gets left behind.\n",
      "1    863  Toy Story 2      73.575   1999-10-30        The toys are back!\n",
      "2    862    Toy Story      73.640   1995-10-30                       NaN\n",
      "(3, 5)\n"
     ]
    }
   ],
   "source": [
    "# Merge the toy_story and taglines tables with a left join\n",
    "toystory_tag = toy_story.merge(taglines,on='id',how='left')\n",
    "\n",
    "# Print the rows and shape of toystory_tag\n",
    "print(toystory_tag)\n",
    "print(toystory_tag.shape)"
   ],
   "metadata": {
    "collapsed": false,
    "ExecuteTime": {
     "end_time": "2024-01-07T04:47:47.725231Z",
     "start_time": "2024-01-07T04:47:47.705596Z"
    }
   },
   "id": "c49135f80a869a3c",
   "execution_count": 7
  },
  {
   "cell_type": "markdown",
   "source": [
    "### Instruction 2/2\n",
    "\n",
    "With `toy_story` as the left table, merge to it `taglines` on the `id` column with an inner join, and save as `toystory_tag`."
   ],
   "metadata": {
    "collapsed": false
   },
   "id": "c978bc8700df86c7"
  },
  {
   "cell_type": "code",
   "outputs": [
    {
     "name": "stdout",
     "output_type": "stream",
     "text": [
      "      id        title  popularity release_date                   tagline\n",
      "0  10193  Toy Story 3      59.995   2010-06-16  No toy gets left behind.\n",
      "1    863  Toy Story 2      73.575   1999-10-30        The toys are back!\n",
      "(2, 5)\n"
     ]
    }
   ],
   "source": [
    "# Merge the toy_story and taglines tables with a inner join\n",
    "toystory_tag = toy_story.merge(taglines,on='id')\n",
    "\n",
    "# Print the rows and shape of toystory_tag\n",
    "print(toystory_tag)\n",
    "print(toystory_tag.shape)"
   ],
   "metadata": {
    "collapsed": false,
    "ExecuteTime": {
     "end_time": "2024-01-07T04:47:47.773547Z",
     "start_time": "2024-01-07T04:47:47.721417Z"
    }
   },
   "id": "5b17c741c763a841",
   "execution_count": 8
  },
  {
   "cell_type": "markdown",
   "source": [
    "That's fantastic work! If your goal is to enhance or enrich a dataset, then you do not want to lose any of your original data. A left join will do that by returning all the rows of your left table, while using an inner join may result in lost data if it does not exist in both tables."
   ],
   "metadata": {
    "collapsed": false
   },
   "id": "8041ba38b327220c"
  },
  {
   "cell_type": "markdown",
   "source": [
    "## Right join to find unique movies\n",
    "Most of the recent big-budget science fiction movies can also be classified as action movies. You are given a table of science fiction movies called `scifi_movies` and another table of action movies called `action_movies`. Your goal is to find which movies are considered only science fiction movies. Once you have this table, you can merge the `movies` table in to see the movie names. Since this exercise is related to science fiction movies, use a right join as your superhero power to solve this problem.\n",
    "\n",
    "The `movies`, `scifi_movies`, and `action_movies` tables have been loaded for you."
   ],
   "metadata": {
    "collapsed": false
   },
   "id": "2cd240b5b012dd12"
  },
  {
   "cell_type": "code",
   "outputs": [
    {
     "name": "stdout",
     "output_type": "stream",
     "text": [
      "File opened successfully!\n"
     ]
    }
   ],
   "source": [
    "# Assuming your Jupyter Notebook is in the exercises folder\n",
    "# You want to access the file movies.p in the datasets folder\n",
    "\n",
    "# Get the current directory\n",
    "current_directory = os.getcwd()\n",
    "\n",
    "# Navigate to the datasets folder\n",
    "datasets_directory = os.path.join(current_directory, '..', 'datasets')\n",
    "\n",
    "# Check if the file exists in the datasets folder\n",
    "file_path = os.path.join(datasets_directory, 'movie_to_genres.p')\n",
    "\n",
    "if os.path.exists(file_path):\n",
    "    # File exists, so open it\n",
    "    with open(file_path, 'rb') as file:\n",
    "        data = pickle.load(file)\n",
    "    # Work with the 'data' object as needed\n",
    "    print(\"File opened successfully!\")\n",
    "else:\n",
    "    print(\"File not found.\")\n",
    "movie_to_genres = data"
   ],
   "metadata": {
    "collapsed": false,
    "ExecuteTime": {
     "end_time": "2024-01-07T04:47:47.883913Z",
     "start_time": "2024-01-07T04:47:47.737437Z"
    }
   },
   "id": "72a9f00eb4633bc",
   "execution_count": 9
  },
  {
   "cell_type": "code",
   "outputs": [],
   "source": [
    "action_movies = pd.read_csv('../datasets/action_movies.csv', parse_dates=True, index_col=[0])\n",
    "scifi_movies = pd.read_csv('../datasets/scifi_movies.csv', parse_dates=True, index_col=[0])"
   ],
   "metadata": {
    "collapsed": false,
    "ExecuteTime": {
     "end_time": "2024-01-07T04:47:47.905870Z",
     "start_time": "2024-01-07T04:47:47.888846Z"
    }
   },
   "id": "2b6e5b020f5db79e",
   "execution_count": 10
  },
  {
   "cell_type": "markdown",
   "source": [
    "### Instructions 1/4\n",
    "\n",
    "Merge `action_movies` and `scifi_movies` tables with a right join on `movie_id`. Save the result as action_scifi."
   ],
   "metadata": {
    "collapsed": false
   },
   "id": "9188f9f36d619828"
  },
  {
   "cell_type": "code",
   "outputs": [],
   "source": [
    "# # Merge action_movies to scifi_movies with right join\n",
    "action_scifi = action_movies.merge(scifi_movies, how='right', on='movie_id')\n"
   ],
   "metadata": {
    "collapsed": false,
    "ExecuteTime": {
     "end_time": "2024-01-07T04:47:47.936142Z",
     "start_time": "2024-01-07T04:47:47.906244Z"
    }
   },
   "id": "bb11cd0c980ab0ce",
   "execution_count": 11
  },
  {
   "cell_type": "markdown",
   "source": [
    "### Instructions 2/4\n",
    "\n",
    "Update the `merge` to add `suffixes`, where `_act` and `_sci` are suffixes for the left and right tables, respectively."
   ],
   "metadata": {
    "collapsed": false
   },
   "id": "d90d7b5473fae654"
  },
  {
   "cell_type": "code",
   "outputs": [
    {
     "name": "stdout",
     "output_type": "stream",
     "text": [
      "         genre_act        genre_sci\n",
      "movie_id                           \n",
      "11          Action  Science Fiction\n",
      "18          Action  Science Fiction\n",
      "19             NaN  Science Fiction\n",
      "38             NaN  Science Fiction\n",
      "62             NaN  Science Fiction\n"
     ]
    }
   ],
   "source": [
    "# Merge action_movies to scifi_movies with right join\n",
    "action_scifi = action_movies.merge(scifi_movies, on='movie_id', how='right',suffixes=['_act','_sci'])\n",
    "\n",
    "# Print the first few rows of action_scifi to see the structure\n",
    "print(action_scifi.head())"
   ],
   "metadata": {
    "collapsed": false,
    "ExecuteTime": {
     "end_time": "2024-01-07T04:47:48.017951Z",
     "start_time": "2024-01-07T04:47:47.917439Z"
    }
   },
   "id": "d3fd0f0ded0644ea",
   "execution_count": 12
  },
  {
   "cell_type": "markdown",
   "source": [
    "### Instructions 3/4\n",
    "\n",
    "From `action_scifi`, subset only the rows where the `genre_act` column is null."
   ],
   "metadata": {
    "collapsed": false
   },
   "id": "15a04d593ed7c81d"
  },
  {
   "cell_type": "code",
   "outputs": [],
   "source": [
    "# From action_scifi, select only the rows where the genre_act column is null\n",
    "scifi_only = action_scifi[action_scifi['genre_act'].isnull()]"
   ],
   "metadata": {
    "collapsed": false,
    "ExecuteTime": {
     "end_time": "2024-01-07T04:47:48.019607Z",
     "start_time": "2024-01-07T04:47:47.930464Z"
    }
   },
   "id": "e2a070c13e3227e",
   "execution_count": 13
  },
  {
   "cell_type": "markdown",
   "source": [
    "### Instructions 4/4\n",
    "\n",
    "Merge `movies` and `scifi_only` using the `id` column in the left table and the `movie_id` column in the right table with an inner join."
   ],
   "metadata": {
    "collapsed": false
   },
   "id": "ef08f7fbf4068150"
  },
  {
   "cell_type": "code",
   "outputs": [
    {
     "name": "stdout",
     "output_type": "stream",
     "text": [
      "      id                         title  popularity release_date genre_act  \\\n",
      "0  18841  The Lost Skeleton of Cadavra    1.680525   2001-09-12       NaN   \n",
      "1  26672     The Thief and the Cobbler    2.439184   1993-09-23       NaN   \n",
      "2  15301      Twilight Zone: The Movie   12.902975   1983-06-24       NaN   \n",
      "3   8452                   The 6th Day   18.447479   2000-11-17       NaN   \n",
      "4   1649    Bill & Ted's Bogus Journey   11.349664   1991-07-19       NaN   \n",
      "\n",
      "         genre_sci  \n",
      "0  Science Fiction  \n",
      "1  Science Fiction  \n",
      "2  Science Fiction  \n",
      "3  Science Fiction  \n",
      "4  Science Fiction  \n",
      "(258, 6)\n"
     ]
    }
   ],
   "source": [
    "# Merge the movies and scifi_only tables with an inner join\n",
    "movies_and_scifi_only = movies.merge(scifi_only, left_on='id', right_on='movie_id')\n",
    "\n",
    "# Print the first few rows and shape of movies_and_scifi_only\n",
    "print(movies_and_scifi_only.head())\n",
    "print(movies_and_scifi_only.shape)"
   ],
   "metadata": {
    "collapsed": false,
    "ExecuteTime": {
     "end_time": "2024-01-07T04:47:48.022456Z",
     "start_time": "2024-01-07T04:47:47.933867Z"
    }
   },
   "id": "d9fa702750849ad4",
   "execution_count": 14
  },
  {
   "cell_type": "markdown",
   "source": [
    "Well done, right join to the rescue! You found over 250 action only movies by merging `action_movies` and `scifi_movies` using a right join. With this, you were able to find the rows not found in the `action_movies` table. Additionally, you used the `left_on` and `right_on` arguments to merge in the movies table. Wow! You are a superhero."
   ],
   "metadata": {
    "collapsed": false
   },
   "id": "2c165e466e0d817c"
  },
  {
   "cell_type": "markdown",
   "source": [
    "## Popular genres with right join\n",
    "What are the genres of the most popular movies? To answer this question, you need to merge data from the `movies` and `movie_to_genres` tables. In a table called `pop_movies`, the top 10 most popular movies in the movies table have been selected. To ensure that you are analyzing all the popular movies, merge it with the `movie_to_genres` table using a right join. To complete your analysis, count the number of different genres. Also, the two tables can be merged by the movie ID. However, in `pop_movies` that column is called `id`, and in `movies_to_genres` it's called `movie_id`.\n",
    "\n",
    "The `pop_movies` and `movie_to_genres` tables have been loaded for you."
   ],
   "metadata": {
    "collapsed": false
   },
   "id": "b19ee7fd912f07f2"
  },
  {
   "cell_type": "code",
   "outputs": [],
   "source": [
    "pop_movies = pd.read_csv('../datasets/pop_movies.csv')"
   ],
   "metadata": {
    "collapsed": false,
    "ExecuteTime": {
     "end_time": "2024-01-07T04:47:48.037641Z",
     "start_time": "2024-01-07T04:47:47.948246Z"
    }
   },
   "id": "c5e1b1a9693d3d13",
   "execution_count": 15
  },
  {
   "cell_type": "markdown",
   "source": [
    "### Instructions\n",
    "\n",
    "- Merge `movie_to_genres` and `pop_movies` using a right join. Save the results as `genres_movies`.\n",
    "- Group `genres_movies` by `genre` and count the number of `id` values."
   ],
   "metadata": {
    "collapsed": false
   },
   "id": "9bd11031a98976ce"
  },
  {
   "cell_type": "code",
   "outputs": [
    {
     "data": {
      "text/plain": "<Figure size 640x480 with 1 Axes>",
      "image/png": "[encoded data removed]"
     },
     "metadata": {},
     "output_type": "display_data"
    }
   ],
   "source": [
    "import matplotlib.pyplot as plt\n",
    "\n",
    "# Use right join to merge the movie_to_genres and pop_movies tables\n",
    "genres_movies = movie_to_genres.merge(pop_movies, how='right', left_on='movie_id', right_on='id')\n",
    "\n",
    "# Count the number of genres\n",
    "genre_count = genres_movies.groupby('genre').agg({'id':'count'})\n",
    "\n",
    "# Plot a bar chart of the genre_count\n",
    "genre_count.plot(kind='bar')\n",
    "plt.show()"
   ],
   "metadata": {
    "collapsed": false,
    "ExecuteTime": {
     "end_time": "2024-01-07T04:47:48.909386Z",
     "start_time": "2024-01-07T04:47:47.958129Z"
    }
   },
   "id": "9dff44d8672e46d4",
   "execution_count": 16
  },
  {
   "cell_type": "markdown",
   "source": [
    "## Using outer join to select actors\n",
    "One cool aspect of using an outer join is that, because it returns all rows from both merged tables and null where they do not match, you can use it to find rows that do not have a match in the other table. To try for yourself, you have been given two tables with a list of actors from two popular movies: Iron Man 1 and Iron Man 2. Most of the actors played in both movies. Use an outer join to find actors who did not act in both movies.\n",
    "\n",
    "The Iron Man 1 table is called `iron_1_actors`, and Iron Man 2 table is called `iron_2_actors`. Both tables have been loaded for you and a few rows printed, so you can see the structure."
   ],
   "metadata": {
    "collapsed": false
   },
   "id": "c8417f7b35bfb746"
  },
  {
   "cell_type": "markdown",
   "source": [
    "![tables](../datasets/noJoin.png)"
   ],
   "metadata": {
    "collapsed": false
   },
   "id": "7c690c63f9506c3f"
  },
  {
   "cell_type": "markdown",
   "source": [
    "### Instructions\n",
    "\n",
    "- Save to `iron_1_and_2` the merge of `iron_1_actors` (left) with `iron_2_actors` tables with an `outer` join on the `id` column, and set suffixes to (`'_1','_2'`).\n",
    "- Create an index that returns `True` if `name_1` or `name_2` are `null`, and `False` otherwise."
   ],
   "metadata": {
    "collapsed": false
   },
   "id": "84150c46b46d4ab9"
  },
  {
   "cell_type": "code",
   "outputs": [],
   "source": [
    "iron_1_actors = pd.read_csv('../datasets/iron_1_actors.csv')\n",
    "iron_2_actors = pd.read_csv('../datasets/iron_2_actors.csv')"
   ],
   "metadata": {
    "collapsed": false,
    "ExecuteTime": {
     "end_time": "2024-01-07T04:47:48.920205Z",
     "start_time": "2024-01-07T04:47:48.908853Z"
    }
   },
   "id": "dae107cf779599a8",
   "execution_count": 17
  },
  {
   "cell_type": "code",
   "outputs": [
    {
     "name": "stdout",
     "output_type": "stream",
     "text": [
      "                   character_1      id           name_1 character_2 name_2\n",
      "0                       Yinsen   17857       Shaun Toub         NaN    NaN\n",
      "2  Obadiah Stane / Iron Monger    1229     Jeff Bridges         NaN    NaN\n",
      "3                  War Machine   18288  Terrence Howard         NaN    NaN\n",
      "5                         Raza   57452      Faran Tahir         NaN    NaN\n",
      "8                   Abu Bakaar  173810    Sayed Badreya         NaN    NaN\n"
     ]
    }
   ],
   "source": [
    "# Merge iron_1_actors to iron_2_actors on id with outer join using suffixes\n",
    "iron_1_and_2 = iron_1_actors.merge(iron_2_actors,\n",
    "                                   how='outer',\n",
    "                                   on='id',\n",
    "                                   suffixes=['_1','_2'])\n",
    "\n",
    "# Create an index that returns true if name_1 or name_2 are null\n",
    "m = ((iron_1_and_2['name_1'].isnull()) |\n",
    "     (iron_1_and_2['name_2'].isnull()))\n",
    "\n",
    "# Print the first few rows of iron_1_and_2\n",
    "print(iron_1_and_2[m].head())"
   ],
   "metadata": {
    "collapsed": false,
    "ExecuteTime": {
     "end_time": "2024-01-07T04:47:48.967050Z",
     "start_time": "2024-01-07T04:47:48.920515Z"
    }
   },
   "id": "f620a4665775701",
   "execution_count": 18
  },
  {
   "cell_type": "markdown",
   "source": [],
   "metadata": {
    "collapsed": false
   },
   "id": "d6dcabe01a9e9cd9"
  },
  {
   "cell_type": "markdown",
   "source": [
    "## Self join\n",
    "Merging a table to itself can be useful when you want to compare values in a column to other values in the same column. In this exercise, you will practice this by creating a table that for each movie will list the movie director and a member of the crew on one row. You have been given a table called `crews`, which has columns `id`, `job`, and `name`. First, merge the table to itself using the movie `ID`. This merge will give you a larger table where for each `movie`, every `job` is matched against each other. Then select only those rows with a director in the left table, and avoid having a row where the director's job is listed in both the left and right tables. This filtering will remove job combinations that aren't with the director.\n",
    "\n",
    "The `crews` table has been loaded for you."
   ],
   "metadata": {
    "collapsed": false
   },
   "id": "3605dabde88a8d87"
  },
  {
   "cell_type": "code",
   "outputs": [
    {
     "name": "stdout",
     "output_type": "stream",
     "text": [
      "File opened successfully!\n"
     ]
    }
   ],
   "source": [
    "# Assuming your Jupyter Notebook is in the exercises folder\n",
    "# You want to access the file crews.p in the datasets folder\n",
    "\n",
    "# Get the current directory\n",
    "current_directory = os.getcwd()\n",
    "\n",
    "# Navigate to the datasets folder\n",
    "datasets_directory = os.path.join(current_directory, '..', 'datasets')\n",
    "\n",
    "# Check if the file exists in the datasets folder\n",
    "file_path = os.path.join(datasets_directory, 'crews.p')\n",
    "\n",
    "if os.path.exists(file_path):\n",
    "    # File exists, so open it\n",
    "    with open(file_path, 'rb') as file:\n",
    "        data = pickle.load(file)\n",
    "    # Work with the 'data' object as needed\n",
    "    print(\"File opened successfully!\")\n",
    "else:\n",
    "    print(\"File not found.\")\n",
    "crews = data"
   ],
   "metadata": {
    "collapsed": false,
    "ExecuteTime": {
     "end_time": "2024-01-07T05:24:25.079444Z",
     "start_time": "2024-01-07T05:24:23.983236Z"
    }
   },
   "id": "47971d459ad8567f",
   "execution_count": 19
  },
  {
   "cell_type": "markdown",
   "source": [
    "### Instructions 1/3\n",
    "\n",
    "To a variable called `crews_self_merged`, merge the `crews` table to itself on the `id` column using an inner join, setting the suffixes to '`_dir`' and '`_crew`' for the left and right tables respectively."
   ],
   "metadata": {
    "collapsed": false
   },
   "id": "a187d3604cae38de"
  },
  {
   "cell_type": "code",
   "outputs": [
    {
     "name": "stdout",
     "output_type": "stream",
     "text": [
      "      id department_dir job_dir           name_dir department_crew  \\\n",
      "0  19995        Editing  Editor  Stephen E. Rivkin         Editing   \n",
      "1  19995        Editing  Editor  Stephen E. Rivkin           Sound   \n",
      "2  19995        Editing  Editor  Stephen E. Rivkin      Production   \n",
      "3  19995        Editing  Editor  Stephen E. Rivkin       Directing   \n",
      "4  19995        Editing  Editor  Stephen E. Rivkin         Writing   \n",
      "\n",
      "         job_crew          name_crew  \n",
      "0          Editor  Stephen E. Rivkin  \n",
      "1  Sound Designer  Christopher Boyes  \n",
      "2         Casting          Mali Finn  \n",
      "3        Director      James Cameron  \n",
      "4          Writer      James Cameron  \n"
     ]
    }
   ],
   "source": [
    "# Merge the crews table to itself\n",
    "crews_self_merged = crews.merge(crews, on='id', suffixes=('_dir', '_crew'))\n",
    "\n",
    "print(crews_self_merged.head())"
   ],
   "metadata": {
    "collapsed": false,
    "ExecuteTime": {
     "end_time": "2024-01-07T05:29:45.857945Z",
     "start_time": "2024-01-07T05:29:45.714668Z"
    }
   },
   "id": "2293f6ac362ddb9e",
   "execution_count": 22
  },
  {
   "cell_type": "markdown",
   "source": [
    "### Instructions 2/3\n",
    "\n",
    "Create a Boolean index, named `boolean_filter`, that selects rows from the left table with the job of '`Director`' and avoids rows with the job of '`Director`' in the right table."
   ],
   "metadata": {
    "collapsed": false
   },
   "id": "7860bf3a38243b47"
  },
  {
   "cell_type": "code",
   "outputs": [],
   "source": [
    "# Create a Boolean index to select the appropriate\n",
    "boolean_filter = ((crews_self_merged['job_dir'] == 'Director') &\n",
    "                  (crews_self_merged['job_crew'] != 'Director'))\n",
    "direct_crews = crews_self_merged[boolean_filter]"
   ],
   "metadata": {
    "collapsed": false,
    "ExecuteTime": {
     "end_time": "2024-01-07T05:31:08.011900Z",
     "start_time": "2024-01-07T05:31:07.826268Z"
    }
   },
   "id": "d4eb8fd035c4abae",
   "execution_count": 23
  },
  {
   "cell_type": "markdown",
   "source": [
    "Instructions 3/3\n",
    "\n",
    "Use the `.head()` method to print the first few rows of direct_crews."
   ],
   "metadata": {
    "collapsed": false
   },
   "id": "b64760a4499dfccf"
  },
  {
   "cell_type": "code",
   "outputs": [
    {
     "name": "stdout",
     "output_type": "stream",
     "text": [
      "        id department_dir   job_dir       name_dir department_crew  \\\n",
      "156  19995      Directing  Director  James Cameron         Editing   \n",
      "157  19995      Directing  Director  James Cameron           Sound   \n",
      "158  19995      Directing  Director  James Cameron      Production   \n",
      "160  19995      Directing  Director  James Cameron         Writing   \n",
      "161  19995      Directing  Director  James Cameron             Art   \n",
      "\n",
      "           job_crew          name_crew  \n",
      "156          Editor  Stephen E. Rivkin  \n",
      "157  Sound Designer  Christopher Boyes  \n",
      "158         Casting          Mali Finn  \n",
      "160          Writer      James Cameron  \n",
      "161    Set Designer    Richard F. Mays  \n"
     ]
    }
   ],
   "source": [
    "print(direct_crews.head())"
   ],
   "metadata": {
    "collapsed": false,
    "ExecuteTime": {
     "end_time": "2024-01-07T05:31:56.485549Z",
     "start_time": "2024-01-07T05:31:56.456470Z"
    }
   },
   "id": "5f47e8c1deb6c15",
   "execution_count": 24
  },
  {
   "cell_type": "markdown",
   "source": [
    "Great job! By merging the table to itself, you compared the value of the __director__ from the `jobs` column to other values from the `jobs` column. With the output, you can quickly see different movie directors and the people they worked with in the same movie."
   ],
   "metadata": {
    "collapsed": false
   },
   "id": "900bc6339f5d1dd8"
  },
  {
   "cell_type": "markdown",
   "source": [
    "## Index merge for movie ratings\n",
    "To practice merging on indexes, you will merge movies and a table called `ratings` that holds info about movie ratings. Make sure your merge returns all the rows from the `movies` table and not all the rows of `ratings` table need to be included in the result.\n",
    "\n",
    "The `movies` and `ratings` tables have been loaded for you.\n"
   ],
   "metadata": {
    "collapsed": false
   },
   "id": "3675b64b50c878e9"
  },
  {
   "cell_type": "code",
   "outputs": [
    {
     "name": "stdout",
     "output_type": "stream",
     "text": [
      "File opened successfully!\n"
     ]
    }
   ],
   "source": [
    "# Assuming your Jupyter Notebook is in the exercises folder\n",
    "# You want to access the file ratings.p in the datasets folder\n",
    "\n",
    "# Get the current directory\n",
    "current_directory = os.getcwd()\n",
    "\n",
    "# Navigate to the datasets folder\n",
    "datasets_directory = os.path.join(current_directory, '..', 'datasets')\n",
    "\n",
    "# Check if the file exists in the datasets folder\n",
    "file_path = os.path.join(datasets_directory, 'ratings.p')\n",
    "\n",
    "if os.path.exists(file_path):\n",
    "    # File exists, so open it\n",
    "    with open(file_path, 'rb') as file:\n",
    "        data = pickle.load(file)\n",
    "    # Work with the 'data' object as needed\n",
    "    print(\"File opened successfully!\")\n",
    "else:\n",
    "    print(\"File not found.\")\n",
    "ratings = data"
   ],
   "metadata": {
    "collapsed": false,
    "ExecuteTime": {
     "end_time": "2024-01-07T06:26:25.895455Z",
     "start_time": "2024-01-07T06:26:25.258216Z"
    }
   },
   "id": "c6abdbad63815863",
   "execution_count": 25
  },
  {
   "cell_type": "markdown",
   "source": [
    "### Instructions\n",
    "\n",
    "Merge `movies` and `ratings` on the index and save to a variable called `movies_ratings`, ensuring that all the rows from the `movies` table are returned.\n"
   ],
   "metadata": {
    "collapsed": false
   },
   "id": "d41754cc5336744b"
  },
  {
   "cell_type": "code",
   "outputs": [
    {
     "name": "stdout",
     "output_type": "stream",
     "text": [
      "      id                 title  popularity release_date  vote_average  \\\n",
      "0    257          Oliver Twist   20.415572   2005-09-23           6.7   \n",
      "1  14290  Better Luck Tomorrow    3.877036   2002-01-12           6.5   \n",
      "2  38365             Grown Ups   38.864027   2010-06-24           6.0   \n",
      "3   9672              Infamous    3.680896   2006-11-16           6.4   \n",
      "4  12819       Alpha and Omega   12.300789   2010-09-17           5.3   \n",
      "\n",
      "   vote_count  \n",
      "0       274.0  \n",
      "1        27.0  \n",
      "2      1705.0  \n",
      "3        60.0  \n",
      "4       124.0  \n"
     ]
    }
   ],
   "source": [
    "# Merge to the movies table the ratings table on the index\n",
    "movies_ratings = movies.merge(ratings,on='id')\n",
    "\n",
    "# Print the first few rows of movies_ratings\n",
    "print(movies_ratings.head())"
   ],
   "metadata": {
    "collapsed": false,
    "ExecuteTime": {
     "end_time": "2024-01-07T06:30:10.471861Z",
     "start_time": "2024-01-07T06:30:10.437175Z"
    }
   },
   "id": "207d3529bbf0e694",
   "execution_count": 27
  },
  {
   "cell_type": "markdown",
   "source": [
    "## Do sequels earn more?\n",
    "It is time to put together many of the aspects that you have learned in this lesson. In this exercise, you'll find out which movie sequels earned the most compared to the original movie. To answer this question, you will merge a modified version of the `sequels` and `financials` tables where their index is the movie ID. You will need to choose a merge type that will return all the rows from the `sequels` table and not all the rows of `financials` table need to be included in the result. From there, you will join the resulting table to itself so that you can compare the revenue values of the original movie to the sequel. Next, you will calculate the difference between the two revenues and sort the resulting dataset.\n",
    "\n",
    "The `sequels` and `financials` tables have been provided."
   ],
   "metadata": {
    "collapsed": false
   },
   "id": "935caf92fc19f20d"
  },
  {
   "cell_type": "code",
   "outputs": [
    {
     "name": "stdout",
     "output_type": "stream",
     "text": [
      "File opened successfully!\n"
     ]
    }
   ],
   "source": [
    "# Assuming your Jupyter Notebook is in the exercises folder\n",
    "# You want to access the file sequels.p in the datasets folder\n",
    "\n",
    "# Get the current directory\n",
    "current_directory = os.getcwd()\n",
    "\n",
    "# Navigate to the datasets folder\n",
    "datasets_directory = os.path.join(current_directory, '..', 'datasets')\n",
    "\n",
    "# Check if the file exists in the datasets folder\n",
    "file_path = os.path.join(datasets_directory, 'sequels.p')\n",
    "\n",
    "if os.path.exists(file_path):\n",
    "    # File exists, so open it\n",
    "    with open(file_path, 'rb') as file:\n",
    "        data = pickle.load(file)\n",
    "    # Work with the 'data' object as needed\n",
    "    print(\"File opened successfully!\")\n",
    "else:\n",
    "    print(\"File not found.\")\n",
    "sequels = data"
   ],
   "metadata": {
    "collapsed": false,
    "ExecuteTime": {
     "end_time": "2024-01-07T06:36:27.816444Z",
     "start_time": "2024-01-07T06:36:27.225846Z"
    }
   },
   "id": "e5a4c2e76e53179f",
   "execution_count": 28
  },
  {
   "cell_type": "code",
   "outputs": [
    {
     "name": "stdout",
     "output_type": "stream",
     "text": [
      "File opened successfully!\n"
     ]
    }
   ],
   "source": [
    "# Assuming your Jupyter Notebook is in the exercises folder\n",
    "# You want to access the file financials.p in the datasets folder\n",
    "\n",
    "# Get the current directory\n",
    "current_directory = os.getcwd()\n",
    "\n",
    "# Navigate to the datasets folder\n",
    "datasets_directory = os.path.join(current_directory, '..', 'datasets')\n",
    "\n",
    "# Check if the file exists in the datasets folder\n",
    "file_path = os.path.join(datasets_directory, 'financials.p')\n",
    "\n",
    "if os.path.exists(file_path):\n",
    "    # File exists, so open it\n",
    "    with open(file_path, 'rb') as file:\n",
    "        data = pickle.load(file)\n",
    "    # Work with the 'data' object as needed\n",
    "    print(\"File opened successfully!\")\n",
    "else:\n",
    "    print(\"File not found.\")\n",
    "financials = data"
   ],
   "metadata": {
    "collapsed": false,
    "ExecuteTime": {
     "end_time": "2024-01-07T06:36:51.623574Z",
     "start_time": "2024-01-07T06:36:51.592532Z"
    }
   },
   "id": "d8803f28da300470",
   "execution_count": 29
  },
  {
   "cell_type": "markdown",
   "source": [
    "### Instructions 1/4\n",
    "\n",
    "With the `sequels` table on the left, merge to it the `financials` table on index named `id`, ensuring that all the rows from the `sequels` are returned and some rows from the other table may not be returned, Save the results to `sequels_fin`."
   ],
   "metadata": {
    "collapsed": false
   },
   "id": "87a67c8e77ea8fdd"
  },
  {
   "cell_type": "code",
   "outputs": [],
   "source": [
    "# Merge sequels and financials on index id\n",
    "sequels_fin =sequels.merge(financials,on='id',how='left')"
   ],
   "metadata": {
    "collapsed": false,
    "ExecuteTime": {
     "end_time": "2024-01-07T06:39:10.091781Z",
     "start_time": "2024-01-07T06:39:10.059060Z"
    }
   },
   "id": "f6f8293ff1130606",
   "execution_count": 31
  },
  {
   "cell_type": "code",
   "outputs": [
    {
     "name": "stdout",
     "output_type": "stream",
     "text": [
      "      id         title  sequel       budget       revenue\n",
      "0  19995        Avatar       0  237000000.0  2.787965e+09\n",
      "1    862     Toy Story     863   30000000.0  3.735540e+08\n",
      "2    863   Toy Story 2   10193   90000000.0  4.973669e+08\n",
      "3    597       Titanic       0  200000000.0  1.845034e+09\n",
      "4  24428  The Avengers       0  220000000.0  1.519558e+09\n"
     ]
    }
   ],
   "source": [
    "# Importing the required libraries\n",
    "import pandas as pd\n",
    "\n",
    "# Assuming 'sequels_fin' is your DataFrame\n",
    "# Replace <NA> values in 'sequel' column with a placeholder (e.g., 0)\n",
    "sequels_fin['sequel'] = sequels_fin['sequel'].fillna(0)\n",
    "\n",
    "# Convert 'sequel' column to numeric type\n",
    "sequels_fin['sequel'] = pd.to_numeric(sequels_fin['sequel'], errors='coerce')\n",
    "\n",
    "# Merge the DataFrame with itself based on 'sequel' and 'id' columns\n",
    "orig_seq = sequels_fin.merge(sequels_fin, how='inner', left_on='sequel',\n",
    "                             right_on='id', suffixes=('_org', '_seq'))\n",
    "\n",
    "print(sequels_fin.head())"
   ],
   "metadata": {
    "collapsed": false,
    "ExecuteTime": {
     "end_time": "2024-01-07T06:57:50.644675Z",
     "start_time": "2024-01-07T06:57:50.591363Z"
    }
   },
   "id": "98e02d43c2e2bc67",
   "execution_count": 43
  },
  {
   "cell_type": "markdown",
   "source": [
    "### Instructions 2/4\n",
    "\n",
    "Merge the `sequels_fin` table to itself with an inner join, where the left and right tables merge on `sequel` and `id` respectively with suffixes equal to `('_org','_seq')`, saving to `orig_seq`."
   ],
   "metadata": {
    "collapsed": false
   },
   "id": "806bb4ccc85b8e2c"
  },
  {
   "cell_type": "code",
   "outputs": [],
   "source": [
    "# Self merge with suffixes as inner join with left on sequel and right on id\n",
    "orig_seq = sequels_fin.merge(sequels_fin, how='inner', left_on='sequel',\n",
    "                      right_on='id', right_index=True,\n",
    "                      suffixes=('_org','_seq'))\n",
    "\n",
    "# Add calculation to subtract revenue_org from revenue_seq \n",
    "orig_seq['diff'] = orig_seq['revenue_seq'] - orig_seq['revenue_org']"
   ],
   "metadata": {
    "collapsed": false,
    "ExecuteTime": {
     "end_time": "2024-01-07T06:58:32.287683Z",
     "start_time": "2024-01-07T06:58:32.232237Z"
    }
   },
   "id": "f3fd4bda4e4b82a9",
   "execution_count": 46
  },
  {
   "cell_type": "markdown",
   "source": [
    "### Instructions 3/4\n",
    "\n",
    "Select the `title_org`, `title_seq`, and `diff` columns of `orig_seq` and save this as `titles_diff`."
   ],
   "metadata": {
    "collapsed": false
   },
   "id": "59cec410f8a94777"
  },
  {
   "cell_type": "code",
   "outputs": [],
   "source": [
    "# Select the title_org, title_seq, and diff \n",
    "titles_diff = orig_seq[['title_org','title_seq','diff']]"
   ],
   "metadata": {
    "collapsed": false,
    "ExecuteTime": {
     "end_time": "2024-01-07T07:29:16.489896Z",
     "start_time": "2024-01-07T07:29:16.446503Z"
    }
   },
   "id": "ee5cc7fccd933838",
   "execution_count": 49
  },
  {
   "cell_type": "markdown",
   "source": [
    "Instructions 4/4\n",
    "\n",
    "Sort by `titles_diff` by `diff` in descending order and print the first few rows."
   ],
   "metadata": {
    "collapsed": false
   },
   "id": "5d984660c83cc5ed"
  },
  {
   "cell_type": "code",
   "outputs": [
    {
     "name": "stdout",
     "output_type": "stream",
     "text": [
      "                    title_org title_seq          diff\n",
      "3375             Split Second    Avatar  2.787965e+09\n",
      "3374  Dreaming of Joseph Lees    Avatar  2.787965e+09\n",
      "3373             Bran Nue Dae    Avatar  2.787965e+09\n",
      "3371        Of Horses and Men    Avatar  2.787965e+09\n",
      "3370                 F.I.S.T.    Avatar  2.787965e+09\n"
     ]
    }
   ],
   "source": [
    "# Print the first rows of the sorted titles_diff\n",
    "print(titles_diff.sort_values(by='diff',ascending=False).head())"
   ],
   "metadata": {
    "collapsed": false,
    "ExecuteTime": {
     "end_time": "2024-01-07T07:33:37.938933Z",
     "start_time": "2024-01-07T07:33:37.881733Z"
    }
   },
   "id": "921378e43f25b1f0",
   "execution_count": 52
  }
 ],
 "metadata": {
  "kernelspec": {
   "display_name": "Python 3",
   "language": "python",
   "name": "python3"
  },
  "language_info": {
   "codemirror_mode": {
    "name": "ipython",
    "version": 2
   },
   "file_extension": ".py",
   "mimetype": "text/x-python",
   "name": "python",
   "nbconvert_exporter": "python",
   "pygments_lexer": "ipython2",
   "version": "2.7.6"
  }
 },
 "nbformat": 4,
 "nbformat_minor": 5
}
