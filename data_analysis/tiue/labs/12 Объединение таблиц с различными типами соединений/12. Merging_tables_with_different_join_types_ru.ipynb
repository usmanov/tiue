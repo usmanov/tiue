{
 "cells": [
  {
   "cell_type": "markdown",
   "id": "acfe95686bc59a01",
   "metadata": {
    "collapsed": false
   },
   "source": [
    "# Объединение таблиц с разными типами соединений"
   ]
  },
  {
   "cell_type": "markdown",
   "id": "73f7be1c9b418c13",
   "metadata": {
    "collapsed": false
   },
   "source": [
    "## Подсчет пропущенных строк с левым соединением\n",
    "\n",
    "База данных фильмов поддерживается волонтерами, которые выходят в мир, собирают данные и вводят их в базу данных. Сюда входят финансовые данные, такие как бюджет фильма и доходы. Если вы хотите узнать, в каких фильмах все еще отсутствуют данные, вы можете использовать левое соединение, чтобы идентифицировать их. Потренируйтесь в использовании левого соединения, объединив таблицу `«movies»` и таблицу `«financials»`.\n",
    "\n",
    "Для вас загружены таблицы `movies` и `financials`."
   ]
  },
  {
   "cell_type": "code",
   "execution_count": 2,
   "id": "6624579d248ffc9d",
   "metadata": {
    "ExecuteTime": {
     "end_time": "2024-01-07T04:47:47.253823Z",
     "start_time": "2024-01-07T04:47:44.905787Z"
    },
    "collapsed": false
   },
   "outputs": [
    {
     "name": "stdout",
     "output_type": "stream",
     "text": [
      "Файл успешно открыт!\n"
     ]
    }
   ],
   "source": [
    "# Предполагая, что ваш блокнот Jupyter находится в папке exercises\n",
    "# Вы хотите получить доступ к файлу movies.p в папке datasets\n",
    "\n",
    "import os\n",
    "import pickle\n",
    "import pandas as pd\n",
    "\n",
    "# Получаем текущий каталог\n",
    "current_directory = os.getcwd()\n",
    "\n",
    "# Переходим в каталог с данными\n",
    "datasets_directory = os.path.join(current_directory, 'datasets')\n",
    "\n",
    "# Проверяем, существует ли файл в папке с данными\n",
    "file_path = os.path.join(datasets_directory, 'movies.p')\n",
    "\n",
    "if os.path.exists(file_path):\n",
    "    # Файл существует, поэтому открываем его\n",
    "    with open(file_path, 'rb') as file:\n",
    "        data = pickle.load(file)\n",
    "    # Работаем с объектом 'data' по необходимости\n",
    "    print(\"Файл успешно открыт!\")\n",
    "else:\n",
    "    print(\"Файл не найден.\")\n",
    "movies = data"
   ]
  },
  {
   "cell_type": "code",
   "execution_count": 3,
   "id": "798ad860d23ae944",
   "metadata": {
    "ExecuteTime": {
     "end_time": "2024-01-07T04:47:47.424937Z",
     "start_time": "2024-01-07T04:47:47.259395Z"
    },
    "collapsed": false
   },
   "outputs": [
    {
     "name": "stdout",
     "output_type": "stream",
     "text": [
      "Файл успешно открыт!\n"
     ]
    }
   ],
   "source": [
    "# Предполагая, что ваш блокнот Jupyter находится в папке exercises\n",
    "# Вы хотите получить доступ к файлу financials.p в папке datasets\n",
    "\n",
    "# Получаем текущий каталог\n",
    "current_directory = os.getcwd()\n",
    "\n",
    "# Переходим в каталог с данными\n",
    "datasets_directory = os.path.join(current_directory, 'datasets')\n",
    "\n",
    "# Проверяем, существует ли файл в папке с данными\n",
    "file_path = os.path.join(datasets_directory, 'financials.p')\n",
    "\n",
    "if os.path.exists(file_path):\n",
    "    # Файл существует, поэтому открываем его\n",
    "    with open(file_path, 'rb') as file:\n",
    "        data = pickle.load(file)\n",
    "    # Работаем с объектом 'data' по необходимости\n",
    "    print(\"Файл успешно открыт!\")\n",
    "else:\n",
    "    print(\"Файл не найден.\")\n",
    "financials = data"
   ]
  },
  {
   "cell_type": "markdown",
   "id": "f32a05af86e741f1",
   "metadata": {
    "collapsed": false
   },
   "source": [
    "### Инструкции 1/2\n",
    "\n",
    "Объедините таблицу `«movies»` как левую таблицу с таблицей `«financials»` с помощью левого соединения и сохраните результат в `«movies_financials»`."
   ]
  },
  {
   "cell_type": "code",
   "execution_count": 4,
   "id": "initial_id",
   "metadata": {
    "ExecuteTime": {
     "end_time": "2024-01-07T04:47:47.441126Z",
     "start_time": "2024-01-07T04:47:47.425455Z"
    },
    "collapsed": true
   },
   "outputs": [],
   "source": [
    "# Объединить movies и financials с левым соединением\n",
    "movies_financials = movies.merge(financials, how='left', on='id')"
   ]
  },
  {
   "cell_type": "markdown",
   "id": "a27f8dc1fd28dcc4",
   "metadata": {
    "collapsed": false
   },
   "source": [
    "### Инструкция 2/3\n",
    "\n",
    "Подсчитайте количество строк в `«movies_financials»` с нулевым значением в столбце `budget`."
   ]
  },
  {
   "cell_type": "code",
   "execution_count": 5,
   "id": "cd368f6a5bd90270",
   "metadata": {
    "ExecuteTime": {
     "end_time": "2024-01-07T04:47:47.478149Z",
     "start_time": "2024-01-07T04:47:47.447181Z"
    },
    "collapsed": false
   },
   "outputs": [
    {
     "name": "stdout",
     "output_type": "stream",
     "text": [
      "1574\n"
     ]
    }
   ],
   "source": [
    "# Подсчитайте количество пропущенных строк в столбце бюджета\n",
    "number_of_missing_fin = movies_financials['budget'].isnull().sum()\n",
    "\n",
    "# Вывести количество фильмов, в которых отсутствуют финансовые показатели\n",
    "print(number_of_missing_fin)"
   ]
  },
  {
   "cell_type": "markdown",
   "id": "589516e84fc19f8e",
   "metadata": {
    "collapsed": false
   },
   "source": [
    "## Пополнение набора данных\n",
    "Установка `how='left'` с помощью метода `.merge()` является полезным методом для обогащения или расширения набора данных дополнительной информацией из другой таблицы. В этом упражнении вы начнете с образца данных фильма из серии фильмов «`История игрушек»`. Ваша цель — обогатить эти данные, добавив маркетинговый слоган для каждого фильма. Вы сравните результаты левого соединения и внутреннего соединения.\n",
    "\n",
    "DataFrame `toy_story` содержит фильмы `«История игрушек»`. DataFrame `toy_story` и `taglines` были загружены для вас."
   ]
  },
  {
   "cell_type": "code",
   "execution_count": 6,
   "id": "1d4ead98f5f5283e",
   "metadata": {
    "ExecuteTime": {
     "end_time": "2024-01-07T04:47:47.536519Z",
     "start_time": "2024-01-07T04:47:47.451642Z"
    },
    "collapsed": false
   },
   "outputs": [],
   "source": [
    "# Создайте DataFrame с предоставленными данными\n",
    "data = {\n",
    "    'id': [10193, 863, 862],\n",
    "    'title': ['Toy Story 3', 'Toy Story 2', 'Toy Story'],\n",
    "    'popularity': [59.995, 73.575, 73.64],\n",
    "    'release_date': ['2010-06-16', '1999-10-30', '1995-10-30']\n",
    "}\n",
    "\n",
    "toy_story = pd.DataFrame(data)\n",
    "\n",
    "# Сохраняем DataFrame как файл CSV\n",
    "toy_story.to_csv('toy_story.csv', index=False)"
   ]
  },
  {
   "cell_type": "code",
   "execution_count": 7,
   "id": "2da6f0eb29f0a19d",
   "metadata": {
    "ExecuteTime": {
     "end_time": "2024-01-07T04:47:47.709300Z",
     "start_time": "2024-01-07T04:47:47.482272Z"
    },
    "collapsed": false
   },
   "outputs": [
    {
     "name": "stdout",
     "output_type": "stream",
     "text": [
      "Файл успешно открыт!\n"
     ]
    }
   ],
   "source": [
    "# Предполагая, что ваш блокнот Jupyter находится в папке exercises\n",
    "# Вы хотите получить доступ к файлу taglines.p в папке datasets\n",
    "\n",
    "# Получаем текущий каталог\n",
    "current_directory = os.getcwd()\n",
    "\n",
    "# Переходим в каталог с данными\n",
    "datasets_directory = os.path.join(current_directory, 'datasets')\n",
    "\n",
    "# Проверяем, существует ли файл в папке с данными\n",
    "file_path = os.path.join(datasets_directory, 'taglines.p')\n",
    "\n",
    "if os.path.exists(file_path):\n",
    "    # Файл существует, поэтому открываем его\n",
    "    with open(file_path, 'rb') as file:\n",
    "        data = pickle.load(file)\n",
    "    # Работаем с объектом 'data' по необходимости\n",
    "    print(\"Файл успешно открыт!\")\n",
    "else:\n",
    "    print(\"Файл не найден.\")\n",
    "taglines = data"
   ]
  },
  {
   "cell_type": "markdown",
   "id": "bd2abae4ab6936d",
   "metadata": {
    "collapsed": false
   },
   "source": [
    "### Инструкции 1/2\n",
    "\n",
    "Объедините `toy_story` и `taglines` в столбце `id` с помощью левого соединения и сохраните результат как `toystory_tag`."
   ]
  },
  {
   "cell_type": "code",
   "execution_count": 8,
   "id": "c49135f80a869a3c",
   "metadata": {
    "ExecuteTime": {
     "end_time": "2024-01-07T04:47:47.725231Z",
     "start_time": "2024-01-07T04:47:47.705596Z"
    },
    "collapsed": false
   },
   "outputs": [
    {
     "name": "stdout",
     "output_type": "stream",
     "text": [
      "      id        title  popularity release_date                   tagline\n",
      "0  10193  Toy Story 3      59.995   2010-06-16  No toy gets left behind.\n",
      "1    863  Toy Story 2      73.575   1999-10-30        The toys are back!\n",
      "2    862    Toy Story      73.640   1995-10-30                       NaN\n",
      "(3, 5)\n"
     ]
    }
   ],
   "source": [
    "# Объединяем таблицы toy_story и taglines левым соединением\n",
    "toystory_tag = toy_story.merge(taglines,on='id',how='left')\n",
    "\n",
    "# Распечатываем строки и форму toystory_tag\n",
    "print(toystory_tag)\n",
    "print(toystory_tag.shape)"
   ]
  },
  {
   "cell_type": "markdown",
   "id": "c978bc8700df86c7",
   "metadata": {
    "collapsed": false
   },
   "source": [
    "### Инструкция 2/2\n",
    "\n",
    "Используя `«toy_story»` в качестве левой таблицы, объедините с ней `«taglines»` в столбце `«id»` с помощью внутреннего соединения и сохраните как `«toystory_tag»`."
   ]
  },
  {
   "cell_type": "code",
   "execution_count": 9,
   "id": "5b17c741c763a841",
   "metadata": {
    "ExecuteTime": {
     "end_time": "2024-01-07T04:47:47.773547Z",
     "start_time": "2024-01-07T04:47:47.721417Z"
    },
    "collapsed": false
   },
   "outputs": [
    {
     "name": "stdout",
     "output_type": "stream",
     "text": [
      "      id        title  popularity release_date                   tagline\n",
      "0  10193  Toy Story 3      59.995   2010-06-16  No toy gets left behind.\n",
      "1    863  Toy Story 2      73.575   1999-10-30        The toys are back!\n",
      "(2, 5)\n"
     ]
    }
   ],
   "source": [
    "# Объединяем таблицы toy_story и taglines с помощью внутреннего соединения\n",
    "toystory_tag = toy_story.merge(taglines,on='id')\n",
    "\n",
    "# Распечатываем строки и форму toystory_tag\n",
    "print(toystory_tag)\n",
    "print(toystory_tag.shape)"
   ]
  },
  {
   "cell_type": "markdown",
   "id": "2cd240b5b012dd12",
   "metadata": {
    "collapsed": false
   },
   "source": [
    "## Соединение справа, чтобы найти уникальные фильмы\n",
    "Большинство вышедших в последнее время высокобюджетных научно-фантастических фильмов также можно отнести к категории боевиков. Вам дана таблица научно-фантастических фильмов под названием `«scifi_movies»` и еще одна таблица боевиков под названием `«action_movies»`. Ваша цель — выяснить, какие фильмы считаются только научно-фантастическими. Получив эту таблицу, вы можете объединить таблицу фильмов, чтобы увидеть названия фильмов. Поскольку это упражнение связано с научно-фантастическими фильмами, используйте правое соединение в качестве супергеройской силы для решения этой задачи.\n",
    "\n",
    "Таблицы `«movies»`, `«scifi_movies»` и `«action_movies»` уже загружены."
   ]
  },
  {
   "cell_type": "code",
   "execution_count": 10,
   "id": "72a9f00eb4633bc",
   "metadata": {
    "ExecuteTime": {
     "end_time": "2024-01-07T04:47:47.883913Z",
     "start_time": "2024-01-07T04:47:47.737437Z"
    },
    "collapsed": false
   },
   "outputs": [
    {
     "name": "stdout",
     "output_type": "stream",
     "text": [
      "Файл успешно открыт!\n"
     ]
    }
   ],
   "source": [
    "# Предполагая, что ваш блокнот Jupyter находится в папке exercises\n",
    "# Вы хотите получить доступ к файлу movie_to_genres.p в папке datasets\n",
    "\n",
    "# Получаем текущий каталог\n",
    "current_directory = os.getcwd()\n",
    "\n",
    "# Переходим в каталог с данными\n",
    "datasets_directory = os.path.join(current_directory, 'datasets')\n",
    "\n",
    "# Проверяем, существует ли файл в папке с данными\n",
    "file_path = os.path.join(datasets_directory, 'movie_to_genres.p')\n",
    "\n",
    "if os.path.exists(file_path):\n",
    "    # Файл существует, поэтому открываем его\n",
    "    with open(file_path, 'rb') as file:\n",
    "        data = pickle.load(file)\n",
    "    # Работаем с объектом 'data' по необходимости\n",
    "    print(\"Файл успешно открыт!\")\n",
    "else:\n",
    "    print(\"Файл не найден.\")\n",
    "movie_to_genres = data"
   ]
  },
  {
   "cell_type": "code",
   "execution_count": 11,
   "id": "2b6e5b020f5db79e",
   "metadata": {
    "ExecuteTime": {
     "end_time": "2024-01-07T04:47:47.905870Z",
     "start_time": "2024-01-07T04:47:47.888846Z"
    },
    "collapsed": false
   },
   "outputs": [],
   "source": [
    "action_movies = pd.read_csv('datasets/action_movies.csv', parse_dates=True, index_col=[0])\n",
    "scifi_movies = pd.read_csv('datasets/scifi_movies.csv', parse_dates=True, index_col=[0])"
   ]
  },
  {
   "cell_type": "markdown",
   "id": "9188f9f36d619828",
   "metadata": {
    "collapsed": false
   },
   "source": [
    "###Инструкция 1/4\n",
    "\n",
    "Объедините таблицы `action_movies` и `scifi_movies` с помощью правого соединения по `movie_id`. Сохраните результат как `action_scifi`."
   ]
  },
  {
   "cell_type": "code",
   "execution_count": 11,
   "id": "bb11cd0c980ab0ce",
   "metadata": {
    "ExecuteTime": {
     "end_time": "2024-01-07T04:47:47.936142Z",
     "start_time": "2024-01-07T04:47:47.906244Z"
    },
    "collapsed": false
   },
   "outputs": [],
   "source": [
    "# # Объединить action_movies с scifi_movies с помощью правого соединения\n",
    "action_scifi = action_movies.merge(scifi_movies, how='right', on='movie_id')\n"
   ]
  },
  {
   "cell_type": "markdown",
   "id": "d90d7b5473fae654",
   "metadata": {
    "collapsed": false
   },
   "source": [
    "###Инструкция 2/4\n",
    "\n",
    "Обновите слияние, добавив суффиксы, где `_act` и `_sci` — это суффиксы для левой и правой таблиц соответственно."
   ]
  },
  {
   "cell_type": "code",
   "execution_count": 12,
   "id": "d3fd0f0ded0644ea",
   "metadata": {
    "ExecuteTime": {
     "end_time": "2024-01-07T04:47:48.017951Z",
     "start_time": "2024-01-07T04:47:47.917439Z"
    },
    "collapsed": false
   },
   "outputs": [
    {
     "name": "stdout",
     "output_type": "stream",
     "text": [
      "         genre_act        genre_sci\n",
      "movie_id                           \n",
      "11          Action  Science Fiction\n",
      "18          Action  Science Fiction\n",
      "19             NaN  Science Fiction\n",
      "38             NaN  Science Fiction\n",
      "62             NaN  Science Fiction\n"
     ]
    }
   ],
   "source": [
    "# Объединить action_movies с scifi_movies с помощью правого соединения\n",
    "action_scifi = action_movies.merge(scifi_movies, on='movie_id', how='right',suffixes=['_act','_sci'])\n",
    "\n",
    "# Распечатайте первые несколько строк action_scifi, чтобы увидеть структуру\n",
    "print(action_scifi.head())"
   ]
  },
  {
   "cell_type": "markdown",
   "id": "15a04d593ed7c81d",
   "metadata": {
    "collapsed": false
   },
   "source": [
    "###Инструкция 3/4\n",
    "\n",
    "Из `action_scifi` выберите подмножество только тех строк, в которых столбец `genre_act` имеет значение null."
   ]
  },
  {
   "cell_type": "code",
   "execution_count": 14,
   "id": "e2a070c13e3227e",
   "metadata": {
    "ExecuteTime": {
     "end_time": "2024-01-07T04:47:48.019607Z",
     "start_time": "2024-01-07T04:47:47.930464Z"
    },
    "collapsed": false
   },
   "outputs": [],
   "source": [
    "# Из action_scifi выберите только те строки, в которых столбец жанра_act имеет значение null.\n",
    "scifi_only = action_scifi[action_scifi['genre_act'].isnull()]"
   ]
  },
  {
   "cell_type": "markdown",
   "id": "ef08f7fbf4068150",
   "metadata": {
    "collapsed": false
   },
   "source": [
    "###Инструкция 4/4\n",
    "\n",
    "Объедините `«movies»` и `«scifi_only»`, используя столбец `«id»` в левой таблице и столбец `«movie_id»` в правой таблице с помощью внутреннего соединения."
   ]
  },
  {
   "cell_type": "code",
   "execution_count": 15,
   "id": "d9fa702750849ad4",
   "metadata": {
    "ExecuteTime": {
     "end_time": "2024-01-07T04:47:48.022456Z",
     "start_time": "2024-01-07T04:47:47.933867Z"
    },
    "collapsed": false
   },
   "outputs": [
    {
     "name": "stdout",
     "output_type": "stream",
     "text": [
      "      id                         title  popularity release_date genre_act  \\\n",
      "0  18841  The Lost Skeleton of Cadavra    1.680525   2001-09-12       NaN   \n",
      "1  26672     The Thief and the Cobbler    2.439184   1993-09-23       NaN   \n",
      "2  15301      Twilight Zone: The Movie   12.902975   1983-06-24       NaN   \n",
      "3   8452                   The 6th Day   18.447479   2000-11-17       NaN   \n",
      "4   1649    Bill & Ted's Bogus Journey   11.349664   1991-07-19       NaN   \n",
      "\n",
      "         genre_sci  \n",
      "0  Science Fiction  \n",
      "1  Science Fiction  \n",
      "2  Science Fiction  \n",
      "3  Science Fiction  \n",
      "4  Science Fiction  \n",
      "(258, 6)\n"
     ]
    }
   ],
   "source": [
    "# Объединяем таблицы Movies и scifi_only с помощью внутреннего соединения\n",
    "movies_and_scifi_only = movies.merge(scifi_only, left_on='id', right_on='movie_id')\n",
    "\n",
    "# Распечатываем первые несколько строк и форму Movies_and_scifi_only\n",
    "print(movies_and_scifi_only.head())\n",
    "print(movies_and_scifi_only.shape)"
   ]
  },
  {
   "cell_type": "markdown",
   "id": "b19ee7fd912f07f2",
   "metadata": {
    "collapsed": false
   },
   "source": [
    "## Популярные жанры с правым объединением\n",
    "Какие жанры самых популярных фильмов? Чтобы ответить на этот вопрос, вам нужно объединить данные из таблиц `«movies»` и `«movie_to_genres»`. В таблице под названием `«pop_movies»` были выбраны 10 самых популярных фильмов в таблице фильмов. Чтобы убедиться, что вы анализируете все популярные фильмы, объедините их с таблицей `«movie_to_genres»`, используя правое соединение. Для завершения анализа подсчитайте количество различных жанров. Кроме того, две таблицы можно объединить по идентификатору фильма. Однако в `pop_movies` этот столбец называется `id`, а `вmovies_to_genres` `—movie_id`.\n",
    "\n",
    "Таблицы `pop_movies` и `movie_to_genres` уже загружены."
   ]
  },
  {
   "cell_type": "code",
   "execution_count": 16,
   "id": "c5e1b1a9693d3d13",
   "metadata": {
    "ExecuteTime": {
     "end_time": "2024-01-07T04:47:48.037641Z",
     "start_time": "2024-01-07T04:47:47.948246Z"
    },
    "collapsed": false
   },
   "outputs": [],
   "source": [
    "pop_movies = pd.read_csv('datasets/pop_movies.csv')"
   ]
  },
  {
   "cell_type": "markdown",
   "id": "9bd11031a98976ce",
   "metadata": {
    "collapsed": false
   },
   "source": [
    "### Инструкции\n",
    "\n",
    "- Объедините `«movie_to_genres»` и `«pop_movies»`, используя правое соединение. Сохраните результаты как `«genres_movies»`.\n",
    "- Сгруппируйте `genres_movies` по `genre` и подсчитайте количество значений `id`."
   ]
  },
  {
   "cell_type": "code",
   "execution_count": 17,
   "id": "9dff44d8672e46d4",
   "metadata": {
    "ExecuteTime": {
     "end_time": "2024-01-07T04:47:48.909386Z",
     "start_time": "2024-01-07T04:47:47.958129Z"
    },
    "collapsed": false
   },
   "outputs": [
    {
     "data": {
      "image/png": "[encoded data removed]",
      "text/plain": [
       "<Figure size 640x480 with 1 Axes>"
      ]
     },
     "metadata": {},
     "output_type": "display_data"
    }
   ],
   "source": [
    "import matplotlib.pyplot as plt\n",
    "\n",
    "# Используйте правое соединение, чтобы объединить таблицы movie_to_genres и pop_movies\n",
    "genres_movies = movie_to_genres.merge(pop_movies, how='right', left_on='movie_id', right_on='id')\n",
    "\n",
    "# Подсчитаем количество жанров\n",
    "genre_count = genres_movies.groupby('genre').agg({'id':'count'})\n",
    "\n",
    "# Постройте гистограмму жанра_count\n",
    "genre_count.plot(kind='bar')\n",
    "plt.show()"
   ]
  },
  {
   "cell_type": "markdown",
   "id": "c8417f7b35bfb746",
   "metadata": {
    "collapsed": false
   },
   "source": [
    "## Использование внешнего соединения для выбора актеров\n",
    "Одним из интересных аспектов использования внешнего соединения является то, что, поскольку оно возвращает все строки из обеих объединенных таблиц, а также значения NULL там, где они не совпадают, вы можете использовать его для поиска строк, которые не имеют совпадений в другой таблице. На пробу вам даны две таблицы со списком актеров двух популярных фильмов: `«Железный человек 1»` и `«Железный человек 2»`. Большинство актеров играли в обоих фильмах. Используйте внешнее соединение, чтобы найти актеров, которые не играли в обоих фильмах.\n",
    "\n",
    "Таблица `«Железный человек 1»` называется `«iron_1_actors»`, а таблица `«Железный человек 2» — «iron_2_actors»`. Обе таблицы были загружены и распечатаны несколько строк, чтобы вы могли видеть структуру."
   ]
  },
  {
   "cell_type": "markdown",
   "id": "7c690c63f9506c3f",
   "metadata": {
    "collapsed": false
   },
   "source": [
    "![tables](datasets/noJoin.png)"
   ]
  },
  {
   "cell_type": "markdown",
   "id": "84150c46b46d4ab9",
   "metadata": {
    "collapsed": false
   },
   "source": [
    "### Инструкции\n",
    "\n",
    "- Сохраните в `iron_1_and_2` объединение таблиц `iron_1_actors` (слева) с `iron_2_actors` с `outer` объединением в столбце `id` и установите суффиксы на (`'_1','_2'`).\n",
    "- Создайте индекс, который возвращает `«True»`, если `«name_1»` или `«name_2»` имеют значение null, и `«False»` в противном случае."
   ]
  },
  {
   "cell_type": "code",
   "execution_count": 18,
   "id": "dae107cf779599a8",
   "metadata": {
    "ExecuteTime": {
     "end_time": "2024-01-07T04:47:48.920205Z",
     "start_time": "2024-01-07T04:47:48.908853Z"
    },
    "collapsed": false
   },
   "outputs": [],
   "source": [
    "iron_1_actors = pd.read_csv('datasets/iron_1_actors.csv')\n",
    "iron_2_actors = pd.read_csv('datasets/iron_2_actors.csv')"
   ]
  },
  {
   "cell_type": "code",
   "execution_count": 19,
   "id": "f620a4665775701",
   "metadata": {
    "ExecuteTime": {
     "end_time": "2024-01-07T04:47:48.967050Z",
     "start_time": "2024-01-07T04:47:48.920515Z"
    },
    "collapsed": false
   },
   "outputs": [
    {
     "name": "stdout",
     "output_type": "stream",
     "text": [
      "                   character_1      id           name_1 character_2 name_2\n",
      "0                       Yinsen   17857       Shaun Toub         NaN    NaN\n",
      "2  Obadiah Stane / Iron Monger    1229     Jeff Bridges         NaN    NaN\n",
      "3                  War Machine   18288  Terrence Howard         NaN    NaN\n",
      "5                         Raza   57452      Faran Tahir         NaN    NaN\n",
      "8                   Abu Bakaar  173810    Sayed Badreya         NaN    NaN\n"
     ]
    }
   ],
   "source": [
    "# Объединить Iron_1_actors с Iron_2_actors по идентификатору с внешним соединением, используя суффиксы\n",
    "iron_1_and_2 = iron_1_actors.merge(iron_2_actors,\n",
    "                                   how='outer',\n",
    "                                   on='id',\n",
    "                                   suffixes=['_1','_2'])\n",
    "\n",
    "# Создайте индекс, который возвращает true, если name_1 или name_2 равны нулю\n",
    "m = ((iron_1_and_2['name_1'].isnull()) |\n",
    "     (iron_1_and_2['name_2'].isnull()))\n",
    "\n",
    "# Распечатаем первые несколько строк Iron_1_and_2\n",
    "print(iron_1_and_2[m].head())"
   ]
  },
  {
   "cell_type": "markdown",
   "id": "d6dcabe01a9e9cd9",
   "metadata": {
    "collapsed": false
   },
   "source": []
  },
  {
   "cell_type": "markdown",
   "id": "3605dabde88a8d87",
   "metadata": {
    "collapsed": false
   },
   "source": [
    "## Самостоятельное присоединение\n",
    "Слияние таблицы с самой собой может оказаться полезным, если вы хотите сравнить значения в столбце с другими значениями в том же столбце. В этом упражнении вы попрактикуетесь в этом, создав таблицу, в которой для каждого фильма в одной строке будут указаны режиссер и член съемочной группы. Вам предоставлена таблица под названием `«crews»`, в которой есть столбцы `«id»`, `«job»` и `«name»`. Сначала объедините таблицу саму с собой, используя идентификатор фильма. Это слияние даст вам большую таблицу, в которой для каждого `movie` каждая `job` сопоставляется друг с другом. Затем выберите только те строки, в которых указан директор в левой таблице, и избегайте строк, в которых должность директора указана как в левой, так и в правой таблицах. Эта фильтрация удалит комбинации должностей, не принадлежащие директору.\n",
    "\n",
    "Таблица `crews` для вас загружена."
   ]
  },
  {
   "cell_type": "code",
   "execution_count": 20,
   "id": "47971d459ad8567f",
   "metadata": {
    "ExecuteTime": {
     "end_time": "2024-01-07T05:24:25.079444Z",
     "start_time": "2024-01-07T05:24:23.983236Z"
    },
    "collapsed": false
   },
   "outputs": [
    {
     "name": "stdout",
     "output_type": "stream",
     "text": [
      "Файл успешно открыт!\n"
     ]
    }
   ],
   "source": [
    "# Предполагая, что ваш блокнот Jupyter находится в папке exercises\n",
    "# Вы хотите получить доступ к файлу crews.p в папке datasets\n",
    "\n",
    "# Получаем текущий каталог\n",
    "current_directory = os.getcwd()\n",
    "\n",
    "# Переходим в каталог с данными\n",
    "datasets_directory = os.path.join(current_directory, 'datasets')\n",
    "\n",
    "# Проверяем, существует ли файл в папке с данными\n",
    "file_path = os.path.join(datasets_directory, 'crews.p')\n",
    "\n",
    "if os.path.exists(file_path):\n",
    "    # Файл существует, поэтому открываем его\n",
    "    with open(file_path, 'rb') as file:\n",
    "        data = pickle.load(file)\n",
    "    # Работаем с объектом 'data' по необходимости\n",
    "    print(\"Файл успешно открыт!\")\n",
    "else:\n",
    "    print(\"Файл не найден.\")\n",
    "crews = data"
   ]
  },
  {
   "cell_type": "markdown",
   "id": "a187d3604cae38de",
   "metadata": {
    "collapsed": false
   },
   "source": [
    "###Инструкция 1/3\n",
    "\n",
    "Для переменной с именем `crews_self_merged` объедините таблицу `crews` с самой собой в столбце `id`, используя внутреннее соединение, установив суффиксы `_dir` и `_crew` для левой и правой таблиц соответственно."
   ]
  },
  {
   "cell_type": "code",
   "execution_count": 21,
   "id": "2293f6ac362ddb9e",
   "metadata": {
    "ExecuteTime": {
     "end_time": "2024-01-07T05:29:45.857945Z",
     "start_time": "2024-01-07T05:29:45.714668Z"
    },
    "collapsed": false
   },
   "outputs": [
    {
     "name": "stdout",
     "output_type": "stream",
     "text": [
      "      id department_dir job_dir           name_dir department_crew  \\\n",
      "0  19995        Editing  Editor  Stephen E. Rivkin         Editing   \n",
      "1  19995        Editing  Editor  Stephen E. Rivkin           Sound   \n",
      "2  19995        Editing  Editor  Stephen E. Rivkin      Production   \n",
      "3  19995        Editing  Editor  Stephen E. Rivkin       Directing   \n",
      "4  19995        Editing  Editor  Stephen E. Rivkin         Writing   \n",
      "\n",
      "         job_crew          name_crew  \n",
      "0          Editor  Stephen E. Rivkin  \n",
      "1  Sound Designer  Christopher Boyes  \n",
      "2         Casting          Mali Finn  \n",
      "3        Director      James Cameron  \n",
      "4          Writer      James Cameron  \n"
     ]
    }
   ],
   "source": [
    "# Объединяем таблицу экипажей сама с собой\n",
    "crews_self_merged = crews.merge(crews, on='id', suffixes=('_dir', '_crew'))\n",
    "\n",
    "print(crews_self_merged.head())"
   ]
  },
  {
   "cell_type": "markdown",
   "id": "7860bf3a38243b47",
   "metadata": {
    "collapsed": false
   },
   "source": [
    "### Инструкция 2/3\n",
    "\n",
    "Создайте логический индекс с именем `boolean_filter`, который выбирает строки из левой таблицы с «Директор» и избегает строк с «Директор» в правой таблице."
   ]
  },
  {
   "cell_type": "code",
   "execution_count": 22,
   "id": "d4eb8fd035c4abae",
   "metadata": {
    "ExecuteTime": {
     "end_time": "2024-01-07T05:31:08.011900Z",
     "start_time": "2024-01-07T05:31:07.826268Z"
    },
    "collapsed": false
   },
   "outputs": [],
   "source": [
    "# Создайте логический индекс для выбора подходящего\n",
    "boolean_filter = ((crews_self_merged['job_dir'] == 'Director') &\n",
    "                  (crews_self_merged['job_crew'] != 'Director'))\n",
    "direct_crews = crews_self_merged[boolean_filter]"
   ]
  },
  {
   "cell_type": "markdown",
   "id": "b64760a4499dfccf",
   "metadata": {
    "collapsed": false
   },
   "source": [
    "### Инструкции 3/3\n",
    "\n",
    "Используйте метод `.head()` для печати первых нескольких строк `Direct_crews`."
   ]
  },
  {
   "cell_type": "code",
   "execution_count": 23,
   "id": "5f47e8c1deb6c15",
   "metadata": {
    "ExecuteTime": {
     "end_time": "2024-01-07T05:31:56.485549Z",
     "start_time": "2024-01-07T05:31:56.456470Z"
    },
    "collapsed": false
   },
   "outputs": [
    {
     "name": "stdout",
     "output_type": "stream",
     "text": [
      "        id department_dir   job_dir       name_dir department_crew  \\\n",
      "156  19995      Directing  Director  James Cameron         Editing   \n",
      "157  19995      Directing  Director  James Cameron           Sound   \n",
      "158  19995      Directing  Director  James Cameron      Production   \n",
      "160  19995      Directing  Director  James Cameron         Writing   \n",
      "161  19995      Directing  Director  James Cameron             Art   \n",
      "\n",
      "           job_crew          name_crew  \n",
      "156          Editor  Stephen E. Rivkin  \n",
      "157  Sound Designer  Christopher Boyes  \n",
      "158         Casting          Mali Finn  \n",
      "160          Writer      James Cameron  \n",
      "161    Set Designer    Richard F. Mays  \n"
     ]
    }
   ],
   "source": [
    "print(direct_crews.head())"
   ]
  },
  {
   "cell_type": "markdown",
   "id": "900bc6339f5d1dd8",
   "metadata": {
    "collapsed": false
   },
   "source": [
    "Отличная работа! Объединив таблицу саму с собой, вы сравнили значение __director__ из столбца jobs с другими значениями из столбца jobs. Благодаря выходным данным вы можете быстро увидеть разных режиссеров и людей, с которыми они работали в одном фильме."
   ]
  },
  {
   "cell_type": "markdown",
   "id": "3675b64b50c878e9",
   "metadata": {
    "collapsed": false
   },
   "source": [
    "## Объединение индексов для рейтингов фильмов\n",
    "Чтобы попрактиковаться в объединении индексов, вы объедините movies и таблицу под названием `ratings`, содержащую информацию о рейтингах фильмов. Убедитесь, что ваше слияние возвращает все строки из таблицы `movies`, а не все строки таблицы `ratings` должны быть включены в результат.\n",
    "\n",
    "Для вас загружены таблицы `movies` и `ratings`."
   ]
  },
  {
   "cell_type": "code",
   "execution_count": 24,
   "id": "c6abdbad63815863",
   "metadata": {
    "ExecuteTime": {
     "end_time": "2024-01-07T06:26:25.895455Z",
     "start_time": "2024-01-07T06:26:25.258216Z"
    },
    "collapsed": false
   },
   "outputs": [
    {
     "name": "stdout",
     "output_type": "stream",
     "text": [
      "Файл успешно открыт!\n"
     ]
    }
   ],
   "source": [
    "# Предполагая, что ваш блокнот Jupyter находится в папке exercises\n",
    "# Вы хотите получить доступ к файлу ratings.p в папке datasets\n",
    "\n",
    "# Получаем текущий каталог\n",
    "current_directory = os.getcwd()\n",
    "\n",
    "# Переходим в каталог с данными\n",
    "datasets_directory = os.path.join(current_directory, 'datasets')\n",
    "\n",
    "# Проверяем, существует ли файл в папке с данными\n",
    "file_path = os.path.join(datasets_directory, 'ratings.p')\n",
    "\n",
    "if os.path.exists(file_path):\n",
    "    # Файл существует, поэтому открываем его\n",
    "    with open(file_path, 'rb') as file:\n",
    "        data = pickle.load(file)\n",
    "    # Работаем с объектом 'data' по необходимости\n",
    "    print(\"Файл успешно открыт!\")\n",
    "else:\n",
    "    print(\"Файл не найден.\")\n",
    "ratings = data"
   ]
  },
  {
   "cell_type": "markdown",
   "id": "d41754cc5336744b",
   "metadata": {
    "collapsed": false
   },
   "source": [
    "### Инструкции\n",
    "\n",
    "Объедините «movies» и `«ratings»` в индексе и сохраните в переменной с именем `«movies_ratings»`, гарантируя, что будут возвращены все строки из таблицы `«movies»`."
   ]
  },
  {
   "cell_type": "code",
   "execution_count": 25,
   "id": "207d3529bbf0e694",
   "metadata": {
    "ExecuteTime": {
     "end_time": "2024-01-07T06:30:10.471861Z",
     "start_time": "2024-01-07T06:30:10.437175Z"
    },
    "collapsed": false
   },
   "outputs": [
    {
     "name": "stdout",
     "output_type": "stream",
     "text": [
      "      id                 title  popularity release_date  vote_average  \\\n",
      "0    257          Oliver Twist   20.415572   2005-09-23           6.7   \n",
      "1  14290  Better Luck Tomorrow    3.877036   2002-01-12           6.5   \n",
      "2  38365             Grown Ups   38.864027   2010-06-24           6.0   \n",
      "3   9672              Infamous    3.680896   2006-11-16           6.4   \n",
      "4  12819       Alpha and Omega   12.300789   2010-09-17           5.3   \n",
      "\n",
      "   vote_count  \n",
      "0       274.0  \n",
      "1        27.0  \n",
      "2      1705.0  \n",
      "3        60.0  \n",
      "4       124.0  \n"
     ]
    }
   ],
   "source": [
    "# Объединить с таблицей фильмов таблицу рейтингов по индексу\n",
    "movies_ratings = movies.merge(ratings,on='id')\n",
    "\n",
    "# Распечатываем первые несколько строк Movies_ratings\n",
    "print(movies_ratings.head())"
   ]
  },
  {
   "cell_type": "markdown",
   "id": "935caf92fc19f20d",
   "metadata": {
    "collapsed": false
   },
   "source": [
    "## Do sequels earn more?\n",
    "It is time to put together many of the aspects that you have learned in this lesson. In this exercise, you'll find out which movie sequels earned the most compared to the original movie. To answer this question, you will merge a modified version of the `sequels` and `financials` tables where their index is the movie ID. You will need to choose a merge type that will return all the rows from the `sequels` table and not all the rows of `financials` table need to be included in the result. From there, you will join the resulting table to itself so that you can compare the revenue values of the original movie to the sequel. Next, you will calculate the difference between the two revenues and sort the resulting dataset.\n",
    "\n",
    "The `sequels` and `financials` tables have been provided."
   ]
  },
  {
   "cell_type": "code",
   "execution_count": 26,
   "id": "e5a4c2e76e53179f",
   "metadata": {
    "ExecuteTime": {
     "end_time": "2024-01-07T06:36:27.816444Z",
     "start_time": "2024-01-07T06:36:27.225846Z"
    },
    "collapsed": false
   },
   "outputs": [
    {
     "name": "stdout",
     "output_type": "stream",
     "text": [
      "Файл успешно открыт!\n"
     ]
    }
   ],
   "source": [
    "# Предполагая, что ваш блокнот Jupyter находится в папке exercises\n",
    "# Вы хотите получить доступ к файлу sequels.p в папке datasets\n",
    "\n",
    "# Получаем текущий каталог\n",
    "current_directory = os.getcwd()\n",
    "\n",
    "# Переходим в каталог с данными\n",
    "datasets_directory = os.path.join(current_directory, 'datasets')\n",
    "\n",
    "# Проверяем, существует ли файл в папке с данными\n",
    "file_path = os.path.join(datasets_directory, 'sequels.p')\n",
    "\n",
    "if os.path.exists(file_path):\n",
    "    # Файл существует, поэтому открываем его\n",
    "    with open(file_path, 'rb') as file:\n",
    "        data = pickle.load(file)\n",
    "    # Работаем с объектом 'data' по необходимости\n",
    "    print(\"Файл успешно открыт!\")\n",
    "else:\n",
    "    print(\"Файл не найден.\")\n",
    "sequels = data"
   ]
  },
  {
   "cell_type": "code",
   "execution_count": 27,
   "id": "d8803f28da300470",
   "metadata": {
    "ExecuteTime": {
     "end_time": "2024-01-07T06:36:51.623574Z",
     "start_time": "2024-01-07T06:36:51.592532Z"
    },
    "collapsed": false
   },
   "outputs": [
    {
     "name": "stdout",
     "output_type": "stream",
     "text": [
      "Файл успешно открыт!\n"
     ]
    }
   ],
   "source": [
    "# Предполагая, что ваш блокнот Jupyter находится в папке exercises\n",
    "# Вы хотите получить доступ к файлу financials.p в папке datasets\n",
    "\n",
    "# Получаем текущий каталог\n",
    "current_directory = os.getcwd()\n",
    "\n",
    "# Переходим в каталог с данными\n",
    "datasets_directory = os.path.join(current_directory, 'datasets')\n",
    "\n",
    "# Проверяем, существует ли файл в папке с данными\n",
    "file_path = os.path.join(datasets_directory, 'financials.p')\n",
    "\n",
    "if os.path.exists(file_path):\n",
    "    # Файл существует, поэтому открываем его\n",
    "    with open(file_path, 'rb') as file:\n",
    "        data = pickle.load(file)\n",
    "    # Работаем с объектом 'data' по необходимости\n",
    "    print(\"Файл успешно открыт!\")\n",
    "else:\n",
    "    print(\"Файл не найден.\")\n",
    "financials = data"
   ]
  },
  {
   "cell_type": "markdown",
   "id": "87a67c8e77ea8fdd",
   "metadata": {
    "collapsed": false
   },
   "source": [
    "###Инструкция 1/4\n",
    "\n",
    "Поместив таблицу `«sequels»` слева, объедините с ней таблицу `«financials»` по индексу с именем `«id»`, гарантируя, что все строки из `«sequels»` будут возвращены, а некоторые строки из другой таблицы могут не быть возвращены. Сохраните результаты в `sequels_fin`."
   ]
  },
  {
   "cell_type": "code",
   "execution_count": 28,
   "id": "f6f8293ff1130606",
   "metadata": {
    "ExecuteTime": {
     "end_time": "2024-01-07T06:39:10.091781Z",
     "start_time": "2024-01-07T06:39:10.059060Z"
    },
    "collapsed": false
   },
   "outputs": [],
   "source": [
    "# Объединить сиквелы и финансовые показатели по идентификатору индекса\n",
    "sequels_fin =sequels.merge(financials,on='id',how='left')"
   ]
  },
  {
   "cell_type": "code",
   "execution_count": 29,
   "id": "98e02d43c2e2bc67",
   "metadata": {
    "ExecuteTime": {
     "end_time": "2024-01-07T06:57:50.644675Z",
     "start_time": "2024-01-07T06:57:50.591363Z"
    },
    "collapsed": false
   },
   "outputs": [
    {
     "name": "stdout",
     "output_type": "stream",
     "text": [
      "      id         title  sequel       budget       revenue\n",
      "0  19995        Avatar       0  237000000.0  2.787965e+09\n",
      "1    862     Toy Story     863   30000000.0  3.735540e+08\n",
      "2    863   Toy Story 2   10193   90000000.0  4.973669e+08\n",
      "3    597       Titanic       0  200000000.0  1.845034e+09\n",
      "4  24428  The Avengers       0  220000000.0  1.519558e+09\n"
     ]
    }
   ],
   "source": [
    "# Импорт необходимых библиотек\n",
    "import pandas as pd\n",
    "\n",
    "# Предполагая, что 'sequels_fin' — это ваш DataFrame\n",
    "# Замените значения <NA> в столбце «sequel» заполнителем (например, 0)\n",
    "sequels_fin['sequel'] = sequels_fin['sequel'].fillna(0)\n",
    "\n",
    "# Преобразование столбца 'sequel' в числовой тип\n",
    "sequels_fin['sequel'] = pd.to_numeric(sequels_fin['sequel'], errors='coerce')\n",
    "\n",
    "# Объединить DataFrame с самим собой на основе столбцов «sequel» и «id».\n",
    "orig_seq = sequels_fin.merge(sequels_fin, how='inner', left_on='sequel',\n",
    "                             right_on='id', suffixes=('_org', '_seq'))\n",
    "\n",
    "print(sequels_fin.head())"
   ]
  },
  {
   "cell_type": "markdown",
   "id": "806bb4ccc85b8e2c",
   "metadata": {
    "collapsed": false
   },
   "source": [
    "### Инструкция 2/4\n",
    "\n",
    "Объедините таблицу `sequels_fin` сама с собой с помощью внутреннего соединения, при котором левая и правая таблицы объединяются по `sequel` и `id` соответственно с суффиксами, равными `('_org','_seq')`, сохраняя в `orig_seq` ."
   ]
  },
  {
   "cell_type": "code",
   "execution_count": 31,
   "id": "f3fd4bda4e4b82a9",
   "metadata": {
    "ExecuteTime": {
     "end_time": "2024-01-07T06:58:32.287683Z",
     "start_time": "2024-01-07T06:58:32.232237Z"
    },
    "collapsed": false
   },
   "outputs": [],
   "source": [
    "# Самостоятельное объединение с суффиксами как внутреннее соединение с левым на сиквеле и правым на id\n",
    "orig_seq = sequels_fin.merge(sequels_fin, how='inner', left_on='sequel',\n",
    "                      right_on='id', right_index=True,\n",
    "                      suffixes=('_org','_seq'))\n",
    "\n",
    "# Добавьте расчет для вычитания дохода_org из дохода_seq\n",
    "orig_seq['diff'] = orig_seq['revenue_seq'] - orig_seq['revenue_org']"
   ]
  },
  {
   "cell_type": "markdown",
   "id": "59cec410f8a94777",
   "metadata": {
    "collapsed": false
   },
   "source": [
    "### Инструкция 3/4\n",
    "\n",
    "Выберите столбцы `title_org`, `title_seq` и `diff` в `orig_seq` и сохраните их как `titles_diff`."
   ]
  },
  {
   "cell_type": "code",
   "execution_count": 32,
   "id": "ee5cc7fccd933838",
   "metadata": {
    "ExecuteTime": {
     "end_time": "2024-01-07T07:29:16.489896Z",
     "start_time": "2024-01-07T07:29:16.446503Z"
    },
    "collapsed": false
   },
   "outputs": [],
   "source": [
    "# Выберите title_org, title_seq и diff.\n",
    "titles_diff = orig_seq[['title_org','title_seq','diff']]"
   ]
  },
  {
   "cell_type": "markdown",
   "id": "5d984660c83cc5ed",
   "metadata": {
    "collapsed": false
   },
   "source": [
    "Instructions 4/4\n",
    "\n",
    "Sort by `titles_diff` by `diff` in descending order and print the first few rows."
   ]
  },
  {
   "cell_type": "code",
   "execution_count": 33,
   "id": "921378e43f25b1f0",
   "metadata": {
    "ExecuteTime": {
     "end_time": "2024-01-07T07:33:37.938933Z",
     "start_time": "2024-01-07T07:33:37.881733Z"
    },
    "collapsed": false
   },
   "outputs": [
    {
     "name": "stdout",
     "output_type": "stream",
     "text": [
      "                    title_org title_seq          diff\n",
      "3375             Split Second    Avatar  2.787965e+09\n",
      "3374  Dreaming of Joseph Lees    Avatar  2.787965e+09\n",
      "3373             Bran Nue Dae    Avatar  2.787965e+09\n",
      "3371        Of Horses and Men    Avatar  2.787965e+09\n",
      "3370                 F.I.S.T.    Avatar  2.787965e+09\n"
     ]
    }
   ],
   "source": [
    "# Распечатываем первые строки отсортированного title_diff\n",
    "print(titles_diff.sort_values(by='diff',ascending=False).head())"
   ]
  }
 ],
 "metadata": {
  "kernelspec": {
   "display_name": "Python 3",
   "language": "python",
   "name": "python3"
  },
  "language_info": {
   "codemirror_mode": {
    "name": "ipython",
    "version": 3
   },
   "file_extension": ".py",
   "mimetype": "text/x-python",
   "name": "python",
   "nbconvert_exporter": "python",
   "pygments_lexer": "ipython3",
   "version": "3.10.9"
  }
 },
 "nbformat": 4,
 "nbformat_minor": 5
}
