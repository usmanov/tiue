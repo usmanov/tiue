{
 "cells": [
  {
   "cell_type": "markdown",
   "source": [
    "# Logic, Control Flow and Filtering"
   ],
   "metadata": {
    "collapsed": false
   },
   "id": "ced63db7e8c037b0"
  },
  {
   "cell_type": "markdown",
   "source": [
    "## Compare arrays\n",
    "Out of the box, you can also use comparison operators with NumPy arrays.\n",
    "\n",
    "This time there's two NumPy arrays: `my_house` and `your_house`. They both contain the areas for the kitchen, living room, bedroom and bathroom in the same order, so you can compare them."
   ],
   "metadata": {
    "collapsed": false
   },
   "id": "bf0437281531f5ce"
  },
  {
   "cell_type": "markdown",
   "source": [
    "### Instructions\n",
    "\n",
    "Using comparison operators, generate boolean arrays that answer the following questions:\n",
    "\n",
    "- Which areas in `my_house` are greater than or equal to `18`?\n",
    "- You can also compare two NumPy arrays element-wise. Which areas in `my_house` are smaller than the ones in your_house?\n",
    "- Make sure to wrap both commands in a **print()** statement so that you can inspect the output!"
   ],
   "metadata": {
    "collapsed": false
   },
   "id": "d0ed5d1617a52d1"
  },
  {
   "cell_type": "code",
   "execution_count": null,
   "id": "initial_id",
   "metadata": {
    "collapsed": true
   },
   "outputs": [],
   "source": [
    "# Create arrays\n",
    "import numpy as np\n",
    "my_house = np.array([18.0, 20.0, 10.75, 9.50])\n",
    "your_house = np.array([14.0, 24.0, 14.25, 9.0])\n",
    "\n",
    "# my_house greater than or equal to 18\n",
    "print(my_house >= 18)\n",
    "\n",
    "# my_house less than your_house\n",
    "print(my_house < your_house)"
   ]
  },
  {
   "cell_type": "markdown",
   "source": [
    "## Boolean operators with NumPy\n",
    "Before, the operational operators like `<` and `>=` worked with NumPy arrays out of the box. Unfortunately, this is not true for the boolean operators `and`, `or`, and `not`.\n",
    "\n",
    "To use these operators with NumPy, you will need **np.logical_and()**, **np.logical_or()** and **np.logical_not()**. Here's an example on the `my_house` and `your_house` arrays from before to give you an idea:\n",
    "\n",
    "    np.logical_and(my_house > 13, \n",
    "                   your_house < 15)\n"
   ],
   "metadata": {
    "collapsed": false
   },
   "id": "f60ea7ecf3bcf803"
  },
  {
   "cell_type": "markdown",
   "source": [
    "### Instructions\n",
    "\n",
    "- Generate boolean arrays that answer the following questions:\n",
    "- Which areas in `my_house` are greater than `18.5` or smaller than `10`?\n",
    "- Which areas are smaller than `11` in both `my_house` and `your_house`? Make sure to wrap both commands in **print()** statement, so that you can inspect the output."
   ],
   "metadata": {
    "collapsed": false
   },
   "id": "793ea4d8267fa46"
  },
  {
   "cell_type": "code",
   "outputs": [],
   "source": [
    "# my_house greater than 18.5 or smaller than 10\n",
    "print(np.logical_or(my_house > 18.5, my_house< 10))\n",
    "\n",
    "# Both my_house and your_house smaller than 11\n",
    "print(np.logical_and(my_house < 11, your_house < 11))"
   ],
   "metadata": {
    "collapsed": false
   },
   "id": "71f244c89f069ec",
   "execution_count": null
  },
  {
   "cell_type": "markdown",
   "source": [
    "# Filtering pandas DataFrames"
   ],
   "metadata": {
    "collapsed": false
   },
   "id": "f5ada2b4fc6889e2"
  },
  {
   "cell_type": "markdown",
   "source": [
    "## Driving right (1)\n",
    "Remember that `cars` dataset, containing the cars per 1000 people (`cars_per_cap`) and whether people drive right (`drives_right`) for different countries (`country`)? The code that imports this data in CSV format into Python as a DataFrame is included in the script.\n",
    "\n",
    "In the video, you saw a step-by-step approach to filter observations from a DataFrame based on boolean arrays. Let's start simple and try to find all observations in `cars` where `drives_right` is `True`.\n",
    "\n",
    "drives_right is a boolean column, so you'll have to extract it as a Series and then use this boolean Series to select observations from cars."
   ],
   "metadata": {
    "collapsed": false
   },
   "id": "e0cfda5c6858d447"
  },
  {
   "cell_type": "markdown",
   "source": [
    "### Instructions\n",
    "\n",
    "- Extract the `drives_right` column as a Pandas Series and store it as `dr`.\n",
    "- Use `dr`, a boolean Series, to subset the `cars` DataFrame. Store the resulting selection in `sel`.\n",
    "- Print `sel`, and assert that `drives_right` is `True` for all observations."
   ],
   "metadata": {
    "collapsed": false
   },
   "id": "5c4665e3fd93a6d1"
  },
  {
   "cell_type": "code",
   "outputs": [],
   "source": [
    "# Import cars data\n",
    "import pandas as pd\n",
    "cars = pd.read_csv('datasets/cars.csv', index_col = 0)\n",
    "\n",
    "# Extract drives_right column as Series: dr\n",
    "dr = cars['drives_right']\n",
    "\n",
    "# Use dr to subset cars: sel\n",
    "sel = cars[dr]\n",
    "\n",
    "# Print sel\n",
    "print(sel)"
   ],
   "metadata": {
    "collapsed": false
   },
   "id": "6dd4ab0b54c8ae79",
   "execution_count": null
  },
  {
   "cell_type": "markdown",
   "source": [
    "## Driving right (2)\n",
    "The code in the previous example worked fine, but you actually unnecessarily created a new variable `dr`. You can achieve the same result without this intermediate variable. Put the code that computes dr straight into the square brackets that select observations from `cars`."
   ],
   "metadata": {
    "collapsed": false
   },
   "id": "706a67687947f4d0"
  },
  {
   "cell_type": "markdown",
   "source": [
    "### Instructions\n",
    "\n",
    "- Convert the code to a one-liner that calculates the variable `sel` as before."
   ],
   "metadata": {
    "collapsed": false
   },
   "id": "d5dabc57eebbe242"
  },
  {
   "cell_type": "code",
   "outputs": [],
   "source": [
    "# Convert code to a one-liner\n",
    "sel = cars[cars['drives_right']]\n",
    "\n",
    "# Print sel\n",
    "print(sel)"
   ],
   "metadata": {
    "collapsed": false
   },
   "id": "1d984c0f6da60bf2",
   "execution_count": null
  },
  {
   "cell_type": "markdown",
   "source": [
    "## Cars per capita (1)\n",
    "Let's stick to the `cars` data some more. This time you want to find out which countries have a high cars per capita figure. In other words, in which countries do many people have a car, or maybe multiple cars.\n",
    "\n",
    "Similar to the previous example, you'll want to build up a boolean Series, that you can then use to subset the `cars` DataFrame to select certain observations. If you want to do this in a one-liner, that's perfectly fine!"
   ],
   "metadata": {
    "collapsed": false
   },
   "id": "5073247fe8e9db89"
  },
  {
   "cell_type": "markdown",
   "source": [
    "### Instructions\n",
    "\n",
    "- Select the `cars_per_cap` column from `cars` as a Pandas Series and store it as `cpc`.\n",
    "- Use `cpc` in combination with a comparison operator and `500`. You want to end up with a boolean Series that's `True` if the corresponding country has a `cars_per_cap` of more than `500` and `False` otherwise. Store this boolean Series as `many_cars`.\n",
    "- Use `many_cars` to subset `cars`, similar to what you did before. Store the result as `car_maniac`.\n",
    "- Print out `car_maniac` to see if you got it right."
   ],
   "metadata": {
    "collapsed": false
   },
   "id": "763b55645a5b35fc"
  },
  {
   "cell_type": "code",
   "outputs": [],
   "source": [
    "# Create car_maniac: observations that have a cars_per_cap over 500\n",
    "car_maniac = cars[cars['cars_per_cap'] > 500]\n",
    "\n",
    "# Print car_maniac\n",
    "print(car_maniac)"
   ],
   "metadata": {
    "collapsed": false
   },
   "id": "86ab37fa4861777f",
   "execution_count": null
  },
  {
   "cell_type": "markdown",
   "source": [
    "## Cars per capita (2)\n",
    "Remember about **np.logical_and()**, **np.logical_or()** and **np.logical_not()**, the NumPy variants of the `and`, `or` and `not` operators? You can also use them on Pandas Series to do more advanced filtering operations.\n",
    "\n",
    "Take this example that selects the observations that have a `cars_per_cap` between 10 and 80. Try out these lines of code step by step to see what's happening.\n",
    "    \n",
    "    cpc = cars['cars_per_cap']\n",
    "    between = np.logical_and(cpc > 10, cpc < 80)\n",
    "    medium = cars[between]\n"
   ],
   "metadata": {
    "collapsed": false
   },
   "id": "ae09d072d5f43af"
  },
  {
   "cell_type": "markdown",
   "source": [
    "### Instructions\n",
    "\n",
    "- Use the code sample provided to create a DataFrame `medium`, that includes all the observations of cars that have a `cars_per_cap` between `100` and `500`.\n",
    "- Print out `medium`."
   ],
   "metadata": {
    "collapsed": false
   },
   "id": "583e2395e2aa23e2"
  },
  {
   "cell_type": "code",
   "outputs": [],
   "source": [
    "# Create medium: observations with cars_per_cap between 100 and 500\n",
    "# medium = cars[np.logical_and(cars['cars_per_cap'] > 100, cars['cars_per_cap'] > 500)]\n",
    "cpc = cars['cars_per_cap']\n",
    "between = np.logical_and(cpc > 100, cpc < 500)\n",
    "medium = cars[between]\n",
    "\n",
    "# Print medium\n",
    "print(medium)"
   ],
   "metadata": {
    "collapsed": false
   },
   "id": "7d49bdfdb78ded44",
   "execution_count": null
  },
  {
   "cell_type": "markdown",
   "source": [],
   "metadata": {
    "collapsed": false
   },
   "id": "a5cbc4a404c07ed3"
  },
  {
   "cell_type": "markdown",
   "source": [],
   "metadata": {
    "collapsed": false
   },
   "id": "e9bfe444f8787f0b"
  },
  {
   "cell_type": "markdown",
   "source": [],
   "metadata": {
    "collapsed": false
   },
   "id": "b6d7de7c3e017dc9"
  },
  {
   "cell_type": "code",
   "outputs": [],
   "source": [],
   "metadata": {
    "collapsed": false
   },
   "id": "a8a00f11d67d2700",
   "execution_count": null
  },
  {
   "cell_type": "markdown",
   "source": [],
   "metadata": {
    "collapsed": false
   },
   "id": "f6077fe91ef37683"
  },
  {
   "cell_type": "markdown",
   "source": [],
   "metadata": {
    "collapsed": false
   },
   "id": "b02f4253e75806f2"
  },
  {
   "cell_type": "code",
   "outputs": [],
   "source": [],
   "metadata": {
    "collapsed": false
   },
   "id": "3ea3b4ce36fa56ab",
   "execution_count": null
  },
  {
   "cell_type": "markdown",
   "source": [],
   "metadata": {
    "collapsed": false
   },
   "id": "a1cd8e80411509d9"
  },
  {
   "cell_type": "markdown",
   "source": [],
   "metadata": {
    "collapsed": false
   },
   "id": "28287fd684ac84a8"
  },
  {
   "cell_type": "code",
   "outputs": [],
   "source": [],
   "metadata": {
    "collapsed": false
   },
   "id": "87d0fa3ffb6f3d26",
   "execution_count": null
  },
  {
   "cell_type": "markdown",
   "source": [],
   "metadata": {
    "collapsed": false
   },
   "id": "1cddd284b9e5ac64"
  },
  {
   "cell_type": "markdown",
   "source": [],
   "metadata": {
    "collapsed": false
   },
   "id": "5e82a45ea970b6f2"
  },
  {
   "cell_type": "code",
   "outputs": [],
   "source": [],
   "metadata": {
    "collapsed": false
   },
   "id": "8552bbd850eb5ee7",
   "execution_count": null
  },
  {
   "cell_type": "markdown",
   "source": [],
   "metadata": {
    "collapsed": false
   },
   "id": "e94b52103f6c49fd"
  },
  {
   "cell_type": "markdown",
   "source": [],
   "metadata": {
    "collapsed": false
   },
   "id": "f00c1c4e795e9471"
  },
  {
   "cell_type": "code",
   "outputs": [],
   "source": [],
   "metadata": {
    "collapsed": false
   },
   "id": "42ddd837153463f",
   "execution_count": null
  },
  {
   "cell_type": "markdown",
   "source": [],
   "metadata": {
    "collapsed": false
   },
   "id": "b258a38e884f1760"
  },
  {
   "cell_type": "markdown",
   "source": [],
   "metadata": {
    "collapsed": false
   },
   "id": "c245661c6d7c0ee4"
  },
  {
   "cell_type": "code",
   "outputs": [],
   "source": [],
   "metadata": {
    "collapsed": false
   },
   "id": "1bdbd3fc3852289e",
   "execution_count": null
  },
  {
   "cell_type": "code",
   "outputs": [],
   "source": [],
   "metadata": {
    "collapsed": false
   },
   "id": "80d45c0705f24710"
  }
 ],
 "metadata": {
  "kernelspec": {
   "display_name": "Python 3",
   "language": "python",
   "name": "python3"
  },
  "language_info": {
   "codemirror_mode": {
    "name": "ipython",
    "version": 2
   },
   "file_extension": ".py",
   "mimetype": "text/x-python",
   "name": "python",
   "nbconvert_exporter": "python",
   "pygments_lexer": "ipython2",
   "version": "2.7.6"
  }
 },
 "nbformat": 4,
 "nbformat_minor": 5
}
