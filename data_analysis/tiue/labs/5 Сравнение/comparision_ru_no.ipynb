{
 "cells": [
  {
   "cell_type": "markdown",
   "id": "ced63db7e8c037b0",
   "metadata": {
    "collapsed": false
   },
   "source": [
    "# Логика, Управление Потоком и Фильтрация"
   ]
  },
  {
   "cell_type": "markdown",
   "id": "bf0437281531f5ce",
   "metadata": {
    "collapsed": false
   },
   "source": [
    "## Сравнение массивов\n",
    "\n",
    "С помощью библиотеки NumPy можно сравнивать массивы при помощи операторов сравнения.\n",
    "\n",
    "На этот раз есть два массива NumPy: `my_house` и `your_house`. Они содержат площади для кухни, гостиной, спальни и ванной комнаты в том же порядке, поэтому их можно сравнивать."
   ]
  },
  {
   "cell_type": "markdown",
   "id": "d0ed5d1617a52d1",
   "metadata": {
    "collapsed": false
   },
   "source": [
    "### Инструкции\n",
    "\n",
    "С помощью операторов сравнения создайте булевые массивы, которые отвечают на следующие вопросы:\n",
    "\n",
    "- Какие площади в `my_house` больше или равны `18`?\n",
    "- Также можно сравнивать два массива NumPy поэлементно. Какие площади в `my_house` меньше, чем в `your_house`?\n",
    "- Убедитесь, что обе команды обернуты в `print()`, чтобы можно было проверить вывод!"
   ]
  },
  {
   "cell_type": "code",
   "execution_count": 1,
   "id": "initial_id",
   "metadata": {
    "collapsed": true
   },
   "outputs": [
    {
     "name": "stdout",
     "output_type": "stream",
     "text": [
      "[ True  True False False]\n",
      "[False  True  True False]\n"
     ]
    }
   ],
   "source": [
    "# Создание массивов\n",
    "import numpy as np\n",
    "my_house = np.array([18.0, 20.0, 10.75, 9.50])\n",
    "your_house = np.array([14.0, 24.0, 14.25, 9.0])\n",
    "\n",
    "# my_house больше или равно 18\n",
    "\n",
    "# my_house меньше, чем your_house\n"
   ]
  },
  {
   "cell_type": "markdown",
   "id": "f60ea7ecf3bcf803",
   "metadata": {
    "collapsed": false
   },
   "source": [
    "## Булевы операторы с NumPy\n",
    "\n",
    "Ранее операторы типа < и >= работали с массивами NumPy \"из коробки\". К сожалению, это не относится к булевым операторам `and`, `or` и `not`.\n",
    "\n",
    "Для использования этих операторов с NumPy вам понадобятся `np.logical_and()`, `np.logical_or()` и `np.logical_not()`. Вот пример на массивах `my_house` и your_house из предыдущего примера, чтобы вы поняли:\n",
    "\n",
    "\n",
    "    np.logical_and(my_house > 13, \n",
    "                your_house < 15)"
   ]
  },
  {
   "cell_type": "markdown",
   "id": "793ea4d8267fa46",
   "metadata": {
    "collapsed": false
   },
   "source": [
    "### Инструкции\n",
    "\n",
    "- Создайте булевы массивы, которые отвечают на следующие вопросы:\n",
    "- Какие площади в `my_house` больше 18.5 или меньше 10?\n",
    "- Какие площади меньше 11 в обоих `my_house` и `your_house`? Убедитесь, что обе команды обернуты в `print()`, чтобы можно было проверить вывод."
   ]
  },
  {
   "cell_type": "code",
   "execution_count": 2,
   "id": "71f244c89f069ec",
   "metadata": {
    "collapsed": false
   },
   "outputs": [
    {
     "name": "stdout",
     "output_type": "stream",
     "text": [
      "[False  True False  True]\n",
      "[False False False  True]\n"
     ]
    }
   ],
   "source": [
    "# my_house больше 18.5 или меньше 10\n",
    "\n",
    "# Оба my_house и your_house меньше 11\n"
   ]
  },
  {
   "cell_type": "markdown",
   "id": "f5ada2b4fc6889e2",
   "metadata": {
    "collapsed": false
   },
   "source": [
    "# Фильтрация pandas DataFrames"
   ]
  },
  {
   "cell_type": "markdown",
   "id": "e0cfda5c6858d447",
   "metadata": {
    "collapsed": false
   },
   "source": [
    "## Правостороннее движение (1)\n",
    "\n",
    "Помните набор данных `cars`, содержащий количество автомобилей на 1000 человек (`cars_per_cap`) и информацию о том, едут ли люди с правосторонним движением (`drives_right`) в разных странах (`country`)? В скрипте уже есть код, который импортирует эти данные в Python в формате CSV как DataFrame.\n",
    "\n",
    "В видео вы видели пошаговый подход к фильтрации наблюдений из DataFrame на основе булевых массивов. Давайте начнем с простого и попробуем найти все наблюдения в `cars`, где `drives_right` равно True.\n",
    "\n",
    "`drives_right` - это булевой столбец, поэтому вам нужно извлечь его как Series, а затем использовать этот булевой Series для выбора наблюдений из `cars`."
   ]
  },
  {
   "cell_type": "markdown",
   "id": "5c4665e3fd93a6d1",
   "metadata": {
    "collapsed": false
   },
   "source": [
    "### Инструкции\n",
    "\n",
    "- Извлеките столбец `drives_right` как Pandas Series и сохраните его как `dr`.\n",
    "- Используйте `dr`, булевой Series, для выбора подмножества DataFrame `cars`. Сохраните результат выбора в `sel`.\n",
    "- Выведите `sel` и утвердите, что `drives_right` равен True для всех наблюдений."
   ]
  },
  {
   "cell_type": "code",
   "execution_count": 3,
   "id": "6dd4ab0b54c8ae79",
   "metadata": {
    "collapsed": false
   },
   "outputs": [
    {
     "name": "stdout",
     "output_type": "stream",
     "text": [
      "     cars_per_cap        country  drives_right\n",
      "US            809  United States          True\n",
      "RU            200         Russia          True\n",
      "MOR            70        Morocco          True\n",
      "EG             45          Egypt          True\n"
     ]
    }
   ],
   "source": [
    "# Импорт данных об автомобилях\n",
    "import pandas as pd\n",
    "cars = pd.read_csv('datasets/cars.csv', index_col=0)\n",
    "\n",
    "# Извлечение столбца drives_right как Series: dr\n",
    "\n",
    "# Использование dr для фильтрации cars: sel\n",
    "\n",
    "# Вывод sel\n"
   ]
  },
  {
   "cell_type": "markdown",
   "id": "706a67687947f4d0",
   "metadata": {
    "collapsed": false
   },
   "source": [
    "## Правостороннее движение (2)\n",
    "\n",
    "Код в предыдущем примере работал хорошо, но на самом деле вы лишний раз создали новую переменную `dr`. Вы можете достичь того же результата без этой промежуточной переменной. Поместите код, который вычисляет `dr`, прямо в квадратные скобки, которые выбирают наблюдения из `cars`."
   ]
  },
  {
   "cell_type": "markdown",
   "id": "d5dabc57eebbe242",
   "metadata": {
    "collapsed": false
   },
   "source": [
    "### Инструкции\n",
    "\n",
    "Преобразуйте код в однострочный, который вычисляет переменную `sel`, как и раньше."
   ]
  },
  {
   "cell_type": "code",
   "execution_count": 4,
   "id": "1d984c0f6da60bf2",
   "metadata": {
    "collapsed": false
   },
   "outputs": [
    {
     "name": "stdout",
     "output_type": "stream",
     "text": [
      "     cars_per_cap        country  drives_right\n",
      "US            809  United States          True\n",
      "RU            200         Russia          True\n",
      "MOR            70        Morocco          True\n",
      "EG             45          Egypt          True\n"
     ]
    }
   ],
   "source": [
    "# Преобразование кода в однострочный\n",
    "\n",
    "# Вывод sel\n"
   ]
  },
  {
   "cell_type": "markdown",
   "id": "5073247fe8e9db89",
   "metadata": {
    "collapsed": false
   },
   "source": [
    "## Автомобилей на человека (1)\n",
    "\n",
    "Давайте продолжим работу с данными `cars`. На этот раз вы хотите выяснить, в каких странах высокий показатель автомобилей на человека. Другими словами, в каких странах у многих людей есть автомобиль, или может быть даже несколько автомобилей.\n",
    "\n",
    "Аналогично предыдущему примеру, вам нужно создать булевой Series, который вы затем можете использовать для фильтрации DataFrame `cars`, чтобы выбрать определенные наблюдения. Если вы хотите сделать это в одной строке, это вполне нормально!"
   ]
  },
  {
   "cell_type": "markdown",
   "id": "763b55645a5b35fc",
   "metadata": {
    "collapsed": false
   },
   "source": [
    "### Инструкции\n",
    "\n",
    "- Выберите столбец `cars_per_cap` из cars как Pandas Series и сохраните его как `cpc`.\n",
    "- Используйте cpc в сочетании с оператором сравнения и 500. Вы хотите получить булевой Series, который будет True, если у соответствующей страны `cars_per_cap` больше 500, и False в противном случае.\n",
    "- Сохраните этот булевой Series как `many_cars`.\n",
    "- Используйте `many_cars` для фильтрации `cars`, подобно тому, что вы делали ранее. Сохраните результат как car_maniac.\n",
    "- Выведите `car_maniac`, чтобы убедиться, что все верно."
   ]
  },
  {
   "cell_type": "code",
   "execution_count": 5,
   "id": "86ab37fa4861777f",
   "metadata": {
    "collapsed": false
   },
   "outputs": [
    {
     "name": "stdout",
     "output_type": "stream",
     "text": [
      "     cars_per_cap        country  drives_right\n",
      "US            809  United States          True\n",
      "AUS           731      Australia         False\n",
      "JAP           588          Japan         False\n"
     ]
    }
   ],
   "source": [
    "# Создание car_maniac: наблюдения, у которых cars_per_cap больше 500\n",
    "\n",
    "# Вывод car_maniac\n"
   ]
  },
  {
   "cell_type": "markdown",
   "id": "ae09d072d5f43af",
   "metadata": {
    "collapsed": false
   },
   "source": [
    "## Автомобилей на человека (2)\n",
    "Помните о `np.logical_and()`, `np.logical_or()` и `np.logical_not()`, вариантах операторов `and`, `or` и `not` в NumPy? Вы также можете использовать их с Pandas Series для более сложных операций фильтрации.\n",
    "\n",
    "Возьмем этот пример, который выбирает наблюдения, у которых `cars_per_cap` находится между 10 и 80. Попробуйте эти строки кода пошагово, чтобы понять, что происходит.\n",
    "\n",
    "Take this example that selects the observations that have a `cars_per_cap` between 10 and 80. Try out these lines of code step by step to see what's happening.\n",
    "    \n",
    "    cpc = cars['cars_per_cap']\n",
    "    between = np.logical_and(cpc > 10, cpc < 80)\n",
    "    medium = cars[between]\n"
   ]
  },
  {
   "cell_type": "markdown",
   "id": "583e2395e2aa23e2",
   "metadata": {
    "collapsed": false
   },
   "source": [
    "### Инструкции\n",
    "\n",
    "- Используйте предоставленный образец кода, чтобы создать DataFrame `medium`, который включает все наблюдения автомобилей с `cars_per_cap` между 100 и 500.\n",
    "- Выведите `medium`."
   ]
  },
  {
   "cell_type": "code",
   "execution_count": 6,
   "id": "7d49bdfdb78ded44",
   "metadata": {
    "collapsed": false
   },
   "outputs": [
    {
     "name": "stdout",
     "output_type": "stream",
     "text": [
      "    cars_per_cap country  drives_right\n",
      "RU           200  Russia          True\n"
     ]
    }
   ],
   "source": [
    "# Создание medium: наблюдения с cars_per_cap между 100 и 500\n",
    "# medium = cars[np.logical_and(cars['cars_per_cap'] > 100, cars['cars_per_cap'] > 500)]\n",
    "\n",
    "# Вывод medium\n"
   ]
  }
 ],
 "metadata": {
  "kernelspec": {
   "display_name": "Python 3",
   "language": "python",
   "name": "python3"
  },
  "language_info": {
   "codemirror_mode": {
    "name": "ipython",
    "version": 3
   },
   "file_extension": ".py",
   "mimetype": "text/x-python",
   "name": "python",
   "nbconvert_exporter": "python",
   "pygments_lexer": "ipython3",
   "version": "3.11.3"
  }
 },
 "nbformat": 4,
 "nbformat_minor": 5
}
