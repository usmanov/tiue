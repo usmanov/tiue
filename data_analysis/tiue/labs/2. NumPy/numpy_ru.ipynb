{
 "cells": [
  {
   "cell_type": "markdown",
   "id": "bb552fb90641f72f",
   "metadata": {
    "collapsed": false
   },
   "source": [
    "# NumPy"
   ]
  },
  {
   "cell_type": "code",
   "outputs": [],
   "source": [
    "%%sql\n"
   ],
   "metadata": {
    "collapsed": false,
    "SqlCellData": {
     "variableName$1": "df_sql"
    }
   },
   "id": "7586535d3783547"
  },
  {
   "cell_type": "code",
   "execution_count": 1,
   "id": "691e713296e46c45",
   "metadata": {
    "collapsed": false,
    "ExecuteTime": {
     "end_time": "2024-02-15T07:02:50.217139Z",
     "start_time": "2024-02-15T07:02:49.507053Z"
    }
   },
   "outputs": [
    {
     "name": "stdout",
     "output_type": "stream",
     "text": [
      "              Name Team       Position  Height  Weight    Age PosCategory\n",
      "0    Adam_Donachie  BAL        Catcher      74     180  22.99     Catcher\n",
      "1        Paul_Bako  BAL        Catcher      74     215  34.69     Catcher\n",
      "2  Ramon_Hernandez  BAL        Catcher      72     210  30.78     Catcher\n",
      "3     Kevin_Millar  BAL  First_Baseman      72     210  35.43   Infielder\n",
      "4      Chris_Gomez  BAL  First_Baseman      73     188  35.71   Infielder\n"
     ]
    }
   ],
   "source": [
    "import pandas as pd\n",
    "\n",
    "baseball = pd.read_csv('datasets/MLB(baseball).csv')\n",
    "print(baseball.head())"
   ]
  },
  {
   "cell_type": "markdown",
   "source": [],
   "metadata": {
    "collapsed": false
   },
   "id": "ce048ca0b5371632"
  },
  {
   "cell_type": "markdown",
   "id": "3eb3b1cdf3d267b2",
   "metadata": {
    "collapsed": false
   },
   "source": [
    "### Инструкции\n",
    "\n",
    "- Импортируйте пакет `numpy` как `np`, чтобы вы могли обращаться к numpy с помощью `np`.\n",
    "- Используйте `np.array()` для создания массива `numpy` из baseball. Назовите этот массив `np_baseball`.\n",
    "- Выведите тип `np_baseball`, чтобы проверить, что все верно."
   ]
  },
  {
   "cell_type": "code",
   "execution_count": 3,
   "id": "initial_id",
   "metadata": {
    "ExecuteTime": {
     "end_time": "2024-01-01T06:00:58.370854Z",
     "start_time": "2024-01-01T06:00:58.361233Z"
    },
    "collapsed": false
   },
   "outputs": [
    {
     "name": "stdout",
     "output_type": "stream",
     "text": [
      "<class 'numpy.ndarray'>\n",
      "[['Adam_Donachie' 'BAL' 'Catcher' ... 180 22.99 'Catcher']\n",
      " ['Paul_Bako' 'BAL' 'Catcher' ... 215 34.69 'Catcher']\n",
      " ['Ramon_Hernandez' 'BAL' 'Catcher' ... 210 30.78 'Catcher']\n",
      " ...\n",
      " ['Chris_Narveson' 'STL' 'Relief_Pitcher' ... 205 25.19 'Pitcher']\n",
      " ['Randy_Keisler' 'STL' 'Relief_Pitcher' ... 190 31.01 'Pitcher']\n",
      " ['Josh_Kinney' 'STL' 'Relief_Pitcher' ... 195 27.92 'Pitcher']]\n"
     ]
    }
   ],
   "source": [
    "# Импортируем пакет numpy как np\n",
    "import numpy as np\n",
    "\n",
    "# Создаем массив numpy из baseball: np_baseball\n",
    "np_baseball = np.array(baseball)\n",
    "\n",
    "# Выводим тип np_baseball\n",
    "print(type(np_baseball))\n",
    "\n",
    "print(np_baseball)"
   ]
  },
  {
   "cell_type": "markdown",
   "id": "a8b842f47d119ad7",
   "metadata": {
    "collapsed": false
   },
   "source": [
    "## Рост игроков в бейсболе\n",
    "Вы являетесь большим фанатом бейсбола. Вы решаете позвонить в MLB (Major League Baseball) и спросить о дополнительной статистике по росту основных игроков. Они передают данные о более чем тысяче игроков, которые хранятся в виде обычного списка Python: `height_in`. Рост выражен в дюймах. Можете ли вы создать из этого массив `numpy` и перевести значения в метры?\n",
    "\n",
    "Переменная `height_in` уже доступна, а пакет `numpy` загружен, так что вы можете начать сразу."
   ]
  },
  {
   "cell_type": "markdown",
   "id": "92a2ed90709f9cf2",
   "metadata": {
    "collapsed": false
   },
   "source": [
    "### Инструкции\n",
    "\n",
    "- Создайте массив numpy из `height_in`. Назовите этот новый массив `np_height_in`.\n",
    "- Выведите `np_height_in`.\n",
    "- Умножьте `np_height_in` на 0.0254, чтобы преобразовать все значения роста из дюймов в метры. Сохраните новые значения в новом массиве `np_height_m`.\n",
    "- Выведите `np_height_m` и проверьте, имеет ли вывод смысл."
   ]
  },
  {
   "cell_type": "code",
   "execution_count": 4,
   "id": "d2cf1c339398ce6a",
   "metadata": {
    "ExecuteTime": {
     "end_time": "2024-01-01T05:38:09.883261Z",
     "start_time": "2024-01-01T05:38:09.846848Z"
    },
    "collapsed": false
   },
   "outputs": [
    {
     "name": "stdout",
     "output_type": "stream",
     "text": [
      "[74 74 72 ... 75 75 73]\n",
      "[1.8796 1.8796 1.8288 ... 1.905 1.905 1.8541999999999998]\n"
     ]
    }
   ],
   "source": [
    "# Предполагая, что 'Height' находится в индексе 3 в вашем массиве\n",
    "np_height_in = np_baseball[:, 3]\n",
    "print(np_height_in)\n",
    "\n",
    "# Преобразуем np_height_in в метры: np_height_m\n",
    "np_height_m = np_height_in * 0.0254\n",
    "\n",
    "# Выводим np_height_m\n",
    "print(np_height_m)"
   ]
  },
  {
   "cell_type": "markdown",
   "id": "6066cd8c642ff196",
   "metadata": {
    "collapsed": false
   },
   "source": [
    "## ИМТ бейсбольных игроков\n",
    "MLB также предлагает вам проанализировать их данные о весе. Опять же, оба доступны как обычные списки Python: `height_in` (рост в дюймах) и `weight_lb` (вес в фунтах).\n",
    "\n",
    "Теперь можно рассчитать Индекс массы тела (ИМТ) каждого игрока в бейсболе. Python-код для преобразования `height_in` в массив `numpy` с правильными единицами уже доступен в рабочем пространстве. Следуйте инструкциям шаг за шагом и завершите задание! `height_in` и `weight_lb` доступны как обычные списки."
   ]
  },
  {
   "cell_type": "markdown",
   "id": "7fbdecd88c5c5d07",
   "metadata": {
    "collapsed": false
   },
   "source": [
    "### Инструкции\n",
    "\n",
    "- Создайте массив numpy из списка `weight_lb` с правильными единицами. Умножьте на 0.453592, чтобы перейти из фунтов в килограммы. \n",
    "- Сохраните полученный массив `numpy` как `np_weight_kg`.\n",
    "- Используйте `np_height_m` и `np_weight_kg`, чтобы рассчитать Индекс массы тела (ИМТ) каждого игрока\n",
    "- Используйте следующее уравнение: __bmi = np_weight_kg / np_height_m__\n",
    "- Сохраните полученный массив numpy как `bmi`.\n",
    "- Выведите `bmi`."
   ]
  },
  {
   "cell_type": "code",
   "execution_count": 5,
   "id": "fba2af78617fcc88",
   "metadata": {
    "ExecuteTime": {
     "end_time": "2024-01-01T05:38:23.437308Z",
     "start_time": "2024-01-01T05:38:23.420864Z"
    },
    "collapsed": false
   },
   "outputs": [
    {
     "name": "stdout",
     "output_type": "stream",
     "text": [
      "[23.11037638875862 27.604060686572797 28.48080464679448 ...\n",
      " 25.62295933480756 23.74810865177286 25.726863613607133]\n"
     ]
    }
   ],
   "source": [
    "# Создаем массив из weight_lb с метрическими единицами: np_weight_kg\n",
    "weight_lb = np_baseball[:, 4]\n",
    "np_weight_kg = np.array(weight_lb) * 0.453592\n",
    "\n",
    "# Вычисляем ИМТ: bmi\n",
    "bmi = np.array(np_weight_kg / np_height_m**2)\n",
    "\n",
    "# Выводим ИМТ\n",
    "print(bmi)"
   ]
  },
  {
   "cell_type": "markdown",
   "id": "1bbe6a5f2e14c8ea",
   "metadata": {
    "collapsed": false
   },
   "source": [
    "## Легкие игроки в бейсболе\n",
    "\n",
    "Для подмножеств обычных списков Python и массивов `numpy` можно использовать квадратные скобки:\n",
    "\n",
    "    x = [4 , 9 , 6, 3, 1]\n",
    "\n",
    "    x[1]\n",
    "\n",
    "    y = np.array(x)\n",
    "    y[1]\n",
    "\n",
    "Для numpy можно также использовать логические массивы:\n",
    "\n",
    "    high = y > 5\n",
    "    y[high]\n",
    "\n",
    "Код, который вычисляет ИМТ всех игроков в бейсболе, уже включен. Следуйте инструкциям и обнаружьте интересные факты из данных! `height_in` и `weight_lb` доступны как обычные списки."
   ]
  },
  {
   "cell_type": "markdown",
   "id": "2af172a9cbec0d0d",
   "metadata": {
    "collapsed": false
   },
   "source": [
    "### Инструкции\n",
    "\n",
    "- Создайте логический массив `numpy`: элемент массива должен быть `True`, если ИМТ соответствующего игрока в бейсболе ниже 21. \n",
    "- Для этого можно использовать оператор `<`. Назовите массив `light`.\n",
    "- Выведите массив `light`.\n",
    "- Выведите массив `numpy` с ИМТ всех игроков в бейсболе, у которых ИМТ ниже 21. Используйте `light` внутри квадратных скобок для выбора элементов массива `bmi`."
   ]
  },
  {
   "cell_type": "code",
   "execution_count": 6,
   "id": "f44ea5e2b0302a3e",
   "metadata": {
    "ExecuteTime": {
     "end_time": "2024-01-01T05:42:41.546671Z",
     "start_time": "2024-01-01T05:42:41.493382Z"
    },
    "collapsed": false
   },
   "outputs": [
    {
     "name": "stdout",
     "output_type": "stream",
     "text": [
      "[False False False ... False False False]\n"
     ]
    },
    {
     "data": {
      "text/plain": [
       "array([20.542556790007662, 20.542556790007662, 20.69282047151352,\n",
       "       20.69282047151352, 20.343431890567484, 20.343431890567484,\n",
       "       20.69282047151352, 20.158834718074228, 19.498447103560874,\n",
       "       20.69282047151352, 20.92052190452328], dtype=object)"
      ]
     },
     "execution_count": 6,
     "metadata": {},
     "output_type": "execute_result"
    }
   ],
   "source": [
    "# Создаем массив light\n",
    "light = bmi < 21\n",
    "\n",
    "# Выводим light\n",
    "print(light)\n",
    "\n",
    "# Выводим ИМТ всех игроков в бейсболе, у которых ИМТ ниже 21\n",
    "bmi[light]"
   ]
  },
  {
   "cell_type": "markdown",
   "id": "a0908ddf47f60c40",
   "metadata": {
    "collapsed": false
   },
   "source": [
    "## Выделение подмножеств в массивах NumPy\n",
    "\n",
    "Вы видели это своими глазами: списки Python и массивы `numpy` иногда ведут себя по-разному. К счастью, в этом мире все еще есть некоторые уверенности. Например, выделение подмножеств (использование квадратной скобочной нотации для списков или массивов) работает точно так же. Чтобы убедиться в этом, попробуйте следующие строки кода в \n",
    "\n",
    "    IPython Shell:\n",
    "\n",
    "    x = [\"a\", \"b\", \"c\"]\n",
    "    x[1]\n",
    "\n",
    "    np_x = np.array(x)\n",
    "    np_x[1]"
   ]
  },
  {
   "cell_type": "markdown",
   "id": "b152d0e0a61cfc6b",
   "metadata": {
    "collapsed": false
   },
   "source": [
    "### Инструкции\n",
    "\n",
    "- Выделите подмассив `np_weight_lb`, выведя элемент с индексом `50`.\n",
    "- Выведите подмассив `np_height_in`, который содержит элементы с индекса `100` до и включительно индекса `110`."
   ]
  },
  {
   "cell_type": "code",
   "execution_count": 7,
   "id": "14b43481e243dcb4",
   "metadata": {
    "ExecuteTime": {
     "end_time": "2024-01-01T05:51:18.198446Z",
     "start_time": "2024-01-01T05:51:18.150079Z"
    },
    "collapsed": false
   },
   "outputs": [
    {
     "name": "stdout",
     "output_type": "stream",
     "text": [
      "200\n",
      "[73 74 72 73 69 72 73 75 75 73 72]\n"
     ]
    }
   ],
   "source": [
    "# Сохраняем списки веса и роста как массивы numpy\n",
    "np_weight_lb = np_baseball[:, 4]\n",
    "np_height_in = np_baseball[:, 3]\n",
    "\n",
    "# Выводим вес с индексом 50\n",
    "print(np_weight_lb[50])\n",
    "\n",
    "# Выводим подмассив np_height_in: от индекса 100 до включительно индекса 110\n",
    "print(np_height_in[100:111])"
   ]
  },
  {
   "cell_type": "markdown",
   "id": "a269e7c1e589c777",
   "metadata": {
    "collapsed": false
   },
   "source": [
    "## Ваш первый двумерный массив NumPy\n",
    "\n",
    "Перед тем как работать с фактическими данными MLB, давайте попробуем создать двумерный массив `numpy` из небольшого списка списков.\n",
    "\n",
    "В этом упражнении `baseball_ex` - это список списков. Основной список содержит 4 элемента. Каждый из этих элементов - это список, содержащий рост и вес 4 игроков `baseball_ex` в данном порядке. `baseball_ex` уже задан для вас в скрипте."
   ]
  },
  {
   "cell_type": "markdown",
   "id": "a663b0ccc3e33d72",
   "metadata": {
    "collapsed": false
   },
   "source": [
    "### Инструкции\n",
    "\n",
    "- Используйте `np.array()`, чтобы создать двумерный массив `numpy` из `baseball`. Назовите его `np_baseball_ex`.\n",
    "- Выведите тип `np_baseball_ex`.\n",
    "- Выведите атрибут формы `np_baseball_ex`. Используйте `np_baseball_ex.shape.`"
   ]
  },
  {
   "cell_type": "code",
   "execution_count": 8,
   "id": "2c845473f5bd40aa",
   "metadata": {
    "ExecuteTime": {
     "end_time": "2024-01-01T06:00:27.079273Z",
     "start_time": "2024-01-01T06:00:27.044228Z"
    },
    "collapsed": false
   },
   "outputs": [
    {
     "name": "stdout",
     "output_type": "stream",
     "text": [
      "<class 'numpy.ndarray'>\n",
      "(4, 2)\n"
     ]
    }
   ],
   "source": [
    "# Создаем baseball, список списков\n",
    "baseball_ex = [[180, 78.4],\n",
    "            [215, 102.7],\n",
    "            [210, 98.5],\n",
    "            [188, 75.2]]\n",
    "\n",
    "# Создаем двумерный массив numpy из baseball: np_baseball\n",
    "np_baseball_ex = np.array(baseball_ex)\n",
    "\n",
    "# Выводим тип np_baseball\n",
    "print(type(np_baseball_ex))\n",
    "\n",
    "# Выводим форму np_baseball\n",
    "print(np_baseball_ex.shape)"
   ]
  },
  {
   "cell_type": "markdown",
   "id": "5a4a158c3499d89",
   "metadata": {
    "collapsed": false
   },
   "source": [
    "## Данные о бейсболистах в виде 2D массива\n",
    "\n",
    "Вы еще раз взглянули на данные MLB и поняли, что будет более логично переструктурировать всю эту информацию в виде двумерного массива `numpy`. Этот массив должен иметь 1015 строк, соответствующих 1015 бейсболистам, о которых у вас есть информация, и 2 столбца (для роста и веса).\n",
    "\n",
    "MLB снова была очень полезной и передала вам данные в другой структуре - в виде обычного списка списков Python. В этом списке списков каждый подсписок представляет собой рост и вес одного бейсболиста. Имя этого вложенного списка - `baseball`.\n",
    "\n",
    "Можете ли вы сохранить данные в виде двумерного массива, чтобы использовать дополнительные функциональные возможности `numpy`? `baseball` доступен как обычный список списков."
   ]
  },
  {
   "cell_type": "markdown",
   "id": "bbfee4ef251a15ec",
   "metadata": {
    "collapsed": false
   },
   "source": [
    "### Инструкции\n",
    "\n",
    "- Используйте `np.array()`, чтобы создать двумерный массив `numpy` из `baseball`. Назовите его `np_baseball`.\n",
    "- Выведите атрибут формы `np_baseball`."
   ]
  },
  {
   "cell_type": "code",
   "execution_count": 9,
   "id": "8315f15e0be9cf63",
   "metadata": {
    "ExecuteTime": {
     "end_time": "2024-01-01T06:01:09.658845Z",
     "start_time": "2024-01-01T06:01:09.630502Z"
    },
    "collapsed": false
   },
   "outputs": [
    {
     "name": "stdout",
     "output_type": "stream",
     "text": [
      "(1015, 7)\n"
     ]
    }
   ],
   "source": [
    "# Создаем двумерный массив numpy из baseball: np_baseball\n",
    "np_baseball = np.array(baseball)\n",
    "\n",
    "# Выводим форму np_baseball\n",
    "print(np_baseball.shape)"
   ]
  },
  {
   "cell_type": "markdown",
   "id": "65ec36bae4274811",
   "metadata": {
    "collapsed": false
   },
   "source": [
    "\n",
    "## Выделение подмножеств 2D массивов NumPy\n",
    "\n",
    "Если ваш двумерный массив `numpy` имеет регулярную структуру, то есть каждая строка и столбец имеют фиксированное количество значений, сложные способы выделения подмножеств становятся очень простыми. Взгляните на приведенный ниже код, где элементы `\"a\" и \"c\"` извлекаются из списка списков."
   ]
  },
  {
   "cell_type": "code",
   "execution_count": null,
   "id": "f0d59c77",
   "metadata": {},
   "outputs": [],
   "source": [
    "# Обычный список списков\n",
    "x = [[\"a\", \"b\"], [\"c\", \"d\"]]\n",
    "[x[0][0], x[1][0]]\n",
    "\n",
    "# numpy\n",
    "import numpy as np\n",
    "np_x = np.array(x)\n",
    "np_x[:, 0]"
   ]
  },
  {
   "cell_type": "markdown",
   "id": "d1af9a24",
   "metadata": {},
   "source": [
    "Для обычных списков Python это настоящая боль. Однако для двумерных массивов `numpy` это довольно интуитивно! Индексы перед запятой относятся к строкам, а после запятой - к столбцам. : используется для среза; в этом примере он говорит Python включить все строки.\n",
    "\n",
    "Код, который преобразует предварительно загруженный список `baseball` в двумерный массив `numpy`, уже находится в скрипте. Первый столбец содержит рост игроков в дюймах, а второй столбец - вес игроков в фунтах. Добавьте несколько строк, чтобы сделать правильные выборки. Помните, что в Python первый элемент имеет индекс 0! `baseball` доступен как обычный список списков."
   ]
  },
  {
   "cell_type": "markdown",
   "id": "1048354490ab9f29",
   "metadata": {
    "collapsed": false
   },
   "source": [
    "#### Инструкции\n",
    "\n",
    "- Создайте `np_baseball_he_we`, содержащий столбцы с ростом и весом из `baseball`.\n",
    "- Выведите 50-ую строку `np_baseball_he_we`.\n",
    "- Создайте новую переменную `np_weight_lb`, содержащую весь второй столбец `np_baseball`.\n",
    "- Выберите рост (первый столбец) 124-ого игрока в `np_baseball` и выведите его."
   ]
  },
  {
   "cell_type": "code",
   "execution_count": 10,
   "id": "3740757539293041",
   "metadata": {
    "ExecuteTime": {
     "end_time": "2024-01-01T06:24:20.731121Z",
     "start_time": "2024-01-01T06:24:20.700436Z"
    },
    "collapsed": false
   },
   "outputs": [
    {
     "name": "stdout",
     "output_type": "stream",
     "text": [
      "[70 195]\n",
      "75\n"
     ]
    }
   ],
   "source": [
    "# Создаем np_baseball_he_we, содержащий столбцы 'Height' и 'Weight'\n",
    "np_baseball_he_we = np_baseball[:, [3, 4]]\n",
    "\n",
    "# Выводим 50-ую строку np_baseball\n",
    "print(np_baseball_he_we[49])\n",
    "\n",
    "# Выбираем весь второй столбец np_baseball: np_weight_lb\n",
    "np_weight_lb = np_baseball_he_we[:, 1]\n",
    "\n",
    "# Выводим рост 124-ого игрока\n",
    "print(np_baseball_he_we[123, 0])"
   ]
  },
  {
   "cell_type": "markdown",
   "id": "cd570db09a88c7ee",
   "metadata": {
    "collapsed": false
   },
   "source": [
    "## 2D Арифметика\n",
    "Помните, как вы рассчитывали Индекс Массы Тела для всех игроков в бейсболе? `numpy` мог выполнять все вычисления покомпонентно (то есть поэлементно). Для двумерных массивов `numpy` это не отличается! Вы можете комбинировать матрицы с одиночными числами, векторами и другими матрицами.\n",
    "\n",
    "Выполните код ниже в оболочке IPython и проверьте, понимаете ли вы:"
   ]
  },
  {
   "cell_type": "code",
   "execution_count": null,
   "id": "3847659c",
   "metadata": {},
   "outputs": [],
   "source": [
    "import numpy as np\n",
    "np_mat = np.array([[1, 2],\n",
    "                   [3, 4],\n",
    "                   [5, 6]])\n",
    "np_mat * 2\n",
    "np_mat + np.array([10, 10])\n",
    "np_mat + np_mat"
   ]
  },
  {
   "cell_type": "markdown",
   "id": "db39851e",
   "metadata": {},
   "source": [
    "`np_baseball_he_we_ye` закодирован для вас; это снова двумерный массив `numpy` с 3 столбцами, представляющими рост (в дюймах), вес (в фунтах) и возраст (в годах)."
   ]
  },
  {
   "cell_type": "markdown",
   "id": "6a4dd8a72f1b8ce8",
   "metadata": {
    "collapsed": false
   },
   "source": [
    "### Инструкции\n",
    "\n",
    "- У вас удалось получить данные об изменениях роста, веса и возраста всех игроков в бейсболе. Эти данные доступны как двумерный массив `numpy`, `updated`. \n",
    "- Сложите `np_baseball_he_we_ye` и `updated` и выведите результат.\n",
    "- Вы хотите преобразовать единицы измерения роста и веса в метрическую систему (метры и килограммы соответственно). В качестве первого шага создайте массив `numpy` из трех значений: 0.0254, 0.453592 и 1. Назовите этот массив `conversion`.\n",
    "- Умножьте `np_baseball_he_we_ye` на `conversion` и выведите результат."
   ]
  },
  {
   "cell_type": "code",
   "execution_count": 11,
   "id": "e2e16e9aad8d8a0c",
   "metadata": {
    "ExecuteTime": {
     "end_time": "2024-01-01T06:44:33.222425Z",
     "start_time": "2024-01-01T06:44:33.193934Z"
    },
    "collapsed": false
   },
   "outputs": [
    {
     "name": "stdout",
     "output_type": "stream",
     "text": [
      "[[1.8796 81.64656 22.99]\n",
      " [1.8796 97.52228 34.69]\n",
      " [1.8288 95.25431999999999 30.78]\n",
      " ...\n",
      " [1.905 92.98636 25.19]\n",
      " [1.905 86.18248 31.01]\n",
      " [1.8541999999999998 88.45044 27.92]]\n"
     ]
    }
   ],
   "source": [
    "# Создаем np_baseball_he_we_ye (3 столбца)\n",
    "np_baseball_he_we_ye = np_baseball[:, [3, 4, 5]]\n",
    "\n",
    "# Создаем массив numpy: conversion\n",
    "conversion = np.array([0.0254, 0.453592 , 1])\n",
    "\n",
    "# Выводим произведение np_baseball_he_we_ye и conversion\n",
    "np_baseball_he_we_ye[:, :2] *= conversion[:2]  # Применяем конверсию к столбцам Рост и Вес\n",
    "print(np_baseball_he_we_ye)"
   ]
  },
  {
   "cell_type": "markdown",
   "id": "5094317e2460c522",
   "metadata": {
    "collapsed": false
   },
   "source": [
    "## Среднее против медианы\n",
    "\n",
    "Теперь вы знаете, как использовать функции `numpy`, чтобы получить лучшее представление о ваших данных. Это, по сути, сводится к импорту `numpy` и вызову нескольких простых функций для массивов numpy:"
   ]
  },
  {
   "cell_type": "code",
   "execution_count": 1,
   "id": "aaeb3599",
   "metadata": {
    "ExecuteTime": {
     "end_time": "2024-02-15T09:07:23.112254Z",
     "start_time": "2024-02-15T09:07:22.870299Z"
    }
   },
   "outputs": [
    {
     "data": {
      "text/plain": "8.0"
     },
     "execution_count": 1,
     "metadata": {},
     "output_type": "execute_result"
    }
   ],
   "source": [
    "import numpy as np\n",
    "x = [1, 4, 8, 10, 12]\n",
    "np.mean(x)\n",
    "np.median(x)"
   ]
  },
  {
   "cell_type": "markdown",
   "id": "46586a6c",
   "metadata": {},
   "source": [
    "Данные о бейсболе доступны как двумерный массив `numpy` с 3 столбцами (рост, вес, возраст) и 1015 строками. Имя этого массива `numpy - np_baseball_he_we_ye`. После переструктурирования данных, однако, вы замечаете, что некоторые значения роста аномально высокие. Следуйте инструкциям и определите, какая сводная статистика лучше всего подходит, если у вас есть так называемые выбросы (outliers). `np_baseball` доступен."
   ]
  },
  {
   "cell_type": "markdown",
   "id": "98ad937485ca3292",
   "metadata": {
    "collapsed": false
   },
   "source": [
    "### Инструкции\n",
    "\n",
    "- Создайте массив numpy `np_baseball_he_we_ye`, который равен первому столбцу `np_baseball`.\n",
    "- Выведите среднее значение (mean) `np_baseball_he_we_ye`.\n",
    "- Выведите медиану (median) `np_baseball_he_we_ye`."
   ]
  },
  {
   "cell_type": "code",
   "execution_count": 12,
   "id": "6526563d6d643a61",
   "metadata": {
    "ExecuteTime": {
     "end_time": "2024-01-01T06:53:52.881107Z",
     "start_time": "2024-01-01T06:53:52.841088Z"
    },
    "collapsed": false
   },
   "outputs": [
    {
     "name": "stdout",
     "output_type": "stream",
     "text": [
      "101.24892610837442\n",
      "74.0\n"
     ]
    }
   ],
   "source": [
    "# Создаем np_baseball_he_we_ye из np_baseball\n",
    "np_baseball_he_we_ye = np_baseball[:, [3, 4, 5]]\n",
    "\n",
    "# Выводим среднее значение np_baseball_he_we_ye\n",
    "print(np.mean(np_baseball_he_we_ye))\n",
    "\n",
    "# Выводим медиану np_baseball_he_we_ye\n",
    "print(np.median(np_baseball_he_we_ye))"
   ]
  },
  {
   "cell_type": "markdown",
   "id": "4b4f414a2961301c",
   "metadata": {
    "collapsed": false
   },
   "source": [
    "## Изучение данных о бейсболе\n",
    "\n",
    "Поскольку среднее значение (`mean`) и медиана (`median`) находятся далеко друг от друга, вы решаете пожаловаться в MLB. Они находят ошибку и отправляют вам исправленные данные. Они снова доступны как двумерный массив NumPy `np_baseball_he_we_ye` с тремя столбцами.\n",
    "\n",
    "Сценарий Python в редакторе уже включает код для вывода информативных сообщений с различными сводными статистиками. Можете ли вы завершить задачу? `np_baseball` доступен."
   ]
  },
  {
   "cell_type": "markdown",
   "id": "48f4bc54f29a0837",
   "metadata": {
    "collapsed": false
   },
   "source": [
    "### Инструкции\n",
    "\n",
    "- Код для вывода среднего значения роста уже включен. Завершите код для медианы роста. Замените `None` на правильный код.\n",
    "- Используйте `np.std()` для первого столбца `np_baseball` для вычисления `stddev`. Замените `None` на правильный код.\n",
    "- Тяжелее ли обычно более высокие игроки? Используйте `np.corrcoef()` для сохранения корреляции между первым и вторым столбцом `np_baseball` в `corr`. Замените `None` на правильный код."
   ]
  },
  {
   "cell_type": "code",
   "execution_count": 13,
   "id": "b09fe5139ce2eabb",
   "metadata": {
    "ExecuteTime": {
     "end_time": "2024-01-01T07:11:30.902940Z",
     "start_time": "2024-01-01T07:11:30.873812Z"
    },
    "collapsed": false
   },
   "outputs": [
    {
     "name": "stdout",
     "output_type": "stream",
     "text": [
      "Average: 73.6896551724138\n",
      "Median: 74.0\n",
      "Standard Deviation: 2.3127918810465395\n",
      "Correlation: [[1.         0.53153932]\n",
      " [0.53153932 1.        ]]\n"
     ]
    }
   ],
   "source": [
    "# Выводим средний рост (первый столбец)\n",
    "avg = np.mean(np_baseball_he_we_ye[:,0])\n",
    "print(\"Average: \" + str(avg))\n",
    "\n",
    "# Выводим медиану роста. Замените 'None'\n",
    "med = np.median(np_baseball_he_we_ye[:,0])\n",
    "print(\"Median: \" + str(med))\n",
    "\n",
    "# Выводим стандартное отклонение по росту. Замените 'None'\n",
    "stddev = np.std(np_baseball_he_we_ye[:,0])\n",
    "print(\"Standard Deviation: \" + str(stddev))\n",
    "\n",
    "# Выводим корреляцию между первым и вторым столбцом. Замените 'None'\n",
    "# corr = np.corrcoef(np_baseball_he_we_ye[:,0], np_baseball_he_we_ye[:,1])\n",
    "# print(\"Correlation: \" + str(corr))\n",
    "\n",
    "# Убеждаемся, что рост и вес имеют тип float\n",
    "heights = np_baseball_he_we_ye[:, 0].astype(float)\n",
    "weights = np_baseball_he_we_ye[:, 1].astype(float)\n",
    "\n",
    "# Рассчитываем корреляцию между ростом и весом\n",
    "corr = np.corrcoef(heights, weights)\n",
    "print(\"Correlation:\", corr)"
   ]
  },
  {
   "cell_type": "markdown",
   "id": "48053ceafc982912",
   "metadata": {
    "collapsed": false
   },
   "source": [
    "## Смешиваем все вместе\n",
    "\n",
    "В последних нескольких упражнениях вы узнали все, что нужно знать о росте и весе игроков в бейсболе. Теперь пришло время погрузиться в другой вид спорта: футбол.\n",
    "\n",
    "Вы обратились в FIFA за данными, и они передали вам два списка. Списки выглядят следующим образом:"
   ]
  },
  {
   "cell_type": "code",
   "execution_count": null,
   "id": "eb59da90",
   "metadata": {},
   "outputs": [],
   "source": [
    "positions = ['GK', 'M', 'A', 'D', ...]\n",
    "heights = [191, 184, 185, 180, ...]"
   ]
  },
  {
   "cell_type": "markdown",
   "id": "db05866f",
   "metadata": {},
   "source": [
    "Каждый элемент в списках соответствует игроку. Первый список, `positions`, содержит строки, представляющие позицию каждого игрока. Возможные позиции: `'GK'` (вратарь), `'M'` (полузащитник), `'A'` (нападающий) и `'D'` (защитник). Второй список, `heights`, содержит целые числа, представляющие рост игрока в сантиметрах. Первый игрок в списках - вратарь и довольно высокий (191 см).\n",
    "\n",
    "Вы довольно уверены, что медиана роста вратарей выше, чем у других игроков на футбольном поле. Некоторые из ваших друзей в это не верят, поэтому вы решили показать им это, используя данные, которые вы получили от FIFA, и свои недавно приобретенные навыки программирования на Python. `heights` и `positions` доступны как списки."
   ]
  },
  {
   "cell_type": "markdown",
   "id": "2160d4febaf1ea1a",
   "metadata": {
    "collapsed": false
   },
   "source": [
    "### Инструкции\n",
    "\n",
    "- Преобразуйте `heights` и `positions`, которые являются обычными списками, в массивы `numpy`. Назовите их `np_heights` и `np_positions`.\n",
    "- Извлеките все росты вратарей. Здесь можно использовать маленький трюк: используйте `np_positions == 'GK'` как индекс для `np_heights`. Присвойте результат переменной `gk_heights`.\n",
    "- Извлеките все росты остальных игроков. В этот раз используйте `np_positions != 'GK'` как индекс для `np_heights`. Присвойте результат переменной `other_heights`.\n",
    "- Выведите медиану роста вратарей с помощью `np.median()`. Замените `None` на правильный код.\n",
    "- Сделайте то же самое для остальных игроков. Выведите их медиану роста. Замените `None` на правильный код."
   ]
  },
  {
   "cell_type": "code",
   "execution_count": 18,
   "id": "9fa3ef413561207f",
   "metadata": {
    "ExecuteTime": {
     "end_time": "2024-01-01T08:51:11.373819Z",
     "start_time": "2024-01-01T08:51:11.251042Z"
    },
    "collapsed": false
   },
   "outputs": [
    {
     "name": "stdout",
     "output_type": "stream",
     "text": [
      "Медиана роста вратарей: 188.0\n",
      "Медиана роста других игроков: 181.0\n"
     ]
    },
    {
     "name": "stderr",
     "output_type": "stream",
     "text": [
      "/var/folders/xr/k_0c_95x3d75308lz6wxm2_80000gn/T/ipykernel_21192/1461017646.py:5: FutureWarning: DataFrame.applymap has been deprecated. Use DataFrame.map instead.\n",
      "  football = football.applymap(lambda x: x.strip() if isinstance(x, str) else x)\n"
     ]
    }
   ],
   "source": [
    "# Читаем CSV-файл с другой кодировкой\n",
    "football = pd.read_csv('datasets/FIFA(Football).csv', encoding='ISO-8859-1')\n",
    "\n",
    "# Удаляем ведущие и завершающие пробелы из всех строковых значений в DataFrame football\n",
    "football = football.applymap(lambda x: x.strip() if isinstance(x, str) else x)\n",
    "\n",
    "# Создаем массив numpy из football: np_football\n",
    "np_football = np.array(football)\n",
    "\n",
    "# Преобразуем позиции и рост в массивы numpy: np_positions, np_heights\n",
    "np_positions = np_football[:, 3]\n",
    "np_heights = np_football[:, 4]\n",
    "\n",
    "# Рост вратарей: gk_heights\n",
    "gk_heights = np_heights[np_positions == 'GK']\n",
    "\n",
    "# Рост остальных игроков: other_heights\n",
    "other_heights = np_heights[np_positions != 'GK']\n",
    "\n",
    "# Выводим медиану роста вратарей. Замените 'None'\n",
    "print(\"Медиана роста вратарей: \" + str(np.median(gk_heights)))\n",
    "\n",
    "# Выводим медиану роста других игроков. Замените 'None'\n",
    "print(\"Медиана роста других игроков: \" + str(np.median(other_heights)))"
   ]
  },
  {
   "cell_type": "code",
   "execution_count": null,
   "id": "42e099aa",
   "metadata": {},
   "outputs": [],
   "source": []
  }
 ],
 "metadata": {
  "kernelspec": {
   "display_name": "Python 3",
   "language": "python",
   "name": "python3"
  },
  "language_info": {
   "codemirror_mode": {
    "name": "ipython",
    "version": 3
   },
   "file_extension": ".py",
   "mimetype": "text/x-python",
   "name": "python",
   "nbconvert_exporter": "python",
   "pygments_lexer": "ipython3",
   "version": "3.11.3"
  }
 },
 "nbformat": 4,
 "nbformat_minor": 5
}
