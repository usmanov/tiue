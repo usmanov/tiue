{
 "cells": [
  {
   "cell_type": "markdown",
   "source": [
    "# NumPy"
   ],
   "metadata": {
    "collapsed": false
   },
   "id": "bb552fb90641f72f"
  },
  {
   "cell_type": "code",
   "execution_count": 40,
   "outputs": [
    {
     "name": "stdout",
     "output_type": "stream",
     "text": [
      "              Name Team       Position  Height  Weight    Age PosCategory\n",
      "0    Adam_Donachie  BAL        Catcher      74     180  22.99     Catcher\n",
      "1        Paul_Bako  BAL        Catcher      74     215  34.69     Catcher\n",
      "2  Ramon_Hernandez  BAL        Catcher      72     210  30.78     Catcher\n",
      "3     Kevin_Millar  BAL  First_Baseman      72     210  35.43   Infielder\n",
      "4      Chris_Gomez  BAL  First_Baseman      73     188  35.71   Infielder\n"
     ]
    }
   ],
   "source": [
    "import pandas as pd\n",
    "\n",
    "baseball = pd.read_csv('datasets/MLB(baseball).csv')\n",
    "print(baseball.head())"
   ],
   "metadata": {
    "collapsed": false,
    "ExecuteTime": {
     "end_time": "2024-01-01T07:32:32.441289Z",
     "start_time": "2024-01-01T07:32:32.407424Z"
    }
   },
   "id": "691e713296e46c45"
  },
  {
   "cell_type": "markdown",
   "source": [
    "### Instructions\n",
    "\n",
    "- Import the numpy package as `np`, so that you can refer to `numpy` with `np`.\n",
    "- Use `np.array()` to create a `numpy` array from `baseball`. Name this array `np_baseball`.\n",
    "- Print out the type of `np_baseball` to check that you got it right."
   ],
   "metadata": {
    "collapsed": false
   },
   "id": "3eb3b1cdf3d267b2"
  },
  {
   "cell_type": "code",
   "execution_count": 16,
   "outputs": [
    {
     "name": "stdout",
     "output_type": "stream",
     "text": [
      "<class 'numpy.ndarray'>\n",
      "[['Adam_Donachie' 'BAL' 'Catcher' ... 180 22.99 'Catcher']\n",
      " ['Paul_Bako' 'BAL' 'Catcher' ... 215 34.69 'Catcher']\n",
      " ['Ramon_Hernandez' 'BAL' 'Catcher' ... 210 30.78 'Catcher']\n",
      " ...\n",
      " ['Chris_Narveson' 'STL' 'Relief_Pitcher' ... 205 25.19 'Pitcher']\n",
      " ['Randy_Keisler' 'STL' 'Relief_Pitcher' ... 190 31.01 'Pitcher']\n",
      " ['Josh_Kinney' 'STL' 'Relief_Pitcher' ... 195 27.92 'Pitcher']]\n"
     ]
    }
   ],
   "source": [
    "# Import the numpy package as np\n",
    "import numpy as np\n",
    "\n",
    "# Create a numpy array from baseball: np_baseball\n",
    "np_baseball = np.array(baseball)\n",
    "\n",
    "# Print out type of np_baseball\n",
    "print(type(np_baseball))\n",
    "\n",
    "print(np_baseball)"
   ],
   "metadata": {
    "collapsed": false,
    "ExecuteTime": {
     "end_time": "2024-01-01T06:00:58.370854Z",
     "start_time": "2024-01-01T06:00:58.361233Z"
    }
   },
   "id": "initial_id"
  },
  {
   "cell_type": "markdown",
   "source": [
    "## Baseball players' height\n",
    "You are a huge baseball fan. You decide to call the MLB (Major League Baseball) and ask around for some more statistics on the height of the main players. They pass along data on more than a thousand players, which is stored as a regular Python list: `height_in`. The height is expressed in inches. Can you make a `numpy` array out of it and convert the units to meters?\n",
    "\n",
    "`height_in` is already available and the numpy package is loaded, so you can start straight away."
   ],
   "metadata": {
    "collapsed": false
   },
   "id": "a8b842f47d119ad7"
  },
  {
   "cell_type": "markdown",
   "source": [
    "### Instructions\n",
    "\n",
    "- Create a `numpy` array from `height_in`. Name this new array `np_height_in`.\n",
    "- Print `np_height_in`.\n",
    "- Multiply `np_height_in` with `0.0254` to convert all height measurements from inches to meters. Store the new values in a new array, `np_height_m`.\n",
    "- Print out `np_height_m` and check if the output makes sense."
   ],
   "metadata": {
    "collapsed": false
   },
   "id": "92a2ed90709f9cf2"
  },
  {
   "cell_type": "code",
   "execution_count": 3,
   "outputs": [
    {
     "name": "stdout",
     "output_type": "stream",
     "text": [
      "[74 74 72 ... 75 75 73]\n",
      "[1.8796 1.8796 1.8288 ... 1.905 1.905 1.8541999999999998]\n"
     ]
    }
   ],
   "source": [
    "# Assuming 'Height' is at index 3 in your array\n",
    "np_height_in = np_baseball[:, 3]\n",
    "print(np_height_in)\n",
    "\n",
    "# Convert np_height_in to m: np_height_m\n",
    "np_height_m = np_height_in * 0.0254\n",
    "\n",
    "# Print np_height_m\n",
    "print(np_height_m)"
   ],
   "metadata": {
    "collapsed": false,
    "ExecuteTime": {
     "end_time": "2024-01-01T05:38:09.883261Z",
     "start_time": "2024-01-01T05:38:09.846848Z"
    }
   },
   "id": "d2cf1c339398ce6a"
  },
  {
   "cell_type": "markdown",
   "source": [
    "## Baseball player's BMI\n",
    "The MLB also offers to let you analyze their weight data. Again, both are available as regular Python lists: `height_in` and weight_lb. `height_in` is in inches and `weight_lb` is in pounds.\n",
    "\n",
    "It's now possible to calculate the BMI of each baseball player. Python code to convert `height_in` to a `numpy` array with the correct units is already available in the workspace. Follow the instructions step by step and finish the game! `height_in` and `weight_lb` are available as regular lists."
   ],
   "metadata": {
    "collapsed": false
   },
   "id": "6066cd8c642ff196"
  },
  {
   "cell_type": "markdown",
   "source": [
    "### Instructions\n",
    "\n",
    "- Create a `numpy` array from the `weight_lb` list with the correct units. Multiply by `0.453592` to go from pounds to kilograms. Store the resulting numpy array as `np_weight_kg`.\n",
    "- Use `np_height_m` and `np_weight_kg` to calculate the BMI of each player. Use the following equation: ***bmi = np_weight_kg / np_height_m*** \n",
    " \n",
    "Save the resulting `numpy` array as `bmi`.\n",
    "Print out `bmi`."
   ],
   "metadata": {
    "collapsed": false
   },
   "id": "7fbdecd88c5c5d07"
  },
  {
   "cell_type": "code",
   "execution_count": 4,
   "outputs": [
    {
     "name": "stdout",
     "output_type": "stream",
     "text": [
      "[23.11037638875862 27.604060686572797 28.48080464679448 ...\n",
      " 25.62295933480756 23.74810865177286 25.726863613607133]\n"
     ]
    }
   ],
   "source": [
    "# Create array from weight_lb with metric units: np_weight_kg\n",
    "weight_lb = np_baseball[:, 4]\n",
    "np_weight_kg = np.array(weight_lb) * 0.453592\n",
    "\n",
    "# Calculate the BMI: bmi\n",
    "bmi = np.array(np_weight_kg / np_height_m**2)\n",
    "\n",
    "# Print out bmi\n",
    "print(bmi)"
   ],
   "metadata": {
    "collapsed": false,
    "ExecuteTime": {
     "end_time": "2024-01-01T05:38:23.437308Z",
     "start_time": "2024-01-01T05:38:23.420864Z"
    }
   },
   "id": "fba2af78617fcc88"
  },
  {
   "cell_type": "markdown",
   "source": [
    "## Lightweight baseball players\n",
    "To subset both regular Python lists and `numpy` arrays, you can use square brackets:\n",
    "\n",
    "x = [4 , 9 , 6, 3, 1]\n",
    "x[1]\n",
    "\n",
    "y = np.array(x)\n",
    "y[1]\n",
    "For `numpy` specifically, you can also use boolean `numpy` arrays:\n",
    "\n",
    "high = y > 5\n",
    "y[high]\n",
    "\n",
    "The code that calculates the BMI of all baseball players is already included. Follow the instructions and reveal interesting things from the data! `height_in` and `weight_lb` are available as regular lists."
   ],
   "metadata": {
    "collapsed": false
   },
   "id": "1bbe6a5f2e14c8ea"
  },
  {
   "cell_type": "markdown",
   "source": [
    "### Instructions\n",
    "\n",
    "- Create a boolean `numpy` array: the element of the array should be `True` if the corresponding baseball player's BMI is below 21. You can use the `<` operator for this. Name the array `light`.\n",
    "- Print the array `light`.\n",
    "- Print out a `numpy` array with the BMIs of all baseball players whose BMI is below 21. Use `light` inside square brackets to do a selection on the `bmi` array."
   ],
   "metadata": {
    "collapsed": false
   },
   "id": "2af172a9cbec0d0d"
  },
  {
   "cell_type": "code",
   "execution_count": 7,
   "outputs": [
    {
     "name": "stdout",
     "output_type": "stream",
     "text": [
      "[False False False ... False False False]\n",
      "[20.542556790007662 20.542556790007662 20.69282047151352 20.69282047151352\n",
      " 20.343431890567484 20.343431890567484 20.69282047151352\n",
      " 20.158834718074228 19.498447103560874 20.69282047151352 20.92052190452328]\n"
     ]
    },
    {
     "data": {
      "text/plain": "array([20.542556790007662, 20.542556790007662, 20.69282047151352,\n       20.69282047151352, 20.343431890567484, 20.343431890567484,\n       20.69282047151352, 20.158834718074228, 19.498447103560874,\n       20.69282047151352, 20.92052190452328], dtype=object)"
     },
     "execution_count": 7,
     "metadata": {},
     "output_type": "execute_result"
    }
   ],
   "source": [
    "# Create the light array\n",
    "light = bmi < 21\n",
    "\n",
    "# Print out light\n",
    "print(light)\n",
    "\n",
    "# Print out BMIs of all baseball players whose BMI is below 21\n",
    "bmi[light]"
   ],
   "metadata": {
    "collapsed": false,
    "ExecuteTime": {
     "end_time": "2024-01-01T05:42:41.546671Z",
     "start_time": "2024-01-01T05:42:41.493382Z"
    }
   },
   "id": "f44ea5e2b0302a3e"
  },
  {
   "cell_type": "markdown",
   "source": [
    "## Subsetting NumPy Arrays\n",
    "\n",
    "You've seen it with your own eyes: Python lists and numpy arrays sometimes behave differently. Luckily, there are still certainties in this world. For example,subsetting (using the square bracket notation on lists or arrays) works exactly the same. To see this for yourself, try the following lines of code in the IPython Shell:\n",
    "\n",
    "x = [\"a\", \"b\", \"c\"]\n",
    "x[1]\n",
    "\n",
    "np_x = np.array(x)\n",
    "np_x[1]"
   ],
   "metadata": {
    "collapsed": false
   },
   "id": "a0908ddf47f60c40"
  },
  {
   "cell_type": "markdown",
   "source": [
    "### Instructions\n",
    "\n",
    "Subset `np_weight_lb` by printing out the element at index 50.\n",
    "Print out a sub-array of `np_height_in` that contains the elements at index 100 up to and ***including**** index 110."
   ],
   "metadata": {
    "collapsed": false
   },
   "id": "b152d0e0a61cfc6b"
  },
  {
   "cell_type": "code",
   "execution_count": 8,
   "outputs": [
    {
     "name": "stdout",
     "output_type": "stream",
     "text": [
      "200\n",
      "[73 74 72 73 69 72 73 75 75 73 72]\n"
     ]
    }
   ],
   "source": [
    "# Store weight and height lists as numpy arrays\n",
    "np_weight_lb = np_baseball[:, 4]\n",
    "np_height_in = np_baseball[:, 3]\n",
    "\n",
    "# Print out the weight at index 50\n",
    "print(np_weight_lb[50])\n",
    "\n",
    "# Print out sub-array of np_height_in: index 100 up to and including index 110\n",
    "print(np_height_in[100:111])"
   ],
   "metadata": {
    "collapsed": false,
    "ExecuteTime": {
     "end_time": "2024-01-01T05:51:18.198446Z",
     "start_time": "2024-01-01T05:51:18.150079Z"
    }
   },
   "id": "14b43481e243dcb4"
  },
  {
   "cell_type": "markdown",
   "source": [
    "## Your First 2D NumPy Array\n",
    "Before working on the actual MLB data, let's try to create a 2D `numpy` array from a small list of lists.\n",
    "\n",
    "In this exercise, `baseball_ex` is a list of lists. The main list contains 4 elements. Each of these elements is a list containing the height and the weight of 4 `baseball_ex` players, in this order. `baseball_ex` is already coded for you in the script."
   ],
   "metadata": {
    "collapsed": false
   },
   "id": "a269e7c1e589c777"
  },
  {
   "cell_type": "markdown",
   "source": [
    "### Instructions\n",
    "\n",
    "- Use `np.array()` to create a 2D numpy array from baseball. Name it `np_baseball_ex`.\n",
    "- Print out the type of `np_baseball_ex`.\n",
    "- Print out the shape attribute of `np_baseball_ex`. Use `np_baseball_ex.shape`."
   ],
   "metadata": {
    "collapsed": false
   },
   "id": "a663b0ccc3e33d72"
  },
  {
   "cell_type": "code",
   "execution_count": 13,
   "outputs": [
    {
     "name": "stdout",
     "output_type": "stream",
     "text": [
      "<class 'numpy.ndarray'>\n",
      "(4, 2)\n"
     ]
    }
   ],
   "source": [
    "# Create baseball, a list of lists\n",
    "baseball_ex = [[180, 78.4],\n",
    "            [215, 102.7],\n",
    "            [210, 98.5],\n",
    "            [188, 75.2]]\n",
    "\n",
    "# Create a 2D numpy array from baseball: np_baseball\n",
    "\n",
    "np_baseball_ex = np.array(baseball_ex)\n",
    "# Print out the type of np_baseball\n",
    "print(type(np_baseball_ex))\n",
    "\n",
    "# Print out the shape of np_baseball\n",
    "print(np_baseball_ex.shape)"
   ],
   "metadata": {
    "collapsed": false,
    "ExecuteTime": {
     "end_time": "2024-01-01T06:00:27.079273Z",
     "start_time": "2024-01-01T06:00:27.044228Z"
    }
   },
   "id": "2c845473f5bd40aa"
  },
  {
   "cell_type": "markdown",
   "source": [
    "## Baseball data in 2D form\n",
    "You have another look at the MLB data and realize that it makes more sense to restructure all this information in a 2D `numpy` array. This array should have 1015 rows, corresponding to the 1015 baseball players you have information on, and 2 columns (for height and weight).\n",
    "\n",
    "The MLB was, again, very helpful and passed you the data in a different structure, a Python list of lists. In this list of lists, each sublist represents the height and weight of a single baseball player. The name of this embedded list is `baseball`.\n",
    "\n",
    "Can you store the data as a 2D array to unlock `numpy`'s extra functionality? `baseball` is available as a regular list of lists."
   ],
   "metadata": {
    "collapsed": false
   },
   "id": "5a4a158c3499d89"
  },
  {
   "cell_type": "markdown",
   "source": [
    "### Instructions\n",
    "\n",
    "- Use `np.array()` to create a 2D `numpy` array from baseball. Name it `np_baseball`.\n",
    "- Print out the shape attribute of `np_baseball`.\n",
    "\n"
   ],
   "metadata": {
    "collapsed": false
   },
   "id": "bbfee4ef251a15ec"
  },
  {
   "cell_type": "code",
   "execution_count": 17,
   "outputs": [
    {
     "name": "stdout",
     "output_type": "stream",
     "text": [
      "(1015, 7)\n"
     ]
    }
   ],
   "source": [
    "# Create a 2D numpy array from baseball: np_baseball\n",
    "np_baseball = np.array(baseball)\n",
    "\n",
    "# Print out the shape of np_baseball\n",
    "print(np_baseball.shape)"
   ],
   "metadata": {
    "collapsed": false,
    "ExecuteTime": {
     "end_time": "2024-01-01T06:01:09.658845Z",
     "start_time": "2024-01-01T06:01:09.630502Z"
    }
   },
   "id": "8315f15e0be9cf63"
  },
  {
   "cell_type": "markdown",
   "source": [
    "## Subsetting 2D NumPy Arrays\n",
    "If your 2D `numpy` array has a regular structure, i.e. each row and column has a fixed number of values, complicated ways of subsetting become very easy. Have a look at the code below where the elements `\"a\"` and `\"c\"` are extracted from a list of lists.\n",
    "\n",
    "    # regular list of lists\n",
    "    x = [[\"a\", \"b\"], [\"c\", \"d\"]]\n",
    "    [x[0][0], x[1][0]]\n",
    "    \n",
    "    # numpy\n",
    "    import numpy as np\n",
    "    np_x = np.array(x)\n",
    "    np_x[:, 0]\n",
    "\n",
    "For regular Python lists, this is a real pain. For 2D numpy arrays, however, it's pretty intuitive! The indexes before the comma refer to the rows, while those after the comma refer to the columns. The `:` is for slicing; in this example, it tells Python to include all rows.\n",
    "\n",
    "The code that converts the pre-loaded `baseball` list to a 2D numpy array is already in the script. The first column contains the players' height in inches and the second column holds player weight, in pounds. Add some lines to make the correct selections. Remember that in Python, the first element is at index 0! baseball is available as a regular list of lists."
   ],
   "metadata": {
    "collapsed": false
   },
   "id": "65ec36bae4274811"
  },
  {
   "cell_type": "markdown",
   "source": [
    "### Instructions\n",
    "\n",
    "- Create `np_baseball_he_we` containing height and weight columns of `baseball`\n",
    "- Print out the 50th row of `np_baseball_he_we`.\n",
    "- Make a new variable, `np_weight_lb`, containing the entire second column of `np_baseball`.\n",
    "- Select the height (first column) of the 124th baseball player in `np_baseball` and print it out.\n",
    "\n"
   ],
   "metadata": {
    "collapsed": false
   },
   "id": "1048354490ab9f29"
  },
  {
   "cell_type": "code",
   "execution_count": 22,
   "outputs": [
    {
     "name": "stdout",
     "output_type": "stream",
     "text": [
      "[70 195]\n",
      "[75 200]\n"
     ]
    }
   ],
   "source": [
    "# Create np_baseball_he_we containing 'Height' and 'Weight' columns\n",
    "np_baseball_he_we = np_baseball[:, [3, 4]]\n",
    "\n",
    "# Print out the 50th row of np_baseball\n",
    "print(np_baseball_he_we[49,])\n",
    "\n",
    "# Select the entire second column of np_baseball: np_weight_lb\n",
    "np_weight_lb = np_baseball_he_we[:,1]\n",
    "\n",
    "# Print out height of 124th player\n",
    "print(np_baseball_he_we[123,])"
   ],
   "metadata": {
    "collapsed": false,
    "ExecuteTime": {
     "end_time": "2024-01-01T06:24:20.731121Z",
     "start_time": "2024-01-01T06:24:20.700436Z"
    }
   },
   "id": "3740757539293041"
  },
  {
   "cell_type": "markdown",
   "source": [
    "## 2D Arithmetic\n",
    "Remember how you calculated the Body Mass Index for all baseball players? `numpy` was able to perform all calculations element-wise (i.e. element by element). For 2D `numpy` arrays this isn't any different! You can combine matrices with single numbers, with vectors, and with other matrices.\n",
    "\n",
    "Execute the code below in the IPython shell and see if you understand:\n",
    "\n",
    "    import numpy as np\n",
    "    np_mat = np.array([[1, 2],\n",
    "                       [3, 4],\n",
    "                       [5, 6]])\n",
    "    np_mat * 2\n",
    "    np_mat + np.array([10, 10])\n",
    "    np_mat + np_mat\n",
    "\n",
    "`np_baseball_he_we_ye` is coded for you; it's again a 2D `numpy` array with 3 columns representing height (in inches), weight (in pounds) and age (in years)."
   ],
   "metadata": {
    "collapsed": false
   },
   "id": "cd570db09a88c7ee"
  },
  {
   "cell_type": "markdown",
   "source": [
    "### Instructions\n",
    "\n",
    "- You managed to get hold of the changes in height, weight and age of all baseball players. It is available as a 2D `numpy` array, `updated`. Add `np_baseball_he_we_ye` and `updated` and print out the result.\n",
    "- You want to convert the units of height and weight to metric (meters and kilograms, respectively). As a first step, create a numpy array with three values: `0.0254`, `0.453592` and `1`. Name this array conversion.\n",
    "- Multiply `np_baseball_he_we_ye` with `conversion` and print out the result."
   ],
   "metadata": {
    "collapsed": false
   },
   "id": "6a4dd8a72f1b8ce8"
  },
  {
   "cell_type": "code",
   "execution_count": 27,
   "outputs": [
    {
     "name": "stdout",
     "output_type": "stream",
     "text": [
      "[[1.8796 81.64656 22.99]\n",
      " [1.8796 97.52228 34.69]\n",
      " [1.8288 95.25431999999999 30.78]\n",
      " ...\n",
      " [1.905 92.98636 25.19]\n",
      " [1.905 86.18248 31.01]\n",
      " [1.8541999999999998 88.45044 27.92]]\n"
     ]
    }
   ],
   "source": [
    "# Create np_baseball (3 cols)\n",
    "np_baseball_he_we_ye = np_baseball[:, [3, 4, 5]]\n",
    "\n",
    "# Create numpy array: conversion\n",
    "conversion = np.array([0.0254, 0.453592 , 1])\n",
    "\n",
    "# Print out product of np_baseball_he_we_ye and conversion\n",
    "np_baseball_he_we_ye[:, :2] *= conversion[:2]  # Apply conversion to Height and Weight columns\n",
    "print(np_baseball_he_we_ye)"
   ],
   "metadata": {
    "collapsed": false,
    "ExecuteTime": {
     "end_time": "2024-01-01T06:44:33.222425Z",
     "start_time": "2024-01-01T06:44:33.193934Z"
    }
   },
   "id": "e2e16e9aad8d8a0c"
  },
  {
   "cell_type": "markdown",
   "source": [
    "## Average versus median\n",
    "You now know how to use `numpy` functions to get a better feeling for your data. It basically comes down to importing `numpy` and then calling several simple functions on the numpy arrays:\n",
    "    \n",
    "    import numpy as np\n",
    "    x = [1, 4, 8, 10, 12]\n",
    "    np.mean(x)\n",
    "    np.median(x)\n",
    "\n",
    "The baseball data is available as a 2D numpy array with 3 columns (height, weight, age) and 1015 rows. The name of this numpy array is `np_baseball_he_we_ye`. After restructuring the data, however, you notice that some height values are abnormally high. Follow the instructions and discover which summary statistic is best suited if you're dealing with so-called outliers. `np_baseball` is available."
   ],
   "metadata": {
    "collapsed": false
   },
   "id": "5094317e2460c522"
  },
  {
   "cell_type": "markdown",
   "source": [
    "### Instructions\n",
    "\n",
    "- Create numpy array `np_baseball_he_we_ye` that is equal to first column of `np_baseball`.\n",
    "- Print out the `mean` of `np_baseball_he_we_ye`.\n",
    "- Print out the `median` of `np_baseball_he_we_ye`."
   ],
   "metadata": {
    "collapsed": false
   },
   "id": "98ad937485ca3292"
  },
  {
   "cell_type": "code",
   "execution_count": 29,
   "outputs": [
    {
     "name": "stdout",
     "output_type": "stream",
     "text": [
      "101.24892610837442\n",
      "74.0\n"
     ]
    }
   ],
   "source": [
    "# Create np_baseball_he_we_ye from np_baseball\n",
    "np_baseball_he_we_ye = np_baseball[:, [3, 4, 5]]\n",
    "\n",
    "# Print out the mean of np_baseball_he_we_ye\n",
    "print(np.mean(np_baseball_he_we_ye))\n",
    "\n",
    "# Print out the median of np_baseball_he_we_ye\n",
    "print(np.median(np_baseball_he_we_ye))"
   ],
   "metadata": {
    "collapsed": false,
    "ExecuteTime": {
     "end_time": "2024-01-01T06:53:52.881107Z",
     "start_time": "2024-01-01T06:53:52.841088Z"
    }
   },
   "id": "6526563d6d643a61"
  },
  {
   "cell_type": "markdown",
   "source": [
    "## Explore the baseball data\n",
    "Because the `mean` and `median` are so far apart, you decide to complain to the MLB. They find the error and send the corrected data over to you. It's again available as a 2D NumPy array `np_baseball_he_we_ye`, with three columns.\n",
    "\n",
    "The Python script in the editor already includes code to print out informative messages with the different summary statistics. Can you finish the job? `np_baseball` is available."
   ],
   "metadata": {
    "collapsed": false
   },
   "id": "4b4f414a2961301c"
  },
  {
   "cell_type": "markdown",
   "source": [
    "### Instructions\n",
    "\n",
    "- The code to print out the mean height is already included. Complete the code for the median height. Replace `None` with the correct code.\n",
    "- Use ***np.std()*** on the first column of `np_baseball` to calculate `stddev`. Replace `None` with the correct code.\n",
    "- Do big players tend to be heavier? Use ****np.corrcoef()**** to store the correlation between the first and second column of `np_baseball` in `corr`. Replace `None` with the correct code."
   ],
   "metadata": {
    "collapsed": false
   },
   "id": "48f4bc54f29a0837"
  },
  {
   "cell_type": "code",
   "execution_count": 38,
   "outputs": [
    {
     "name": "stdout",
     "output_type": "stream",
     "text": [
      "Average: 73.6896551724138\n",
      "Median: 74.0\n",
      "Standard Deviation: 2.3127918810465395\n",
      "Correlation: [[1.         0.53153932]\n",
      " [0.53153932 1.        ]]\n"
     ]
    }
   ],
   "source": [
    "# Print mean height (first column)\n",
    "avg = np.mean(np_baseball_he_we_ye[:,0])\n",
    "print(\"Average: \" + str(avg))\n",
    "\n",
    "# Print median height. Replace 'None'\n",
    "med = np.median(np_baseball_he_we_ye[:,0])\n",
    "print(\"Median: \" + str(med))\n",
    "\n",
    "# Print out the standard deviation on height. Replace 'None'\n",
    "stddev = np.std(np_baseball_he_we_ye[:,0])\n",
    "print(\"Standard Deviation: \" + str(stddev))\n",
    "\n",
    "# Print out correlation between first and second column. Replace 'None'\n",
    "# corr = np.corrcoef(np_baseball_he_we_ye[:,0], np_baseball_he_we_ye[:,1])\n",
    "# print(\"Correlation: \" + str(corr))\n",
    "\n",
    "# Ensure height and weight are in float format\n",
    "heights = np_baseball_he_we_ye[:, 0].astype(float)\n",
    "weights = np_baseball_he_we_ye[:, 1].astype(float)\n",
    "\n",
    "# Calculate correlation between height and weight\n",
    "corr = np.corrcoef(heights, weights)\n",
    "print(\"Correlation:\", corr)"
   ],
   "metadata": {
    "collapsed": false,
    "ExecuteTime": {
     "end_time": "2024-01-01T07:11:30.902940Z",
     "start_time": "2024-01-01T07:11:30.873812Z"
    }
   },
   "id": "b09fe5139ce2eabb"
  },
  {
   "cell_type": "markdown",
   "source": [
    "## Blend it all together\n",
    "In the last few exercises you've learned everything there is to know about heights and weights of baseball players. Now it's time to dive into another sport: football.\n",
    "\n",
    "You've contacted FIFA for some data, and they handed you two lists. The lists are the following:\n",
    "\n",
    "    positions = ['GK', 'M', 'A', 'D', ...]\n",
    "    heights = [191, 184, 185, 180, ...]\n",
    "\n",
    "Each element in the lists corresponds to a player. The first list, `positions`, contains strings representing each player's position. The possible positions are: `'GK'` (goalkeeper), `'M'` (midfield), `'A'` (attack) and `'D'` (defense). The second list, `heights`, contains integers representing the height of the player in cm. The first player in the lists is a goalkeeper and is pretty tall (191 cm).\n",
    "\n",
    "You're fairly confident that the median height of goalkeepers is higher than that of other players on the soccer field. Some of your friends don't believe you, so you are determined to show them using the data you received from FIFA and your newly acquired Python skills. `heights` and `positions` are available as lists"
   ],
   "metadata": {
    "collapsed": false
   },
   "id": "48053ceafc982912"
  },
  {
   "cell_type": "markdown",
   "source": [
    "### Instructions\n",
    "\n",
    "- Convert `heights` and `positions`, which are regular lists, to numpy arrays. Call them `np_heights` and `np_positions`.\n",
    "- Extract all the heights of the goalkeepers. You can use a little trick here: use `np_positions == 'GK'` as an index for `np_heights`. Assign the result to `gk_heights`.\n",
    "- Extract all the heights of all the other players. This time use `np_positions != 'GK'` as an index for `np_heights`. Assign the result to `other_heights`.\n",
    "- Print out the median height of the goalkeepers using `np.median()`. Replace `None` with the correct code.\n",
    "- Do the same for the other players. Print out their median height. Replace `None` with the correct code."
   ],
   "metadata": {
    "collapsed": false
   },
   "id": "2160d4febaf1ea1a"
  },
  {
   "cell_type": "code",
   "execution_count": 3,
   "outputs": [
    {
     "name": "stdout",
     "output_type": "stream",
     "text": [
      "Median height of goalkeepers: 188.0\n",
      "Median height of other players: 181.0\n"
     ]
    }
   ],
   "source": [
    "# Read the CSV file with a different encoding\n",
    "football = pd.read_csv('datasets/FIFA(Football).csv', encoding='ISO-8859-1')\n",
    "\n",
    "# Remove leading and trailing spaces from all string values in the football DataFrame\n",
    "football = football.applymap(lambda x: x.strip() if isinstance(x, str) else x)\n",
    "\n",
    "# Create a numpy array from football: np_football\n",
    "np_football = np.array(football)\n",
    "\n",
    "# Convert positions and heights to numpy arrays: np_positions, np_heights\n",
    "np_positions = np_football[:, 3]\n",
    "np_heights = np_football[:, 4]\n",
    "\n",
    "# Heights of the goalkeepers: gk_heights\n",
    "gk_heights = np_heights[np_positions == 'GK']\n",
    "\n",
    "# Heights of the other players: other_heights\n",
    "other_heights = np_heights[np_positions != 'GK']\n",
    "\n",
    "# Print out the median height of goalkeepers. Replace 'None'\n",
    "print(\"Median height of goalkeepers: \" + str(np.median(gk_heights)))\n",
    "\n",
    "# Print out the median height of other players. Replace 'None'\n",
    "print(\"Median height of other players: \" + str(np.median(other_heights)))"
   ],
   "metadata": {
    "collapsed": false,
    "ExecuteTime": {
     "end_time": "2024-01-07T13:26:27.179785Z",
     "start_time": "2024-01-07T13:26:27.023731Z"
    }
   },
   "id": "9fa3ef413561207f"
  },
  {
   "cell_type": "code",
   "outputs": [],
   "source": [],
   "metadata": {
    "collapsed": false
   },
   "id": "af0d177d5a960848"
  }
 ],
 "metadata": {
  "kernelspec": {
   "display_name": "Python 3",
   "language": "python",
   "name": "python3"
  },
  "language_info": {
   "codemirror_mode": {
    "name": "ipython",
    "version": 2
   },
   "file_extension": ".py",
   "mimetype": "text/x-python",
   "name": "python",
   "nbconvert_exporter": "python",
   "pygments_lexer": "ipython2",
   "version": "2.7.6"
  }
 },
 "nbformat": 4,
 "nbformat_minor": 5
}
